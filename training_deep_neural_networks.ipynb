{
 "cells": [
  {
   "cell_type": "markdown",
   "id": "d7de80d8-2019-4db9-a5eb-69758a8bd970",
   "metadata": {},
   "source": [
    "**심층 신경망 훈련하기**"
   ]
  },
  {
   "cell_type": "markdown",
   "id": "20d6ad85-ab94-4e3e-8868-39f5b4ed3bb3",
   "metadata": {},
   "source": [
    "# 설정"
   ]
  },
  {
   "cell_type": "markdown",
   "id": "3ee378ee-d761-40e9-9a21-8ccbca8d2b11",
   "metadata": {},
   "source": [
    "먼저 몇 개의 모듈을 임포트한다. 맷플롯립 그림을 저장하는 함수를 준비한다."
   ]
  },
  {
   "cell_type": "code",
   "execution_count": 1,
   "id": "5762e6a9-14ee-4e1a-b4bd-6ce7728f8c6e",
   "metadata": {
    "scrolled": true
   },
   "outputs": [],
   "source": [
    "# 공통 모듈 임포트\n",
    "import matplotlib as mpl\n",
    "import os\n",
    "import matplotlib.pyplot as plt\n",
    "\n",
    "# 깔끔한 그래프 출력을 위해\n",
    "mpl.rc(\"axes\", labelsize=14)\n",
    "mpl.rc(\"xtick\", labelsize=12)\n",
    "mpl.rc(\"ytick\", labelsize=12)\n",
    "# 그림을 저장할 위치\n",
    "PROJECT_ROOT_DIR = '.'\n",
    "IMAGES_PATH = os.path.join(PROJECT_ROOT_DIR, \"images\")\n",
    "os.makedirs(IMAGES_PATH, exist_ok=True)\n",
    "\n",
    "\n",
    "def save_fig(fig_id, tight_layout=True, fig_extension=\"png\", resolution=300):\n",
    "    path = os.path.join(IMAGES_PATH, f\"{fig_id}.{fig_extension}\")\n",
    "    print(\"그림 저장:\", fig_id)\n",
    "    if tight_layout:\n",
    "        plt.tight_layout()\n",
    "    plt.savefig(path, format=fig_extension, dpi=resolution)"
   ]
  },
  {
   "cell_type": "markdown",
   "id": "462eb377-3ae1-4d84-a774-b4e2bdfce66f",
   "metadata": {},
   "source": [
    "# 그레이디언트 소실과 폭주 문제"
   ]
  },
  {
   "cell_type": "code",
   "execution_count": 2,
   "id": "8ad60083-b13e-4559-bec2-2facc845e8d0",
   "metadata": {
    "scrolled": true
   },
   "outputs": [],
   "source": [
    "def logit(z):\n",
    "    return 1 / (1 + np.exp(-z))"
   ]
  },
  {
   "cell_type": "code",
   "execution_count": 3,
   "id": "b2f3d2c4-60ce-41e4-9c65-c0578bf25502",
   "metadata": {
    "scrolled": true
   },
   "outputs": [
    {
     "name": "stdout",
     "output_type": "stream",
     "text": [
      "그림 저장: sigmoid_saturation_plot\n"
     ]
    },
    {
     "data": {
      "image/png": "[encoded data removed]",
      "text/plain": [
       "<Figure size 432x288 with 1 Axes>"
      ]
     },
     "metadata": {
      "needs_background": "light"
     },
     "output_type": "display_data"
    }
   ],
   "source": [
    "import numpy as np\n",
    "\n",
    "z = np.linspace(-5, 5, 200)\n",
    "plt.plot([-5, 5], [0, 0], \"k-\")\n",
    "plt.plot([-5, 5], [1, 1], \"k--\")\n",
    "plt.plot([0, 0], [-0.2, 1.2], \"k-\")\n",
    "plt.plot([-5, 5], [-3 / 4, 7 / 4], \"g--\")\n",
    "plt.plot(z, logit(z), \"b-\", linewidth=2)\n",
    "props = dict(facecolor=\"black\", shrink=0.1)\n",
    "plt.annotate(\"Saturating\", xytext=(3.5, 0.7), xy=(5, 1), arrowprops=props, fontsize=14, ha=\"center\")\n",
    "plt.annotate(\"Saturating\", xytext=(-3.5, 0.3), xy=(-5, 0), arrowprops=props, fontsize=14, ha=\"center\")\n",
    "plt.annotate(\"Linear\", xytext=(2, 0.2), xy=(0, 0.5), arrowprops=props, fontsize=14, ha=\"center\")\n",
    "plt.grid(True)\n",
    "plt.title(\"Sigmoid activation function\", fontsize=14)\n",
    "plt.axis([-5, 5, -0.2, 1.2])\n",
    "save_fig(\"sigmoid_saturation_plot\")\n",
    "plt.show()"
   ]
  },
  {
   "cell_type": "markdown",
   "id": "f47d568f-8383-416c-8b64-7776257d4cd7",
   "metadata": {
    "tags": []
   },
   "source": [
    "## Xavier 초기화와 He 초기화"
   ]
  },
  {
   "cell_type": "code",
   "execution_count": 4,
   "id": "84a14a82-fe6d-4050-a012-ec1945f5058b",
   "metadata": {
    "scrolled": true,
    "tags": []
   },
   "outputs": [
    {
     "data": {
      "text/plain": [
       "['Constant',\n",
       " 'GlorotNormal',\n",
       " 'GlorotUniform',\n",
       " 'HeNormal',\n",
       " 'HeUniform',\n",
       " 'Identity',\n",
       " 'Initializer',\n",
       " 'LecunNormal',\n",
       " 'LecunUniform',\n",
       " 'Ones',\n",
       " 'Orthogonal',\n",
       " 'RandomNormal',\n",
       " 'RandomUniform',\n",
       " 'TruncatedNormal',\n",
       " 'VarianceScaling',\n",
       " 'Zeros',\n",
       " 'constant',\n",
       " 'deserialize',\n",
       " 'get',\n",
       " 'glorot_normal',\n",
       " 'glorot_uniform',\n",
       " 'he_normal',\n",
       " 'he_uniform',\n",
       " 'identity',\n",
       " 'lecun_normal',\n",
       " 'lecun_uniform',\n",
       " 'ones',\n",
       " 'orthogonal',\n",
       " 'random_normal',\n",
       " 'random_uniform',\n",
       " 'serialize',\n",
       " 'truncated_normal',\n",
       " 'variance_scaling',\n",
       " 'zeros']"
      ]
     },
     "execution_count": 4,
     "metadata": {},
     "output_type": "execute_result"
    }
   ],
   "source": [
    "from tensorflow import keras\n",
    "\n",
    "[name for name in dir(keras.initializers) if not name.startswith(\"_\")]"
   ]
  },
  {
   "cell_type": "code",
   "execution_count": 5,
   "id": "41c2c4ea-1c8b-4b34-8888-56598df69db9",
   "metadata": {
    "scrolled": true
   },
   "outputs": [
    {
     "data": {
      "text/plain": [
       "<keras.layers.core.dense.Dense at 0x200f5907dc0>"
      ]
     },
     "execution_count": 5,
     "metadata": {},
     "output_type": "execute_result"
    }
   ],
   "source": [
    "keras.layers.Dense(10, activation=\"relu\", kernel_initializer=\"he_normal\")"
   ]
  },
  {
   "cell_type": "code",
   "execution_count": 6,
   "id": "9a3557f2-038a-48b6-b47d-7bf4183c3736",
   "metadata": {
    "scrolled": true
   },
   "outputs": [
    {
     "data": {
      "text/plain": [
       "<keras.layers.core.dense.Dense at 0x20096ea0f40>"
      ]
     },
     "execution_count": 6,
     "metadata": {},
     "output_type": "execute_result"
    }
   ],
   "source": [
    "init = keras.initializers.VarianceScaling(scale=2., mode=\"fan_avg\", distribution=\"uniform\")\n",
    "keras.layers.Dense(10, activation=\"relu\", kernel_initializer=init)"
   ]
  },
  {
   "cell_type": "markdown",
   "id": "9859571e-5486-42a9-823b-5b33239f9722",
   "metadata": {},
   "source": [
    "## 수렴하지 않는 활성화 함수"
   ]
  },
  {
   "cell_type": "markdown",
   "id": "417b8a50-22c4-40a6-b1a2-3fcb431b0d18",
   "metadata": {},
   "source": [
    "### LeakyReLU"
   ]
  },
  {
   "cell_type": "code",
   "execution_count": 7,
   "id": "e5ebb245-75f9-4ae4-85ad-d8cb220375b7",
   "metadata": {
    "scrolled": true
   },
   "outputs": [],
   "source": [
    "def leaky_relu(z, alpha=0.01):\n",
    "    return np.maximum(alpha * z, z)"
   ]
  },
  {
   "cell_type": "code",
   "execution_count": 8,
   "id": "6ad41fac-3510-463c-87a9-427d2e3c92ce",
   "metadata": {
    "scrolled": true
   },
   "outputs": [
    {
     "name": "stdout",
     "output_type": "stream",
     "text": [
      "그림 저장: leaky_relu_plot\n"
     ]
    },
    {
     "data": {
      "image/png": "[encoded data removed]",
      "text/plain": [
       "<Figure size 432x288 with 1 Axes>"
      ]
     },
     "metadata": {
      "needs_background": "light"
     },
     "output_type": "display_data"
    }
   ],
   "source": [
    "plt.plot(z, leaky_relu(z, 0.05), \"b-\", linewidth=2)\n",
    "plt.plot([-5, 5], [0, 0], \"k-\")\n",
    "plt.plot([0, 0], [-0.5, 4.2], \"k-\")\n",
    "plt.grid(True)\n",
    "props = dict(facecolor=\"black\", shrink=0.1)\n",
    "plt.annotate(\"Leak\", xytext=(-3.5, 0.5), xy=(-5, -0.2), arrowprops=props, fontsize=14, ha=\"center\")\n",
    "plt.title(\"Leaky ReLU activation function\", fontsize=14)\n",
    "plt.axis([-5, 5, -0.5, 4.2])\n",
    "save_fig(\"leaky_relu_plot\")\n",
    "plt.show()"
   ]
  },
  {
   "cell_type": "code",
   "execution_count": 9,
   "id": "4dab87dc-83e6-40cd-b3ac-3611cda64d55",
   "metadata": {
    "scrolled": true,
    "tags": []
   },
   "outputs": [
    {
     "data": {
      "text/plain": [
       "['deserialize',\n",
       " 'elu',\n",
       " 'exponential',\n",
       " 'gelu',\n",
       " 'get',\n",
       " 'hard_sigmoid',\n",
       " 'linear',\n",
       " 'relu',\n",
       " 'selu',\n",
       " 'serialize',\n",
       " 'sigmoid',\n",
       " 'softmax',\n",
       " 'softplus',\n",
       " 'softsign',\n",
       " 'swish',\n",
       " 'tanh']"
      ]
     },
     "execution_count": 9,
     "metadata": {},
     "output_type": "execute_result"
    }
   ],
   "source": [
    "[m for m in dir(keras.activations) if not m.startswith(\"_\")]"
   ]
  },
  {
   "cell_type": "code",
   "execution_count": 10,
   "id": "fb260da4-7996-456d-9b6b-620caefc5a96",
   "metadata": {
    "scrolled": true
   },
   "outputs": [
    {
     "data": {
      "text/plain": [
       "['LeakyReLU', 'PReLU', 'ReLU', 'ThresholdedReLU']"
      ]
     },
     "execution_count": 10,
     "metadata": {},
     "output_type": "execute_result"
    }
   ],
   "source": [
    "[m for m in dir(keras.layers) if \"relu\" in m.lower()]"
   ]
  },
  {
   "cell_type": "markdown",
   "id": "7e165ee6-1d15-4112-a008-ca9ed8ac0280",
   "metadata": {},
   "source": [
    "LeakyReLU를 사용해 패션 MNIST에서 신경망을 훈련해 본다:"
   ]
  },
  {
   "cell_type": "code",
   "execution_count": 11,
   "id": "b20b9fb3-dcbe-4dae-8eec-05330efd53ef",
   "metadata": {
    "scrolled": true
   },
   "outputs": [],
   "source": [
    "(X_train_full, y_train_full), (X_test, y_test) = keras.datasets.fashion_mnist.load_data()\n",
    "X_train_full = X_train_full / 255.0\n",
    "X_test = X_test / 255.0\n",
    "X_valid, X_train = X_train_full[:5000], X_train_full[5000:]\n",
    "y_valid, y_train = y_train_full[:5000], y_train_full[5000:]"
   ]
  },
  {
   "cell_type": "code",
   "execution_count": 12,
   "id": "ca7461d3-820e-4b7b-8881-8d912019ba22",
   "metadata": {
    "scrolled": true
   },
   "outputs": [],
   "source": [
    "model = keras.models.Sequential(\n",
    "    [\n",
    "        keras.layers.Flatten(input_shape=[28, 28]),\n",
    "        keras.layers.Dense(300, kernel_initializer=\"he_normal\"),\n",
    "        keras.layers.LeakyReLU(),\n",
    "        keras.layers.Dense(100, kernel_initializer=\"he_normal\"),\n",
    "        keras.layers.LeakyReLU(),\n",
    "        keras.layers.Dense(10, activation=\"softmax\")\n",
    "    ]\n",
    ")"
   ]
  },
  {
   "cell_type": "code",
   "execution_count": 13,
   "id": "0d5a4bb4-cba6-4ca7-a540-bf989ea01ef7",
   "metadata": {
    "scrolled": true
   },
   "outputs": [],
   "source": [
    "model.compile(\n",
    "    loss=\"sparse_categorical_crossentropy\", optimizer=keras.optimizers.SGD(learning_rate=1e-3), metrics=[\"accuracy\"]\n",
    ")"
   ]
  },
  {
   "cell_type": "code",
   "execution_count": 14,
   "id": "f9a31c12-cab4-439f-b29e-42b790fc3d87",
   "metadata": {
    "scrolled": true,
    "tags": []
   },
   "outputs": [
    {
     "name": "stdout",
     "output_type": "stream",
     "text": [
      "Epoch 1/10\n",
      "1719/1719 [==============================] - 8s 3ms/step - loss: 1.2967 - accuracy: 0.5989 - val_loss: 0.8801 - val_accuracy: 0.7226\n",
      "Epoch 2/10\n",
      "1719/1719 [==============================] - 5s 3ms/step - loss: 0.7934 - accuracy: 0.7412 - val_loss: 0.7122 - val_accuracy: 0.7724\n",
      "Epoch 3/10\n",
      "1719/1719 [==============================] - 5s 3ms/step - loss: 0.6831 - accuracy: 0.7757 - val_loss: 0.6382 - val_accuracy: 0.7936\n",
      "Epoch 4/10\n",
      "1719/1719 [==============================] - 5s 3ms/step - loss: 0.6240 - accuracy: 0.7943 - val_loss: 0.5941 - val_accuracy: 0.8076\n",
      "Epoch 5/10\n",
      "1719/1719 [==============================] - 5s 3ms/step - loss: 0.5849 - accuracy: 0.8049 - val_loss: 0.5628 - val_accuracy: 0.8158\n",
      "Epoch 6/10\n",
      "1719/1719 [==============================] - 5s 3ms/step - loss: 0.5573 - accuracy: 0.8131 - val_loss: 0.5379 - val_accuracy: 0.8230\n",
      "Epoch 7/10\n",
      "1719/1719 [==============================] - 5s 3ms/step - loss: 0.5360 - accuracy: 0.8196 - val_loss: 0.5223 - val_accuracy: 0.8280\n",
      "Epoch 8/10\n",
      "1719/1719 [==============================] - 5s 3ms/step - loss: 0.5195 - accuracy: 0.8257 - val_loss: 0.5087 - val_accuracy: 0.8298\n",
      "Epoch 9/10\n",
      "1719/1719 [==============================] - 5s 3ms/step - loss: 0.5059 - accuracy: 0.8281 - val_loss: 0.4996 - val_accuracy: 0.8332\n",
      "Epoch 10/10\n",
      "1719/1719 [==============================] - 6s 3ms/step - loss: 0.4948 - accuracy: 0.8323 - val_loss: 0.4870 - val_accuracy: 0.8386\n"
     ]
    }
   ],
   "source": [
    "history = model.fit(X_train, y_train, epochs=10, validation_data=(X_valid, y_valid))"
   ]
  },
  {
   "cell_type": "markdown",
   "id": "f5112924-5764-4b3e-b6de-3b7c1a8064ca",
   "metadata": {},
   "source": [
    "PReLU를 테스트해 본다:"
   ]
  },
  {
   "cell_type": "code",
   "execution_count": 15,
   "id": "a471931e-b763-4ab9-97ce-fd313291948a",
   "metadata": {
    "scrolled": true
   },
   "outputs": [],
   "source": [
    "model = keras.models.Sequential(\n",
    "    [\n",
    "        keras.layers.Flatten(input_shape=[28, 28]),\n",
    "        keras.layers.Dense(300, kernel_initializer=\"he_normal\"),\n",
    "        keras.layers.PReLU(),\n",
    "        keras.layers.Dense(100, kernel_initializer=\"he_normal\"),\n",
    "        keras.layers.PReLU(),\n",
    "        keras.layers.Dense(10, activation=\"softmax\")\n",
    "    ]\n",
    ")"
   ]
  },
  {
   "cell_type": "code",
   "execution_count": 16,
   "id": "fdcf7b3e-427c-4540-bca9-9d9fd11fc725",
   "metadata": {
    "scrolled": true
   },
   "outputs": [],
   "source": [
    "model.compile(\n",
    "    loss=\"sparse_categorical_crossentropy\", optimizer=keras.optimizers.SGD(learning_rate=1e-3), metrics=[\"accuracy\"]\n",
    ")"
   ]
  },
  {
   "cell_type": "code",
   "execution_count": 17,
   "id": "21f62951-97af-44e7-9780-6227440606a3",
   "metadata": {
    "scrolled": true
   },
   "outputs": [
    {
     "name": "stdout",
     "output_type": "stream",
     "text": [
      "Epoch 1/10\n",
      "1719/1719 [==============================] - 7s 4ms/step - loss: 1.4246 - accuracy: 0.5735 - val_loss: 0.9355 - val_accuracy: 0.7140\n",
      "Epoch 2/10\n",
      "1719/1719 [==============================] - 6s 4ms/step - loss: 0.8280 - accuracy: 0.7365 - val_loss: 0.7300 - val_accuracy: 0.7626\n",
      "Epoch 3/10\n",
      "1719/1719 [==============================] - 7s 4ms/step - loss: 0.6987 - accuracy: 0.7730 - val_loss: 0.6460 - val_accuracy: 0.7890\n",
      "Epoch 4/10\n",
      "1719/1719 [==============================] - 7s 4ms/step - loss: 0.6343 - accuracy: 0.7943 - val_loss: 0.5967 - val_accuracy: 0.7992\n",
      "Epoch 5/10\n",
      "1719/1719 [==============================] - 7s 4ms/step - loss: 0.5918 - accuracy: 0.8060 - val_loss: 0.5646 - val_accuracy: 0.8148\n",
      "Epoch 6/10\n",
      "1719/1719 [==============================] - 6s 4ms/step - loss: 0.5616 - accuracy: 0.8146 - val_loss: 0.5374 - val_accuracy: 0.8234\n",
      "Epoch 7/10\n",
      "1719/1719 [==============================] - 6s 4ms/step - loss: 0.5383 - accuracy: 0.8201 - val_loss: 0.5176 - val_accuracy: 0.8280\n",
      "Epoch 8/10\n",
      "1719/1719 [==============================] - 6s 4ms/step - loss: 0.5199 - accuracy: 0.8254 - val_loss: 0.5028 - val_accuracy: 0.8338\n",
      "Epoch 9/10\n",
      "1719/1719 [==============================] - 6s 4ms/step - loss: 0.5051 - accuracy: 0.8294 - val_loss: 0.4884 - val_accuracy: 0.8368\n",
      "Epoch 10/10\n",
      "1719/1719 [==============================] - 6s 4ms/step - loss: 0.4929 - accuracy: 0.8328 - val_loss: 0.4766 - val_accuracy: 0.8394\n"
     ]
    }
   ],
   "source": [
    "history = model.fit(X_train, y_train, epochs=10, validation_data=(X_valid, y_valid))"
   ]
  },
  {
   "cell_type": "markdown",
   "id": "938d027c-a8fc-4720-884c-1ecc3646a034",
   "metadata": {
    "tags": []
   },
   "source": [
    "### ELU"
   ]
  },
  {
   "cell_type": "code",
   "execution_count": 18,
   "id": "9093a957-2f99-4ff4-ac72-c1857ec9c56c",
   "metadata": {
    "scrolled": true
   },
   "outputs": [],
   "source": [
    "def elu(z, alpha=1):\n",
    "    return np.where(z < 0, alpha * (np.exp(z) - 1), z)"
   ]
  },
  {
   "cell_type": "code",
   "execution_count": 19,
   "id": "cd2e80f8-6d18-4d97-9b1b-efa9d71abfe2",
   "metadata": {
    "scrolled": true
   },
   "outputs": [
    {
     "name": "stdout",
     "output_type": "stream",
     "text": [
      "그림 저장: elu_plot\n"
     ]
    },
    {
     "data": {
      "image/png": "[encoded data removed]",
      "text/plain": [
       "<Figure size 432x288 with 1 Axes>"
      ]
     },
     "metadata": {
      "needs_background": "light"
     },
     "output_type": "display_data"
    }
   ],
   "source": [
    "plt.plot(z, elu(z), \"b-\", linewidth=2)\n",
    "plt.plot([-5, 5], [0, 0], \"k-\")\n",
    "plt.plot([-5, 5], [-1, -1], \"k--\")\n",
    "plt.plot([0, 0], [-2.2, 3.2], \"k-\")\n",
    "plt.grid(True)\n",
    "plt.title(r\"ELU activation function ($\\alpha=1$)\", fontsize=14)\n",
    "plt.axis([-5, 5, -2.2, 3.2])\n",
    "save_fig(\"elu_plot\")\n",
    "plt.show()"
   ]
  },
  {
   "cell_type": "markdown",
   "id": "155ab429-62d2-4f70-b5d1-27dd9f1eef7c",
   "metadata": {},
   "source": [
    "텐서플로에서 쉽게 ELU를 적용할 수 있다. 층을 만들 때 활성화 함수로 지정하면 된다:"
   ]
  },
  {
   "cell_type": "code",
   "execution_count": 20,
   "id": "12bf5d45-9d06-40e2-8332-89aa41b4c3ee",
   "metadata": {
    "scrolled": true
   },
   "outputs": [
    {
     "data": {
      "text/plain": [
       "<keras.layers.core.dense.Dense at 0x202d243f070>"
      ]
     },
     "execution_count": 20,
     "metadata": {},
     "output_type": "execute_result"
    }
   ],
   "source": [
    "keras.layers.Dense(10, activation=\"elu\")"
   ]
  },
  {
   "cell_type": "markdown",
   "id": "e2db2154-287b-494f-92c4-767f115ada47",
   "metadata": {
    "tags": []
   },
   "source": [
    "### SELU"
   ]
  },
  {
   "cell_type": "markdown",
   "id": "f4506fa2-512b-451f-8830-e95b4fbbc4ab",
   "metadata": {},
   "source": [
    "Günter Klambauer, Thomas Unterthiner, Andreas Mayr는 2017년 한 [훌륭한 논문](https://arxiv.org/pdf/1706.02515.pdf)에서 SELU 활성화 함수를 소개했다. 훈련하는 동안 완전 연결 층만 쌓아서 신경망을 만들고 SELU 활성화 함수와 LeCun 초기화를 사용한다면 자기 정규화된다. 각 층의 출력이 평균과\n",
    "표준편차를 보존하는 경향이 있다. 이는 그레이디언트 소실과 폭주 문제를 막아 준다. 그 결과로 SELU 활성화 함수는 이런 종류의 네트워크(특히 아주 깊은 네트워크)에서 다른 활성화 함수보다 뛰어난 성능을 종종 낸다. 따라서 꼭 시도해 봐야 한다. 하지만 SELU 활성화 함수의 자기 정규화 특징은 쉽게 깨진다. ℓ<sub>1</sub>나 ℓ<sub>2</sub> 정규화, 드롭아웃, 맥스 노름, 스킵 연결이나 시퀀셜하지 않은 다른 토폴로지를 사용할 수 없다(즉 순환 신경망은 자기 정규화되지 않는다). 하지만 실전에서 시퀀셜 CNN과 잘 동작한다. 자기 정규화가 깨지면 SELU가 다른 활성화 함수보다 더 나은 성능을 내지 않을 것이다."
   ]
  },
  {
   "cell_type": "code",
   "execution_count": 21,
   "id": "85b8b847-5dbe-485e-b7d4-8512817ec562",
   "metadata": {
    "scrolled": true
   },
   "outputs": [],
   "source": [
    "from scipy.special import erfc\n",
    "\n",
    "# alpha와 scale은 평균 0과 표준 편차 1로 자기 정규화한다\n",
    "# (논문에 있는 식 14 참조):\n",
    "alpha_0_1 = -np.sqrt(2 / np.pi) / (erfc(1 / np.sqrt(2)) * np.exp(1 / 2) - 1)\n",
    "scale_0_1 = (1 - erfc(1 / np.sqrt(2)) * np.sqrt(np.e)) * np.sqrt(2 * np.pi) * (\n",
    "        2 * erfc(np.sqrt(2)) * np.e ** 2 + np.pi * erfc(1 / np.sqrt(2)) ** 2 * np.e - 2 * (2 + np.pi) * erfc(\n",
    "    1 / np.sqrt(2)) * np.sqrt(np.e) + np.pi + 2) ** (-1 / 2)"
   ]
  },
  {
   "cell_type": "code",
   "execution_count": 22,
   "id": "23b1a261-6c00-42aa-b1f6-3c92362309f3",
   "metadata": {
    "scrolled": true
   },
   "outputs": [],
   "source": [
    "def selu(z, scale=scale_0_1, alpha=alpha_0_1):\n",
    "    return scale * elu(z, alpha)"
   ]
  },
  {
   "cell_type": "code",
   "execution_count": 23,
   "id": "3037d8d1-10b7-402e-b50e-1e6339c795ad",
   "metadata": {
    "scrolled": true
   },
   "outputs": [
    {
     "name": "stdout",
     "output_type": "stream",
     "text": [
      "그림 저장: selu_plot\n"
     ]
    },
    {
     "data": {
      "image/png": "[encoded data removed]",
      "text/plain": [
       "<Figure size 432x288 with 1 Axes>"
      ]
     },
     "metadata": {
      "needs_background": "light"
     },
     "output_type": "display_data"
    }
   ],
   "source": [
    "plt.plot(z, selu(z), \"b-\", linewidth=2)\n",
    "plt.plot([-5, 5], [0, 0], \"k-\")\n",
    "plt.plot([-5, 5], [-1.758, -1.758], \"k--\")\n",
    "plt.plot([0, 0], [-2.2, 3.2], \"k-\")\n",
    "plt.grid(True)\n",
    "plt.title(\"SELU activation function\", fontsize=14)\n",
    "plt.axis([-5, 5, -2.2, 3.2])\n",
    "save_fig(\"selu_plot\")\n",
    "plt.show()"
   ]
  },
  {
   "cell_type": "markdown",
   "id": "852ab8ad-3dc3-4c29-99a7-0988e48ab7e3",
   "metadata": {
    "tags": []
   },
   "source": [
    "기본적으로 SELU 하이퍼파라미터(`scale`과 `alpha`)는 각 뉴런의 평균 출력이 0에 가깝고 표준 편차는 1에 가깝도록 조정된다(입력은 평균이 0이고 표준 편차 1로 표준화되었다고 가정한다). 이 활성화 함수를 사용하면 1,000개의 층이 있는 심층 신경망도 모든 층에 걸쳐 거의 평균이 0이고 표준 편차를 1로 유지한다. 이를 통해 그레이디언트 폭주와 소실 문제를 피할 수 있다:"
   ]
  },
  {
   "cell_type": "code",
   "execution_count": 24,
   "id": "32094937-7b98-4f37-883e-fed10f804086",
   "metadata": {
    "scrolled": true
   },
   "outputs": [
    {
     "name": "stdout",
     "output_type": "stream",
     "text": [
      "Layer 0: mean 0.00, std deviation 1.00\n",
      "Layer 100: mean 0.03, std deviation 0.97\n",
      "Layer 200: mean -0.01, std deviation 0.88\n",
      "Layer 300: mean 0.00, std deviation 0.82\n",
      "Layer 400: mean -0.01, std deviation 0.93\n",
      "Layer 500: mean -0.02, std deviation 0.97\n",
      "Layer 600: mean 0.07, std deviation 0.89\n",
      "Layer 700: mean 0.01, std deviation 0.88\n",
      "Layer 800: mean 0.02, std deviation 0.94\n",
      "Layer 900: mean -0.01, std deviation 0.94\n"
     ]
    }
   ],
   "source": [
    "Z = np.random.normal(size=(500, 100))  # 표준화된 입력\n",
    "for layer in range(1000):\n",
    "    W = np.random.normal(size=(100, 100), scale=np.sqrt(1 / 100))  # LeCun 초기화\n",
    "    Z = selu(np.dot(Z, W))\n",
    "    means = np.mean(Z, axis=0).mean()\n",
    "    stds = np.std(Z, axis=0).mean()\n",
    "    if layer % 100 == 0:\n",
    "        print(f\"Layer {layer}: mean {means:.2f}, std deviation {stds:.2f}\")"
   ]
  },
  {
   "cell_type": "markdown",
   "id": "608a6c04-cdc0-4cdb-af53-6c6b1381d8c5",
   "metadata": {},
   "source": [
    "쉽게 SELU를 사용할 수 있다:"
   ]
  },
  {
   "cell_type": "code",
   "execution_count": 25,
   "id": "dd469f7d-b2b1-4773-a0c2-0af7d97e0d12",
   "metadata": {
    "scrolled": true
   },
   "outputs": [
    {
     "data": {
      "text/plain": [
       "<keras.layers.core.dense.Dense at 0x202d2ad04f0>"
      ]
     },
     "execution_count": 25,
     "metadata": {},
     "output_type": "execute_result"
    }
   ],
   "source": [
    "keras.layers.Dense(10, activation=\"selu\", kernel_initializer=\"lecun_normal\")"
   ]
  },
  {
   "cell_type": "markdown",
   "id": "3f1bda40-6798-401e-8464-4c569faff11e",
   "metadata": {},
   "source": [
    "100개의 은닉층과 SELU 활성화 함수를 사용한 패션 MNIST를 위한 신경망을 만들어 본다:"
   ]
  },
  {
   "cell_type": "code",
   "execution_count": 26,
   "id": "4db111c8-3bf4-4995-a02d-0b6e376fc118",
   "metadata": {
    "scrolled": true
   },
   "outputs": [],
   "source": [
    "model = keras.models.Sequential()\n",
    "model.add(keras.layers.Flatten(input_shape=[28, 28]))\n",
    "model.add(keras.layers.Dense(300, activation=\"selu\", kernel_initializer=\"lecun_normal\"))\n",
    "for layer in range(99):\n",
    "    model.add(keras.layers.Dense(100, activation=\"selu\", kernel_initializer=\"lecun_normal\"))\n",
    "model.add(keras.layers.Dense(10, activation=\"softmax\"))"
   ]
  },
  {
   "cell_type": "code",
   "execution_count": 27,
   "id": "ec5ccb8c-ebc6-444d-81ff-c4dd2fc52da7",
   "metadata": {
    "scrolled": true
   },
   "outputs": [],
   "source": [
    "model.compile(\n",
    "    loss=\"sparse_categorical_crossentropy\", optimizer=keras.optimizers.SGD(learning_rate=1e-3), metrics=[\"accuracy\"]\n",
    ")"
   ]
  },
  {
   "cell_type": "markdown",
   "id": "40bec7eb-a7b9-4e1c-8606-4d01860db832",
   "metadata": {},
   "source": [
    "이제 훈련해 본다. 입력을 평균 0과 표준 편차 1로 바꾸어야 한다는 것을 잊지 않는다:"
   ]
  },
  {
   "cell_type": "code",
   "execution_count": 28,
   "id": "0e0d8b9e-86b4-444e-96d9-5ab4e93d1c1d",
   "metadata": {
    "scrolled": true
   },
   "outputs": [],
   "source": [
    "pixel_means = X_train.mean(axis=0, keepdims=True)\n",
    "pixel_stds = X_train.std(axis=0, keepdims=True)\n",
    "X_train_scaled = (X_train - pixel_means) / pixel_stds\n",
    "X_valid_scaled = (X_valid - pixel_means) / pixel_stds\n",
    "X_test_scaled = (X_test - pixel_means) / pixel_stds"
   ]
  },
  {
   "cell_type": "code",
   "execution_count": 29,
   "id": "5c96a61b-06a2-41bb-958e-b286f895b371",
   "metadata": {
    "scrolled": true
   },
   "outputs": [
    {
     "name": "stdout",
     "output_type": "stream",
     "text": [
      "Epoch 1/5\n",
      "1719/1719 [==============================] - 51s 28ms/step - loss: 0.9528 - accuracy: 0.6479 - val_loss: 0.6721 - val_accuracy: 0.7624\n",
      "Epoch 2/5\n",
      "1719/1719 [==============================] - 47s 27ms/step - loss: 0.6286 - accuracy: 0.7787 - val_loss: 0.6131 - val_accuracy: 0.7832\n",
      "Epoch 3/5\n",
      "1719/1719 [==============================] - 47s 27ms/step - loss: 0.5354 - accuracy: 0.8165 - val_loss: 0.5555 - val_accuracy: 0.8084\n",
      "Epoch 4/5\n",
      "1719/1719 [==============================] - 47s 27ms/step - loss: 0.6013 - accuracy: 0.7922 - val_loss: 0.4908 - val_accuracy: 0.8334\n",
      "Epoch 5/5\n",
      "1719/1719 [==============================] - 47s 27ms/step - loss: 0.4720 - accuracy: 0.8385 - val_loss: 0.4673 - val_accuracy: 0.8362\n"
     ]
    }
   ],
   "source": [
    "history = model.fit(X_train_scaled, y_train, epochs=5, validation_data=(X_valid_scaled, y_valid))"
   ]
  },
  {
   "cell_type": "markdown",
   "id": "4ba7fd16-5027-449d-8960-c6be015c5e6b",
   "metadata": {},
   "source": [
    "대신 ReLU 활성화 함수를 사용하면 어떤 일이 일어나는지 확인해 본다:"
   ]
  },
  {
   "cell_type": "code",
   "execution_count": 30,
   "id": "ef7ac6c7-d96b-4c0e-ab6d-ee72e54f9526",
   "metadata": {
    "scrolled": true
   },
   "outputs": [],
   "source": [
    "model = keras.models.Sequential()\n",
    "model.add(keras.layers.Flatten(input_shape=[28, 28]))\n",
    "model.add(keras.layers.Dense(300, activation=\"relu\", kernel_initializer=\"he_normal\"))\n",
    "for layer in range(99):\n",
    "    model.add(keras.layers.Dense(100, activation=\"relu\", kernel_initializer=\"he_normal\"))\n",
    "model.add(keras.layers.Dense(10, activation=\"softmax\"))"
   ]
  },
  {
   "cell_type": "code",
   "execution_count": 31,
   "id": "418d8bd4-d494-4016-9b22-522bffd65896",
   "metadata": {
    "scrolled": true
   },
   "outputs": [],
   "source": [
    "model.compile(\n",
    "    loss=\"sparse_categorical_crossentropy\", optimizer=keras.optimizers.SGD(learning_rate=1e-3), metrics=[\"accuracy\"]\n",
    ")"
   ]
  },
  {
   "cell_type": "code",
   "execution_count": 32,
   "id": "a19b41f3-8edb-4cf9-aba5-c7ccd2b08fd7",
   "metadata": {
    "scrolled": true
   },
   "outputs": [
    {
     "name": "stdout",
     "output_type": "stream",
     "text": [
      "Epoch 1/5\n",
      "1719/1719 [==============================] - 50s 28ms/step - loss: 2.1031 - accuracy: 0.1795 - val_loss: 2.0014 - val_accuracy: 0.2254\n",
      "Epoch 2/5\n",
      "1719/1719 [==============================] - 47s 27ms/step - loss: 1.7366 - accuracy: 0.3175 - val_loss: 1.2726 - val_accuracy: 0.5470\n",
      "Epoch 3/5\n",
      "1719/1719 [==============================] - 48s 28ms/step - loss: 1.2490 - accuracy: 0.5030 - val_loss: 1.0167 - val_accuracy: 0.6138\n",
      "Epoch 4/5\n",
      "1719/1719 [==============================] - 48s 28ms/step - loss: 0.9469 - accuracy: 0.6376 - val_loss: 0.7693 - val_accuracy: 0.7396\n",
      "Epoch 5/5\n",
      "1719/1719 [==============================] - 48s 28ms/step - loss: 0.8984 - accuracy: 0.6680 - val_loss: 1.2692 - val_accuracy: 0.5498\n"
     ]
    }
   ],
   "source": [
    "history = model.fit(X_train_scaled, y_train, epochs=5, validation_data=(X_valid_scaled, y_valid))"
   ]
  },
  {
   "cell_type": "markdown",
   "id": "6e88d380-2c3b-449b-ae5e-24f6624c813f",
   "metadata": {
    "tags": []
   },
   "source": [
    "좋지 않다. 그레이디언트 폭주나 소실 문제가 발생한 것이다."
   ]
  },
  {
   "cell_type": "markdown",
   "id": "be6a8f4c-5802-4e6d-8959-0891ced7b59a",
   "metadata": {},
   "source": [
    "# 배치 정규화"
   ]
  },
  {
   "cell_type": "code",
   "execution_count": 33,
   "id": "c00ac265-8be4-4274-9ece-d818c56e62cf",
   "metadata": {
    "scrolled": true,
    "tags": []
   },
   "outputs": [],
   "source": [
    "model = keras.models.Sequential(\n",
    "    [\n",
    "        keras.layers.Flatten(input_shape=[28, 28]),\n",
    "        keras.layers.BatchNormalization(),\n",
    "        keras.layers.Dense(300, activation=\"relu\"),\n",
    "        keras.layers.BatchNormalization(),\n",
    "        keras.layers.Dense(100, activation=\"relu\"),\n",
    "        keras.layers.BatchNormalization(),\n",
    "        keras.layers.Dense(10, activation=\"softmax\")\n",
    "    ]\n",
    ")"
   ]
  },
  {
   "cell_type": "code",
   "execution_count": 34,
   "id": "0487ba22-a4a1-48ef-84c4-93b4e0d68efe",
   "metadata": {
    "scrolled": true
   },
   "outputs": [
    {
     "name": "stdout",
     "output_type": "stream",
     "text": [
      "Model: \"sequential_4\"\n",
      "_________________________________________________________________\n",
      " Layer (type)                Output Shape              Param #   \n",
      "=================================================================\n",
      " flatten_4 (Flatten)         (None, 784)               0         \n",
      "                                                                 \n",
      " batch_normalization (BatchN  (None, 784)              3136      \n",
      " ormalization)                                                   \n",
      "                                                                 \n",
      " dense_212 (Dense)           (None, 300)               235500    \n",
      "                                                                 \n",
      " batch_normalization_1 (Batc  (None, 300)              1200      \n",
      " hNormalization)                                                 \n",
      "                                                                 \n",
      " dense_213 (Dense)           (None, 100)               30100     \n",
      "                                                                 \n",
      " batch_normalization_2 (Batc  (None, 100)              400       \n",
      " hNormalization)                                                 \n",
      "                                                                 \n",
      " dense_214 (Dense)           (None, 10)                1010      \n",
      "                                                                 \n",
      "=================================================================\n",
      "Total params: 271,346\n",
      "Trainable params: 268,978\n",
      "Non-trainable params: 2,368\n",
      "_________________________________________________________________\n"
     ]
    }
   ],
   "source": [
    "model.summary()"
   ]
  },
  {
   "cell_type": "code",
   "execution_count": 35,
   "id": "2521a648-6822-41f5-8d72-621ca4bcbd25",
   "metadata": {
    "scrolled": true,
    "tags": []
   },
   "outputs": [
    {
     "data": {
      "text/plain": [
       "[('batch_normalization/gamma:0', True),\n",
       " ('batch_normalization/beta:0', True),\n",
       " ('batch_normalization/moving_mean:0', False),\n",
       " ('batch_normalization/moving_variance:0', False)]"
      ]
     },
     "execution_count": 35,
     "metadata": {},
     "output_type": "execute_result"
    }
   ],
   "source": [
    "bn1 = model.layers[1]\n",
    "[(var.name, var.trainable) for var in bn1.variables]"
   ]
  },
  {
   "cell_type": "code",
   "execution_count": 36,
   "id": "a3e18056-3284-4334-b108-2b55ee6ff0ce",
   "metadata": {
    "scrolled": true
   },
   "outputs": [],
   "source": [
    "model.compile(\n",
    "    loss=\"sparse_categorical_crossentropy\", optimizer=keras.optimizers.SGD(learning_rate=1e-3), metrics=[\"accuracy\"]\n",
    ")"
   ]
  },
  {
   "cell_type": "code",
   "execution_count": 37,
   "id": "b991149f-3e3d-454d-8ed9-d319789603aa",
   "metadata": {
    "scrolled": true
   },
   "outputs": [
    {
     "name": "stdout",
     "output_type": "stream",
     "text": [
      "Epoch 1/10\n",
      "1719/1719 [==============================] - 11s 6ms/step - loss: 0.8319 - accuracy: 0.7199 - val_loss: 0.5418 - val_accuracy: 0.8184\n",
      "Epoch 2/10\n",
      "1719/1719 [==============================] - 10s 6ms/step - loss: 0.5654 - accuracy: 0.8045 - val_loss: 0.4685 - val_accuracy: 0.8428\n",
      "Epoch 3/10\n",
      "1719/1719 [==============================] - 10s 6ms/step - loss: 0.5069 - accuracy: 0.8241 - val_loss: 0.4336 - val_accuracy: 0.8538\n",
      "Epoch 4/10\n",
      "1719/1719 [==============================] - 10s 6ms/step - loss: 0.4756 - accuracy: 0.8342 - val_loss: 0.4124 - val_accuracy: 0.8588\n",
      "Epoch 5/10\n",
      "1719/1719 [==============================] - 10s 6ms/step - loss: 0.4537 - accuracy: 0.8406 - val_loss: 0.3978 - val_accuracy: 0.8622\n",
      "Epoch 6/10\n",
      "1719/1719 [==============================] - 10s 6ms/step - loss: 0.4334 - accuracy: 0.8470 - val_loss: 0.3849 - val_accuracy: 0.8652\n",
      "Epoch 7/10\n",
      "1719/1719 [==============================] - 10s 6ms/step - loss: 0.4202 - accuracy: 0.8525 - val_loss: 0.3783 - val_accuracy: 0.8658\n",
      "Epoch 8/10\n",
      "1719/1719 [==============================] - 10s 6ms/step - loss: 0.4088 - accuracy: 0.8548 - val_loss: 0.3693 - val_accuracy: 0.8686\n",
      "Epoch 9/10\n",
      "1719/1719 [==============================] - 10s 6ms/step - loss: 0.3983 - accuracy: 0.8593 - val_loss: 0.3639 - val_accuracy: 0.8676\n",
      "Epoch 10/10\n",
      "1719/1719 [==============================] - 10s 6ms/step - loss: 0.3887 - accuracy: 0.8626 - val_loss: 0.3593 - val_accuracy: 0.8702\n"
     ]
    }
   ],
   "source": [
    "history = model.fit(X_train, y_train, epochs=10, validation_data=(X_valid, y_valid))"
   ]
  },
  {
   "cell_type": "markdown",
   "id": "543e238a-1691-4b0b-9dcb-e3867ed13aad",
   "metadata": {
    "tags": []
   },
   "source": [
    "이따금 활성화 함수 전에 BN을 적용해도 잘 동작한다(여기에는 논란의 여지가 있다). 또한 `BatchNormalization` 층 이전의 층은 편향을 위한 항이 필요 없다. `BatchNormalization` 층이 이를 무효화하기 때문이다. 따라서 필요 없는 파라미터이므로 `use_bias=False`를 지정하여 층을 만들 수 있다:"
   ]
  },
  {
   "cell_type": "code",
   "execution_count": 38,
   "id": "0dacfe52-f9d4-491b-8258-370b8f5cd15e",
   "metadata": {
    "scrolled": true,
    "tags": []
   },
   "outputs": [],
   "source": [
    "model = keras.models.Sequential(\n",
    "    [\n",
    "        keras.layers.Flatten(input_shape=[28, 28]),\n",
    "        keras.layers.BatchNormalization(),\n",
    "        keras.layers.Dense(300, use_bias=False),\n",
    "        keras.layers.BatchNormalization(),\n",
    "        keras.layers.Activation(\"relu\"),\n",
    "        keras.layers.Dense(100, use_bias=False),\n",
    "        keras.layers.BatchNormalization(),\n",
    "        keras.layers.Activation(\"relu\"),\n",
    "        keras.layers.Dense(10, activation=\"softmax\")\n",
    "    ]\n",
    ")"
   ]
  },
  {
   "cell_type": "code",
   "execution_count": 39,
   "id": "74093742-9b08-46b2-8bb1-36b0c5087261",
   "metadata": {
    "scrolled": true
   },
   "outputs": [],
   "source": [
    "model.compile(\n",
    "    loss=\"sparse_categorical_crossentropy\", optimizer=keras.optimizers.SGD(learning_rate=1e-3), metrics=[\"accuracy\"]\n",
    ")"
   ]
  },
  {
   "cell_type": "code",
   "execution_count": 40,
   "id": "cf07dee6-c527-4ba0-a46d-8a02e9ad4464",
   "metadata": {
    "scrolled": true
   },
   "outputs": [
    {
     "name": "stdout",
     "output_type": "stream",
     "text": [
      "Epoch 1/10\n",
      "1719/1719 [==============================] - 11s 6ms/step - loss: 1.0238 - accuracy: 0.6784 - val_loss: 0.6574 - val_accuracy: 0.7944\n",
      "Epoch 2/10\n",
      "1719/1719 [==============================] - 10s 6ms/step - loss: 0.6620 - accuracy: 0.7865 - val_loss: 0.5442 - val_accuracy: 0.8230\n",
      "Epoch 3/10\n",
      "1719/1719 [==============================] - 10s 6ms/step - loss: 0.5804 - accuracy: 0.8085 - val_loss: 0.4934 - val_accuracy: 0.8384\n",
      "Epoch 4/10\n",
      "1719/1719 [==============================] - 10s 6ms/step - loss: 0.5361 - accuracy: 0.8196 - val_loss: 0.4629 - val_accuracy: 0.8484\n",
      "Epoch 5/10\n",
      "1719/1719 [==============================] - 10s 6ms/step - loss: 0.5075 - accuracy: 0.8278 - val_loss: 0.4408 - val_accuracy: 0.8540\n",
      "Epoch 6/10\n",
      "1719/1719 [==============================] - 10s 6ms/step - loss: 0.4827 - accuracy: 0.8346 - val_loss: 0.4246 - val_accuracy: 0.8614\n",
      "Epoch 7/10\n",
      "1719/1719 [==============================] - 10s 6ms/step - loss: 0.4688 - accuracy: 0.8382 - val_loss: 0.4115 - val_accuracy: 0.8626\n",
      "Epoch 8/10\n",
      "1719/1719 [==============================] - 10s 6ms/step - loss: 0.4515 - accuracy: 0.8435 - val_loss: 0.4019 - val_accuracy: 0.8638\n",
      "Epoch 9/10\n",
      "1719/1719 [==============================] - 10s 6ms/step - loss: 0.4407 - accuracy: 0.8479 - val_loss: 0.3929 - val_accuracy: 0.8666\n",
      "Epoch 10/10\n",
      "1719/1719 [==============================] - 10s 6ms/step - loss: 0.4292 - accuracy: 0.8517 - val_loss: 0.3854 - val_accuracy: 0.8668\n"
     ]
    }
   ],
   "source": [
    "history = model.fit(X_train, y_train, epochs=10, validation_data=(X_valid, y_valid))"
   ]
  },
  {
   "cell_type": "markdown",
   "id": "6bf6c6ca-2f11-4c5e-9d0a-96c0d84491b1",
   "metadata": {
    "tags": []
   },
   "source": [
    "## 그레이디언트 클리핑"
   ]
  },
  {
   "cell_type": "markdown",
   "id": "1e7ed889-9be9-48eb-960f-4322d5574b4f",
   "metadata": {},
   "source": [
    "모든 케라스 옵티마이저는 `clipnorm`이나 `clipvalue` 매개변수를 지원한다:"
   ]
  },
  {
   "cell_type": "code",
   "execution_count": 41,
   "id": "4635a5c6-bfc3-4a9f-98c3-e9bf443331fc",
   "metadata": {
    "scrolled": true
   },
   "outputs": [],
   "source": [
    "optimizer = keras.optimizers.SGD(clipvalue=1.0)"
   ]
  },
  {
   "cell_type": "code",
   "execution_count": 42,
   "id": "cfe9f991-1bc4-4753-b0de-88b5ec368c94",
   "metadata": {
    "scrolled": true
   },
   "outputs": [],
   "source": [
    "optimizer = keras.optimizers.SGD(clipnorm=1.0)"
   ]
  },
  {
   "cell_type": "markdown",
   "id": "f61979f7-ee56-467d-b8f5-0537a786e01a",
   "metadata": {},
   "source": [
    "## 사전 훈련된 층 재사용하기"
   ]
  },
  {
   "cell_type": "markdown",
   "id": "c258b77f-e5b2-4956-b175-a4b526964d52",
   "metadata": {},
   "source": [
    "### 케라스 모델 재사용하기"
   ]
  },
  {
   "cell_type": "markdown",
   "id": "daf0f319-b5a5-4868-af49-faa51da20b34",
   "metadata": {},
   "source": [
    "패션 MNIST 훈련 세트를 두 개로 나누어 본다:\n",
    "* `X_train_A`: 샌달과 셔츠(클래스 5와 6)을 제외한 모든 이미지\n",
    "* `X_train_B`: 샌달과 셔츠 이미지 중 처음 200개만 가진 작은 훈련 세트\n",
    "\n",
    "검증 세트와 테스트 세트도 이렇게 나눈다. 하지만 이미지 개수는 제한하지 않는다.\n",
    "\n",
    "A 세트(8개의 클래스를 가진 분류 문제)에서 모델을 훈련하고 이를 재사용하여 B 세트(이진 분류)를 해결해 본다. A 작업에서 B 작업으로 약간의 지식이 전달되기를 기대한다. 왜냐하면 A 세트의 클래스(스니커즈, 앵클 부츠, 코트, 티셔츠 등)가 B 세트에 있는 클래스(샌달과 셔츠)와 조금 비슷하기 때문이다. 하지만 `Dense` 층을 사용하기 때문에 동일한 위치에 나타난 패턴만 재사용할 수 있다(반대로 합성곱 층은 훨씬 많은 정보를 전송한다. 학습한 패턴을 이미지의 어느 위치에서나 감지할 수 있기 때문이다.)."
   ]
  },
  {
   "cell_type": "code",
   "execution_count": 43,
   "id": "d8acd492-471e-46e8-b2c5-2494639c47b5",
   "metadata": {
    "scrolled": true
   },
   "outputs": [],
   "source": [
    "def split_dataset(X, y):\n",
    "    y_5_or_6 = (y == 5) | (y == 6)  # 샌들 또는 셔츠\n",
    "    y_A = y[~y_5_or_6]\n",
    "    y_A[y_A > 6] -= 2  # 클래스 인덱스 7, 8, 9는 5, 6, 7로 이동해야 한다\n",
    "    y_B = (y[y_5_or_6] == 6).astype(np.float32)  # 이진 분류 작업: 셔츠(클래스 6)인가?\n",
    "    return (X[~y_5_or_6], y_A), (X[y_5_or_6], y_B)\n",
    "\n",
    "\n",
    "(X_train_A, y_train_A), (X_train_B, y_train_B) = split_dataset(X_train, y_train)\n",
    "(X_valid_A, y_valid_A), (X_valid_B, y_valid_B) = split_dataset(X_valid, y_valid)\n",
    "(X_test_A, y_test_A), (X_test_B, y_test_B) = split_dataset(X_test, y_test)\n",
    "X_train_B = X_train_B[:200]\n",
    "y_train_B = y_train_B[:200]"
   ]
  },
  {
   "cell_type": "code",
   "execution_count": 44,
   "id": "a4bd08c0-ae95-43b2-8646-6dde4ba2e5e0",
   "metadata": {
    "scrolled": true
   },
   "outputs": [
    {
     "data": {
      "text/plain": [
       "(43986, 28, 28)"
      ]
     },
     "execution_count": 44,
     "metadata": {},
     "output_type": "execute_result"
    }
   ],
   "source": [
    "X_train_A.shape"
   ]
  },
  {
   "cell_type": "code",
   "execution_count": 45,
   "id": "edc11cc4-60ff-4883-8f1d-d85ded0ac6c5",
   "metadata": {
    "scrolled": true
   },
   "outputs": [
    {
     "data": {
      "text/plain": [
       "(200, 28, 28)"
      ]
     },
     "execution_count": 45,
     "metadata": {},
     "output_type": "execute_result"
    }
   ],
   "source": [
    "X_train_B.shape"
   ]
  },
  {
   "cell_type": "code",
   "execution_count": 46,
   "id": "d1f8ba7b-7044-44a3-a97b-f36e0fd2808f",
   "metadata": {
    "scrolled": true
   },
   "outputs": [
    {
     "data": {
      "text/plain": [
       "array([4, 0, 5, 7, 7, 7, 4, 4, 3, 4, 0, 1, 6, 3, 4, 3, 2, 6, 5, 3, 4, 5,\n",
       "       1, 3, 4, 2, 0, 6, 7, 1], dtype=uint8)"
      ]
     },
     "execution_count": 46,
     "metadata": {},
     "output_type": "execute_result"
    }
   ],
   "source": [
    "y_train_A[:30]"
   ]
  },
  {
   "cell_type": "code",
   "execution_count": 47,
   "id": "05446be6-5629-40cd-a646-32e5cd4bc097",
   "metadata": {
    "scrolled": true
   },
   "outputs": [
    {
     "data": {
      "text/plain": [
       "array([1., 1., 0., 0., 0., 0., 1., 1., 1., 0., 0., 1., 1., 0., 0., 0., 0.,\n",
       "       0., 0., 1., 1., 0., 0., 1., 1., 0., 1., 1., 1., 1.], dtype=float32)"
      ]
     },
     "execution_count": 47,
     "metadata": {},
     "output_type": "execute_result"
    }
   ],
   "source": [
    "y_train_B[:30]"
   ]
  },
  {
   "cell_type": "code",
   "execution_count": 48,
   "id": "81618cdc-113a-4ba2-8a32-54438a953ec9",
   "metadata": {
    "scrolled": true
   },
   "outputs": [],
   "source": [
    "model_A = keras.models.Sequential()\n",
    "model_A.add(keras.layers.Flatten(input_shape=[28, 28]))\n",
    "for n_hidden in (300, 100, 50, 50, 50):\n",
    "    model_A.add(keras.layers.Dense(n_hidden, activation=\"selu\"))\n",
    "model_A.add(keras.layers.Dense(8, activation=\"softmax\"))"
   ]
  },
  {
   "cell_type": "code",
   "execution_count": 49,
   "id": "7549254a-2999-4f24-9604-55861546c4e4",
   "metadata": {
    "scrolled": true
   },
   "outputs": [],
   "source": [
    "model_A.compile(\n",
    "    loss=\"sparse_categorical_crossentropy\", optimizer=keras.optimizers.SGD(learning_rate=1e-3), metrics=[\"accuracy\"]\n",
    ")"
   ]
  },
  {
   "cell_type": "code",
   "execution_count": 50,
   "id": "7113ae8b-8aa4-4dcd-a7e0-48ae3bc23cde",
   "metadata": {
    "scrolled": true
   },
   "outputs": [
    {
     "name": "stdout",
     "output_type": "stream",
     "text": [
      "Epoch 1/20\n",
      "1375/1375 [==============================] - 6s 4ms/step - loss: 0.5834 - accuracy: 0.8166 - val_loss: 0.3812 - val_accuracy: 0.8729\n",
      "Epoch 2/20\n",
      "1375/1375 [==============================] - 5s 4ms/step - loss: 0.3566 - accuracy: 0.8757 - val_loss: 0.3275 - val_accuracy: 0.8861\n",
      "Epoch 3/20\n",
      "1375/1375 [==============================] - 5s 4ms/step - loss: 0.3206 - accuracy: 0.8870 - val_loss: 0.3101 - val_accuracy: 0.8904\n",
      "Epoch 4/20\n",
      "1375/1375 [==============================] - 5s 4ms/step - loss: 0.3019 - accuracy: 0.8933 - val_loss: 0.2922 - val_accuracy: 0.8989\n",
      "Epoch 5/20\n",
      "1375/1375 [==============================] - 5s 4ms/step - loss: 0.2884 - accuracy: 0.8984 - val_loss: 0.2799 - val_accuracy: 0.9013\n",
      "Epoch 6/20\n",
      "1375/1375 [==============================] - 5s 4ms/step - loss: 0.2777 - accuracy: 0.9025 - val_loss: 0.2774 - val_accuracy: 0.9048\n",
      "Epoch 7/20\n",
      "1375/1375 [==============================] - 5s 4ms/step - loss: 0.2690 - accuracy: 0.9065 - val_loss: 0.2667 - val_accuracy: 0.9063\n",
      "Epoch 8/20\n",
      "1375/1375 [==============================] - 5s 4ms/step - loss: 0.2626 - accuracy: 0.9087 - val_loss: 0.2660 - val_accuracy: 0.9086\n",
      "Epoch 9/20\n",
      "1375/1375 [==============================] - 5s 4ms/step - loss: 0.2562 - accuracy: 0.9113 - val_loss: 0.2572 - val_accuracy: 0.9108\n",
      "Epoch 10/20\n",
      "1375/1375 [==============================] - 5s 4ms/step - loss: 0.2506 - accuracy: 0.9133 - val_loss: 0.2527 - val_accuracy: 0.9118\n",
      "Epoch 11/20\n",
      "1375/1375 [==============================] - 5s 4ms/step - loss: 0.2460 - accuracy: 0.9160 - val_loss: 0.2535 - val_accuracy: 0.9133\n",
      "Epoch 12/20\n",
      "1375/1375 [==============================] - 5s 4ms/step - loss: 0.2418 - accuracy: 0.9159 - val_loss: 0.2470 - val_accuracy: 0.9133\n",
      "Epoch 13/20\n",
      "1375/1375 [==============================] - 5s 4ms/step - loss: 0.2378 - accuracy: 0.9189 - val_loss: 0.2523 - val_accuracy: 0.9126\n",
      "Epoch 14/20\n",
      "1375/1375 [==============================] - 5s 4ms/step - loss: 0.2343 - accuracy: 0.9193 - val_loss: 0.2453 - val_accuracy: 0.9165\n",
      "Epoch 15/20\n",
      "1375/1375 [==============================] - 5s 4ms/step - loss: 0.2305 - accuracy: 0.9205 - val_loss: 0.2521 - val_accuracy: 0.9126\n",
      "Epoch 16/20\n",
      "1375/1375 [==============================] - 5s 4ms/step - loss: 0.2281 - accuracy: 0.9223 - val_loss: 0.2443 - val_accuracy: 0.9183\n",
      "Epoch 17/20\n",
      "1375/1375 [==============================] - 5s 4ms/step - loss: 0.2248 - accuracy: 0.9227 - val_loss: 0.2413 - val_accuracy: 0.9173\n",
      "Epoch 18/20\n",
      "1375/1375 [==============================] - 5s 4ms/step - loss: 0.2222 - accuracy: 0.9236 - val_loss: 0.2510 - val_accuracy: 0.9121\n",
      "Epoch 19/20\n",
      "1375/1375 [==============================] - 5s 4ms/step - loss: 0.2196 - accuracy: 0.9240 - val_loss: 0.2441 - val_accuracy: 0.9180\n",
      "Epoch 20/20\n",
      "1375/1375 [==============================] - 5s 4ms/step - loss: 0.2170 - accuracy: 0.9253 - val_loss: 0.2368 - val_accuracy: 0.9185\n"
     ]
    }
   ],
   "source": [
    "history = model_A.fit(X_train_A, y_train_A, epochs=20, validation_data=(X_valid_A, y_valid_A))"
   ]
  },
  {
   "cell_type": "code",
   "execution_count": 51,
   "id": "a78e6863-a1b3-4ee4-9e2c-31c3ecb16816",
   "metadata": {
    "scrolled": true,
    "tags": []
   },
   "outputs": [],
   "source": [
    "model_A.save(\"my_model_A.h5\")"
   ]
  },
  {
   "cell_type": "code",
   "execution_count": 52,
   "id": "c7c2564c-717f-4d31-a429-067346b9db66",
   "metadata": {
    "scrolled": true
   },
   "outputs": [],
   "source": [
    "model_B = keras.models.Sequential()\n",
    "model_B.add(keras.layers.Flatten(input_shape=[28, 28]))\n",
    "for n_hidden in (300, 100, 50, 50, 50):\n",
    "    model_B.add(keras.layers.Dense(n_hidden, activation=\"selu\"))\n",
    "model_B.add(keras.layers.Dense(1, activation=\"sigmoid\"))"
   ]
  },
  {
   "cell_type": "code",
   "execution_count": 53,
   "id": "9916a78b-6e89-49cf-b971-3045c339a9dd",
   "metadata": {
    "scrolled": true
   },
   "outputs": [],
   "source": [
    "model_B.compile(loss=\"binary_crossentropy\", optimizer=keras.optimizers.SGD(learning_rate=1e-3), metrics=[\"accuracy\"])"
   ]
  },
  {
   "cell_type": "code",
   "execution_count": 54,
   "id": "a49b088b-cba9-4d09-a8de-965b499f8e9b",
   "metadata": {
    "scrolled": true
   },
   "outputs": [
    {
     "name": "stdout",
     "output_type": "stream",
     "text": [
      "Epoch 1/20\n",
      "7/7 [==============================] - 1s 42ms/step - loss: 0.4623 - accuracy: 0.8000 - val_loss: 0.4549 - val_accuracy: 0.8103\n",
      "Epoch 2/20\n",
      "7/7 [==============================] - 0s 20ms/step - loss: 0.3760 - accuracy: 0.8550 - val_loss: 0.3812 - val_accuracy: 0.8651\n",
      "Epoch 3/20\n",
      "7/7 [==============================] - 0s 19ms/step - loss: 0.3141 - accuracy: 0.8850 - val_loss: 0.3283 - val_accuracy: 0.8813\n",
      "Epoch 4/20\n",
      "7/7 [==============================] - 0s 20ms/step - loss: 0.2672 - accuracy: 0.9150 - val_loss: 0.2869 - val_accuracy: 0.9118\n",
      "Epoch 5/20\n",
      "7/7 [==============================] - 0s 20ms/step - loss: 0.2305 - accuracy: 0.9350 - val_loss: 0.2586 - val_accuracy: 0.9178\n",
      "Epoch 6/20\n",
      "7/7 [==============================] - 0s 20ms/step - loss: 0.2047 - accuracy: 0.9450 - val_loss: 0.2329 - val_accuracy: 0.9371\n",
      "Epoch 7/20\n",
      "7/7 [==============================] - 0s 25ms/step - loss: 0.1831 - accuracy: 0.9550 - val_loss: 0.2132 - val_accuracy: 0.9412\n",
      "Epoch 8/20\n",
      "7/7 [==============================] - 0s 20ms/step - loss: 0.1657 - accuracy: 0.9600 - val_loss: 0.1960 - val_accuracy: 0.9503\n",
      "Epoch 9/20\n",
      "7/7 [==============================] - 0s 19ms/step - loss: 0.1497 - accuracy: 0.9650 - val_loss: 0.1815 - val_accuracy: 0.9564\n",
      "Epoch 10/20\n",
      "7/7 [==============================] - 0s 19ms/step - loss: 0.1377 - accuracy: 0.9800 - val_loss: 0.1692 - val_accuracy: 0.9604\n",
      "Epoch 11/20\n",
      "7/7 [==============================] - 0s 19ms/step - loss: 0.1266 - accuracy: 0.9800 - val_loss: 0.1583 - val_accuracy: 0.9645\n",
      "Epoch 12/20\n",
      "7/7 [==============================] - 0s 19ms/step - loss: 0.1177 - accuracy: 0.9800 - val_loss: 0.1499 - val_accuracy: 0.9645\n",
      "Epoch 13/20\n",
      "7/7 [==============================] - 0s 20ms/step - loss: 0.1097 - accuracy: 0.9800 - val_loss: 0.1425 - val_accuracy: 0.9665\n",
      "Epoch 14/20\n",
      "7/7 [==============================] - 0s 20ms/step - loss: 0.1033 - accuracy: 0.9850 - val_loss: 0.1354 - val_accuracy: 0.9675\n",
      "Epoch 15/20\n",
      "7/7 [==============================] - 0s 19ms/step - loss: 0.0970 - accuracy: 0.9850 - val_loss: 0.1295 - val_accuracy: 0.9675\n",
      "Epoch 16/20\n",
      "7/7 [==============================] - 0s 20ms/step - loss: 0.0917 - accuracy: 0.9900 - val_loss: 0.1243 - val_accuracy: 0.9665\n",
      "Epoch 17/20\n",
      "7/7 [==============================] - 0s 20ms/step - loss: 0.0867 - accuracy: 0.9900 - val_loss: 0.1191 - val_accuracy: 0.9675\n",
      "Epoch 18/20\n",
      "7/7 [==============================] - 0s 19ms/step - loss: 0.0821 - accuracy: 0.9900 - val_loss: 0.1148 - val_accuracy: 0.9686\n",
      "Epoch 19/20\n",
      "7/7 [==============================] - 0s 19ms/step - loss: 0.0784 - accuracy: 0.9900 - val_loss: 0.1109 - val_accuracy: 0.9706\n",
      "Epoch 20/20\n",
      "7/7 [==============================] - 0s 19ms/step - loss: 0.0746 - accuracy: 0.9900 - val_loss: 0.1070 - val_accuracy: 0.9716\n"
     ]
    }
   ],
   "source": [
    "history = model_B.fit(X_train_B, y_train_B, epochs=20, validation_data=(X_valid_B, y_valid_B))"
   ]
  },
  {
   "cell_type": "code",
   "execution_count": 55,
   "id": "0d9bb929-34bd-4e95-9389-b366d1ebaf27",
   "metadata": {
    "scrolled": true,
    "tags": []
   },
   "outputs": [
    {
     "name": "stdout",
     "output_type": "stream",
     "text": [
      "Model: \"sequential_7\"\n",
      "_________________________________________________________________\n",
      " Layer (type)                Output Shape              Param #   \n",
      "=================================================================\n",
      " flatten_7 (Flatten)         (None, 784)               0         \n",
      "                                                                 \n",
      " dense_224 (Dense)           (None, 300)               235500    \n",
      "                                                                 \n",
      " dense_225 (Dense)           (None, 100)               30100     \n",
      "                                                                 \n",
      " dense_226 (Dense)           (None, 50)                5050      \n",
      "                                                                 \n",
      " dense_227 (Dense)           (None, 50)                2550      \n",
      "                                                                 \n",
      " dense_228 (Dense)           (None, 50)                2550      \n",
      "                                                                 \n",
      " dense_229 (Dense)           (None, 1)                 51        \n",
      "                                                                 \n",
      "=================================================================\n",
      "Total params: 275,801\n",
      "Trainable params: 275,801\n",
      "Non-trainable params: 0\n",
      "_________________________________________________________________\n"
     ]
    }
   ],
   "source": [
    "model_B.summary()"
   ]
  },
  {
   "cell_type": "code",
   "execution_count": 56,
   "id": "6a95b8c2-3023-4f66-a1e4-6fdca65922cb",
   "metadata": {
    "scrolled": true
   },
   "outputs": [],
   "source": [
    "model_A = keras.models.load_model(\"my_model_A.h5\")\n",
    "model_B_on_A = keras.models.Sequential(model_A.layers[:-1])\n",
    "model_B_on_A.add(keras.layers.Dense(1, activation=\"sigmoid\"))"
   ]
  },
  {
   "cell_type": "markdown",
   "id": "f61f7142-203a-4704-af97-875a3500c067",
   "metadata": {},
   "source": [
    "`model_B_on_A`와 `model_A`는 층을 공유하기 때문에 하나를 훈련하면 두 모델이 업데이트된다. 이를 피하려면 `model_A`를 클론한 것을 사용해 `model_B_on_A`를 만들어야 한다:"
   ]
  },
  {
   "cell_type": "code",
   "execution_count": 57,
   "id": "07c77cb1-603e-4c54-b173-479324be585e",
   "metadata": {
    "scrolled": true
   },
   "outputs": [],
   "source": [
    "model_A_clone = keras.models.clone_model(model_A)\n",
    "model_A_clone.set_weights(model_A.get_weights())\n",
    "model_B_on_A = keras.models.Sequential(model_A_clone.layers[:-1])\n",
    "model_B_on_A.add(keras.layers.Dense(1, activation=\"sigmoid\"))"
   ]
  },
  {
   "cell_type": "code",
   "execution_count": 58,
   "id": "7c606817-3971-4519-bb5a-d9fd8c0cacc6",
   "metadata": {
    "scrolled": true
   },
   "outputs": [],
   "source": [
    "for layer in model_B_on_A.layers[:-1]:\n",
    "    layer.trainable = False\n",
    "model_B_on_A.compile(\n",
    "    loss=\"binary_crossentropy\", optimizer=keras.optimizers.SGD(learning_rate=1e-3), metrics=[\"accuracy\"]\n",
    ")"
   ]
  },
  {
   "cell_type": "code",
   "execution_count": 59,
   "id": "21b9443a-cf01-4b56-a0d0-04f205cfc86f",
   "metadata": {
    "scrolled": true
   },
   "outputs": [
    {
     "name": "stdout",
     "output_type": "stream",
     "text": [
      "Epoch 1/4\n",
      "7/7 [==============================] - 1s 42ms/step - loss: 0.9826 - accuracy: 0.4000 - val_loss: 0.8998 - val_accuracy: 0.4199\n",
      "Epoch 2/4\n",
      "7/7 [==============================] - 0s 19ms/step - loss: 0.8854 - accuracy: 0.4600 - val_loss: 0.8124 - val_accuracy: 0.4828\n",
      "Epoch 3/4\n",
      "7/7 [==============================] - 0s 19ms/step - loss: 0.7988 - accuracy: 0.5250 - val_loss: 0.7349 - val_accuracy: 0.5548\n",
      "Epoch 4/4\n",
      "7/7 [==============================] - 0s 19ms/step - loss: 0.7225 - accuracy: 0.5900 - val_loss: 0.6718 - val_accuracy: 0.6075\n",
      "Epoch 1/16\n",
      "7/7 [==============================] - 1s 43ms/step - loss: 0.5689 - accuracy: 0.6950 - val_loss: 0.4196 - val_accuracy: 0.8448\n",
      "Epoch 2/16\n",
      "7/7 [==============================] - 0s 21ms/step - loss: 0.3635 - accuracy: 0.8800 - val_loss: 0.2926 - val_accuracy: 0.9391\n",
      "Epoch 3/16\n",
      "7/7 [==============================] - 0s 20ms/step - loss: 0.2586 - accuracy: 0.9450 - val_loss: 0.2243 - val_accuracy: 0.9716\n",
      "Epoch 4/16\n",
      "7/7 [==============================] - 0s 20ms/step - loss: 0.1995 - accuracy: 0.9650 - val_loss: 0.1817 - val_accuracy: 0.9817\n",
      "Epoch 5/16\n",
      "7/7 [==============================] - 0s 20ms/step - loss: 0.1614 - accuracy: 0.9700 - val_loss: 0.1533 - val_accuracy: 0.9838\n",
      "Epoch 6/16\n",
      "7/7 [==============================] - 0s 19ms/step - loss: 0.1356 - accuracy: 0.9850 - val_loss: 0.1336 - val_accuracy: 0.9868\n",
      "Epoch 7/16\n",
      "7/7 [==============================] - 0s 20ms/step - loss: 0.1174 - accuracy: 0.9950 - val_loss: 0.1191 - val_accuracy: 0.9878\n",
      "Epoch 8/16\n",
      "7/7 [==============================] - 0s 20ms/step - loss: 0.1039 - accuracy: 0.9950 - val_loss: 0.1071 - val_accuracy: 0.9888\n",
      "Epoch 9/16\n",
      "7/7 [==============================] - 0s 19ms/step - loss: 0.0926 - accuracy: 0.9950 - val_loss: 0.0978 - val_accuracy: 0.9899\n",
      "Epoch 10/16\n",
      "7/7 [==============================] - 0s 20ms/step - loss: 0.0838 - accuracy: 1.0000 - val_loss: 0.0907 - val_accuracy: 0.9899\n",
      "Epoch 11/16\n",
      "7/7 [==============================] - 0s 20ms/step - loss: 0.0769 - accuracy: 1.0000 - val_loss: 0.0844 - val_accuracy: 0.9909\n",
      "Epoch 12/16\n",
      "7/7 [==============================] - 0s 20ms/step - loss: 0.0709 - accuracy: 1.0000 - val_loss: 0.0794 - val_accuracy: 0.9919\n",
      "Epoch 13/16\n",
      "7/7 [==============================] - 0s 20ms/step - loss: 0.0660 - accuracy: 1.0000 - val_loss: 0.0750 - val_accuracy: 0.9929\n",
      "Epoch 14/16\n",
      "7/7 [==============================] - 0s 20ms/step - loss: 0.0617 - accuracy: 1.0000 - val_loss: 0.0712 - val_accuracy: 0.9929\n",
      "Epoch 15/16\n",
      "7/7 [==============================] - 0s 20ms/step - loss: 0.0579 - accuracy: 1.0000 - val_loss: 0.0678 - val_accuracy: 0.9929\n",
      "Epoch 16/16\n",
      "7/7 [==============================] - 0s 20ms/step - loss: 0.0545 - accuracy: 1.0000 - val_loss: 0.0647 - val_accuracy: 0.9929\n"
     ]
    }
   ],
   "source": [
    "history = model_B_on_A.fit(X_train_B, y_train_B, epochs=4, validation_data=(X_valid_B, y_valid_B))\n",
    "for layer in model_B_on_A.layers[:-1]:\n",
    "    layer.trainable = True\n",
    "model_B_on_A.compile(\n",
    "    loss=\"binary_crossentropy\", optimizer=keras.optimizers.SGD(learning_rate=1e-3), metrics=[\"accuracy\"]\n",
    ")\n",
    "history = model_B_on_A.fit(X_train_B, y_train_B, epochs=16, validation_data=(X_valid_B, y_valid_B))"
   ]
  },
  {
   "cell_type": "markdown",
   "id": "d7b23e81-e4f6-4ac8-8b9b-6e6e51cb77a5",
   "metadata": {
    "tags": []
   },
   "source": [
    "마지막 점수는 어떨까?"
   ]
  },
  {
   "cell_type": "code",
   "execution_count": 60,
   "id": "b938d01b-7a48-4d86-8344-3d4cc292777d",
   "metadata": {
    "scrolled": true
   },
   "outputs": [
    {
     "name": "stdout",
     "output_type": "stream",
     "text": [
      "63/63 [==============================] - 0s 3ms/step - loss: 0.0977 - accuracy: 0.9770\n"
     ]
    },
    {
     "data": {
      "text/plain": [
       "[0.0976879894733429, 0.9769999980926514]"
      ]
     },
     "execution_count": 60,
     "metadata": {},
     "output_type": "execute_result"
    }
   ],
   "source": [
    "B = model_B.evaluate(X_test_B, y_test_B)\n",
    "B"
   ]
  },
  {
   "cell_type": "code",
   "execution_count": 61,
   "id": "9b899fd5-8f9d-4fb6-94f3-395f810195db",
   "metadata": {
    "scrolled": true
   },
   "outputs": [
    {
     "name": "stdout",
     "output_type": "stream",
     "text": [
      "63/63 [==============================] - 0s 3ms/step - loss: 0.0646 - accuracy: 0.9950\n"
     ]
    },
    {
     "data": {
      "text/plain": [
       "[0.06461040675640106, 0.9950000047683716]"
      ]
     },
     "execution_count": 61,
     "metadata": {},
     "output_type": "execute_result"
    }
   ],
   "source": [
    "B_on_A = model_B_on_A.evaluate(X_test_B, y_test_B)\n",
    "B_on_A"
   ]
  },
  {
   "cell_type": "markdown",
   "id": "a81f73de-c1be-4a6f-b957-050b06e100eb",
   "metadata": {},
   "source": [
    "아주 약간의 정보를 전달했다: 오차율이 아주 조금 줄었다."
   ]
  },
  {
   "cell_type": "code",
   "execution_count": 62,
   "id": "bffbbb62-e7d9-4ce6-88df-477cf6bf537b",
   "metadata": {
    "scrolled": true
   },
   "outputs": [
    {
     "data": {
      "text/plain": [
       "1.0001818090669823"
      ]
     },
     "execution_count": 62,
     "metadata": {},
     "output_type": "execute_result"
    }
   ],
   "source": [
    "(100 - B[1]) / (100 - B_on_A[1])"
   ]
  },
  {
   "cell_type": "markdown",
   "id": "9b19bb16-b5f4-4184-b529-c011eaddedb5",
   "metadata": {
    "tags": []
   },
   "source": [
    "# 고속 옵티마이저"
   ]
  },
  {
   "cell_type": "markdown",
   "id": "cbb69212-b7c2-4cc1-8281-f4be2a448031",
   "metadata": {},
   "source": [
    "## 모멘텀 옵티마이저"
   ]
  },
  {
   "cell_type": "code",
   "execution_count": 63,
   "id": "4a22926a-72f2-4d37-bd45-45e610f324fe",
   "metadata": {
    "scrolled": true
   },
   "outputs": [],
   "source": [
    "optimizer = keras.optimizers.SGD(learning_rate=0.001, momentum=0.9)"
   ]
  },
  {
   "cell_type": "markdown",
   "id": "af03d5ef-d9ce-47cf-8d08-3a8a780859db",
   "metadata": {},
   "source": [
    "## 네스테로프 가속 경사"
   ]
  },
  {
   "cell_type": "code",
   "execution_count": 64,
   "id": "26887969-a595-424b-984c-3f74ff07b949",
   "metadata": {
    "scrolled": true
   },
   "outputs": [],
   "source": [
    "optimizer = keras.optimizers.SGD(learning_rate=0.001, momentum=0.9, nesterov=True)"
   ]
  },
  {
   "cell_type": "markdown",
   "id": "fc5e18f7-8c1b-4fcf-a50e-30ca3c60370a",
   "metadata": {},
   "source": [
    "## AdaGrad"
   ]
  },
  {
   "cell_type": "code",
   "execution_count": 65,
   "id": "8235a7dc-e1d7-483d-9261-b2dc9c5b3a40",
   "metadata": {
    "scrolled": true
   },
   "outputs": [],
   "source": [
    "optimizer = keras.optimizers.Adagrad()"
   ]
  },
  {
   "cell_type": "markdown",
   "id": "b0c29163-f5fd-4b9a-a54b-60aeba38db6a",
   "metadata": {},
   "source": [
    "## RMSProp"
   ]
  },
  {
   "cell_type": "code",
   "execution_count": 66,
   "id": "39a7e7e7-43ed-4722-be24-b92431d29673",
   "metadata": {
    "scrolled": true
   },
   "outputs": [],
   "source": [
    "optimizer = keras.optimizers.RMSprop()"
   ]
  },
  {
   "cell_type": "markdown",
   "id": "892241ac-ff4d-40b8-b57f-7a772c97f189",
   "metadata": {},
   "source": [
    "## Adam 옵티마이저"
   ]
  },
  {
   "cell_type": "code",
   "execution_count": 67,
   "id": "41fb2553-1ce9-467d-b669-18d5f3ca3c66",
   "metadata": {
    "scrolled": true
   },
   "outputs": [],
   "source": [
    "optimizer = keras.optimizers.Adam()"
   ]
  },
  {
   "cell_type": "markdown",
   "id": "08b42551-d050-4a6c-babc-cf7a0386c0af",
   "metadata": {},
   "source": [
    "## Nadam 옵티마이저"
   ]
  },
  {
   "cell_type": "code",
   "execution_count": 68,
   "id": "c424614b-32c1-4c96-8398-913aa6cdf915",
   "metadata": {
    "scrolled": true
   },
   "outputs": [],
   "source": [
    "optimizer = keras.optimizers.Nadam()"
   ]
  },
  {
   "cell_type": "markdown",
   "id": "d7d40f32-3942-4e85-8cac-8e7cf2f90c5e",
   "metadata": {
    "tags": []
   },
   "source": [
    "## 학습률 스케줄링"
   ]
  },
  {
   "cell_type": "markdown",
   "id": "e2fa9774-ab3e-47c6-b3fd-216f4eefc8ff",
   "metadata": {},
   "source": [
    "### 거듭제곱 스케줄링"
   ]
  },
  {
   "cell_type": "markdown",
   "id": "298e65fa-7785-4430-8a1e-3dd7903c969e",
   "metadata": {},
   "source": [
    "```lr = lr0 / (1 + steps / s)**c```\n",
    "* 케라스는 `c=1`과 `s = 1 / decay`을 사용한다"
   ]
  },
  {
   "cell_type": "code",
   "execution_count": 69,
   "id": "a41a3dde-6dd5-4378-bf6b-8c4e85d49185",
   "metadata": {
    "scrolled": true
   },
   "outputs": [],
   "source": [
    "optimizer = keras.optimizers.SGD(decay=1e-4)"
   ]
  },
  {
   "cell_type": "code",
   "execution_count": 70,
   "id": "c5a68479-f73a-47a3-b2fb-8265f654a9c5",
   "metadata": {
    "scrolled": true
   },
   "outputs": [],
   "source": [
    "model = keras.models.Sequential(\n",
    "    [\n",
    "        keras.layers.Flatten(input_shape=[28, 28]),\n",
    "        keras.layers.Dense(300, activation=\"selu\", kernel_initializer=\"lecun_normal\"),\n",
    "        keras.layers.Dense(100, activation=\"selu\", kernel_initializer=\"lecun_normal\"),\n",
    "        keras.layers.Dense(10, activation=\"softmax\")\n",
    "    ]\n",
    ")\n",
    "model.compile(loss=\"sparse_categorical_crossentropy\", optimizer=optimizer, metrics=[\"accuracy\"])"
   ]
  },
  {
   "cell_type": "code",
   "execution_count": 71,
   "id": "356065a7-2f9d-46a5-9c35-b8c8c6547b2a",
   "metadata": {
    "scrolled": true
   },
   "outputs": [
    {
     "name": "stdout",
     "output_type": "stream",
     "text": [
      "Epoch 1/25\n",
      "1719/1719 [==============================] - 6s 3ms/step - loss: 0.4847 - accuracy: 0.8288 - val_loss: 0.4015 - val_accuracy: 0.8618\n",
      "Epoch 2/25\n",
      "1719/1719 [==============================] - 5s 3ms/step - loss: 0.3775 - accuracy: 0.8673 - val_loss: 0.3778 - val_accuracy: 0.8678\n",
      "Epoch 3/25\n",
      "1719/1719 [==============================] - 6s 3ms/step - loss: 0.3447 - accuracy: 0.8774 - val_loss: 0.3661 - val_accuracy: 0.8744\n",
      "Epoch 4/25\n",
      "1719/1719 [==============================] - 5s 3ms/step - loss: 0.3246 - accuracy: 0.8860 - val_loss: 0.3474 - val_accuracy: 0.8796\n",
      "Epoch 5/25\n",
      "1719/1719 [==============================] - 6s 3ms/step - loss: 0.3089 - accuracy: 0.8907 - val_loss: 0.3460 - val_accuracy: 0.8772\n",
      "Epoch 6/25\n",
      "1719/1719 [==============================] - 5s 3ms/step - loss: 0.2965 - accuracy: 0.8953 - val_loss: 0.3402 - val_accuracy: 0.8812\n",
      "Epoch 7/25\n",
      "1719/1719 [==============================] - 5s 3ms/step - loss: 0.2866 - accuracy: 0.8982 - val_loss: 0.3375 - val_accuracy: 0.8820\n",
      "Epoch 8/25\n",
      "1719/1719 [==============================] - 5s 3ms/step - loss: 0.2780 - accuracy: 0.9021 - val_loss: 0.3352 - val_accuracy: 0.8832\n",
      "Epoch 9/25\n",
      "1719/1719 [==============================] - 5s 3ms/step - loss: 0.2696 - accuracy: 0.9047 - val_loss: 0.3257 - val_accuracy: 0.8866\n",
      "Epoch 10/25\n",
      "1719/1719 [==============================] - 5s 3ms/step - loss: 0.2632 - accuracy: 0.9076 - val_loss: 0.3266 - val_accuracy: 0.8842\n",
      "Epoch 11/25\n",
      "1719/1719 [==============================] - 6s 3ms/step - loss: 0.2566 - accuracy: 0.9092 - val_loss: 0.3278 - val_accuracy: 0.8866\n",
      "Epoch 12/25\n",
      "1719/1719 [==============================] - 5s 3ms/step - loss: 0.2511 - accuracy: 0.9112 - val_loss: 0.3218 - val_accuracy: 0.8878\n",
      "Epoch 13/25\n",
      "1719/1719 [==============================] - 5s 3ms/step - loss: 0.2464 - accuracy: 0.9126 - val_loss: 0.3241 - val_accuracy: 0.8860\n",
      "Epoch 14/25\n",
      "1719/1719 [==============================] - 5s 3ms/step - loss: 0.2415 - accuracy: 0.9150 - val_loss: 0.3231 - val_accuracy: 0.8902\n",
      "Epoch 15/25\n",
      "1719/1719 [==============================] - 5s 3ms/step - loss: 0.2372 - accuracy: 0.9158 - val_loss: 0.3169 - val_accuracy: 0.8880\n",
      "Epoch 16/25\n",
      "1719/1719 [==============================] - 5s 3ms/step - loss: 0.2331 - accuracy: 0.9183 - val_loss: 0.3183 - val_accuracy: 0.8876\n",
      "Epoch 17/25\n",
      "1719/1719 [==============================] - 5s 3ms/step - loss: 0.2294 - accuracy: 0.9196 - val_loss: 0.3214 - val_accuracy: 0.8872\n",
      "Epoch 18/25\n",
      "1719/1719 [==============================] - 5s 3ms/step - loss: 0.2257 - accuracy: 0.9214 - val_loss: 0.3175 - val_accuracy: 0.8888\n",
      "Epoch 19/25\n",
      "1719/1719 [==============================] - 5s 3ms/step - loss: 0.2223 - accuracy: 0.9221 - val_loss: 0.3181 - val_accuracy: 0.8888\n",
      "Epoch 20/25\n",
      "1719/1719 [==============================] - 5s 3ms/step - loss: 0.2191 - accuracy: 0.9236 - val_loss: 0.3174 - val_accuracy: 0.8890\n",
      "Epoch 21/25\n",
      "1719/1719 [==============================] - 5s 3ms/step - loss: 0.2164 - accuracy: 0.9236 - val_loss: 0.3205 - val_accuracy: 0.8868\n",
      "Epoch 22/25\n",
      "1719/1719 [==============================] - 5s 3ms/step - loss: 0.2136 - accuracy: 0.9257 - val_loss: 0.3183 - val_accuracy: 0.8898\n",
      "Epoch 23/25\n",
      "1719/1719 [==============================] - 6s 3ms/step - loss: 0.2110 - accuracy: 0.9259 - val_loss: 0.3164 - val_accuracy: 0.8906\n",
      "Epoch 24/25\n",
      "1719/1719 [==============================] - 5s 3ms/step - loss: 0.2083 - accuracy: 0.9274 - val_loss: 0.3203 - val_accuracy: 0.8880\n",
      "Epoch 25/25\n",
      "1719/1719 [==============================] - 5s 3ms/step - loss: 0.2058 - accuracy: 0.9283 - val_loss: 0.3171 - val_accuracy: 0.8910\n"
     ]
    }
   ],
   "source": [
    "n_epochs = 25\n",
    "history = model.fit(X_train_scaled, y_train, epochs=n_epochs, validation_data=(X_valid_scaled, y_valid))"
   ]
  },
  {
   "cell_type": "code",
   "execution_count": 72,
   "id": "30ad3ff1-d453-4c0f-adc1-add9599efcbd",
   "metadata": {
    "scrolled": true,
    "tags": []
   },
   "outputs": [
    {
     "data": {
      "image/png": "[encoded data removed]",
      "text/plain": [
       "<Figure size 432x288 with 1 Axes>"
      ]
     },
     "metadata": {
      "needs_background": "light"
     },
     "output_type": "display_data"
    }
   ],
   "source": [
    "import math\n",
    "\n",
    "learning_rate = 0.01\n",
    "decay = 1e-4\n",
    "batch_size = 32\n",
    "n_steps_per_epoch = math.ceil(len(X_train) / batch_size)\n",
    "epochs = np.arange(n_epochs)\n",
    "lrs = learning_rate / (1 + decay * epochs * n_steps_per_epoch)\n",
    "plt.plot(epochs, lrs, \"o-\")\n",
    "plt.axis([0, n_epochs - 1, 0, 0.01])\n",
    "plt.xlabel(\"Epoch\")\n",
    "plt.ylabel(\"Learning Rate\")\n",
    "plt.title(\"Power Scheduling\", fontsize=14)\n",
    "plt.grid(True)\n",
    "plt.show()"
   ]
  },
  {
   "cell_type": "markdown",
   "id": "152ea458-a5cd-4d4e-9f9f-41c1f5531c4c",
   "metadata": {
    "tags": []
   },
   "source": [
    "### 지수 기반 스케줄링"
   ]
  },
  {
   "cell_type": "markdown",
   "id": "83c0f2fd-3780-46c2-8702-9adb0e018b4f",
   "metadata": {},
   "source": [
    "```lr = lr0 * 0.1**(epoch / s)```"
   ]
  },
  {
   "cell_type": "code",
   "execution_count": 73,
   "id": "a3e75cb7-dcaa-4455-9f99-ae540192f14e",
   "metadata": {
    "scrolled": true
   },
   "outputs": [],
   "source": [
    "def exponential_decay_fn(epoch):\n",
    "    return 0.01 * 0.1 ** (epoch / 20)"
   ]
  },
  {
   "cell_type": "code",
   "execution_count": 74,
   "id": "dcdad474-f606-4d6d-b785-622cc49781cc",
   "metadata": {
    "scrolled": true
   },
   "outputs": [],
   "source": [
    "def exponential_decay(lr0, s):\n",
    "    def exponential_decay_fn(epoch):\n",
    "        return lr0 * 0.1 ** (epoch / s)\n",
    "\n",
    "    return exponential_decay_fn\n",
    "\n",
    "\n",
    "exponential_decay_fn = exponential_decay(lr0=0.01, s=20)"
   ]
  },
  {
   "cell_type": "code",
   "execution_count": 75,
   "id": "881d775c-667b-41c8-b50b-c1a3a6276651",
   "metadata": {
    "scrolled": true
   },
   "outputs": [],
   "source": [
    "model = keras.models.Sequential(\n",
    "    [\n",
    "        keras.layers.Flatten(input_shape=[28, 28]),\n",
    "        keras.layers.Dense(300, activation=\"selu\", kernel_initializer=\"lecun_normal\"),\n",
    "        keras.layers.Dense(100, activation=\"selu\", kernel_initializer=\"lecun_normal\"),\n",
    "        keras.layers.Dense(10, activation=\"softmax\")\n",
    "    ]\n",
    ")\n",
    "model.compile(loss=\"sparse_categorical_crossentropy\", optimizer=\"nadam\", metrics=[\"accuracy\"])\n",
    "n_epochs = 25"
   ]
  },
  {
   "cell_type": "code",
   "execution_count": 76,
   "id": "c32a831a-b257-4c7b-b6f8-9a5c79e67234",
   "metadata": {
    "scrolled": true
   },
   "outputs": [
    {
     "name": "stdout",
     "output_type": "stream",
     "text": [
      "Epoch 1/25\n",
      "1719/1719 [==============================] - 11s 6ms/step - loss: 0.8497 - accuracy: 0.7563 - val_loss: 0.6575 - val_accuracy: 0.7736 - lr: 0.0100\n",
      "Epoch 2/25\n",
      "1719/1719 [==============================] - 10s 6ms/step - loss: 0.6686 - accuracy: 0.7973 - val_loss: 1.0110 - val_accuracy: 0.7736 - lr: 0.0089\n",
      "Epoch 3/25\n",
      "1719/1719 [==============================] - 10s 6ms/step - loss: 0.6185 - accuracy: 0.8166 - val_loss: 0.5210 - val_accuracy: 0.8432 - lr: 0.0079\n",
      "Epoch 4/25\n",
      "1719/1719 [==============================] - 10s 6ms/step - loss: 0.5373 - accuracy: 0.8344 - val_loss: 0.5975 - val_accuracy: 0.8320 - lr: 0.0071\n",
      "Epoch 5/25\n",
      "1719/1719 [==============================] - 10s 6ms/step - loss: 0.4847 - accuracy: 0.8498 - val_loss: 0.5387 - val_accuracy: 0.8492 - lr: 0.0063\n",
      "Epoch 6/25\n",
      "1719/1719 [==============================] - 10s 6ms/step - loss: 0.4462 - accuracy: 0.8596 - val_loss: 0.5480 - val_accuracy: 0.8544 - lr: 0.0056\n",
      "Epoch 7/25\n",
      "1719/1719 [==============================] - 10s 6ms/step - loss: 0.4129 - accuracy: 0.8674 - val_loss: 0.5018 - val_accuracy: 0.8520 - lr: 0.0050\n",
      "Epoch 8/25\n",
      "1719/1719 [==============================] - 10s 6ms/step - loss: 0.3726 - accuracy: 0.8768 - val_loss: 0.6030 - val_accuracy: 0.8678 - lr: 0.0045\n",
      "Epoch 9/25\n",
      "1719/1719 [==============================] - 10s 6ms/step - loss: 0.3636 - accuracy: 0.8828 - val_loss: 0.4348 - val_accuracy: 0.8724 - lr: 0.0040\n",
      "Epoch 10/25\n",
      "1719/1719 [==============================] - 10s 6ms/step - loss: 0.3233 - accuracy: 0.8923 - val_loss: 0.4797 - val_accuracy: 0.8590 - lr: 0.0035\n",
      "Epoch 11/25\n",
      "1719/1719 [==============================] - 11s 6ms/step - loss: 0.3027 - accuracy: 0.8975 - val_loss: 0.4846 - val_accuracy: 0.8706 - lr: 0.0032\n",
      "Epoch 12/25\n",
      "1719/1719 [==============================] - 10s 6ms/step - loss: 0.2826 - accuracy: 0.9042 - val_loss: 0.4897 - val_accuracy: 0.8756 - lr: 0.0028\n",
      "Epoch 13/25\n",
      "1719/1719 [==============================] - 10s 6ms/step - loss: 0.2585 - accuracy: 0.9115 - val_loss: 0.4510 - val_accuracy: 0.8818 - lr: 0.0025\n",
      "Epoch 14/25\n",
      "1719/1719 [==============================] - 10s 6ms/step - loss: 0.2411 - accuracy: 0.9171 - val_loss: 0.4902 - val_accuracy: 0.8762 - lr: 0.0022\n",
      "Epoch 15/25\n",
      "1719/1719 [==============================] - 10s 6ms/step - loss: 0.2205 - accuracy: 0.9219 - val_loss: 0.4662 - val_accuracy: 0.8826 - lr: 0.0020\n",
      "Epoch 16/25\n",
      "1719/1719 [==============================] - 10s 6ms/step - loss: 0.2069 - accuracy: 0.9271 - val_loss: 0.4615 - val_accuracy: 0.8808 - lr: 0.0018\n",
      "Epoch 17/25\n",
      "1719/1719 [==============================] - 10s 6ms/step - loss: 0.1954 - accuracy: 0.9301 - val_loss: 0.4884 - val_accuracy: 0.8790 - lr: 0.0016\n",
      "Epoch 18/25\n",
      "1719/1719 [==============================] - 10s 6ms/step - loss: 0.1787 - accuracy: 0.9376 - val_loss: 0.4546 - val_accuracy: 0.8868 - lr: 0.0014\n",
      "Epoch 19/25\n",
      "1719/1719 [==============================] - 10s 6ms/step - loss: 0.1661 - accuracy: 0.9419 - val_loss: 0.5094 - val_accuracy: 0.8862 - lr: 0.0013\n",
      "Epoch 20/25\n",
      "1719/1719 [==============================] - 10s 6ms/step - loss: 0.1559 - accuracy: 0.9458 - val_loss: 0.5091 - val_accuracy: 0.8830 - lr: 0.0011\n",
      "Epoch 21/25\n",
      "1719/1719 [==============================] - 10s 6ms/step - loss: 0.1446 - accuracy: 0.9496 - val_loss: 0.5042 - val_accuracy: 0.8858 - lr: 0.0010\n",
      "Epoch 22/25\n",
      "1719/1719 [==============================] - 10s 6ms/step - loss: 0.1345 - accuracy: 0.9538 - val_loss: 0.5103 - val_accuracy: 0.8908 - lr: 8.9125e-04\n",
      "Epoch 23/25\n",
      "1719/1719 [==============================] - 10s 6ms/step - loss: 0.1247 - accuracy: 0.9580 - val_loss: 0.5782 - val_accuracy: 0.8882 - lr: 7.9433e-04\n",
      "Epoch 24/25\n",
      "1719/1719 [==============================] - 10s 6ms/step - loss: 0.1156 - accuracy: 0.9610 - val_loss: 0.6035 - val_accuracy: 0.8890 - lr: 7.0795e-04\n",
      "Epoch 25/25\n",
      "1719/1719 [==============================] - 10s 6ms/step - loss: 0.1083 - accuracy: 0.9637 - val_loss: 0.6042 - val_accuracy: 0.8894 - lr: 6.3096e-04\n"
     ]
    }
   ],
   "source": [
    "lr_scheduler = keras.callbacks.LearningRateScheduler(exponential_decay_fn)\n",
    "history = model.fit(\n",
    "    X_train_scaled, y_train, epochs=n_epochs, validation_data=(X_valid_scaled, y_valid), callbacks=[lr_scheduler]\n",
    ")"
   ]
  },
  {
   "cell_type": "code",
   "execution_count": 77,
   "id": "1aaee461-77f1-4098-8d83-bdf964e4bb3a",
   "metadata": {
    "scrolled": true,
    "tags": []
   },
   "outputs": [
    {
     "data": {
      "image/png": "[encoded data removed]",
      "text/plain": [
       "<Figure size 432x288 with 1 Axes>"
      ]
     },
     "metadata": {
      "needs_background": "light"
     },
     "output_type": "display_data"
    }
   ],
   "source": [
    "plt.plot(history.epoch, history.history[\"lr\"], \"o-\")\n",
    "plt.axis([0, n_epochs - 1, 0, 0.011])\n",
    "plt.xlabel(\"Epoch\")\n",
    "plt.ylabel(\"Learning Rate\")\n",
    "plt.title(\"Exponential Scheduling\", fontsize=14)\n",
    "plt.grid(True)\n",
    "plt.show()"
   ]
  },
  {
   "cell_type": "markdown",
   "id": "9c8ac302-91e0-4ef1-8cd0-8c1fc6bc293d",
   "metadata": {},
   "source": [
    "이 스케줄 함수는 두 번째 매개변수로 현재 학습률을 받을 수 있다:"
   ]
  },
  {
   "cell_type": "code",
   "execution_count": 78,
   "id": "c4bd1a3b-4a21-42af-b44b-1a86be58597c",
   "metadata": {
    "scrolled": true
   },
   "outputs": [],
   "source": [
    "def exponential_decay_fn(epoch, lr):\n",
    "    return lr * 0.1 ** (1 / 20)"
   ]
  },
  {
   "cell_type": "markdown",
   "id": "2b55eb3e-4ace-450b-8cc3-30c652267677",
   "metadata": {},
   "source": [
    "에포크가 아니라 반복마다 학습률을 업데이트하려면 사용자 정의 콜백 클래스를 작성해야 한다:"
   ]
  },
  {
   "cell_type": "code",
   "execution_count": 79,
   "id": "fce13a21-be42-4860-bbb5-f1266d982ad0",
   "metadata": {
    "scrolled": true
   },
   "outputs": [
    {
     "name": "stdout",
     "output_type": "stream",
     "text": [
      "Epoch 1/25\n",
      "1719/1719 [==============================] - 12s 7ms/step - loss: 0.7835 - accuracy: 0.7706 - val_loss: 0.6129 - val_accuracy: 0.8318 - lr: 0.0089\n",
      "Epoch 2/25\n",
      "1719/1719 [==============================] - 11s 7ms/step - loss: 0.6409 - accuracy: 0.8025 - val_loss: 0.5735 - val_accuracy: 0.8374 - lr: 0.0079\n",
      "Epoch 3/25\n",
      "1719/1719 [==============================] - 11s 7ms/step - loss: 0.5564 - accuracy: 0.8255 - val_loss: 0.4960 - val_accuracy: 0.8458 - lr: 0.0071\n",
      "Epoch 4/25\n",
      "1719/1719 [==============================] - 11s 7ms/step - loss: 0.5445 - accuracy: 0.8313 - val_loss: 0.6474 - val_accuracy: 0.8388 - lr: 0.0063\n",
      "Epoch 5/25\n",
      "1719/1719 [==============================] - 11s 7ms/step - loss: 0.4682 - accuracy: 0.8521 - val_loss: 0.4911 - val_accuracy: 0.8496 - lr: 0.0056\n",
      "Epoch 6/25\n",
      "1719/1719 [==============================] - 11s 7ms/step - loss: 0.4244 - accuracy: 0.8650 - val_loss: 0.5434 - val_accuracy: 0.8434 - lr: 0.0050\n",
      "Epoch 7/25\n",
      "1719/1719 [==============================] - 11s 7ms/step - loss: 0.3943 - accuracy: 0.8725 - val_loss: 0.4733 - val_accuracy: 0.8640 - lr: 0.0045\n",
      "Epoch 8/25\n",
      "1719/1719 [==============================] - 11s 7ms/step - loss: 0.3540 - accuracy: 0.8828 - val_loss: 0.4175 - val_accuracy: 0.8760 - lr: 0.0040\n",
      "Epoch 9/25\n",
      "1719/1719 [==============================] - 11s 7ms/step - loss: 0.3283 - accuracy: 0.8902 - val_loss: 0.5139 - val_accuracy: 0.8692 - lr: 0.0035\n",
      "Epoch 10/25\n",
      "1719/1719 [==============================] - 11s 7ms/step - loss: 0.3093 - accuracy: 0.8979 - val_loss: 0.4690 - val_accuracy: 0.8740 - lr: 0.0032\n",
      "Epoch 11/25\n",
      "1719/1719 [==============================] - 11s 7ms/step - loss: 0.2862 - accuracy: 0.9035 - val_loss: 0.4762 - val_accuracy: 0.8734 - lr: 0.0028\n",
      "Epoch 12/25\n",
      "1719/1719 [==============================] - 11s 7ms/step - loss: 0.2615 - accuracy: 0.9126 - val_loss: 0.4971 - val_accuracy: 0.8792 - lr: 0.0025\n",
      "Epoch 13/25\n",
      "1719/1719 [==============================] - 11s 7ms/step - loss: 0.2414 - accuracy: 0.9185 - val_loss: 0.4720 - val_accuracy: 0.8834 - lr: 0.0022\n",
      "Epoch 14/25\n",
      "1719/1719 [==============================] - 11s 7ms/step - loss: 0.2268 - accuracy: 0.9243 - val_loss: 0.4489 - val_accuracy: 0.8838 - lr: 0.0020\n",
      "Epoch 15/25\n",
      "1719/1719 [==============================] - 11s 7ms/step - loss: 0.2106 - accuracy: 0.9297 - val_loss: 0.4691 - val_accuracy: 0.8846 - lr: 0.0018\n",
      "Epoch 16/25\n",
      "1719/1719 [==============================] - 11s 7ms/step - loss: 0.1961 - accuracy: 0.9339 - val_loss: 0.4627 - val_accuracy: 0.8844 - lr: 0.0016\n",
      "Epoch 17/25\n",
      "1719/1719 [==============================] - 11s 7ms/step - loss: 0.1800 - accuracy: 0.9392 - val_loss: 0.4932 - val_accuracy: 0.8824 - lr: 0.0014\n",
      "Epoch 18/25\n",
      "1719/1719 [==============================] - 11s 7ms/step - loss: 0.1700 - accuracy: 0.9424 - val_loss: 0.4921 - val_accuracy: 0.8870 - lr: 0.0013\n",
      "Epoch 19/25\n",
      "1719/1719 [==============================] - 11s 7ms/step - loss: 0.1542 - accuracy: 0.9487 - val_loss: 0.5296 - val_accuracy: 0.8836 - lr: 0.0011\n",
      "Epoch 20/25\n",
      "1719/1719 [==============================] - 11s 6ms/step - loss: 0.1443 - accuracy: 0.9520 - val_loss: 0.5940 - val_accuracy: 0.8824 - lr: 9.9967e-04\n",
      "Epoch 21/25\n",
      "1719/1719 [==============================] - 11s 7ms/step - loss: 0.1339 - accuracy: 0.9561 - val_loss: 0.5557 - val_accuracy: 0.8856 - lr: 8.9094e-04\n",
      "Epoch 22/25\n",
      "1719/1719 [==============================] - 11s 6ms/step - loss: 0.1261 - accuracy: 0.9585 - val_loss: 0.5698 - val_accuracy: 0.8880 - lr: 7.9404e-04\n",
      "Epoch 23/25\n",
      "1719/1719 [==============================] - 11s 7ms/step - loss: 0.1188 - accuracy: 0.9611 - val_loss: 0.6010 - val_accuracy: 0.8866 - lr: 7.0767e-04\n",
      "Epoch 24/25\n",
      "1719/1719 [==============================] - 11s 6ms/step - loss: 0.1109 - accuracy: 0.9644 - val_loss: 0.6268 - val_accuracy: 0.8876 - lr: 6.3071e-04\n",
      "Epoch 25/25\n",
      "1719/1719 [==============================] - 11s 7ms/step - loss: 0.1049 - accuracy: 0.9665 - val_loss: 0.6412 - val_accuracy: 0.8880 - lr: 5.6211e-04\n"
     ]
    }
   ],
   "source": [
    "K = keras.backend\n",
    "\n",
    "\n",
    "class ExponentialDecay(keras.callbacks.Callback):\n",
    "    def __init__(self, s=40000):\n",
    "        super().__init__()\n",
    "        self.s = s\n",
    "\n",
    "    def on_batch_begin(self, batch, logs=None):\n",
    "        # 노트: 에포크마다 `batch` 매개변수가 재설정된다\n",
    "        lr = K.get_value(self.model.optimizer.lr)\n",
    "        K.set_value(self.model.optimizer.lr, lr * 0.1 ** (1 / self.s))\n",
    "\n",
    "    def on_epoch_end(self, epoch, logs=None):\n",
    "        logs = logs or {}\n",
    "        logs[\"lr\"] = K.get_value(self.model.optimizer.lr)\n",
    "\n",
    "\n",
    "model = keras.models.Sequential(\n",
    "    [\n",
    "        keras.layers.Flatten(input_shape=[28, 28]),\n",
    "        keras.layers.Dense(300, activation=\"selu\", kernel_initializer=\"lecun_normal\"),\n",
    "        keras.layers.Dense(100, activation=\"selu\", kernel_initializer=\"lecun_normal\"),\n",
    "        keras.layers.Dense(10, activation=\"softmax\")\n",
    "    ]\n",
    ")\n",
    "lr0 = 0.01\n",
    "optimizer = keras.optimizers.Nadam(learning_rate=lr0)\n",
    "model.compile(loss=\"sparse_categorical_crossentropy\", optimizer=optimizer, metrics=[\"accuracy\"])\n",
    "n_epochs = 25\n",
    "s = 20 * len(X_train) // 32  # 20 에포크 동안 스텝 횟수 (배치 크기 = 32)\n",
    "exp_decay = ExponentialDecay(s)\n",
    "history = model.fit(\n",
    "    X_train_scaled, y_train, epochs=n_epochs, validation_data=(X_valid_scaled, y_valid), callbacks=[exp_decay]\n",
    ")"
   ]
  },
  {
   "cell_type": "code",
   "execution_count": 80,
   "id": "217f50a1-5c53-4fae-9e4f-e9aee4519028",
   "metadata": {
    "scrolled": true,
    "tags": []
   },
   "outputs": [],
   "source": [
    "n_steps = n_epochs * len(X_train) // 32\n",
    "steps = np.arange(n_steps)\n",
    "lrs = lr0 * 0.1 ** (steps / s)"
   ]
  },
  {
   "cell_type": "code",
   "execution_count": 81,
   "id": "74e60567-cc36-4ac0-845e-1df8ec86b700",
   "metadata": {
    "scrolled": true
   },
   "outputs": [
    {
     "data": {
      "image/png": "[encoded data removed]",
      "text/plain": [
       "<Figure size 432x288 with 1 Axes>"
      ]
     },
     "metadata": {
      "needs_background": "light"
     },
     "output_type": "display_data"
    }
   ],
   "source": [
    "plt.plot(steps, lrs, '-', linewidth=2)\n",
    "plt.axis([0, n_steps - 1, 0, lr0 * 1.1])\n",
    "plt.xlabel(\"Batch\")\n",
    "plt.ylabel(\"Learning Rate\")\n",
    "plt.title(\"Exponential Scheduling (per batch)\", fontsize=14)\n",
    "plt.grid(True)\n",
    "plt.show()"
   ]
  },
  {
   "cell_type": "markdown",
   "id": "1aec5ebe-63e0-4abf-b7d9-b016a64a4379",
   "metadata": {},
   "source": [
    "### 기간별 고정 스케줄링"
   ]
  },
  {
   "cell_type": "code",
   "execution_count": 82,
   "id": "601f195c-a0f3-4fed-8823-2d0a8e1311c9",
   "metadata": {
    "scrolled": true
   },
   "outputs": [],
   "source": [
    "def piecewise_constant_fn(epoch):\n",
    "    if epoch < 5:\n",
    "        return 0.01\n",
    "    elif epoch < 15:\n",
    "        return 0.005\n",
    "    else:\n",
    "        return 0.001"
   ]
  },
  {
   "cell_type": "code",
   "execution_count": 83,
   "id": "b10a03c1-f309-4b1d-9f87-8e8694bbe911",
   "metadata": {
    "scrolled": true
   },
   "outputs": [],
   "source": [
    "def piecewise_constant(boundaries, values):\n",
    "    boundaries = np.array([0] + boundaries)\n",
    "    values = np.array(values)\n",
    "\n",
    "    def piecewise_constant_fn(epoch):\n",
    "        return values[np.argmax(boundaries > epoch) - 1]\n",
    "\n",
    "    return piecewise_constant_fn\n",
    "\n",
    "\n",
    "piecewise_constant_fn = piecewise_constant([5, 15], [0.01, 0.005, 0.001])"
   ]
  },
  {
   "cell_type": "code",
   "execution_count": 84,
   "id": "20bb3a14-d760-403f-b6f4-9fb6280de089",
   "metadata": {
    "scrolled": true
   },
   "outputs": [
    {
     "name": "stdout",
     "output_type": "stream",
     "text": [
      "Epoch 1/25\n",
      "1719/1719 [==============================] - 11s 6ms/step - loss: 0.8674 - accuracy: 0.7543 - val_loss: 1.3700 - val_accuracy: 0.6676 - lr: 0.0100\n",
      "Epoch 2/25\n",
      "1719/1719 [==============================] - 10s 6ms/step - loss: 0.8825 - accuracy: 0.7514 - val_loss: 1.4596 - val_accuracy: 0.6264 - lr: 0.0100\n",
      "Epoch 3/25\n",
      "1719/1719 [==============================] - 10s 6ms/step - loss: 0.9536 - accuracy: 0.7135 - val_loss: 1.2685 - val_accuracy: 0.6748 - lr: 0.0100\n",
      "Epoch 4/25\n",
      "1719/1719 [==============================] - 10s 6ms/step - loss: 0.9968 - accuracy: 0.7026 - val_loss: 1.2639 - val_accuracy: 0.6070 - lr: 0.0100\n",
      "Epoch 5/25\n",
      "1719/1719 [==============================] - 10s 6ms/step - loss: 1.1840 - accuracy: 0.5992 - val_loss: 1.1090 - val_accuracy: 0.5782 - lr: 0.0100\n",
      "Epoch 6/25\n",
      "1719/1719 [==============================] - 10s 6ms/step - loss: 0.9424 - accuracy: 0.6129 - val_loss: 0.9913 - val_accuracy: 0.6316 - lr: 0.0050\n",
      "Epoch 7/25\n",
      "1719/1719 [==============================] - 10s 6ms/step - loss: 0.8564 - accuracy: 0.6552 - val_loss: 0.8978 - val_accuracy: 0.6872 - lr: 0.0050\n",
      "Epoch 8/25\n",
      "1719/1719 [==============================] - 10s 6ms/step - loss: 0.7596 - accuracy: 0.7269 - val_loss: 0.6993 - val_accuracy: 0.7794 - lr: 0.0050\n",
      "Epoch 9/25\n",
      "1719/1719 [==============================] - 11s 6ms/step - loss: 0.6240 - accuracy: 0.8012 - val_loss: 0.6038 - val_accuracy: 0.8404 - lr: 0.0050\n",
      "Epoch 10/25\n",
      "1719/1719 [==============================] - 10s 6ms/step - loss: 0.5764 - accuracy: 0.8281 - val_loss: 0.5682 - val_accuracy: 0.8380 - lr: 0.0050\n",
      "Epoch 11/25\n",
      "1719/1719 [==============================] - 10s 6ms/step - loss: 0.5480 - accuracy: 0.8337 - val_loss: 0.6600 - val_accuracy: 0.8372 - lr: 0.0050\n",
      "Epoch 12/25\n",
      "1719/1719 [==============================] - 10s 6ms/step - loss: 0.5377 - accuracy: 0.8381 - val_loss: 0.7483 - val_accuracy: 0.8164 - lr: 0.0050\n",
      "Epoch 13/25\n",
      "1719/1719 [==============================] - 10s 6ms/step - loss: 0.4933 - accuracy: 0.8484 - val_loss: 0.6744 - val_accuracy: 0.8376 - lr: 0.0050\n",
      "Epoch 14/25\n",
      "1719/1719 [==============================] - 10s 6ms/step - loss: 0.4735 - accuracy: 0.8536 - val_loss: 0.7506 - val_accuracy: 0.8444 - lr: 0.0050\n",
      "Epoch 15/25\n",
      "1719/1719 [==============================] - 10s 6ms/step - loss: 0.4925 - accuracy: 0.8532 - val_loss: 0.6598 - val_accuracy: 0.8338 - lr: 0.0050\n",
      "Epoch 16/25\n",
      "1719/1719 [==============================] - 10s 6ms/step - loss: 0.3531 - accuracy: 0.8842 - val_loss: 0.5059 - val_accuracy: 0.8700 - lr: 0.0010\n",
      "Epoch 17/25\n",
      "1719/1719 [==============================] - 10s 6ms/step - loss: 0.3195 - accuracy: 0.8919 - val_loss: 0.4906 - val_accuracy: 0.8694 - lr: 0.0010\n",
      "Epoch 18/25\n",
      "1719/1719 [==============================] - 10s 6ms/step - loss: 0.2912 - accuracy: 0.8970 - val_loss: 0.4941 - val_accuracy: 0.8650 - lr: 0.0010\n",
      "Epoch 19/25\n",
      "1719/1719 [==============================] - 10s 6ms/step - loss: 0.2733 - accuracy: 0.9025 - val_loss: 0.4820 - val_accuracy: 0.8742 - lr: 0.0010\n",
      "Epoch 20/25\n",
      "1719/1719 [==============================] - 10s 6ms/step - loss: 0.2572 - accuracy: 0.9081 - val_loss: 0.4893 - val_accuracy: 0.8696 - lr: 0.0010\n",
      "Epoch 21/25\n",
      "1719/1719 [==============================] - 10s 6ms/step - loss: 0.2420 - accuracy: 0.9128 - val_loss: 0.4943 - val_accuracy: 0.8782 - lr: 0.0010\n",
      "Epoch 22/25\n",
      "1719/1719 [==============================] - 10s 6ms/step - loss: 0.2284 - accuracy: 0.9153 - val_loss: 0.4909 - val_accuracy: 0.8746 - lr: 0.0010\n",
      "Epoch 23/25\n",
      "1719/1719 [==============================] - 10s 6ms/step - loss: 0.2186 - accuracy: 0.9192 - val_loss: 0.4995 - val_accuracy: 0.8774 - lr: 0.0010\n",
      "Epoch 24/25\n",
      "1719/1719 [==============================] - 10s 6ms/step - loss: 0.2112 - accuracy: 0.9221 - val_loss: 0.5277 - val_accuracy: 0.8802 - lr: 0.0010\n",
      "Epoch 25/25\n",
      "1719/1719 [==============================] - 10s 6ms/step - loss: 0.2024 - accuracy: 0.9246 - val_loss: 0.5483 - val_accuracy: 0.8812 - lr: 0.0010\n"
     ]
    }
   ],
   "source": [
    "lr_scheduler = keras.callbacks.LearningRateScheduler(piecewise_constant_fn)\n",
    "model = keras.models.Sequential(\n",
    "    [\n",
    "        keras.layers.Flatten(input_shape=[28, 28]),\n",
    "        keras.layers.Dense(300, activation=\"selu\", kernel_initializer=\"lecun_normal\"),\n",
    "        keras.layers.Dense(100, activation=\"selu\", kernel_initializer=\"lecun_normal\"),\n",
    "        keras.layers.Dense(10, activation=\"softmax\")\n",
    "    ]\n",
    ")\n",
    "model.compile(loss=\"sparse_categorical_crossentropy\", optimizer=\"nadam\", metrics=[\"accuracy\"])\n",
    "n_epochs = 25\n",
    "history = model.fit(\n",
    "    X_train_scaled, y_train, epochs=n_epochs, validation_data=(X_valid_scaled, y_valid), callbacks=[lr_scheduler]\n",
    ")"
   ]
  },
  {
   "cell_type": "code",
   "execution_count": 85,
   "id": "950448ad-faf1-42d9-a7d4-eca0279a72ab",
   "metadata": {
    "scrolled": true,
    "tags": []
   },
   "outputs": [
    {
     "data": {
      "image/png": "[encoded data removed]",
      "text/plain": [
       "<Figure size 432x288 with 1 Axes>"
      ]
     },
     "metadata": {
      "needs_background": "light"
     },
     "output_type": "display_data"
    }
   ],
   "source": [
    "plt.plot(history.epoch, [piecewise_constant_fn(epoch) for epoch in history.epoch], \"o-\")\n",
    "plt.axis([0, n_epochs - 1, 0, 0.011])\n",
    "plt.xlabel(\"Epoch\")\n",
    "plt.ylabel(\"Learning Rate\")\n",
    "plt.title(\"Piecewise Constant Scheduling\", fontsize=14)\n",
    "plt.grid(True)\n",
    "plt.show()"
   ]
  },
  {
   "cell_type": "code",
   "execution_count": 86,
   "id": "6f5f21b3-3db2-4fb3-8dba-6b5554cc4b88",
   "metadata": {
    "scrolled": true
   },
   "outputs": [
    {
     "name": "stdout",
     "output_type": "stream",
     "text": [
      "Epoch 1/25\n",
      "1719/1719 [==============================] - 7s 4ms/step - loss: 0.5937 - accuracy: 0.8067 - val_loss: 0.4505 - val_accuracy: 0.8496 - lr: 0.0200\n",
      "Epoch 2/25\n",
      "1719/1719 [==============================] - 6s 3ms/step - loss: 0.5173 - accuracy: 0.8361 - val_loss: 0.8330 - val_accuracy: 0.8252 - lr: 0.0200\n",
      "Epoch 3/25\n",
      "1719/1719 [==============================] - 6s 3ms/step - loss: 0.5107 - accuracy: 0.8426 - val_loss: 0.5864 - val_accuracy: 0.8604 - lr: 0.0200\n",
      "Epoch 4/25\n",
      "1719/1719 [==============================] - 6s 3ms/step - loss: 0.5301 - accuracy: 0.8452 - val_loss: 0.6649 - val_accuracy: 0.8138 - lr: 0.0200\n",
      "Epoch 5/25\n",
      "1719/1719 [==============================] - 6s 3ms/step - loss: 0.5472 - accuracy: 0.8465 - val_loss: 0.7150 - val_accuracy: 0.8306 - lr: 0.0200\n",
      "Epoch 6/25\n",
      "1719/1719 [==============================] - 6s 3ms/step - loss: 0.5304 - accuracy: 0.8508 - val_loss: 0.5077 - val_accuracy: 0.8466 - lr: 0.0200\n",
      "Epoch 7/25\n",
      "1719/1719 [==============================] - 6s 3ms/step - loss: 0.3111 - accuracy: 0.8918 - val_loss: 0.3762 - val_accuracy: 0.8836 - lr: 0.0100\n",
      "Epoch 8/25\n",
      "1719/1719 [==============================] - 6s 3ms/step - loss: 0.2582 - accuracy: 0.9073 - val_loss: 0.4065 - val_accuracy: 0.8824 - lr: 0.0100\n",
      "Epoch 9/25\n",
      "1719/1719 [==============================] - 6s 3ms/step - loss: 0.2416 - accuracy: 0.9108 - val_loss: 0.4093 - val_accuracy: 0.8820 - lr: 0.0100\n",
      "Epoch 10/25\n",
      "1719/1719 [==============================] - 6s 3ms/step - loss: 0.2287 - accuracy: 0.9166 - val_loss: 0.4502 - val_accuracy: 0.8632 - lr: 0.0100\n",
      "Epoch 11/25\n",
      "1719/1719 [==============================] - 6s 3ms/step - loss: 0.2121 - accuracy: 0.9210 - val_loss: 0.4168 - val_accuracy: 0.8842 - lr: 0.0100\n",
      "Epoch 12/25\n",
      "1719/1719 [==============================] - 6s 4ms/step - loss: 0.2028 - accuracy: 0.9246 - val_loss: 0.4801 - val_accuracy: 0.8772 - lr: 0.0100\n",
      "Epoch 13/25\n",
      "1719/1719 [==============================] - 6s 3ms/step - loss: 0.1429 - accuracy: 0.9436 - val_loss: 0.4063 - val_accuracy: 0.8932 - lr: 0.0050\n",
      "Epoch 14/25\n",
      "1719/1719 [==============================] - 6s 3ms/step - loss: 0.1246 - accuracy: 0.9514 - val_loss: 0.4177 - val_accuracy: 0.8954 - lr: 0.0050\n",
      "Epoch 15/25\n",
      "1719/1719 [==============================] - 6s 3ms/step - loss: 0.1172 - accuracy: 0.9541 - val_loss: 0.4291 - val_accuracy: 0.8956 - lr: 0.0050\n",
      "Epoch 16/25\n",
      "1719/1719 [==============================] - 6s 3ms/step - loss: 0.1103 - accuracy: 0.9572 - val_loss: 0.4587 - val_accuracy: 0.8918 - lr: 0.0050\n",
      "Epoch 17/25\n",
      "1719/1719 [==============================] - 6s 4ms/step - loss: 0.1020 - accuracy: 0.9603 - val_loss: 0.4730 - val_accuracy: 0.8890 - lr: 0.0050\n",
      "Epoch 18/25\n",
      "1719/1719 [==============================] - 6s 4ms/step - loss: 0.0797 - accuracy: 0.9702 - val_loss: 0.4749 - val_accuracy: 0.8980 - lr: 0.0025\n",
      "Epoch 19/25\n",
      "1719/1719 [==============================] - 6s 4ms/step - loss: 0.0737 - accuracy: 0.9721 - val_loss: 0.4806 - val_accuracy: 0.8960 - lr: 0.0025\n",
      "Epoch 20/25\n",
      "1719/1719 [==============================] - 7s 4ms/step - loss: 0.0685 - accuracy: 0.9748 - val_loss: 0.4869 - val_accuracy: 0.8928 - lr: 0.0025\n",
      "Epoch 21/25\n",
      "1719/1719 [==============================] - 7s 4ms/step - loss: 0.0644 - accuracy: 0.9762 - val_loss: 0.5000 - val_accuracy: 0.8976 - lr: 0.0025\n",
      "Epoch 22/25\n",
      "1719/1719 [==============================] - 6s 4ms/step - loss: 0.0610 - accuracy: 0.9784 - val_loss: 0.5149 - val_accuracy: 0.8948 - lr: 0.0025\n",
      "Epoch 23/25\n",
      "1719/1719 [==============================] - 6s 3ms/step - loss: 0.0517 - accuracy: 0.9825 - val_loss: 0.5210 - val_accuracy: 0.8972 - lr: 0.0012\n",
      "Epoch 24/25\n",
      "1719/1719 [==============================] - 6s 3ms/step - loss: 0.0492 - accuracy: 0.9835 - val_loss: 0.5261 - val_accuracy: 0.8954 - lr: 0.0012\n",
      "Epoch 25/25\n",
      "1719/1719 [==============================] - 6s 4ms/step - loss: 0.0473 - accuracy: 0.9850 - val_loss: 0.5370 - val_accuracy: 0.8960 - lr: 0.0012\n"
     ]
    }
   ],
   "source": [
    "lr_scheduler = keras.callbacks.ReduceLROnPlateau(factor=0.5, patience=5)\n",
    "model = keras.models.Sequential(\n",
    "    [\n",
    "        keras.layers.Flatten(input_shape=[28, 28]),\n",
    "        keras.layers.Dense(300, activation=\"selu\", kernel_initializer=\"lecun_normal\"),\n",
    "        keras.layers.Dense(100, activation=\"selu\", kernel_initializer=\"lecun_normal\"),\n",
    "        keras.layers.Dense(10, activation=\"softmax\")\n",
    "    ]\n",
    ")\n",
    "optimizer = keras.optimizers.SGD(learning_rate=0.02, momentum=0.9)\n",
    "model.compile(loss=\"sparse_categorical_crossentropy\", optimizer=optimizer, metrics=[\"accuracy\"])\n",
    "n_epochs = 25\n",
    "history = model.fit(\n",
    "    X_train_scaled, y_train, epochs=n_epochs, validation_data=(X_valid_scaled, y_valid), callbacks=[lr_scheduler]\n",
    ")"
   ]
  },
  {
   "cell_type": "code",
   "execution_count": 87,
   "id": "092c4d92-f8ea-48aa-858d-8112a1dba9db",
   "metadata": {
    "scrolled": true,
    "tags": []
   },
   "outputs": [
    {
     "data": {
      "image/png": "[encoded data removed]",
      "text/plain": [
       "<Figure size 432x288 with 2 Axes>"
      ]
     },
     "metadata": {
      "needs_background": "light"
     },
     "output_type": "display_data"
    }
   ],
   "source": [
    "plt.plot(history.epoch, history.history[\"lr\"], \"bo-\")\n",
    "plt.xlabel(\"Epoch\")\n",
    "plt.ylabel(\"Learning Rate\", color='b')\n",
    "plt.tick_params('y', colors='b')\n",
    "plt.gca().set_xlim(0, n_epochs - 1)\n",
    "plt.grid(True)\n",
    "ax2 = plt.gca().twinx()\n",
    "ax2.plot(history.epoch, history.history[\"val_loss\"], \"r^-\")\n",
    "ax2.set_ylabel(\"Validation Loss\", color='r')\n",
    "ax2.tick_params('y', colors='r')\n",
    "plt.title(\"Reduce LR on Plateau\", fontsize=14)\n",
    "plt.show()"
   ]
  },
  {
   "cell_type": "markdown",
   "id": "7632be89-d5ab-46fd-ac94-75323f26cbcc",
   "metadata": {},
   "source": [
    "### tf.keras 스케줄러"
   ]
  },
  {
   "cell_type": "code",
   "execution_count": 89,
   "id": "760e1961-1412-46e7-9a44-3f3934123d16",
   "metadata": {
    "scrolled": true
   },
   "outputs": [
    {
     "name": "stdout",
     "output_type": "stream",
     "text": [
      "Epoch 1/25\n",
      "1719/1719 [==============================] - 6s 4ms/step - loss: 0.4928 - accuracy: 0.8270 - val_loss: 0.4067 - val_accuracy: 0.8560\n",
      "Epoch 2/25\n",
      "1719/1719 [==============================] - 6s 4ms/step - loss: 0.3813 - accuracy: 0.8650 - val_loss: 0.3824 - val_accuracy: 0.8628\n",
      "Epoch 3/25\n",
      "1719/1719 [==============================] - 6s 4ms/step - loss: 0.3475 - accuracy: 0.8765 - val_loss: 0.3621 - val_accuracy: 0.8716\n",
      "Epoch 4/25\n",
      "1719/1719 [==============================] - 6s 4ms/step - loss: 0.3251 - accuracy: 0.8841 - val_loss: 0.3483 - val_accuracy: 0.8796\n",
      "Epoch 5/25\n",
      "1719/1719 [==============================] - 6s 3ms/step - loss: 0.3091 - accuracy: 0.8906 - val_loss: 0.3465 - val_accuracy: 0.8810\n",
      "Epoch 6/25\n",
      "1719/1719 [==============================] - 6s 4ms/step - loss: 0.2959 - accuracy: 0.8950 - val_loss: 0.3396 - val_accuracy: 0.8814\n",
      "Epoch 7/25\n",
      "1719/1719 [==============================] - 6s 4ms/step - loss: 0.2849 - accuracy: 0.8987 - val_loss: 0.3338 - val_accuracy: 0.8854\n",
      "Epoch 8/25\n",
      "1719/1719 [==============================] - 6s 3ms/step - loss: 0.2758 - accuracy: 0.9020 - val_loss: 0.3307 - val_accuracy: 0.8884\n",
      "Epoch 9/25\n",
      "1719/1719 [==============================] - 6s 3ms/step - loss: 0.2681 - accuracy: 0.9054 - val_loss: 0.3281 - val_accuracy: 0.8842\n",
      "Epoch 10/25\n",
      "1719/1719 [==============================] - 6s 3ms/step - loss: 0.2612 - accuracy: 0.9075 - val_loss: 0.3279 - val_accuracy: 0.8884\n",
      "Epoch 11/25\n",
      "1719/1719 [==============================] - 6s 3ms/step - loss: 0.2552 - accuracy: 0.9100 - val_loss: 0.3260 - val_accuracy: 0.8846\n",
      "Epoch 12/25\n",
      "1719/1719 [==============================] - 6s 3ms/step - loss: 0.2501 - accuracy: 0.9121 - val_loss: 0.3241 - val_accuracy: 0.8860\n",
      "Epoch 13/25\n",
      "1719/1719 [==============================] - 6s 4ms/step - loss: 0.2455 - accuracy: 0.9135 - val_loss: 0.3230 - val_accuracy: 0.8882\n",
      "Epoch 14/25\n",
      "1719/1719 [==============================] - 6s 3ms/step - loss: 0.2413 - accuracy: 0.9152 - val_loss: 0.3190 - val_accuracy: 0.8912\n",
      "Epoch 15/25\n",
      "1719/1719 [==============================] - 6s 3ms/step - loss: 0.2379 - accuracy: 0.9169 - val_loss: 0.3190 - val_accuracy: 0.8894\n",
      "Epoch 16/25\n",
      "1719/1719 [==============================] - 6s 3ms/step - loss: 0.2347 - accuracy: 0.9172 - val_loss: 0.3202 - val_accuracy: 0.8906\n",
      "Epoch 17/25\n",
      "1719/1719 [==============================] - 6s 3ms/step - loss: 0.2319 - accuracy: 0.9190 - val_loss: 0.3176 - val_accuracy: 0.8914\n",
      "Epoch 18/25\n",
      "1719/1719 [==============================] - 6s 4ms/step - loss: 0.2294 - accuracy: 0.9198 - val_loss: 0.3161 - val_accuracy: 0.8914\n",
      "Epoch 19/25\n",
      "1719/1719 [==============================] - 6s 4ms/step - loss: 0.2269 - accuracy: 0.9211 - val_loss: 0.3182 - val_accuracy: 0.8894\n",
      "Epoch 20/25\n",
      "1719/1719 [==============================] - 6s 3ms/step - loss: 0.2251 - accuracy: 0.9219 - val_loss: 0.3168 - val_accuracy: 0.8922\n",
      "Epoch 21/25\n",
      "1719/1719 [==============================] - 6s 4ms/step - loss: 0.2234 - accuracy: 0.9223 - val_loss: 0.3167 - val_accuracy: 0.8912\n",
      "Epoch 22/25\n",
      "1719/1719 [==============================] - 6s 3ms/step - loss: 0.2218 - accuracy: 0.9234 - val_loss: 0.3165 - val_accuracy: 0.8904\n",
      "Epoch 23/25\n",
      "1719/1719 [==============================] - 6s 3ms/step - loss: 0.2201 - accuracy: 0.9237 - val_loss: 0.3193 - val_accuracy: 0.8908\n",
      "Epoch 24/25\n",
      "1719/1719 [==============================] - 6s 3ms/step - loss: 0.2191 - accuracy: 0.9244 - val_loss: 0.3164 - val_accuracy: 0.8918\n",
      "Epoch 25/25\n",
      "1719/1719 [==============================] - 6s 3ms/step - loss: 0.2180 - accuracy: 0.9243 - val_loss: 0.3157 - val_accuracy: 0.8926\n"
     ]
    }
   ],
   "source": [
    "model = keras.models.Sequential(\n",
    "    [\n",
    "        keras.layers.Flatten(input_shape=[28, 28]),\n",
    "        keras.layers.Dense(300, activation=\"selu\", kernel_initializer=\"lecun_normal\"),\n",
    "        keras.layers.Dense(100, activation=\"selu\", kernel_initializer=\"lecun_normal\"),\n",
    "        keras.layers.Dense(10, activation=\"softmax\")\n",
    "    ]\n",
    ")\n",
    "s = 20 * len(X_train) // 32  # number of steps in 20 epochs (batch size = 32)\n",
    "learning_rate = keras.optimizers.schedules.ExponentialDecay(0.01, s, 0.1)\n",
    "optimizer = keras.optimizers.SGD(learning_rate)\n",
    "model.compile(loss=\"sparse_categorical_crossentropy\", optimizer=optimizer, metrics=[\"accuracy\"])\n",
    "n_epochs = 25\n",
    "history = model.fit(X_train_scaled, y_train, epochs=n_epochs, validation_data=(X_valid_scaled, y_valid))"
   ]
  },
  {
   "cell_type": "markdown",
   "id": "fd7329a7-8f90-4502-9109-151cf2adcac8",
   "metadata": {
    "tags": []
   },
   "source": [
    "구간별 고정 스케줄링은 다음을 사용한다:"
   ]
  },
  {
   "cell_type": "code",
   "execution_count": 90,
   "id": "675c5776-d431-4d85-8baf-1d436505a569",
   "metadata": {
    "scrolled": true
   },
   "outputs": [],
   "source": [
    "learning_rate = keras.optimizers.schedules.PiecewiseConstantDecay(\n",
    "    boundaries=[5. * n_steps_per_epoch, 15. * n_steps_per_epoch], values=[0.01, 0.005, 0.001]\n",
    ")"
   ]
  },
  {
   "cell_type": "markdown",
   "id": "b6cc676a-39cb-4032-babd-6b9f16e88de4",
   "metadata": {},
   "source": [
    "### 1사이클 스케줄링"
   ]
  },
  {
   "cell_type": "code",
   "execution_count": 103,
   "id": "1531d532-d452-41c8-8d3a-c4b1496b0ef6",
   "metadata": {},
   "outputs": [],
   "source": [
    "K = keras.backend\n",
    "\n",
    "\n",
    "class ExponentialLearningRate(keras.callbacks.Callback):\n",
    "    def __init__(self, factor):\n",
    "        self.factor = factor\n",
    "        self.rates = []\n",
    "        self.losses = []\n",
    "\n",
    "    def on_batch_end(self, batch, logs):\n",
    "        self.rates.append(K.get_value(self.model.optimizer.lr))\n",
    "        self.losses.append(logs[\"loss\"])\n",
    "        K.set_value(self.model.optimizer.lr, self.model.optimizer.lr * self.factor)\n",
    "\n",
    "\n",
    "def find_learning_rate(model, X, y, epochs=1, batch_size=32, min_rate=10 ** -5, max_rate=10):\n",
    "    init_weights = model.get_weights()\n",
    "    iterations = math.ceil(len(X) / batch_size) * epochs\n",
    "    factor = np.exp(np.log(max_rate / min_rate) / iterations)\n",
    "    init_lr = K.get_value(model.optimizer.lr)\n",
    "    K.set_value(model.optimizer.lr, min_rate)\n",
    "    exp_lr = ExponentialLearningRate(factor)\n",
    "    history = model.fit(X, y, epochs=epochs, batch_size=batch_size, callbacks=[exp_lr])\n",
    "    K.set_value(model.optimizer.lr, init_lr)\n",
    "    model.set_weights(init_weights)\n",
    "    return exp_lr.rates, exp_lr.losses\n",
    "\n",
    "\n",
    "def plot_lr_vs_loss(rates, losses):\n",
    "    plt.plot(rates, losses)\n",
    "    plt.gca().set_xscale(\"log\")\n",
    "    plt.hlines(min(losses), min(rates), max(rates))\n",
    "    plt.axis([min(rates), max(rates), min(losses), (losses[0] + min(losses)) / 2])\n",
    "    plt.xlabel(\"Learning rate\")\n",
    "    plt.ylabel(\"Loss\")"
   ]
  },
  {
   "cell_type": "code",
   "execution_count": null,
   "id": "bc9e9877-841a-4615-a356-0dbc84ee9c12",
   "metadata": {},
   "outputs": [],
   "source": []
  }
 ],
 "metadata": {
  "kernelspec": {
   "display_name": "Python 3 (ipykernel)",
   "language": "python",
   "name": "python3"
  },
  "language_info": {
   "codemirror_mode": {
    "name": "ipython",
    "version": 3
   },
   "file_extension": ".py",
   "mimetype": "text/x-python",
   "name": "python",
   "nbconvert_exporter": "python",
   "pygments_lexer": "ipython3",
   "version": "3.10.5"
  }
 },
 "nbformat": 4,
 "nbformat_minor": 5
}
