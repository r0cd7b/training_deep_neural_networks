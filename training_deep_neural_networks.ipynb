{
 "cells": [
  {
   "cell_type": "markdown",
   "id": "d7de80d8-2019-4db9-a5eb-69758a8bd970",
   "metadata": {},
   "source": [
    "**심층 신경망 훈련하기**"
   ]
  },
  {
   "cell_type": "markdown",
   "id": "20d6ad85-ab94-4e3e-8868-39f5b4ed3bb3",
   "metadata": {},
   "source": [
    "# 설정"
   ]
  },
  {
   "cell_type": "markdown",
   "id": "3ee378ee-d761-40e9-9a21-8ccbca8d2b11",
   "metadata": {},
   "source": [
    "먼저 몇 개의 모듈을 임포트한다. 맷플롯립 그림을 저장하는 함수를 준비한다."
   ]
  },
  {
   "cell_type": "code",
   "execution_count": 1,
   "id": "5762e6a9-14ee-4e1a-b4bd-6ce7728f8c6e",
   "metadata": {
    "scrolled": true
   },
   "outputs": [],
   "source": [
    "# 공통 모듈 임포트\n",
    "import matplotlib as mpl\n",
    "import os\n",
    "import matplotlib.pyplot as plt\n",
    "\n",
    "# 깔끔한 그래프 출력을 위해\n",
    "mpl.rc(\"axes\", labelsize=14)\n",
    "mpl.rc(\"xtick\", labelsize=12)\n",
    "mpl.rc(\"ytick\", labelsize=12)\n",
    "# 그림을 저장할 위치\n",
    "PROJECT_ROOT_DIR = '.'\n",
    "IMAGES_PATH = os.path.join(PROJECT_ROOT_DIR, \"images\")\n",
    "os.makedirs(IMAGES_PATH, exist_ok=True)\n",
    "\n",
    "\n",
    "def save_fig(fig_id, tight_layout=True, fig_extension=\"png\", resolution=300):\n",
    "    path = os.path.join(IMAGES_PATH, f\"{fig_id}.{fig_extension}\")\n",
    "    print(\"그림 저장:\", fig_id)\n",
    "    if tight_layout:\n",
    "        plt.tight_layout()\n",
    "    plt.savefig(path, format=fig_extension, dpi=resolution)"
   ]
  },
  {
   "cell_type": "markdown",
   "id": "462eb377-3ae1-4d84-a774-b4e2bdfce66f",
   "metadata": {},
   "source": [
    "# 그레이디언트 소실과 폭주 문제"
   ]
  },
  {
   "cell_type": "code",
   "execution_count": 2,
   "id": "8ad60083-b13e-4559-bec2-2facc845e8d0",
   "metadata": {
    "scrolled": true
   },
   "outputs": [],
   "source": [
    "def logit(z):\n",
    "    return 1 / (1 + np.exp(-z))"
   ]
  },
  {
   "cell_type": "code",
   "execution_count": 3,
   "id": "b2f3d2c4-60ce-41e4-9c65-c0578bf25502",
   "metadata": {
    "scrolled": true
   },
   "outputs": [
    {
     "name": "stdout",
     "output_type": "stream",
     "text": [
      "그림 저장: sigmoid_saturation_plot\n"
     ]
    },
    {
     "data": {
      "image/png": "[encoded data removed]",
      "text/plain": [
       "<Figure size 432x288 with 1 Axes>"
      ]
     },
     "metadata": {
      "needs_background": "light"
     },
     "output_type": "display_data"
    }
   ],
   "source": [
    "import numpy as np\n",
    "\n",
    "z = np.linspace(-5, 5, 200)\n",
    "plt.plot([-5, 5], [0, 0], \"k-\")\n",
    "plt.plot([-5, 5], [1, 1], \"k--\")\n",
    "plt.plot([0, 0], [-0.2, 1.2], \"k-\")\n",
    "plt.plot([-5, 5], [-3 / 4, 7 / 4], \"g--\")\n",
    "plt.plot(z, logit(z), \"b-\", linewidth=2)\n",
    "props = dict(facecolor=\"black\", shrink=0.1)\n",
    "plt.annotate(\"Saturating\", xytext=(3.5, 0.7), xy=(5, 1), arrowprops=props, fontsize=14, ha=\"center\")\n",
    "plt.annotate(\"Saturating\", xytext=(-3.5, 0.3), xy=(-5, 0), arrowprops=props, fontsize=14, ha=\"center\")\n",
    "plt.annotate(\"Linear\", xytext=(2, 0.2), xy=(0, 0.5), arrowprops=props, fontsize=14, ha=\"center\")\n",
    "plt.grid(True)\n",
    "plt.title(\"Sigmoid activation function\", fontsize=14)\n",
    "plt.axis([-5, 5, -0.2, 1.2])\n",
    "save_fig(\"sigmoid_saturation_plot\")\n",
    "plt.show()"
   ]
  },
  {
   "cell_type": "markdown",
   "id": "f47d568f-8383-416c-8b64-7776257d4cd7",
   "metadata": {
    "tags": []
   },
   "source": [
    "## Xavier 초기화와 He 초기화"
   ]
  },
  {
   "cell_type": "code",
   "execution_count": 4,
   "id": "84a14a82-fe6d-4050-a012-ec1945f5058b",
   "metadata": {
    "scrolled": true,
    "tags": []
   },
   "outputs": [
    {
     "data": {
      "text/plain": [
       "['Constant',\n",
       " 'GlorotNormal',\n",
       " 'GlorotUniform',\n",
       " 'HeNormal',\n",
       " 'HeUniform',\n",
       " 'Identity',\n",
       " 'Initializer',\n",
       " 'LecunNormal',\n",
       " 'LecunUniform',\n",
       " 'Ones',\n",
       " 'Orthogonal',\n",
       " 'RandomNormal',\n",
       " 'RandomUniform',\n",
       " 'TruncatedNormal',\n",
       " 'VarianceScaling',\n",
       " 'Zeros',\n",
       " 'constant',\n",
       " 'deserialize',\n",
       " 'get',\n",
       " 'glorot_normal',\n",
       " 'glorot_uniform',\n",
       " 'he_normal',\n",
       " 'he_uniform',\n",
       " 'identity',\n",
       " 'lecun_normal',\n",
       " 'lecun_uniform',\n",
       " 'ones',\n",
       " 'orthogonal',\n",
       " 'random_normal',\n",
       " 'random_uniform',\n",
       " 'serialize',\n",
       " 'truncated_normal',\n",
       " 'variance_scaling',\n",
       " 'zeros']"
      ]
     },
     "execution_count": 4,
     "metadata": {},
     "output_type": "execute_result"
    }
   ],
   "source": [
    "from tensorflow import keras\n",
    "\n",
    "[name for name in dir(keras.initializers) if not name.startswith(\"_\")]"
   ]
  },
  {
   "cell_type": "code",
   "execution_count": 5,
   "id": "41c2c4ea-1c8b-4b34-8888-56598df69db9",
   "metadata": {
    "scrolled": true
   },
   "outputs": [
    {
     "data": {
      "text/plain": [
       "<keras.layers.core.dense.Dense at 0x19a30236620>"
      ]
     },
     "execution_count": 5,
     "metadata": {},
     "output_type": "execute_result"
    }
   ],
   "source": [
    "keras.layers.Dense(10, activation=\"relu\", kernel_initializer=\"he_normal\")"
   ]
  },
  {
   "cell_type": "code",
   "execution_count": 6,
   "id": "9a3557f2-038a-48b6-b47d-7bf4183c3736",
   "metadata": {
    "scrolled": true
   },
   "outputs": [
    {
     "data": {
      "text/plain": [
       "<keras.layers.core.dense.Dense at 0x19a517b4f70>"
      ]
     },
     "execution_count": 6,
     "metadata": {},
     "output_type": "execute_result"
    }
   ],
   "source": [
    "init = keras.initializers.VarianceScaling(scale=2., mode=\"fan_avg\", distribution=\"uniform\")\n",
    "keras.layers.Dense(10, activation=\"relu\", kernel_initializer=init)"
   ]
  },
  {
   "cell_type": "markdown",
   "id": "9859571e-5486-42a9-823b-5b33239f9722",
   "metadata": {},
   "source": [
    "## 수렴하지 않는 활성화 함수"
   ]
  },
  {
   "cell_type": "markdown",
   "id": "417b8a50-22c4-40a6-b1a2-3fcb431b0d18",
   "metadata": {},
   "source": [
    "### LeakyReLU"
   ]
  },
  {
   "cell_type": "code",
   "execution_count": 7,
   "id": "e5ebb245-75f9-4ae4-85ad-d8cb220375b7",
   "metadata": {
    "scrolled": true
   },
   "outputs": [],
   "source": [
    "def leaky_relu(z, alpha=0.01):\n",
    "    return np.maximum(alpha * z, z)"
   ]
  },
  {
   "cell_type": "code",
   "execution_count": 8,
   "id": "6ad41fac-3510-463c-87a9-427d2e3c92ce",
   "metadata": {
    "scrolled": true
   },
   "outputs": [
    {
     "name": "stdout",
     "output_type": "stream",
     "text": [
      "그림 저장: leaky_relu_plot\n"
     ]
    },
    {
     "data": {
      "image/png": "[encoded data removed]",
      "text/plain": [
       "<Figure size 432x288 with 1 Axes>"
      ]
     },
     "metadata": {
      "needs_background": "light"
     },
     "output_type": "display_data"
    }
   ],
   "source": [
    "plt.plot(z, leaky_relu(z, 0.05), \"b-\", linewidth=2)\n",
    "plt.plot([-5, 5], [0, 0], \"k-\")\n",
    "plt.plot([0, 0], [-0.5, 4.2], \"k-\")\n",
    "plt.grid(True)\n",
    "props = dict(facecolor=\"black\", shrink=0.1)\n",
    "plt.annotate(\"Leak\", xytext=(-3.5, 0.5), xy=(-5, -0.2), arrowprops=props, fontsize=14, ha=\"center\")\n",
    "plt.title(\"Leaky ReLU activation function\", fontsize=14)\n",
    "plt.axis([-5, 5, -0.5, 4.2])\n",
    "save_fig(\"leaky_relu_plot\")\n",
    "plt.show()"
   ]
  },
  {
   "cell_type": "code",
   "execution_count": 9,
   "id": "4dab87dc-83e6-40cd-b3ac-3611cda64d55",
   "metadata": {
    "scrolled": true,
    "tags": []
   },
   "outputs": [
    {
     "data": {
      "text/plain": [
       "['deserialize',\n",
       " 'elu',\n",
       " 'exponential',\n",
       " 'gelu',\n",
       " 'get',\n",
       " 'hard_sigmoid',\n",
       " 'linear',\n",
       " 'relu',\n",
       " 'selu',\n",
       " 'serialize',\n",
       " 'sigmoid',\n",
       " 'softmax',\n",
       " 'softplus',\n",
       " 'softsign',\n",
       " 'swish',\n",
       " 'tanh']"
      ]
     },
     "execution_count": 9,
     "metadata": {},
     "output_type": "execute_result"
    }
   ],
   "source": [
    "[m for m in dir(keras.activations) if not m.startswith(\"_\")]"
   ]
  },
  {
   "cell_type": "code",
   "execution_count": 10,
   "id": "fb260da4-7996-456d-9b6b-620caefc5a96",
   "metadata": {
    "scrolled": true
   },
   "outputs": [
    {
     "data": {
      "text/plain": [
       "['LeakyReLU', 'PReLU', 'ReLU', 'ThresholdedReLU']"
      ]
     },
     "execution_count": 10,
     "metadata": {},
     "output_type": "execute_result"
    }
   ],
   "source": [
    "[m for m in dir(keras.layers) if \"relu\" in m.lower()]"
   ]
  },
  {
   "cell_type": "markdown",
   "id": "7e165ee6-1d15-4112-a008-ca9ed8ac0280",
   "metadata": {},
   "source": [
    "LeakyReLU를 사용해 패션 MNIST에서 신경망을 훈련해 본다:"
   ]
  },
  {
   "cell_type": "code",
   "execution_count": 11,
   "id": "b20b9fb3-dcbe-4dae-8eec-05330efd53ef",
   "metadata": {
    "scrolled": true
   },
   "outputs": [],
   "source": [
    "(X_train_full, y_train_full), (X_test, y_test) = keras.datasets.fashion_mnist.load_data()\n",
    "X_train_full = X_train_full / 255.0\n",
    "X_test = X_test / 255.0\n",
    "X_valid, X_train = X_train_full[:5000], X_train_full[5000:]\n",
    "y_valid, y_train = y_train_full[:5000], y_train_full[5000:]"
   ]
  },
  {
   "cell_type": "code",
   "execution_count": 12,
   "id": "ca7461d3-820e-4b7b-8881-8d912019ba22",
   "metadata": {
    "scrolled": true
   },
   "outputs": [],
   "source": [
    "model = keras.models.Sequential(\n",
    "    [\n",
    "        keras.layers.Flatten(input_shape=[28, 28]),\n",
    "        keras.layers.Dense(300, kernel_initializer=\"he_normal\"),\n",
    "        keras.layers.LeakyReLU(),\n",
    "        keras.layers.Dense(100, kernel_initializer=\"he_normal\"),\n",
    "        keras.layers.LeakyReLU(),\n",
    "        keras.layers.Dense(10, activation=\"softmax\")\n",
    "    ]\n",
    ")"
   ]
  },
  {
   "cell_type": "code",
   "execution_count": 13,
   "id": "0d5a4bb4-cba6-4ca7-a540-bf989ea01ef7",
   "metadata": {
    "scrolled": true
   },
   "outputs": [],
   "source": [
    "model.compile(\n",
    "    loss=\"sparse_categorical_crossentropy\", optimizer=keras.optimizers.SGD(learning_rate=1e-3), metrics=[\"accuracy\"]\n",
    ")"
   ]
  },
  {
   "cell_type": "code",
   "execution_count": 14,
   "id": "f9a31c12-cab4-439f-b29e-42b790fc3d87",
   "metadata": {
    "scrolled": true,
    "tags": []
   },
   "outputs": [
    {
     "name": "stdout",
     "output_type": "stream",
     "text": [
      "Epoch 1/10\n",
      "1719/1719 [==============================] - 7s 3ms/step - loss: 1.3178 - accuracy: 0.6004 - val_loss: 0.9052 - val_accuracy: 0.7108\n",
      "Epoch 2/10\n",
      "1719/1719 [==============================] - 5s 3ms/step - loss: 0.8145 - accuracy: 0.7294 - val_loss: 0.7244 - val_accuracy: 0.7578\n",
      "Epoch 3/10\n",
      "1719/1719 [==============================] - 5s 3ms/step - loss: 0.6955 - accuracy: 0.7686 - val_loss: 0.6457 - val_accuracy: 0.7868\n",
      "Epoch 4/10\n",
      "1719/1719 [==============================] - 5s 3ms/step - loss: 0.6329 - accuracy: 0.7905 - val_loss: 0.5957 - val_accuracy: 0.8018\n",
      "Epoch 5/10\n",
      "1719/1719 [==============================] - 5s 3ms/step - loss: 0.5927 - accuracy: 0.8018 - val_loss: 0.5664 - val_accuracy: 0.8148\n",
      "Epoch 6/10\n",
      "1719/1719 [==============================] - 5s 3ms/step - loss: 0.5645 - accuracy: 0.8102 - val_loss: 0.5419 - val_accuracy: 0.8198\n",
      "Epoch 7/10\n",
      "1719/1719 [==============================] - 5s 3ms/step - loss: 0.5436 - accuracy: 0.8156 - val_loss: 0.5233 - val_accuracy: 0.8286\n",
      "Epoch 8/10\n",
      "1719/1719 [==============================] - 5s 3ms/step - loss: 0.5269 - accuracy: 0.8206 - val_loss: 0.5077 - val_accuracy: 0.8294\n",
      "Epoch 9/10\n",
      "1719/1719 [==============================] - 5s 3ms/step - loss: 0.5136 - accuracy: 0.8246 - val_loss: 0.4965 - val_accuracy: 0.8332\n",
      "Epoch 10/10\n",
      "1719/1719 [==============================] - 5s 3ms/step - loss: 0.5022 - accuracy: 0.8273 - val_loss: 0.4876 - val_accuracy: 0.8346\n"
     ]
    }
   ],
   "source": [
    "history = model.fit(X_train, y_train, epochs=10, validation_data=(X_valid, y_valid))"
   ]
  },
  {
   "cell_type": "markdown",
   "id": "f5112924-5764-4b3e-b6de-3b7c1a8064ca",
   "metadata": {},
   "source": [
    "PReLU를 테스트해 본다:"
   ]
  },
  {
   "cell_type": "code",
   "execution_count": 15,
   "id": "a471931e-b763-4ab9-97ce-fd313291948a",
   "metadata": {
    "scrolled": true
   },
   "outputs": [],
   "source": [
    "model = keras.models.Sequential(\n",
    "    [\n",
    "        keras.layers.Flatten(input_shape=[28, 28]),\n",
    "        keras.layers.Dense(300, kernel_initializer=\"he_normal\"),\n",
    "        keras.layers.PReLU(),\n",
    "        keras.layers.Dense(100, kernel_initializer=\"he_normal\"),\n",
    "        keras.layers.PReLU(),\n",
    "        keras.layers.Dense(10, activation=\"softmax\")\n",
    "    ]\n",
    ")"
   ]
  },
  {
   "cell_type": "code",
   "execution_count": 16,
   "id": "fdcf7b3e-427c-4540-bca9-9d9fd11fc725",
   "metadata": {
    "scrolled": true
   },
   "outputs": [],
   "source": [
    "model.compile(\n",
    "    loss=\"sparse_categorical_crossentropy\", optimizer=keras.optimizers.SGD(learning_rate=1e-3), metrics=[\"accuracy\"]\n",
    ")"
   ]
  },
  {
   "cell_type": "code",
   "execution_count": 17,
   "id": "21f62951-97af-44e7-9780-6227440606a3",
   "metadata": {
    "scrolled": true
   },
   "outputs": [
    {
     "name": "stdout",
     "output_type": "stream",
     "text": [
      "Epoch 1/10\n",
      "1719/1719 [==============================] - 7s 4ms/step - loss: 1.2931 - accuracy: 0.6147 - val_loss: 0.8759 - val_accuracy: 0.7328\n",
      "Epoch 2/10\n",
      "1719/1719 [==============================] - 6s 4ms/step - loss: 0.7892 - accuracy: 0.7521 - val_loss: 0.7030 - val_accuracy: 0.7852\n",
      "Epoch 3/10\n",
      "1719/1719 [==============================] - 6s 4ms/step - loss: 0.6735 - accuracy: 0.7864 - val_loss: 0.6226 - val_accuracy: 0.8072\n",
      "Epoch 4/10\n",
      "1719/1719 [==============================] - 6s 4ms/step - loss: 0.6132 - accuracy: 0.8017 - val_loss: 0.5750 - val_accuracy: 0.8212\n",
      "Epoch 5/10\n",
      "1719/1719 [==============================] - 6s 4ms/step - loss: 0.5743 - accuracy: 0.8110 - val_loss: 0.5428 - val_accuracy: 0.8300\n",
      "Epoch 6/10\n",
      "1719/1719 [==============================] - 6s 4ms/step - loss: 0.5468 - accuracy: 0.8190 - val_loss: 0.5229 - val_accuracy: 0.8328\n",
      "Epoch 7/10\n",
      "1719/1719 [==============================] - 6s 4ms/step - loss: 0.5261 - accuracy: 0.8237 - val_loss: 0.5036 - val_accuracy: 0.8378\n",
      "Epoch 8/10\n",
      "1719/1719 [==============================] - 6s 4ms/step - loss: 0.5101 - accuracy: 0.8278 - val_loss: 0.4889 - val_accuracy: 0.8392\n",
      "Epoch 9/10\n",
      "1719/1719 [==============================] - 6s 4ms/step - loss: 0.4969 - accuracy: 0.8314 - val_loss: 0.4760 - val_accuracy: 0.8428\n",
      "Epoch 10/10\n",
      "1719/1719 [==============================] - 6s 4ms/step - loss: 0.4855 - accuracy: 0.8352 - val_loss: 0.4712 - val_accuracy: 0.8446\n"
     ]
    }
   ],
   "source": [
    "history = model.fit(X_train, y_train, epochs=10, validation_data=(X_valid, y_valid))"
   ]
  },
  {
   "cell_type": "markdown",
   "id": "938d027c-a8fc-4720-884c-1ecc3646a034",
   "metadata": {
    "tags": []
   },
   "source": [
    "### ELU"
   ]
  },
  {
   "cell_type": "code",
   "execution_count": 18,
   "id": "9093a957-2f99-4ff4-ac72-c1857ec9c56c",
   "metadata": {
    "scrolled": true
   },
   "outputs": [],
   "source": [
    "def elu(z, alpha=1):\n",
    "    return np.where(z < 0, alpha * (np.exp(z) - 1), z)"
   ]
  },
  {
   "cell_type": "code",
   "execution_count": 19,
   "id": "cd2e80f8-6d18-4d97-9b1b-efa9d71abfe2",
   "metadata": {
    "scrolled": true
   },
   "outputs": [
    {
     "name": "stdout",
     "output_type": "stream",
     "text": [
      "그림 저장: elu_plot\n"
     ]
    },
    {
     "data": {
      "image/png": "[encoded data removed]",
      "text/plain": [
       "<Figure size 432x288 with 1 Axes>"
      ]
     },
     "metadata": {
      "needs_background": "light"
     },
     "output_type": "display_data"
    }
   ],
   "source": [
    "plt.plot(z, elu(z), \"b-\", linewidth=2)\n",
    "plt.plot([-5, 5], [0, 0], \"k-\")\n",
    "plt.plot([-5, 5], [-1, -1], \"k--\")\n",
    "plt.plot([0, 0], [-2.2, 3.2], \"k-\")\n",
    "plt.grid(True)\n",
    "plt.title(r\"ELU activation function ($\\alpha=1$)\", fontsize=14)\n",
    "plt.axis([-5, 5, -2.2, 3.2])\n",
    "save_fig(\"elu_plot\")\n",
    "plt.show()"
   ]
  },
  {
   "cell_type": "markdown",
   "id": "155ab429-62d2-4f70-b5d1-27dd9f1eef7c",
   "metadata": {},
   "source": [
    "텐서플로에서 쉽게 ELU를 적용할 수 있다. 층을 만들 때 활성화 함수로 지정하면 된다:"
   ]
  },
  {
   "cell_type": "code",
   "execution_count": 20,
   "id": "12bf5d45-9d06-40e2-8332-89aa41b4c3ee",
   "metadata": {
    "scrolled": true
   },
   "outputs": [
    {
     "data": {
      "text/plain": [
       "<keras.layers.core.dense.Dense at 0x19c51f691e0>"
      ]
     },
     "execution_count": 20,
     "metadata": {},
     "output_type": "execute_result"
    }
   ],
   "source": [
    "keras.layers.Dense(10, activation=\"elu\")"
   ]
  },
  {
   "cell_type": "markdown",
   "id": "e2db2154-287b-494f-92c4-767f115ada47",
   "metadata": {
    "tags": []
   },
   "source": [
    "### SELU"
   ]
  },
  {
   "cell_type": "markdown",
   "id": "f4506fa2-512b-451f-8830-e95b4fbbc4ab",
   "metadata": {},
   "source": [
    "Günter Klambauer, Thomas Unterthiner, Andreas Mayr는 2017년 한 [훌륭한 논문](https://arxiv.org/pdf/1706.02515.pdf)에서 SELU 활성화 함수를 소개했다. 훈련하는 동안 완전 연결 층만 쌓아서 신경망을 만들고 SELU 활성화 함수와 LeCun 초기화를 사용한다면 자기 정규화된다. 각 층의 출력이 평균과\n",
    "표준편차를 보존하는 경향이 있다. 이는 그레이디언트 소실과 폭주 문제를 막아 준다. 그 결과로 SELU 활성화 함수는 이런 종류의 네트워크(특히 아주 깊은 네트워크)에서 다른 활성화 함수보다 뛰어난 성능을 종종 낸다. 따라서 꼭 시도해 봐야 한다. 하지만 SELU 활성화 함수의 자기 정규화 특징은 쉽게 깨진다. ℓ<sub>1</sub>나 ℓ<sub>2</sub> 정규화, 드롭아웃, 맥스 노름, 스킵 연결이나 시퀀셜하지 않은 다른 토폴로지를 사용할 수 없다(즉 순환 신경망은 자기 정규화되지 않는다). 하지만 실전에서 시퀀셜 CNN과 잘 동작한다. 자기 정규화가 깨지면 SELU가 다른 활성화 함수보다 더 나은 성능을 내지 않을 것이다."
   ]
  },
  {
   "cell_type": "code",
   "execution_count": 21,
   "id": "85b8b847-5dbe-485e-b7d4-8512817ec562",
   "metadata": {
    "scrolled": true
   },
   "outputs": [],
   "source": [
    "from scipy.special import erfc\n",
    "\n",
    "# alpha와 scale은 평균 0과 표준 편차 1로 자기 정규화한다\n",
    "# (논문에 있는 식 14 참조):\n",
    "alpha_0_1 = -np.sqrt(2 / np.pi) / (erfc(1 / np.sqrt(2)) * np.exp(1 / 2) - 1)\n",
    "scale_0_1 = (1 - erfc(1 / np.sqrt(2)) * np.sqrt(np.e)) * np.sqrt(2 * np.pi) * (\n",
    "        2 * erfc(np.sqrt(2)) * np.e ** 2 + np.pi * erfc(1 / np.sqrt(2)) ** 2 * np.e - 2 * (2 + np.pi) * erfc(\n",
    "    1 / np.sqrt(2)) * np.sqrt(np.e) + np.pi + 2) ** (-1 / 2)"
   ]
  },
  {
   "cell_type": "code",
   "execution_count": 22,
   "id": "23b1a261-6c00-42aa-b1f6-3c92362309f3",
   "metadata": {
    "scrolled": true
   },
   "outputs": [],
   "source": [
    "def selu(z, scale=scale_0_1, alpha=alpha_0_1):\n",
    "    return scale * elu(z, alpha)"
   ]
  },
  {
   "cell_type": "code",
   "execution_count": 23,
   "id": "3037d8d1-10b7-402e-b50e-1e6339c795ad",
   "metadata": {
    "scrolled": true
   },
   "outputs": [
    {
     "name": "stdout",
     "output_type": "stream",
     "text": [
      "그림 저장: selu_plot\n"
     ]
    },
    {
     "data": {
      "image/png": "[encoded data removed]",
      "text/plain": [
       "<Figure size 432x288 with 1 Axes>"
      ]
     },
     "metadata": {
      "needs_background": "light"
     },
     "output_type": "display_data"
    }
   ],
   "source": [
    "plt.plot(z, selu(z), \"b-\", linewidth=2)\n",
    "plt.plot([-5, 5], [0, 0], \"k-\")\n",
    "plt.plot([-5, 5], [-1.758, -1.758], \"k--\")\n",
    "plt.plot([0, 0], [-2.2, 3.2], \"k-\")\n",
    "plt.grid(True)\n",
    "plt.title(\"SELU activation function\", fontsize=14)\n",
    "plt.axis([-5, 5, -2.2, 3.2])\n",
    "save_fig(\"selu_plot\")\n",
    "plt.show()"
   ]
  },
  {
   "cell_type": "markdown",
   "id": "852ab8ad-3dc3-4c29-99a7-0988e48ab7e3",
   "metadata": {
    "tags": []
   },
   "source": [
    "기본적으로 SELU 하이퍼파라미터(`scale`과 `alpha`)는 각 뉴런의 평균 출력이 0에 가깝고 표준 편차는 1에 가깝도록 조정된다(입력은 평균이 0이고 표준 편차 1로 표준화되었다고 가정한다). 이 활성화 함수를 사용하면 1,000개의 층이 있는 심층 신경망도 모든 층에 걸쳐 거의 평균이 0이고 표준 편차를 1로 유지한다. 이를 통해 그레이디언트 폭주와 소실 문제를 피할 수 있다:"
   ]
  },
  {
   "cell_type": "code",
   "execution_count": 24,
   "id": "32094937-7b98-4f37-883e-fed10f804086",
   "metadata": {
    "scrolled": true
   },
   "outputs": [
    {
     "name": "stdout",
     "output_type": "stream",
     "text": [
      "Layer 0: mean 0.00, std deviation 1.00\n",
      "Layer 100: mean -0.01, std deviation 0.90\n",
      "Layer 200: mean 0.02, std deviation 0.93\n",
      "Layer 300: mean 0.06, std deviation 0.88\n",
      "Layer 400: mean -0.05, std deviation 0.90\n",
      "Layer 500: mean 0.02, std deviation 0.92\n",
      "Layer 600: mean -0.04, std deviation 0.96\n",
      "Layer 700: mean -0.00, std deviation 0.92\n",
      "Layer 800: mean 0.09, std deviation 0.90\n",
      "Layer 900: mean 0.03, std deviation 0.92\n"
     ]
    }
   ],
   "source": [
    "Z = np.random.normal(size=(500, 100))  # 표준화된 입력\n",
    "for layer in range(1000):\n",
    "    W = np.random.normal(size=(100, 100), scale=np.sqrt(1 / 100))  # LeCun 초기화\n",
    "    Z = selu(np.dot(Z, W))\n",
    "    means = np.mean(Z, axis=0).mean()\n",
    "    stds = np.std(Z, axis=0).mean()\n",
    "    if layer % 100 == 0:\n",
    "        print(f\"Layer {layer}: mean {means:.2f}, std deviation {stds:.2f}\")"
   ]
  },
  {
   "cell_type": "markdown",
   "id": "608a6c04-cdc0-4cdb-af53-6c6b1381d8c5",
   "metadata": {},
   "source": [
    "쉽게 SELU를 사용할 수 있다:"
   ]
  },
  {
   "cell_type": "code",
   "execution_count": 25,
   "id": "dd469f7d-b2b1-4773-a0c2-0af7d97e0d12",
   "metadata": {
    "scrolled": true
   },
   "outputs": [
    {
     "data": {
      "text/plain": [
       "<keras.layers.core.dense.Dense at 0x19c509efbe0>"
      ]
     },
     "execution_count": 25,
     "metadata": {},
     "output_type": "execute_result"
    }
   ],
   "source": [
    "keras.layers.Dense(10, activation=\"selu\", kernel_initializer=\"lecun_normal\")"
   ]
  },
  {
   "cell_type": "markdown",
   "id": "3f1bda40-6798-401e-8464-4c569faff11e",
   "metadata": {},
   "source": [
    "100개의 은닉층과 SELU 활성화 함수를 사용한 패션 MNIST를 위한 신경망을 만들어 본다:"
   ]
  },
  {
   "cell_type": "code",
   "execution_count": 26,
   "id": "4db111c8-3bf4-4995-a02d-0b6e376fc118",
   "metadata": {
    "scrolled": true
   },
   "outputs": [],
   "source": [
    "model = keras.models.Sequential()\n",
    "model.add(keras.layers.Flatten(input_shape=[28, 28]))\n",
    "model.add(keras.layers.Dense(300, activation=\"selu\", kernel_initializer=\"lecun_normal\"))\n",
    "for layer in range(99):\n",
    "    model.add(keras.layers.Dense(100, activation=\"selu\", kernel_initializer=\"lecun_normal\"))\n",
    "model.add(keras.layers.Dense(10, activation=\"softmax\"))"
   ]
  },
  {
   "cell_type": "code",
   "execution_count": 27,
   "id": "ec5ccb8c-ebc6-444d-81ff-c4dd2fc52da7",
   "metadata": {
    "scrolled": true
   },
   "outputs": [],
   "source": [
    "model.compile(\n",
    "    loss=\"sparse_categorical_crossentropy\", optimizer=keras.optimizers.SGD(learning_rate=1e-3), metrics=[\"accuracy\"]\n",
    ")"
   ]
  },
  {
   "cell_type": "markdown",
   "id": "40bec7eb-a7b9-4e1c-8606-4d01860db832",
   "metadata": {},
   "source": [
    "이제 훈련해 본다. 입력을 평균 0과 표준 편차 1로 바꾸어야 한다는 것을 잊지 않는다:"
   ]
  },
  {
   "cell_type": "code",
   "execution_count": 28,
   "id": "0e0d8b9e-86b4-444e-96d9-5ab4e93d1c1d",
   "metadata": {
    "scrolled": true
   },
   "outputs": [],
   "source": [
    "pixel_means = X_train.mean(axis=0, keepdims=True)\n",
    "pixel_stds = X_train.std(axis=0, keepdims=True)\n",
    "X_train_scaled = (X_train - pixel_means) / pixel_stds\n",
    "X_valid_scaled = (X_valid - pixel_means) / pixel_stds\n",
    "X_test_scaled = (X_test - pixel_means) / pixel_stds"
   ]
  },
  {
   "cell_type": "code",
   "execution_count": 29,
   "id": "5c96a61b-06a2-41bb-958e-b286f895b371",
   "metadata": {
    "scrolled": true
   },
   "outputs": [
    {
     "name": "stdout",
     "output_type": "stream",
     "text": [
      "Epoch 1/5\n",
      "1719/1719 [==============================] - 48s 27ms/step - loss: 1.2700 - accuracy: 0.5081 - val_loss: 0.9349 - val_accuracy: 0.6610\n",
      "Epoch 2/5\n",
      "1719/1719 [==============================] - 45s 26ms/step - loss: 0.9094 - accuracy: 0.6589 - val_loss: 0.8346 - val_accuracy: 0.6782\n",
      "Epoch 3/5\n",
      "1719/1719 [==============================] - 45s 26ms/step - loss: 1.0410 - accuracy: 0.6072 - val_loss: 1.2108 - val_accuracy: 0.4876\n",
      "Epoch 4/5\n",
      "1719/1719 [==============================] - 45s 26ms/step - loss: 1.0841 - accuracy: 0.5781 - val_loss: 1.0609 - val_accuracy: 0.6114\n",
      "Epoch 5/5\n",
      "1719/1719 [==============================] - 45s 26ms/step - loss: 0.8325 - accuracy: 0.6878 - val_loss: 0.6902 - val_accuracy: 0.7474\n"
     ]
    }
   ],
   "source": [
    "history = model.fit(X_train_scaled, y_train, epochs=5, validation_data=(X_valid_scaled, y_valid))"
   ]
  },
  {
   "cell_type": "markdown",
   "id": "4ba7fd16-5027-449d-8960-c6be015c5e6b",
   "metadata": {},
   "source": [
    "대신 ReLU 활성화 함수를 사용하면 어떤 일이 일어나는지 확인해 본다:"
   ]
  },
  {
   "cell_type": "code",
   "execution_count": 30,
   "id": "ef7ac6c7-d96b-4c0e-ab6d-ee72e54f9526",
   "metadata": {
    "scrolled": true
   },
   "outputs": [],
   "source": [
    "model = keras.models.Sequential()\n",
    "model.add(keras.layers.Flatten(input_shape=[28, 28]))\n",
    "model.add(keras.layers.Dense(300, activation=\"relu\", kernel_initializer=\"he_normal\"))\n",
    "for layer in range(99):\n",
    "    model.add(keras.layers.Dense(100, activation=\"relu\", kernel_initializer=\"he_normal\"))\n",
    "model.add(keras.layers.Dense(10, activation=\"softmax\"))"
   ]
  },
  {
   "cell_type": "code",
   "execution_count": 31,
   "id": "418d8bd4-d494-4016-9b22-522bffd65896",
   "metadata": {
    "scrolled": true
   },
   "outputs": [],
   "source": [
    "model.compile(\n",
    "    loss=\"sparse_categorical_crossentropy\", optimizer=keras.optimizers.SGD(learning_rate=1e-3), metrics=[\"accuracy\"]\n",
    ")"
   ]
  },
  {
   "cell_type": "code",
   "execution_count": 32,
   "id": "a19b41f3-8edb-4cf9-aba5-c7ccd2b08fd7",
   "metadata": {
    "scrolled": true
   },
   "outputs": [
    {
     "name": "stdout",
     "output_type": "stream",
     "text": [
      "Epoch 1/5\n",
      "1719/1719 [==============================] - 50s 28ms/step - loss: 2.0046 - accuracy: 0.2266 - val_loss: 1.8461 - val_accuracy: 0.3096\n",
      "Epoch 2/5\n",
      "1719/1719 [==============================] - 45s 26ms/step - loss: 1.5387 - accuracy: 0.3829 - val_loss: 1.1158 - val_accuracy: 0.5374\n",
      "Epoch 3/5\n",
      "1719/1719 [==============================] - 44s 26ms/step - loss: 1.1698 - accuracy: 0.5306 - val_loss: 1.1211 - val_accuracy: 0.5550\n",
      "Epoch 4/5\n",
      "1719/1719 [==============================] - 47s 27ms/step - loss: 1.0092 - accuracy: 0.6233 - val_loss: 0.8602 - val_accuracy: 0.7122\n",
      "Epoch 5/5\n",
      "1719/1719 [==============================] - 46s 27ms/step - loss: 1.0479 - accuracy: 0.6099 - val_loss: 0.8386 - val_accuracy: 0.7156\n"
     ]
    }
   ],
   "source": [
    "history = model.fit(X_train_scaled, y_train, epochs=5, validation_data=(X_valid_scaled, y_valid))"
   ]
  },
  {
   "cell_type": "markdown",
   "id": "6e88d380-2c3b-449b-ae5e-24f6624c813f",
   "metadata": {
    "tags": []
   },
   "source": [
    "좋지 않다. 그레이디언트 폭주나 소실 문제가 발생한 것이다."
   ]
  },
  {
   "cell_type": "markdown",
   "id": "be6a8f4c-5802-4e6d-8959-0891ced7b59a",
   "metadata": {},
   "source": [
    "# 배치 정규화"
   ]
  },
  {
   "cell_type": "code",
   "execution_count": 33,
   "id": "c00ac265-8be4-4274-9ece-d818c56e62cf",
   "metadata": {
    "scrolled": true,
    "tags": []
   },
   "outputs": [],
   "source": [
    "model = keras.models.Sequential(\n",
    "    [\n",
    "        keras.layers.Flatten(input_shape=[28, 28]),\n",
    "        keras.layers.BatchNormalization(),\n",
    "        keras.layers.Dense(300, activation=\"relu\"),\n",
    "        keras.layers.BatchNormalization(),\n",
    "        keras.layers.Dense(100, activation=\"relu\"),\n",
    "        keras.layers.BatchNormalization(),\n",
    "        keras.layers.Dense(10, activation=\"softmax\")\n",
    "    ]\n",
    ")"
   ]
  },
  {
   "cell_type": "code",
   "execution_count": 34,
   "id": "0487ba22-a4a1-48ef-84c4-93b4e0d68efe",
   "metadata": {
    "scrolled": true
   },
   "outputs": [
    {
     "name": "stdout",
     "output_type": "stream",
     "text": [
      "Model: \"sequential_4\"\n",
      "_________________________________________________________________\n",
      " Layer (type)                Output Shape              Param #   \n",
      "=================================================================\n",
      " flatten_4 (Flatten)         (None, 784)               0         \n",
      "                                                                 \n",
      " batch_normalization (BatchN  (None, 784)              3136      \n",
      " ormalization)                                                   \n",
      "                                                                 \n",
      " dense_212 (Dense)           (None, 300)               235500    \n",
      "                                                                 \n",
      " batch_normalization_1 (Batc  (None, 300)              1200      \n",
      " hNormalization)                                                 \n",
      "                                                                 \n",
      " dense_213 (Dense)           (None, 100)               30100     \n",
      "                                                                 \n",
      " batch_normalization_2 (Batc  (None, 100)              400       \n",
      " hNormalization)                                                 \n",
      "                                                                 \n",
      " dense_214 (Dense)           (None, 10)                1010      \n",
      "                                                                 \n",
      "=================================================================\n",
      "Total params: 271,346\n",
      "Trainable params: 268,978\n",
      "Non-trainable params: 2,368\n",
      "_________________________________________________________________\n"
     ]
    }
   ],
   "source": [
    "model.summary()"
   ]
  },
  {
   "cell_type": "code",
   "execution_count": 35,
   "id": "2521a648-6822-41f5-8d72-621ca4bcbd25",
   "metadata": {
    "scrolled": true,
    "tags": []
   },
   "outputs": [
    {
     "data": {
      "text/plain": [
       "[('batch_normalization/gamma:0', True),\n",
       " ('batch_normalization/beta:0', True),\n",
       " ('batch_normalization/moving_mean:0', False),\n",
       " ('batch_normalization/moving_variance:0', False)]"
      ]
     },
     "execution_count": 35,
     "metadata": {},
     "output_type": "execute_result"
    }
   ],
   "source": [
    "bn1 = model.layers[1]\n",
    "[(var.name, var.trainable) for var in bn1.variables]"
   ]
  },
  {
   "cell_type": "code",
   "execution_count": 36,
   "id": "a3e18056-3284-4334-b108-2b55ee6ff0ce",
   "metadata": {
    "scrolled": true
   },
   "outputs": [],
   "source": [
    "model.compile(\n",
    "    loss=\"sparse_categorical_crossentropy\", optimizer=keras.optimizers.SGD(learning_rate=1e-3), metrics=[\"accuracy\"]\n",
    ")"
   ]
  },
  {
   "cell_type": "code",
   "execution_count": 37,
   "id": "b991149f-3e3d-454d-8ed9-d319789603aa",
   "metadata": {
    "scrolled": true
   },
   "outputs": [
    {
     "name": "stdout",
     "output_type": "stream",
     "text": [
      "Epoch 1/10\n",
      "1719/1719 [==============================] - 12s 7ms/step - loss: 0.8556 - accuracy: 0.7124 - val_loss: 0.5626 - val_accuracy: 0.8080\n",
      "Epoch 2/10\n",
      "1719/1719 [==============================] - 11s 6ms/step - loss: 0.5802 - accuracy: 0.8007 - val_loss: 0.4817 - val_accuracy: 0.8390\n",
      "Epoch 3/10\n",
      "1719/1719 [==============================] - 11s 6ms/step - loss: 0.5163 - accuracy: 0.8219 - val_loss: 0.4467 - val_accuracy: 0.8500\n",
      "Epoch 4/10\n",
      "1719/1719 [==============================] - 11s 6ms/step - loss: 0.4854 - accuracy: 0.8319 - val_loss: 0.4247 - val_accuracy: 0.8572\n",
      "Epoch 5/10\n",
      "1719/1719 [==============================] - 11s 6ms/step - loss: 0.4564 - accuracy: 0.8392 - val_loss: 0.4083 - val_accuracy: 0.8592\n",
      "Epoch 6/10\n",
      "1719/1719 [==============================] - 11s 6ms/step - loss: 0.4408 - accuracy: 0.8458 - val_loss: 0.3933 - val_accuracy: 0.8654\n",
      "Epoch 7/10\n",
      "1719/1719 [==============================] - 11s 6ms/step - loss: 0.4237 - accuracy: 0.8509 - val_loss: 0.3859 - val_accuracy: 0.8670\n",
      "Epoch 8/10\n",
      "1719/1719 [==============================] - 10s 6ms/step - loss: 0.4150 - accuracy: 0.8538 - val_loss: 0.3780 - val_accuracy: 0.8696\n",
      "Epoch 9/10\n",
      "1719/1719 [==============================] - 11s 6ms/step - loss: 0.4002 - accuracy: 0.8588 - val_loss: 0.3715 - val_accuracy: 0.8712\n",
      "Epoch 10/10\n",
      "1719/1719 [==============================] - 11s 6ms/step - loss: 0.3951 - accuracy: 0.8598 - val_loss: 0.3673 - val_accuracy: 0.8714\n"
     ]
    }
   ],
   "source": [
    "history = model.fit(X_train, y_train, epochs=10, validation_data=(X_valid, y_valid))"
   ]
  },
  {
   "cell_type": "markdown",
   "id": "543e238a-1691-4b0b-9dcb-e3867ed13aad",
   "metadata": {
    "tags": []
   },
   "source": [
    "이따금 활성화 함수 전에 BN을 적용해도 잘 동작한다(여기에는 논란의 여지가 있다). 또한 `BatchNormalization` 층 이전의 층은 편향을 위한 항이 필요 없다. `BatchNormalization` 층이 이를 무효화하기 때문이다. 따라서 필요 없는 파라미터이므로 `use_bias=False`를 지정하여 층을 만들 수 있다:"
   ]
  },
  {
   "cell_type": "code",
   "execution_count": 38,
   "id": "0dacfe52-f9d4-491b-8258-370b8f5cd15e",
   "metadata": {
    "scrolled": true,
    "tags": []
   },
   "outputs": [],
   "source": [
    "model = keras.models.Sequential(\n",
    "    [\n",
    "        keras.layers.Flatten(input_shape=[28, 28]),\n",
    "        keras.layers.BatchNormalization(),\n",
    "        keras.layers.Dense(300, use_bias=False),\n",
    "        keras.layers.BatchNormalization(),\n",
    "        keras.layers.Activation(\"relu\"),\n",
    "        keras.layers.Dense(100, use_bias=False),\n",
    "        keras.layers.BatchNormalization(),\n",
    "        keras.layers.Activation(\"relu\"),\n",
    "        keras.layers.Dense(10, activation=\"softmax\")\n",
    "    ]\n",
    ")"
   ]
  },
  {
   "cell_type": "code",
   "execution_count": 39,
   "id": "74093742-9b08-46b2-8bb1-36b0c5087261",
   "metadata": {
    "scrolled": true
   },
   "outputs": [],
   "source": [
    "model.compile(\n",
    "    loss=\"sparse_categorical_crossentropy\", optimizer=keras.optimizers.SGD(learning_rate=1e-3), metrics=[\"accuracy\"]\n",
    ")"
   ]
  },
  {
   "cell_type": "code",
   "execution_count": 40,
   "id": "cf07dee6-c527-4ba0-a46d-8a02e9ad4464",
   "metadata": {
    "scrolled": true
   },
   "outputs": [
    {
     "name": "stdout",
     "output_type": "stream",
     "text": [
      "Epoch 1/10\n",
      "1719/1719 [==============================] - 11s 6ms/step - loss: 1.0499 - accuracy: 0.6672 - val_loss: 0.6726 - val_accuracy: 0.7844\n",
      "Epoch 2/10\n",
      "1719/1719 [==============================] - 11s 6ms/step - loss: 0.6765 - accuracy: 0.7811 - val_loss: 0.5577 - val_accuracy: 0.8176\n",
      "Epoch 3/10\n",
      "1719/1719 [==============================] - 10s 6ms/step - loss: 0.5918 - accuracy: 0.8033 - val_loss: 0.5004 - val_accuracy: 0.8334\n",
      "Epoch 4/10\n",
      "1719/1719 [==============================] - 10s 6ms/step - loss: 0.5438 - accuracy: 0.8169 - val_loss: 0.4677 - val_accuracy: 0.8398\n",
      "Epoch 5/10\n",
      "1719/1719 [==============================] - 10s 6ms/step - loss: 0.5138 - accuracy: 0.8257 - val_loss: 0.4444 - val_accuracy: 0.8480\n",
      "Epoch 6/10\n",
      "1719/1719 [==============================] - 10s 6ms/step - loss: 0.4863 - accuracy: 0.8334 - val_loss: 0.4273 - val_accuracy: 0.8532\n",
      "Epoch 7/10\n",
      "1719/1719 [==============================] - 10s 6ms/step - loss: 0.4721 - accuracy: 0.8370 - val_loss: 0.4145 - val_accuracy: 0.8576\n",
      "Epoch 8/10\n",
      "1719/1719 [==============================] - 10s 6ms/step - loss: 0.4566 - accuracy: 0.8424 - val_loss: 0.4029 - val_accuracy: 0.8620\n",
      "Epoch 9/10\n",
      "1719/1719 [==============================] - 10s 6ms/step - loss: 0.4429 - accuracy: 0.8459 - val_loss: 0.3954 - val_accuracy: 0.8628\n",
      "Epoch 10/10\n",
      "1719/1719 [==============================] - 10s 6ms/step - loss: 0.4326 - accuracy: 0.8493 - val_loss: 0.3862 - val_accuracy: 0.8648\n"
     ]
    }
   ],
   "source": [
    "history = model.fit(X_train, y_train, epochs=10, validation_data=(X_valid, y_valid))"
   ]
  },
  {
   "cell_type": "markdown",
   "id": "6bf6c6ca-2f11-4c5e-9d0a-96c0d84491b1",
   "metadata": {
    "tags": []
   },
   "source": [
    "## 그레이디언트 클리핑"
   ]
  },
  {
   "cell_type": "markdown",
   "id": "1e7ed889-9be9-48eb-960f-4322d5574b4f",
   "metadata": {},
   "source": [
    "모든 케라스 옵티마이저는 `clipnorm`이나 `clipvalue` 매개변수를 지원한다:"
   ]
  },
  {
   "cell_type": "code",
   "execution_count": 41,
   "id": "4635a5c6-bfc3-4a9f-98c3-e9bf443331fc",
   "metadata": {
    "scrolled": true
   },
   "outputs": [],
   "source": [
    "optimizer = keras.optimizers.SGD(clipvalue=1.0)"
   ]
  },
  {
   "cell_type": "code",
   "execution_count": 42,
   "id": "cfe9f991-1bc4-4753-b0de-88b5ec368c94",
   "metadata": {
    "scrolled": true
   },
   "outputs": [],
   "source": [
    "optimizer = keras.optimizers.SGD(clipnorm=1.0)"
   ]
  },
  {
   "cell_type": "markdown",
   "id": "f61979f7-ee56-467d-b8f5-0537a786e01a",
   "metadata": {},
   "source": [
    "## 사전 훈련된 층 재사용하기"
   ]
  },
  {
   "cell_type": "markdown",
   "id": "c258b77f-e5b2-4956-b175-a4b526964d52",
   "metadata": {},
   "source": [
    "### 케라스 모델 재사용하기"
   ]
  },
  {
   "cell_type": "markdown",
   "id": "daf0f319-b5a5-4868-af49-faa51da20b34",
   "metadata": {},
   "source": [
    "패션 MNIST 훈련 세트를 두 개로 나누어 본다:\n",
    "* `X_train_A`: 샌달과 셔츠(클래스 5와 6)을 제외한 모든 이미지\n",
    "* `X_train_B`: 샌달과 셔츠 이미지 중 처음 200개만 가진 작은 훈련 세트\n",
    "\n",
    "검증 세트와 테스트 세트도 이렇게 나눈다. 하지만 이미지 개수는 제한하지 않는다.\n",
    "\n",
    "A 세트(8개의 클래스를 가진 분류 문제)에서 모델을 훈련하고 이를 재사용하여 B 세트(이진 분류)를 해결해 본다. A 작업에서 B 작업으로 약간의 지식이 전달되기를 기대한다. 왜냐하면 A 세트의 클래스(스니커즈, 앵클 부츠, 코트, 티셔츠 등)가 B 세트에 있는 클래스(샌달과 셔츠)와 조금 비슷하기 때문이다. 하지만 `Dense` 층을 사용하기 때문에 동일한 위치에 나타난 패턴만 재사용할 수 있다(반대로 합성곱 층은 훨씬 많은 정보를 전송한다. 학습한 패턴을 이미지의 어느 위치에서나 감지할 수 있기 때문이다.)."
   ]
  },
  {
   "cell_type": "code",
   "execution_count": 43,
   "id": "d8acd492-471e-46e8-b2c5-2494639c47b5",
   "metadata": {
    "scrolled": true
   },
   "outputs": [],
   "source": [
    "def split_dataset(X, y):\n",
    "    y_5_or_6 = (y == 5) | (y == 6)  # 샌들 또는 셔츠\n",
    "    y_A = y[~y_5_or_6]\n",
    "    y_A[y_A > 6] -= 2  # 클래스 인덱스 7, 8, 9는 5, 6, 7로 이동해야 한다\n",
    "    y_B = (y[y_5_or_6] == 6).astype(np.float32)  # 이진 분류 작업: 셔츠(클래스 6)인가?\n",
    "    return (X[~y_5_or_6], y_A), (X[y_5_or_6], y_B)\n",
    "\n",
    "\n",
    "(X_train_A, y_train_A), (X_train_B, y_train_B) = split_dataset(X_train, y_train)\n",
    "(X_valid_A, y_valid_A), (X_valid_B, y_valid_B) = split_dataset(X_valid, y_valid)\n",
    "(X_test_A, y_test_A), (X_test_B, y_test_B) = split_dataset(X_test, y_test)\n",
    "X_train_B = X_train_B[:200]\n",
    "y_train_B = y_train_B[:200]"
   ]
  },
  {
   "cell_type": "code",
   "execution_count": 44,
   "id": "a4bd08c0-ae95-43b2-8646-6dde4ba2e5e0",
   "metadata": {
    "scrolled": true
   },
   "outputs": [
    {
     "data": {
      "text/plain": [
       "(43986, 28, 28)"
      ]
     },
     "execution_count": 44,
     "metadata": {},
     "output_type": "execute_result"
    }
   ],
   "source": [
    "X_train_A.shape"
   ]
  },
  {
   "cell_type": "code",
   "execution_count": 45,
   "id": "edc11cc4-60ff-4883-8f1d-d85ded0ac6c5",
   "metadata": {
    "scrolled": true
   },
   "outputs": [
    {
     "data": {
      "text/plain": [
       "(200, 28, 28)"
      ]
     },
     "execution_count": 45,
     "metadata": {},
     "output_type": "execute_result"
    }
   ],
   "source": [
    "X_train_B.shape"
   ]
  },
  {
   "cell_type": "code",
   "execution_count": 46,
   "id": "d1f8ba7b-7044-44a3-a97b-f36e0fd2808f",
   "metadata": {
    "scrolled": true
   },
   "outputs": [
    {
     "data": {
      "text/plain": [
       "array([4, 0, 5, 7, 7, 7, 4, 4, 3, 4, 0, 1, 6, 3, 4, 3, 2, 6, 5, 3, 4, 5,\n",
       "       1, 3, 4, 2, 0, 6, 7, 1], dtype=uint8)"
      ]
     },
     "execution_count": 46,
     "metadata": {},
     "output_type": "execute_result"
    }
   ],
   "source": [
    "y_train_A[:30]"
   ]
  },
  {
   "cell_type": "code",
   "execution_count": 47,
   "id": "05446be6-5629-40cd-a646-32e5cd4bc097",
   "metadata": {
    "scrolled": true
   },
   "outputs": [
    {
     "data": {
      "text/plain": [
       "array([1., 1., 0., 0., 0., 0., 1., 1., 1., 0., 0., 1., 1., 0., 0., 0., 0.,\n",
       "       0., 0., 1., 1., 0., 0., 1., 1., 0., 1., 1., 1., 1.], dtype=float32)"
      ]
     },
     "execution_count": 47,
     "metadata": {},
     "output_type": "execute_result"
    }
   ],
   "source": [
    "y_train_B[:30]"
   ]
  },
  {
   "cell_type": "code",
   "execution_count": 48,
   "id": "81618cdc-113a-4ba2-8a32-54438a953ec9",
   "metadata": {
    "scrolled": true
   },
   "outputs": [],
   "source": [
    "model_A = keras.models.Sequential()\n",
    "model_A.add(keras.layers.Flatten(input_shape=[28, 28]))\n",
    "for n_hidden in (300, 100, 50, 50, 50):\n",
    "    model_A.add(keras.layers.Dense(n_hidden, activation=\"selu\"))\n",
    "model_A.add(keras.layers.Dense(8, activation=\"softmax\"))"
   ]
  },
  {
   "cell_type": "code",
   "execution_count": 49,
   "id": "7549254a-2999-4f24-9604-55861546c4e4",
   "metadata": {
    "scrolled": true
   },
   "outputs": [],
   "source": [
    "model_A.compile(\n",
    "    loss=\"sparse_categorical_crossentropy\", optimizer=keras.optimizers.SGD(learning_rate=1e-3), metrics=[\"accuracy\"]\n",
    ")"
   ]
  },
  {
   "cell_type": "code",
   "execution_count": 50,
   "id": "7113ae8b-8aa4-4dcd-a7e0-48ae3bc23cde",
   "metadata": {
    "scrolled": true
   },
   "outputs": [
    {
     "name": "stdout",
     "output_type": "stream",
     "text": [
      "Epoch 1/20\n",
      "1375/1375 [==============================] - 6s 4ms/step - loss: 0.5669 - accuracy: 0.8204 - val_loss: 0.3709 - val_accuracy: 0.8742\n",
      "Epoch 2/20\n",
      "1375/1375 [==============================] - 5s 4ms/step - loss: 0.3517 - accuracy: 0.8813 - val_loss: 0.3219 - val_accuracy: 0.8906\n",
      "Epoch 3/20\n",
      "1375/1375 [==============================] - 5s 4ms/step - loss: 0.3164 - accuracy: 0.8933 - val_loss: 0.2997 - val_accuracy: 0.8986\n",
      "Epoch 4/20\n",
      "1375/1375 [==============================] - 5s 4ms/step - loss: 0.2974 - accuracy: 0.8993 - val_loss: 0.2900 - val_accuracy: 0.8994\n",
      "Epoch 5/20\n",
      "1375/1375 [==============================] - 5s 4ms/step - loss: 0.2849 - accuracy: 0.9035 - val_loss: 0.2773 - val_accuracy: 0.9056\n",
      "Epoch 6/20\n",
      "1375/1375 [==============================] - 5s 4ms/step - loss: 0.2759 - accuracy: 0.9067 - val_loss: 0.2726 - val_accuracy: 0.9076\n",
      "Epoch 7/20\n",
      "1375/1375 [==============================] - 5s 4ms/step - loss: 0.2682 - accuracy: 0.9097 - val_loss: 0.2657 - val_accuracy: 0.9093\n",
      "Epoch 8/20\n",
      "1375/1375 [==============================] - 5s 4ms/step - loss: 0.2618 - accuracy: 0.9121 - val_loss: 0.2619 - val_accuracy: 0.9103\n",
      "Epoch 9/20\n",
      "1375/1375 [==============================] - 5s 4ms/step - loss: 0.2569 - accuracy: 0.9128 - val_loss: 0.2597 - val_accuracy: 0.9138\n",
      "Epoch 10/20\n",
      "1375/1375 [==============================] - 5s 4ms/step - loss: 0.2516 - accuracy: 0.9144 - val_loss: 0.2528 - val_accuracy: 0.9136\n",
      "Epoch 11/20\n",
      "1375/1375 [==============================] - 5s 4ms/step - loss: 0.2472 - accuracy: 0.9167 - val_loss: 0.2498 - val_accuracy: 0.9148\n",
      "Epoch 12/20\n",
      "1375/1375 [==============================] - 5s 4ms/step - loss: 0.2439 - accuracy: 0.9175 - val_loss: 0.2489 - val_accuracy: 0.9143\n",
      "Epoch 13/20\n",
      "1375/1375 [==============================] - 5s 4ms/step - loss: 0.2398 - accuracy: 0.9195 - val_loss: 0.2429 - val_accuracy: 0.9158\n",
      "Epoch 14/20\n",
      "1375/1375 [==============================] - 5s 4ms/step - loss: 0.2365 - accuracy: 0.9202 - val_loss: 0.2495 - val_accuracy: 0.9131\n",
      "Epoch 15/20\n",
      "1375/1375 [==============================] - 5s 4ms/step - loss: 0.2335 - accuracy: 0.9207 - val_loss: 0.2449 - val_accuracy: 0.9165\n",
      "Epoch 16/20\n",
      "1375/1375 [==============================] - 6s 4ms/step - loss: 0.2301 - accuracy: 0.9221 - val_loss: 0.2424 - val_accuracy: 0.9145\n",
      "Epoch 17/20\n",
      "1375/1375 [==============================] - 6s 4ms/step - loss: 0.2271 - accuracy: 0.9235 - val_loss: 0.2462 - val_accuracy: 0.9141\n",
      "Epoch 18/20\n",
      "1375/1375 [==============================] - 5s 4ms/step - loss: 0.2246 - accuracy: 0.9250 - val_loss: 0.2353 - val_accuracy: 0.9203\n",
      "Epoch 19/20\n",
      "1375/1375 [==============================] - 5s 4ms/step - loss: 0.2219 - accuracy: 0.9248 - val_loss: 0.2452 - val_accuracy: 0.9126\n",
      "Epoch 20/20\n",
      "1375/1375 [==============================] - 5s 4ms/step - loss: 0.2199 - accuracy: 0.9254 - val_loss: 0.2363 - val_accuracy: 0.9155\n"
     ]
    }
   ],
   "source": [
    "history = model_A.fit(X_train_A, y_train_A, epochs=20, validation_data=(X_valid_A, y_valid_A))"
   ]
  },
  {
   "cell_type": "code",
   "execution_count": 51,
   "id": "a78e6863-a1b3-4ee4-9e2c-31c3ecb16816",
   "metadata": {
    "scrolled": true,
    "tags": []
   },
   "outputs": [],
   "source": [
    "model_A.save(\"my_model_A.h5\")"
   ]
  },
  {
   "cell_type": "code",
   "execution_count": 52,
   "id": "c7c2564c-717f-4d31-a429-067346b9db66",
   "metadata": {
    "scrolled": true
   },
   "outputs": [],
   "source": [
    "model_B = keras.models.Sequential()\n",
    "model_B.add(keras.layers.Flatten(input_shape=[28, 28]))\n",
    "for n_hidden in (300, 100, 50, 50, 50):\n",
    "    model_B.add(keras.layers.Dense(n_hidden, activation=\"selu\"))\n",
    "model_B.add(keras.layers.Dense(1, activation=\"sigmoid\"))"
   ]
  },
  {
   "cell_type": "code",
   "execution_count": 53,
   "id": "9916a78b-6e89-49cf-b971-3045c339a9dd",
   "metadata": {
    "scrolled": true
   },
   "outputs": [],
   "source": [
    "model_B.compile(loss=\"binary_crossentropy\", optimizer=keras.optimizers.SGD(learning_rate=1e-3), metrics=[\"accuracy\"])"
   ]
  },
  {
   "cell_type": "code",
   "execution_count": 54,
   "id": "a49b088b-cba9-4d09-a8de-965b499f8e9b",
   "metadata": {
    "scrolled": true
   },
   "outputs": [
    {
     "name": "stdout",
     "output_type": "stream",
     "text": [
      "Epoch 1/20\n",
      "7/7 [==============================] - 1s 43ms/step - loss: 0.7542 - accuracy: 0.4800 - val_loss: 0.6148 - val_accuracy: 0.6633\n",
      "Epoch 2/20\n",
      "7/7 [==============================] - 0s 20ms/step - loss: 0.5741 - accuracy: 0.6600 - val_loss: 0.4944 - val_accuracy: 0.7465\n",
      "Epoch 3/20\n",
      "7/7 [==============================] - 0s 19ms/step - loss: 0.4564 - accuracy: 0.8000 - val_loss: 0.4038 - val_accuracy: 0.8540\n",
      "Epoch 4/20\n",
      "7/7 [==============================] - 0s 19ms/step - loss: 0.3702 - accuracy: 0.8850 - val_loss: 0.3439 - val_accuracy: 0.8955\n",
      "Epoch 5/20\n",
      "7/7 [==============================] - 0s 19ms/step - loss: 0.3120 - accuracy: 0.9050 - val_loss: 0.3003 - val_accuracy: 0.9209\n",
      "Epoch 6/20\n",
      "7/7 [==============================] - 0s 18ms/step - loss: 0.2692 - accuracy: 0.9350 - val_loss: 0.2669 - val_accuracy: 0.9280\n",
      "Epoch 7/20\n",
      "7/7 [==============================] - 0s 20ms/step - loss: 0.2359 - accuracy: 0.9600 - val_loss: 0.2430 - val_accuracy: 0.9331\n",
      "Epoch 8/20\n",
      "7/7 [==============================] - 0s 19ms/step - loss: 0.2101 - accuracy: 0.9700 - val_loss: 0.2242 - val_accuracy: 0.9381\n",
      "Epoch 9/20\n",
      "7/7 [==============================] - 0s 19ms/step - loss: 0.1913 - accuracy: 0.9750 - val_loss: 0.2092 - val_accuracy: 0.9473\n",
      "Epoch 10/20\n",
      "7/7 [==============================] - 0s 20ms/step - loss: 0.1749 - accuracy: 0.9800 - val_loss: 0.1944 - val_accuracy: 0.9513\n",
      "Epoch 11/20\n",
      "7/7 [==============================] - 0s 19ms/step - loss: 0.1609 - accuracy: 0.9900 - val_loss: 0.1838 - val_accuracy: 0.9544\n",
      "Epoch 12/20\n",
      "7/7 [==============================] - 0s 19ms/step - loss: 0.1492 - accuracy: 0.9900 - val_loss: 0.1729 - val_accuracy: 0.9584\n",
      "Epoch 13/20\n",
      "7/7 [==============================] - 0s 20ms/step - loss: 0.1385 - accuracy: 0.9900 - val_loss: 0.1642 - val_accuracy: 0.9635\n",
      "Epoch 14/20\n",
      "7/7 [==============================] - 0s 19ms/step - loss: 0.1302 - accuracy: 0.9900 - val_loss: 0.1580 - val_accuracy: 0.9625\n",
      "Epoch 15/20\n",
      "7/7 [==============================] - 0s 20ms/step - loss: 0.1228 - accuracy: 0.9900 - val_loss: 0.1508 - val_accuracy: 0.9675\n",
      "Epoch 16/20\n",
      "7/7 [==============================] - 0s 19ms/step - loss: 0.1155 - accuracy: 0.9900 - val_loss: 0.1442 - val_accuracy: 0.9675\n",
      "Epoch 17/20\n",
      "7/7 [==============================] - 0s 19ms/step - loss: 0.1092 - accuracy: 0.9900 - val_loss: 0.1390 - val_accuracy: 0.9706\n",
      "Epoch 18/20\n",
      "7/7 [==============================] - 0s 19ms/step - loss: 0.1037 - accuracy: 0.9900 - val_loss: 0.1332 - val_accuracy: 0.9716\n",
      "Epoch 19/20\n",
      "7/7 [==============================] - 0s 18ms/step - loss: 0.0980 - accuracy: 0.9900 - val_loss: 0.1287 - val_accuracy: 0.9726\n",
      "Epoch 20/20\n",
      "7/7 [==============================] - 0s 20ms/step - loss: 0.0933 - accuracy: 0.9900 - val_loss: 0.1242 - val_accuracy: 0.9736\n"
     ]
    }
   ],
   "source": [
    "history = model_B.fit(X_train_B, y_train_B, epochs=20, validation_data=(X_valid_B, y_valid_B))"
   ]
  },
  {
   "cell_type": "code",
   "execution_count": 55,
   "id": "0d9bb929-34bd-4e95-9389-b366d1ebaf27",
   "metadata": {
    "scrolled": true,
    "tags": []
   },
   "outputs": [
    {
     "name": "stdout",
     "output_type": "stream",
     "text": [
      "Model: \"sequential_7\"\n",
      "_________________________________________________________________\n",
      " Layer (type)                Output Shape              Param #   \n",
      "=================================================================\n",
      " flatten_7 (Flatten)         (None, 784)               0         \n",
      "                                                                 \n",
      " dense_224 (Dense)           (None, 300)               235500    \n",
      "                                                                 \n",
      " dense_225 (Dense)           (None, 100)               30100     \n",
      "                                                                 \n",
      " dense_226 (Dense)           (None, 50)                5050      \n",
      "                                                                 \n",
      " dense_227 (Dense)           (None, 50)                2550      \n",
      "                                                                 \n",
      " dense_228 (Dense)           (None, 50)                2550      \n",
      "                                                                 \n",
      " dense_229 (Dense)           (None, 1)                 51        \n",
      "                                                                 \n",
      "=================================================================\n",
      "Total params: 275,801\n",
      "Trainable params: 275,801\n",
      "Non-trainable params: 0\n",
      "_________________________________________________________________\n"
     ]
    }
   ],
   "source": [
    "model_B.summary()"
   ]
  },
  {
   "cell_type": "code",
   "execution_count": 56,
   "id": "6a95b8c2-3023-4f66-a1e4-6fdca65922cb",
   "metadata": {
    "scrolled": true
   },
   "outputs": [],
   "source": [
    "model_A = keras.models.load_model(\"my_model_A.h5\")\n",
    "model_B_on_A = keras.models.Sequential(model_A.layers[:-1])\n",
    "model_B_on_A.add(keras.layers.Dense(1, activation=\"sigmoid\"))"
   ]
  },
  {
   "cell_type": "markdown",
   "id": "f61f7142-203a-4704-af97-875a3500c067",
   "metadata": {},
   "source": [
    "`model_B_on_A`와 `model_A`는 층을 공유하기 때문에 하나를 훈련하면 두 모델이 업데이트된다. 이를 피하려면 `model_A`를 클론한 것을 사용해 `model_B_on_A`를 만들어야 한다:"
   ]
  },
  {
   "cell_type": "code",
   "execution_count": 57,
   "id": "07c77cb1-603e-4c54-b173-479324be585e",
   "metadata": {
    "scrolled": true
   },
   "outputs": [],
   "source": [
    "model_A_clone = keras.models.clone_model(model_A)\n",
    "model_A_clone.set_weights(model_A.get_weights())\n",
    "model_B_on_A = keras.models.Sequential(model_A_clone.layers[:-1])\n",
    "model_B_on_A.add(keras.layers.Dense(1, activation=\"sigmoid\"))"
   ]
  },
  {
   "cell_type": "code",
   "execution_count": 58,
   "id": "7c606817-3971-4519-bb5a-d9fd8c0cacc6",
   "metadata": {
    "scrolled": true
   },
   "outputs": [],
   "source": [
    "for layer in model_B_on_A.layers[:-1]:\n",
    "    layer.trainable = False\n",
    "model_B_on_A.compile(\n",
    "    loss=\"binary_crossentropy\", optimizer=keras.optimizers.SGD(learning_rate=1e-3), metrics=[\"accuracy\"]\n",
    ")"
   ]
  },
  {
   "cell_type": "code",
   "execution_count": 59,
   "id": "21b9443a-cf01-4b56-a0d0-04f205cfc86f",
   "metadata": {
    "scrolled": true
   },
   "outputs": [
    {
     "name": "stdout",
     "output_type": "stream",
     "text": [
      "Epoch 1/4\n",
      "7/7 [==============================] - 1s 41ms/step - loss: 1.7676 - accuracy: 0.2550 - val_loss: 1.6629 - val_accuracy: 0.3053\n",
      "Epoch 2/4\n",
      "7/7 [==============================] - 0s 19ms/step - loss: 1.6710 - accuracy: 0.2750 - val_loss: 1.5721 - val_accuracy: 0.3316\n",
      "Epoch 3/4\n",
      "7/7 [==============================] - 0s 19ms/step - loss: 1.5757 - accuracy: 0.2850 - val_loss: 1.4887 - val_accuracy: 0.3428\n",
      "Epoch 4/4\n",
      "7/7 [==============================] - 0s 18ms/step - loss: 1.4884 - accuracy: 0.2950 - val_loss: 1.4108 - val_accuracy: 0.3570\n",
      "Epoch 1/16\n",
      "7/7 [==============================] - 1s 42ms/step - loss: 1.1134 - accuracy: 0.4300 - val_loss: 0.7135 - val_accuracy: 0.5822\n",
      "Epoch 2/16\n",
      "7/7 [==============================] - 0s 22ms/step - loss: 0.6018 - accuracy: 0.6900 - val_loss: 0.4458 - val_accuracy: 0.7870\n",
      "Epoch 3/16\n",
      "7/7 [==============================] - 0s 23ms/step - loss: 0.3822 - accuracy: 0.8300 - val_loss: 0.3014 - val_accuracy: 0.8884\n",
      "Epoch 4/16\n",
      "7/7 [==============================] - 0s 22ms/step - loss: 0.2612 - accuracy: 0.9050 - val_loss: 0.2263 - val_accuracy: 0.9300\n",
      "Epoch 5/16\n",
      "7/7 [==============================] - 0s 22ms/step - loss: 0.1930 - accuracy: 0.9700 - val_loss: 0.1799 - val_accuracy: 0.9584\n",
      "Epoch 6/16\n",
      "7/7 [==============================] - 0s 20ms/step - loss: 0.1510 - accuracy: 0.9850 - val_loss: 0.1494 - val_accuracy: 0.9665\n",
      "Epoch 7/16\n",
      "7/7 [==============================] - 0s 22ms/step - loss: 0.1225 - accuracy: 0.9900 - val_loss: 0.1296 - val_accuracy: 0.9736\n",
      "Epoch 8/16\n",
      "7/7 [==============================] - 0s 21ms/step - loss: 0.1037 - accuracy: 0.9950 - val_loss: 0.1156 - val_accuracy: 0.9777\n",
      "Epoch 9/16\n",
      "7/7 [==============================] - 0s 20ms/step - loss: 0.0903 - accuracy: 1.0000 - val_loss: 0.1052 - val_accuracy: 0.9787\n",
      "Epoch 10/16\n",
      "7/7 [==============================] - 0s 19ms/step - loss: 0.0802 - accuracy: 1.0000 - val_loss: 0.0965 - val_accuracy: 0.9797\n",
      "Epoch 11/16\n",
      "7/7 [==============================] - 0s 20ms/step - loss: 0.0718 - accuracy: 1.0000 - val_loss: 0.0900 - val_accuracy: 0.9817\n",
      "Epoch 12/16\n",
      "7/7 [==============================] - 0s 25ms/step - loss: 0.0656 - accuracy: 1.0000 - val_loss: 0.0847 - val_accuracy: 0.9838\n",
      "Epoch 13/16\n",
      "7/7 [==============================] - 0s 21ms/step - loss: 0.0598 - accuracy: 1.0000 - val_loss: 0.0802 - val_accuracy: 0.9848\n",
      "Epoch 14/16\n",
      "7/7 [==============================] - 0s 22ms/step - loss: 0.0552 - accuracy: 1.0000 - val_loss: 0.0768 - val_accuracy: 0.9848\n",
      "Epoch 15/16\n",
      "7/7 [==============================] - 0s 20ms/step - loss: 0.0513 - accuracy: 1.0000 - val_loss: 0.0733 - val_accuracy: 0.9848\n",
      "Epoch 16/16\n",
      "7/7 [==============================] - 0s 19ms/step - loss: 0.0481 - accuracy: 1.0000 - val_loss: 0.0702 - val_accuracy: 0.9848\n"
     ]
    }
   ],
   "source": [
    "history = model_B_on_A.fit(X_train_B, y_train_B, epochs=4, validation_data=(X_valid_B, y_valid_B))\n",
    "for layer in model_B_on_A.layers[:-1]:\n",
    "    layer.trainable = True\n",
    "model_B_on_A.compile(\n",
    "    loss=\"binary_crossentropy\", optimizer=keras.optimizers.SGD(learning_rate=1e-3), metrics=[\"accuracy\"]\n",
    ")\n",
    "history = model_B_on_A.fit(X_train_B, y_train_B, epochs=16, validation_data=(X_valid_B, y_valid_B))"
   ]
  },
  {
   "cell_type": "markdown",
   "id": "d7b23e81-e4f6-4ac8-8b9b-6e6e51cb77a5",
   "metadata": {
    "tags": []
   },
   "source": [
    "마지막 점수는 어떨까?"
   ]
  },
  {
   "cell_type": "code",
   "execution_count": 60,
   "id": "b938d01b-7a48-4d86-8344-3d4cc292777d",
   "metadata": {
    "scrolled": true
   },
   "outputs": [
    {
     "name": "stdout",
     "output_type": "stream",
     "text": [
      "63/63 [==============================] - 0s 2ms/step - loss: 0.1184 - accuracy: 0.9785\n"
     ]
    },
    {
     "data": {
      "text/plain": [
       "[0.11841949820518494, 0.9785000085830688]"
      ]
     },
     "execution_count": 60,
     "metadata": {},
     "output_type": "execute_result"
    }
   ],
   "source": [
    "B = model_B.evaluate(X_test_B, y_test_B)\n",
    "B"
   ]
  },
  {
   "cell_type": "code",
   "execution_count": 61,
   "id": "9b899fd5-8f9d-4fb6-94f3-395f810195db",
   "metadata": {
    "scrolled": true
   },
   "outputs": [
    {
     "name": "stdout",
     "output_type": "stream",
     "text": [
      "63/63 [==============================] - 0s 2ms/step - loss: 0.0656 - accuracy: 0.9895\n"
     ]
    },
    {
     "data": {
      "text/plain": [
       "[0.065567746758461, 0.9894999861717224]"
      ]
     },
     "execution_count": 61,
     "metadata": {},
     "output_type": "execute_result"
    }
   ],
   "source": [
    "B_on_A = model_B_on_A.evaluate(X_test_B, y_test_B)\n",
    "B_on_A"
   ]
  },
  {
   "cell_type": "markdown",
   "id": "a81f73de-c1be-4a6f-b957-050b06e100eb",
   "metadata": {},
   "source": [
    "아주 약간의 정보를 전달했다: 오차율이 아주 조금 줄었다."
   ]
  },
  {
   "cell_type": "code",
   "execution_count": 62,
   "id": "bffbbb62-e7d9-4ce6-88df-477cf6bf537b",
   "metadata": {
    "scrolled": true
   },
   "outputs": [
    {
     "data": {
      "text/plain": [
       "1.0001110991014803"
      ]
     },
     "execution_count": 62,
     "metadata": {},
     "output_type": "execute_result"
    }
   ],
   "source": [
    "(100 - B[1]) / (100 - B_on_A[1])"
   ]
  },
  {
   "cell_type": "markdown",
   "id": "9b19bb16-b5f4-4184-b529-c011eaddedb5",
   "metadata": {
    "tags": []
   },
   "source": [
    "# 고속 옵티마이저"
   ]
  },
  {
   "cell_type": "markdown",
   "id": "cbb69212-b7c2-4cc1-8281-f4be2a448031",
   "metadata": {},
   "source": [
    "## 모멘텀 옵티마이저"
   ]
  },
  {
   "cell_type": "code",
   "execution_count": 63,
   "id": "4a22926a-72f2-4d37-bd45-45e610f324fe",
   "metadata": {
    "scrolled": true
   },
   "outputs": [],
   "source": [
    "optimizer = keras.optimizers.SGD(learning_rate=0.001, momentum=0.9)"
   ]
  },
  {
   "cell_type": "markdown",
   "id": "af03d5ef-d9ce-47cf-8d08-3a8a780859db",
   "metadata": {},
   "source": [
    "## 네스테로프 가속 경사"
   ]
  },
  {
   "cell_type": "code",
   "execution_count": 64,
   "id": "26887969-a595-424b-984c-3f74ff07b949",
   "metadata": {
    "scrolled": true
   },
   "outputs": [],
   "source": [
    "optimizer = keras.optimizers.SGD(learning_rate=0.001, momentum=0.9, nesterov=True)"
   ]
  },
  {
   "cell_type": "markdown",
   "id": "fc5e18f7-8c1b-4fcf-a50e-30ca3c60370a",
   "metadata": {},
   "source": [
    "## AdaGrad"
   ]
  },
  {
   "cell_type": "code",
   "execution_count": 65,
   "id": "8235a7dc-e1d7-483d-9261-b2dc9c5b3a40",
   "metadata": {
    "scrolled": true
   },
   "outputs": [],
   "source": [
    "optimizer = keras.optimizers.Adagrad()"
   ]
  },
  {
   "cell_type": "markdown",
   "id": "b0c29163-f5fd-4b9a-a54b-60aeba38db6a",
   "metadata": {},
   "source": [
    "## RMSProp"
   ]
  },
  {
   "cell_type": "code",
   "execution_count": 66,
   "id": "39a7e7e7-43ed-4722-be24-b92431d29673",
   "metadata": {
    "scrolled": true
   },
   "outputs": [],
   "source": [
    "optimizer = keras.optimizers.RMSprop()"
   ]
  },
  {
   "cell_type": "markdown",
   "id": "892241ac-ff4d-40b8-b57f-7a772c97f189",
   "metadata": {},
   "source": [
    "## Adam 옵티마이저"
   ]
  },
  {
   "cell_type": "code",
   "execution_count": 67,
   "id": "41fb2553-1ce9-467d-b669-18d5f3ca3c66",
   "metadata": {
    "scrolled": true
   },
   "outputs": [],
   "source": [
    "optimizer = keras.optimizers.Adam()"
   ]
  },
  {
   "cell_type": "markdown",
   "id": "08b42551-d050-4a6c-babc-cf7a0386c0af",
   "metadata": {},
   "source": [
    "## Nadam 옵티마이저"
   ]
  },
  {
   "cell_type": "code",
   "execution_count": 68,
   "id": "c424614b-32c1-4c96-8398-913aa6cdf915",
   "metadata": {
    "scrolled": true
   },
   "outputs": [],
   "source": [
    "optimizer = keras.optimizers.Nadam()"
   ]
  },
  {
   "cell_type": "markdown",
   "id": "d7d40f32-3942-4e85-8cac-8e7cf2f90c5e",
   "metadata": {
    "tags": []
   },
   "source": [
    "## 학습률 스케줄링"
   ]
  },
  {
   "cell_type": "markdown",
   "id": "e2fa9774-ab3e-47c6-b3fd-216f4eefc8ff",
   "metadata": {},
   "source": [
    "### 거듭제곱 스케줄링"
   ]
  },
  {
   "cell_type": "markdown",
   "id": "298e65fa-7785-4430-8a1e-3dd7903c969e",
   "metadata": {},
   "source": [
    "```lr = lr0 / (1 + steps / s)**c```\n",
    "* 케라스는 `c=1`과 `s = 1 / decay`을 사용한다"
   ]
  },
  {
   "cell_type": "code",
   "execution_count": 69,
   "id": "a41a3dde-6dd5-4378-bf6b-8c4e85d49185",
   "metadata": {
    "scrolled": true
   },
   "outputs": [],
   "source": [
    "optimizer = keras.optimizers.SGD(decay=1e-4)"
   ]
  },
  {
   "cell_type": "code",
   "execution_count": 70,
   "id": "c5a68479-f73a-47a3-b2fb-8265f654a9c5",
   "metadata": {
    "scrolled": true
   },
   "outputs": [],
   "source": [
    "model = keras.models.Sequential(\n",
    "    [\n",
    "        keras.layers.Flatten(input_shape=[28, 28]),\n",
    "        keras.layers.Dense(300, activation=\"selu\", kernel_initializer=\"lecun_normal\"),\n",
    "        keras.layers.Dense(100, activation=\"selu\", kernel_initializer=\"lecun_normal\"),\n",
    "        keras.layers.Dense(10, activation=\"softmax\")\n",
    "    ]\n",
    ")\n",
    "model.compile(loss=\"sparse_categorical_crossentropy\", optimizer=optimizer, metrics=[\"accuracy\"])"
   ]
  },
  {
   "cell_type": "code",
   "execution_count": 71,
   "id": "356065a7-2f9d-46a5-9c35-b8c8c6547b2a",
   "metadata": {
    "scrolled": true
   },
   "outputs": [
    {
     "name": "stdout",
     "output_type": "stream",
     "text": [
      "Epoch 1/25\n",
      "1719/1719 [==============================] - 6s 3ms/step - loss: 0.4860 - accuracy: 0.8281 - val_loss: 0.4170 - val_accuracy: 0.8548\n",
      "Epoch 2/25\n",
      "1719/1719 [==============================] - 5s 3ms/step - loss: 0.3782 - accuracy: 0.8661 - val_loss: 0.3785 - val_accuracy: 0.8692\n",
      "Epoch 3/25\n",
      "1719/1719 [==============================] - 5s 3ms/step - loss: 0.3454 - accuracy: 0.8780 - val_loss: 0.3624 - val_accuracy: 0.8728\n",
      "Epoch 4/25\n",
      "1719/1719 [==============================] - 5s 3ms/step - loss: 0.3239 - accuracy: 0.8852 - val_loss: 0.3537 - val_accuracy: 0.8786\n",
      "Epoch 5/25\n",
      "1719/1719 [==============================] - 5s 3ms/step - loss: 0.3080 - accuracy: 0.8897 - val_loss: 0.3535 - val_accuracy: 0.8742\n",
      "Epoch 6/25\n",
      "1719/1719 [==============================] - 5s 3ms/step - loss: 0.2959 - accuracy: 0.8941 - val_loss: 0.3417 - val_accuracy: 0.8798\n",
      "Epoch 7/25\n",
      "1719/1719 [==============================] - 5s 3ms/step - loss: 0.2855 - accuracy: 0.8983 - val_loss: 0.3360 - val_accuracy: 0.8816\n",
      "Epoch 8/25\n",
      "1719/1719 [==============================] - 5s 3ms/step - loss: 0.2760 - accuracy: 0.9023 - val_loss: 0.3305 - val_accuracy: 0.8858\n",
      "Epoch 9/25\n",
      "1719/1719 [==============================] - 5s 3ms/step - loss: 0.2686 - accuracy: 0.9049 - val_loss: 0.3331 - val_accuracy: 0.8846\n",
      "Epoch 10/25\n",
      "1719/1719 [==============================] - 5s 3ms/step - loss: 0.2610 - accuracy: 0.9070 - val_loss: 0.3314 - val_accuracy: 0.8874\n",
      "Epoch 11/25\n",
      "1719/1719 [==============================] - 5s 3ms/step - loss: 0.2551 - accuracy: 0.9102 - val_loss: 0.3312 - val_accuracy: 0.8842\n",
      "Epoch 12/25\n",
      "1719/1719 [==============================] - 5s 3ms/step - loss: 0.2492 - accuracy: 0.9111 - val_loss: 0.3251 - val_accuracy: 0.8850\n",
      "Epoch 13/25\n",
      "1719/1719 [==============================] - 5s 3ms/step - loss: 0.2444 - accuracy: 0.9125 - val_loss: 0.3239 - val_accuracy: 0.8928\n",
      "Epoch 14/25\n",
      "1719/1719 [==============================] - 5s 3ms/step - loss: 0.2399 - accuracy: 0.9156 - val_loss: 0.3243 - val_accuracy: 0.8870\n",
      "Epoch 15/25\n",
      "1719/1719 [==============================] - 5s 3ms/step - loss: 0.2352 - accuracy: 0.9174 - val_loss: 0.3268 - val_accuracy: 0.8876\n",
      "Epoch 16/25\n",
      "1719/1719 [==============================] - 5s 3ms/step - loss: 0.2313 - accuracy: 0.9192 - val_loss: 0.3201 - val_accuracy: 0.8888\n",
      "Epoch 17/25\n",
      "1719/1719 [==============================] - 5s 3ms/step - loss: 0.2271 - accuracy: 0.9211 - val_loss: 0.3231 - val_accuracy: 0.8882\n",
      "Epoch 18/25\n",
      "1719/1719 [==============================] - 5s 3ms/step - loss: 0.2242 - accuracy: 0.9211 - val_loss: 0.3202 - val_accuracy: 0.8916\n",
      "Epoch 19/25\n",
      "1719/1719 [==============================] - 5s 3ms/step - loss: 0.2204 - accuracy: 0.9229 - val_loss: 0.3204 - val_accuracy: 0.8894\n",
      "Epoch 20/25\n",
      "1719/1719 [==============================] - 5s 3ms/step - loss: 0.2169 - accuracy: 0.9246 - val_loss: 0.3205 - val_accuracy: 0.8894\n",
      "Epoch 21/25\n",
      "1719/1719 [==============================] - 5s 3ms/step - loss: 0.2140 - accuracy: 0.9254 - val_loss: 0.3262 - val_accuracy: 0.8860\n",
      "Epoch 22/25\n",
      "1719/1719 [==============================] - 5s 3ms/step - loss: 0.2112 - accuracy: 0.9267 - val_loss: 0.3188 - val_accuracy: 0.8884\n",
      "Epoch 23/25\n",
      "1719/1719 [==============================] - 5s 3ms/step - loss: 0.2091 - accuracy: 0.9277 - val_loss: 0.3193 - val_accuracy: 0.8892\n",
      "Epoch 24/25\n",
      "1719/1719 [==============================] - 5s 3ms/step - loss: 0.2060 - accuracy: 0.9292 - val_loss: 0.3217 - val_accuracy: 0.8880\n",
      "Epoch 25/25\n",
      "1719/1719 [==============================] - 5s 3ms/step - loss: 0.2037 - accuracy: 0.9295 - val_loss: 0.3184 - val_accuracy: 0.8924\n"
     ]
    }
   ],
   "source": [
    "n_epochs = 25\n",
    "history = model.fit(X_train_scaled, y_train, epochs=n_epochs, validation_data=(X_valid_scaled, y_valid))"
   ]
  },
  {
   "cell_type": "code",
   "execution_count": 72,
   "id": "30ad3ff1-d453-4c0f-adc1-add9599efcbd",
   "metadata": {
    "scrolled": true,
    "tags": []
   },
   "outputs": [
    {
     "data": {
      "image/png": "[encoded data removed]",
      "text/plain": [
       "<Figure size 432x288 with 1 Axes>"
      ]
     },
     "metadata": {
      "needs_background": "light"
     },
     "output_type": "display_data"
    }
   ],
   "source": [
    "import math\n",
    "\n",
    "learning_rate = 0.01\n",
    "decay = 1e-4\n",
    "batch_size = 32\n",
    "n_steps_per_epoch = math.ceil(len(X_train) / batch_size)\n",
    "epochs = np.arange(n_epochs)\n",
    "lrs = learning_rate / (1 + decay * epochs * n_steps_per_epoch)\n",
    "plt.plot(epochs, lrs, \"o-\")\n",
    "plt.axis([0, n_epochs - 1, 0, 0.01])\n",
    "plt.xlabel(\"Epoch\")\n",
    "plt.ylabel(\"Learning Rate\")\n",
    "plt.title(\"Power Scheduling\", fontsize=14)\n",
    "plt.grid(True)\n",
    "plt.show()"
   ]
  },
  {
   "cell_type": "markdown",
   "id": "152ea458-a5cd-4d4e-9f9f-41c1f5531c4c",
   "metadata": {
    "tags": []
   },
   "source": [
    "### 지수 기반 스케줄링"
   ]
  },
  {
   "cell_type": "markdown",
   "id": "83c0f2fd-3780-46c2-8702-9adb0e018b4f",
   "metadata": {},
   "source": [
    "```lr = lr0 * 0.1**(epoch / s)```"
   ]
  },
  {
   "cell_type": "code",
   "execution_count": 73,
   "id": "a3e75cb7-dcaa-4455-9f99-ae540192f14e",
   "metadata": {
    "scrolled": true
   },
   "outputs": [],
   "source": [
    "def exponential_decay_fn(epoch):\n",
    "    return 0.01 * 0.1 ** (epoch / 20)"
   ]
  },
  {
   "cell_type": "code",
   "execution_count": 74,
   "id": "dcdad474-f606-4d6d-b785-622cc49781cc",
   "metadata": {
    "scrolled": true
   },
   "outputs": [],
   "source": [
    "def exponential_decay(lr0, s):\n",
    "    def exponential_decay_fn(epoch):\n",
    "        return lr0 * 0.1 ** (epoch / s)\n",
    "\n",
    "    return exponential_decay_fn\n",
    "\n",
    "\n",
    "exponential_decay_fn = exponential_decay(lr0=0.01, s=20)"
   ]
  },
  {
   "cell_type": "code",
   "execution_count": 75,
   "id": "881d775c-667b-41c8-b50b-c1a3a6276651",
   "metadata": {
    "scrolled": true
   },
   "outputs": [],
   "source": [
    "model = keras.models.Sequential(\n",
    "    [\n",
    "        keras.layers.Flatten(input_shape=[28, 28]),\n",
    "        keras.layers.Dense(300, activation=\"selu\", kernel_initializer=\"lecun_normal\"),\n",
    "        keras.layers.Dense(100, activation=\"selu\", kernel_initializer=\"lecun_normal\"),\n",
    "        keras.layers.Dense(10, activation=\"softmax\")\n",
    "    ]\n",
    ")\n",
    "model.compile(loss=\"sparse_categorical_crossentropy\", optimizer=\"nadam\", metrics=[\"accuracy\"])\n",
    "n_epochs = 25"
   ]
  },
  {
   "cell_type": "code",
   "execution_count": 76,
   "id": "c32a831a-b257-4c7b-b6f8-9a5c79e67234",
   "metadata": {
    "scrolled": true
   },
   "outputs": [
    {
     "name": "stdout",
     "output_type": "stream",
     "text": [
      "Epoch 1/25\n",
      "1719/1719 [==============================] - 11s 6ms/step - loss: 0.8726 - accuracy: 0.7497 - val_loss: 0.8406 - val_accuracy: 0.7824 - lr: 0.0100\n",
      "Epoch 2/25\n",
      "1719/1719 [==============================] - 10s 6ms/step - loss: 0.6878 - accuracy: 0.7928 - val_loss: 0.5733 - val_accuracy: 0.8194 - lr: 0.0089\n",
      "Epoch 3/25\n",
      "1719/1719 [==============================] - 10s 6ms/step - loss: 0.6135 - accuracy: 0.8154 - val_loss: 0.5701 - val_accuracy: 0.8436 - lr: 0.0079\n",
      "Epoch 4/25\n",
      "1719/1719 [==============================] - 10s 6ms/step - loss: 0.5456 - accuracy: 0.8387 - val_loss: 0.6605 - val_accuracy: 0.8478 - lr: 0.0071\n",
      "Epoch 5/25\n",
      "1719/1719 [==============================] - 10s 6ms/step - loss: 0.5110 - accuracy: 0.8500 - val_loss: 0.6270 - val_accuracy: 0.8308 - lr: 0.0063\n",
      "Epoch 6/25\n",
      "1719/1719 [==============================] - 10s 6ms/step - loss: 0.4599 - accuracy: 0.8631 - val_loss: 0.5522 - val_accuracy: 0.8512 - lr: 0.0056\n",
      "Epoch 7/25\n",
      "1719/1719 [==============================] - 10s 6ms/step - loss: 0.4233 - accuracy: 0.8717 - val_loss: 0.4548 - val_accuracy: 0.8692 - lr: 0.0050\n",
      "Epoch 8/25\n",
      "1719/1719 [==============================] - 10s 6ms/step - loss: 0.3854 - accuracy: 0.8816 - val_loss: 0.4647 - val_accuracy: 0.8710 - lr: 0.0045\n",
      "Epoch 9/25\n",
      "1719/1719 [==============================] - 10s 6ms/step - loss: 0.3578 - accuracy: 0.8874 - val_loss: 0.4509 - val_accuracy: 0.8672 - lr: 0.0040\n",
      "Epoch 10/25\n",
      "1719/1719 [==============================] - 10s 6ms/step - loss: 0.3329 - accuracy: 0.8941 - val_loss: 0.4195 - val_accuracy: 0.8772 - lr: 0.0035\n",
      "Epoch 11/25\n",
      "1719/1719 [==============================] - 10s 6ms/step - loss: 0.3099 - accuracy: 0.9016 - val_loss: 0.4462 - val_accuracy: 0.8692 - lr: 0.0032\n",
      "Epoch 12/25\n",
      "1719/1719 [==============================] - 10s 6ms/step - loss: 0.2867 - accuracy: 0.9048 - val_loss: 0.4784 - val_accuracy: 0.8740 - lr: 0.0028\n",
      "Epoch 13/25\n",
      "1719/1719 [==============================] - 10s 6ms/step - loss: 0.2619 - accuracy: 0.9112 - val_loss: 0.4166 - val_accuracy: 0.8800 - lr: 0.0025\n",
      "Epoch 14/25\n",
      "1719/1719 [==============================] - 11s 6ms/step - loss: 0.2448 - accuracy: 0.9160 - val_loss: 0.4167 - val_accuracy: 0.8864 - lr: 0.0022\n",
      "Epoch 15/25\n",
      "1719/1719 [==============================] - 10s 6ms/step - loss: 0.2309 - accuracy: 0.9202 - val_loss: 0.4547 - val_accuracy: 0.8794 - lr: 0.0020\n",
      "Epoch 16/25\n",
      "1719/1719 [==============================] - 10s 6ms/step - loss: 0.2078 - accuracy: 0.9267 - val_loss: 0.4473 - val_accuracy: 0.8836 - lr: 0.0018\n",
      "Epoch 17/25\n",
      "1719/1719 [==============================] - 10s 6ms/step - loss: 0.1949 - accuracy: 0.9313 - val_loss: 0.4254 - val_accuracy: 0.8878 - lr: 0.0016\n",
      "Epoch 18/25\n",
      "1719/1719 [==============================] - 10s 6ms/step - loss: 0.1804 - accuracy: 0.9360 - val_loss: 0.4774 - val_accuracy: 0.8824 - lr: 0.0014\n",
      "Epoch 19/25\n",
      "1719/1719 [==============================] - 10s 6ms/step - loss: 0.1697 - accuracy: 0.9388 - val_loss: 0.4668 - val_accuracy: 0.8834 - lr: 0.0013\n",
      "Epoch 20/25\n",
      "1719/1719 [==============================] - 10s 6ms/step - loss: 0.1542 - accuracy: 0.9445 - val_loss: 0.5102 - val_accuracy: 0.8822 - lr: 0.0011\n",
      "Epoch 21/25\n",
      "1719/1719 [==============================] - 11s 6ms/step - loss: 0.1445 - accuracy: 0.9479 - val_loss: 0.5009 - val_accuracy: 0.8896 - lr: 0.0010\n",
      "Epoch 22/25\n",
      "1719/1719 [==============================] - 10s 6ms/step - loss: 0.1355 - accuracy: 0.9515 - val_loss: 0.5521 - val_accuracy: 0.8860 - lr: 8.9125e-04\n",
      "Epoch 23/25\n",
      "1719/1719 [==============================] - 11s 6ms/step - loss: 0.1247 - accuracy: 0.9546 - val_loss: 0.5563 - val_accuracy: 0.8868 - lr: 7.9433e-04\n",
      "Epoch 24/25\n",
      "1719/1719 [==============================] - 11s 6ms/step - loss: 0.1182 - accuracy: 0.9573 - val_loss: 0.5630 - val_accuracy: 0.8852 - lr: 7.0795e-04\n",
      "Epoch 25/25\n",
      "1719/1719 [==============================] - 10s 6ms/step - loss: 0.1103 - accuracy: 0.9604 - val_loss: 0.6057 - val_accuracy: 0.8880 - lr: 6.3096e-04\n"
     ]
    }
   ],
   "source": [
    "lr_scheduler = keras.callbacks.LearningRateScheduler(exponential_decay_fn)\n",
    "history = model.fit(\n",
    "    X_train_scaled, y_train, epochs=n_epochs, validation_data=(X_valid_scaled, y_valid), callbacks=[lr_scheduler]\n",
    ")"
   ]
  },
  {
   "cell_type": "code",
   "execution_count": 77,
   "id": "1aaee461-77f1-4098-8d83-bdf964e4bb3a",
   "metadata": {
    "scrolled": true,
    "tags": []
   },
   "outputs": [
    {
     "data": {
      "image/png": "[encoded data removed]",
      "text/plain": [
       "<Figure size 432x288 with 1 Axes>"
      ]
     },
     "metadata": {
      "needs_background": "light"
     },
     "output_type": "display_data"
    }
   ],
   "source": [
    "plt.plot(history.epoch, history.history[\"lr\"], \"o-\")\n",
    "plt.axis([0, n_epochs - 1, 0, 0.011])\n",
    "plt.xlabel(\"Epoch\")\n",
    "plt.ylabel(\"Learning Rate\")\n",
    "plt.title(\"Exponential Scheduling\", fontsize=14)\n",
    "plt.grid(True)\n",
    "plt.show()"
   ]
  },
  {
   "cell_type": "markdown",
   "id": "9c8ac302-91e0-4ef1-8cd0-8c1fc6bc293d",
   "metadata": {},
   "source": [
    "이 스케줄 함수는 두 번째 매개변수로 현재 학습률을 받을 수 있다:"
   ]
  },
  {
   "cell_type": "code",
   "execution_count": 78,
   "id": "c4bd1a3b-4a21-42af-b44b-1a86be58597c",
   "metadata": {
    "scrolled": true
   },
   "outputs": [],
   "source": [
    "def exponential_decay_fn(epoch, lr):\n",
    "    return lr * 0.1 ** (1 / 20)"
   ]
  },
  {
   "cell_type": "markdown",
   "id": "2b55eb3e-4ace-450b-8cc3-30c652267677",
   "metadata": {},
   "source": [
    "에포크가 아니라 반복마다 학습률을 업데이트하려면 사용자 정의 콜백 클래스를 작성해야 한다:"
   ]
  },
  {
   "cell_type": "code",
   "execution_count": 79,
   "id": "fce13a21-be42-4860-bbb5-f1266d982ad0",
   "metadata": {
    "scrolled": true
   },
   "outputs": [
    {
     "name": "stdout",
     "output_type": "stream",
     "text": [
      "Epoch 1/25\n",
      "1719/1719 [==============================] - 12s 7ms/step - loss: 0.7915 - accuracy: 0.7693 - val_loss: 1.0044 - val_accuracy: 0.7438 - lr: 0.0089\n",
      "Epoch 2/25\n",
      "1719/1719 [==============================] - 11s 7ms/step - loss: 0.6268 - accuracy: 0.8072 - val_loss: 0.6707 - val_accuracy: 0.7664 - lr: 0.0079\n",
      "Epoch 3/25\n",
      "1719/1719 [==============================] - 12s 7ms/step - loss: 0.5799 - accuracy: 0.8233 - val_loss: 0.6814 - val_accuracy: 0.7886 - lr: 0.0071\n",
      "Epoch 4/25\n",
      "1719/1719 [==============================] - 12s 7ms/step - loss: 0.5219 - accuracy: 0.8342 - val_loss: 0.5405 - val_accuracy: 0.8434 - lr: 0.0063\n",
      "Epoch 5/25\n",
      "1719/1719 [==============================] - 14s 8ms/step - loss: 0.4829 - accuracy: 0.8481 - val_loss: 0.5062 - val_accuracy: 0.8508 - lr: 0.0056\n",
      "Epoch 6/25\n",
      "1719/1719 [==============================] - 13s 8ms/step - loss: 0.4332 - accuracy: 0.8604 - val_loss: 0.5103 - val_accuracy: 0.8406 - lr: 0.0050\n",
      "Epoch 7/25\n",
      "1719/1719 [==============================] - 12s 7ms/step - loss: 0.4055 - accuracy: 0.8705 - val_loss: 0.4281 - val_accuracy: 0.8622 - lr: 0.0045\n",
      "Epoch 8/25\n",
      "1719/1719 [==============================] - 11s 7ms/step - loss: 0.3637 - accuracy: 0.8791 - val_loss: 0.4812 - val_accuracy: 0.8576 - lr: 0.0040\n",
      "Epoch 9/25\n",
      "1719/1719 [==============================] - 11s 7ms/step - loss: 0.3415 - accuracy: 0.8885 - val_loss: 0.4201 - val_accuracy: 0.8792 - lr: 0.0035\n",
      "Epoch 10/25\n",
      "1719/1719 [==============================] - 11s 6ms/step - loss: 0.3174 - accuracy: 0.8947 - val_loss: 0.4300 - val_accuracy: 0.8810 - lr: 0.0032\n",
      "Epoch 11/25\n",
      "1719/1719 [==============================] - 11s 6ms/step - loss: 0.2858 - accuracy: 0.9035 - val_loss: 0.4298 - val_accuracy: 0.8808 - lr: 0.0028\n",
      "Epoch 12/25\n",
      "1719/1719 [==============================] - 11s 7ms/step - loss: 0.2833 - accuracy: 0.9076 - val_loss: 0.4269 - val_accuracy: 0.8782 - lr: 0.0025\n",
      "Epoch 13/25\n",
      "1719/1719 [==============================] - 11s 7ms/step - loss: 0.2482 - accuracy: 0.9152 - val_loss: 0.4551 - val_accuracy: 0.8820 - lr: 0.0022\n",
      "Epoch 14/25\n",
      "1719/1719 [==============================] - 12s 7ms/step - loss: 0.2337 - accuracy: 0.9209 - val_loss: 0.4821 - val_accuracy: 0.8864 - lr: 0.0020\n",
      "Epoch 15/25\n",
      "1719/1719 [==============================] - 13s 7ms/step - loss: 0.2174 - accuracy: 0.9248 - val_loss: 0.4368 - val_accuracy: 0.8888 - lr: 0.0018\n",
      "Epoch 16/25\n",
      "1719/1719 [==============================] - 13s 7ms/step - loss: 0.2037 - accuracy: 0.9307 - val_loss: 0.4651 - val_accuracy: 0.8830 - lr: 0.0016\n",
      "Epoch 17/25\n",
      "1719/1719 [==============================] - 12s 7ms/step - loss: 0.1903 - accuracy: 0.9367 - val_loss: 0.4948 - val_accuracy: 0.8880 - lr: 0.0014\n",
      "Epoch 18/25\n",
      "1719/1719 [==============================] - 11s 7ms/step - loss: 0.1790 - accuracy: 0.9402 - val_loss: 0.4567 - val_accuracy: 0.8904 - lr: 0.0013\n",
      "Epoch 19/25\n",
      "1719/1719 [==============================] - 12s 7ms/step - loss: 0.1651 - accuracy: 0.9453 - val_loss: 0.4819 - val_accuracy: 0.8890 - lr: 0.0011\n",
      "Epoch 20/25\n",
      "1719/1719 [==============================] - 12s 7ms/step - loss: 0.1543 - accuracy: 0.9487 - val_loss: 0.5048 - val_accuracy: 0.8928 - lr: 9.9967e-04\n",
      "Epoch 21/25\n",
      "1719/1719 [==============================] - 12s 7ms/step - loss: 0.1435 - accuracy: 0.9521 - val_loss: 0.5397 - val_accuracy: 0.8932 - lr: 8.9094e-04\n",
      "Epoch 22/25\n",
      "1719/1719 [==============================] - 12s 7ms/step - loss: 0.1368 - accuracy: 0.9563 - val_loss: 0.5610 - val_accuracy: 0.8862 - lr: 7.9404e-04\n",
      "Epoch 23/25\n",
      "1719/1719 [==============================] - 11s 7ms/step - loss: 0.1252 - accuracy: 0.9596 - val_loss: 0.5782 - val_accuracy: 0.8878 - lr: 7.0767e-04\n",
      "Epoch 24/25\n",
      "1719/1719 [==============================] - 12s 7ms/step - loss: 0.1181 - accuracy: 0.9618 - val_loss: 0.6009 - val_accuracy: 0.8886 - lr: 6.3071e-04\n",
      "Epoch 25/25\n",
      "1719/1719 [==============================] - 12s 7ms/step - loss: 0.1094 - accuracy: 0.9653 - val_loss: 0.6074 - val_accuracy: 0.8874 - lr: 5.6211e-04\n"
     ]
    }
   ],
   "source": [
    "K = keras.backend\n",
    "\n",
    "\n",
    "class ExponentialDecay(keras.callbacks.Callback):\n",
    "    def __init__(self, s=40000):\n",
    "        super().__init__()\n",
    "        self.s = s\n",
    "\n",
    "    def on_batch_begin(self, batch, logs=None):\n",
    "        # 노트: 에포크마다 `batch` 매개변수가 재설정된다\n",
    "        lr = K.get_value(self.model.optimizer.lr)\n",
    "        K.set_value(self.model.optimizer.lr, lr * 0.1 ** (1 / self.s))\n",
    "\n",
    "    def on_epoch_end(self, epoch, logs=None):\n",
    "        logs = logs or {}\n",
    "        logs[\"lr\"] = K.get_value(self.model.optimizer.lr)\n",
    "\n",
    "\n",
    "model = keras.models.Sequential(\n",
    "    [\n",
    "        keras.layers.Flatten(input_shape=[28, 28]),\n",
    "        keras.layers.Dense(300, activation=\"selu\", kernel_initializer=\"lecun_normal\"),\n",
    "        keras.layers.Dense(100, activation=\"selu\", kernel_initializer=\"lecun_normal\"),\n",
    "        keras.layers.Dense(10, activation=\"softmax\")\n",
    "    ]\n",
    ")\n",
    "lr0 = 0.01\n",
    "optimizer = keras.optimizers.Nadam(learning_rate=lr0)\n",
    "model.compile(loss=\"sparse_categorical_crossentropy\", optimizer=optimizer, metrics=[\"accuracy\"])\n",
    "n_epochs = 25\n",
    "s = 20 * len(X_train) // 32  # 20 에포크 동안 스텝 횟수 (배치 크기 = 32)\n",
    "exp_decay = ExponentialDecay(s)\n",
    "history = model.fit(\n",
    "    X_train_scaled, y_train, epochs=n_epochs, validation_data=(X_valid_scaled, y_valid), callbacks=[exp_decay]\n",
    ")"
   ]
  },
  {
   "cell_type": "code",
   "execution_count": 80,
   "id": "217f50a1-5c53-4fae-9e4f-e9aee4519028",
   "metadata": {
    "scrolled": true,
    "tags": []
   },
   "outputs": [],
   "source": [
    "n_steps = n_epochs * len(X_train) // 32\n",
    "steps = np.arange(n_steps)\n",
    "lrs = lr0 * 0.1 ** (steps / s)"
   ]
  },
  {
   "cell_type": "code",
   "execution_count": 81,
   "id": "74e60567-cc36-4ac0-845e-1df8ec86b700",
   "metadata": {
    "scrolled": true
   },
   "outputs": [
    {
     "data": {
      "image/png": "[encoded data removed]",
      "text/plain": [
       "<Figure size 432x288 with 1 Axes>"
      ]
     },
     "metadata": {
      "needs_background": "light"
     },
     "output_type": "display_data"
    }
   ],
   "source": [
    "plt.plot(steps, lrs, '-', linewidth=2)\n",
    "plt.axis([0, n_steps - 1, 0, lr0 * 1.1])\n",
    "plt.xlabel(\"Batch\")\n",
    "plt.ylabel(\"Learning Rate\")\n",
    "plt.title(\"Exponential Scheduling (per batch)\", fontsize=14)\n",
    "plt.grid(True)\n",
    "plt.show()"
   ]
  },
  {
   "cell_type": "markdown",
   "id": "1aec5ebe-63e0-4abf-b7d9-b016a64a4379",
   "metadata": {},
   "source": [
    "### 기간별 고정 스케줄링"
   ]
  },
  {
   "cell_type": "code",
   "execution_count": 82,
   "id": "601f195c-a0f3-4fed-8823-2d0a8e1311c9",
   "metadata": {
    "scrolled": true
   },
   "outputs": [],
   "source": [
    "def piecewise_constant_fn(epoch):\n",
    "    if epoch < 5:\n",
    "        return 0.01\n",
    "    elif epoch < 15:\n",
    "        return 0.005\n",
    "    else:\n",
    "        return 0.001"
   ]
  },
  {
   "cell_type": "code",
   "execution_count": 83,
   "id": "b10a03c1-f309-4b1d-9f87-8e8694bbe911",
   "metadata": {
    "scrolled": true
   },
   "outputs": [],
   "source": [
    "def piecewise_constant(boundaries, values):\n",
    "    boundaries = np.array([0] + boundaries)\n",
    "    values = np.array(values)\n",
    "\n",
    "    def piecewise_constant_fn(epoch):\n",
    "        return values[np.argmax(boundaries > epoch) - 1]\n",
    "\n",
    "    return piecewise_constant_fn\n",
    "\n",
    "\n",
    "piecewise_constant_fn = piecewise_constant([5, 15], [0.01, 0.005, 0.001])"
   ]
  },
  {
   "cell_type": "code",
   "execution_count": 84,
   "id": "20bb3a14-d760-403f-b6f4-9fb6280de089",
   "metadata": {
    "scrolled": true
   },
   "outputs": [
    {
     "name": "stdout",
     "output_type": "stream",
     "text": [
      "Epoch 1/25\n",
      "1719/1719 [==============================] - 11s 6ms/step - loss: 0.8484 - accuracy: 0.7536 - val_loss: 0.9064 - val_accuracy: 0.7464 - lr: 0.0100\n",
      "Epoch 2/25\n",
      "1719/1719 [==============================] - 10s 6ms/step - loss: 0.8038 - accuracy: 0.7627 - val_loss: 0.6594 - val_accuracy: 0.7922 - lr: 0.0100\n",
      "Epoch 3/25\n",
      "1719/1719 [==============================] - 10s 6ms/step - loss: 0.9053 - accuracy: 0.7469 - val_loss: 0.6332 - val_accuracy: 0.8086 - lr: 0.0100\n",
      "Epoch 4/25\n",
      "1719/1719 [==============================] - 10s 6ms/step - loss: 0.8709 - accuracy: 0.7469 - val_loss: 1.0383 - val_accuracy: 0.7252 - lr: 0.0100\n",
      "Epoch 5/25\n",
      "1719/1719 [==============================] - 10s 6ms/step - loss: 0.9818 - accuracy: 0.6754 - val_loss: 1.3079 - val_accuracy: 0.4496 - lr: 0.0100\n",
      "Epoch 6/25\n",
      "1719/1719 [==============================] - 10s 6ms/step - loss: 0.8561 - accuracy: 0.6573 - val_loss: 0.9655 - val_accuracy: 0.6324 - lr: 0.0050\n",
      "Epoch 7/25\n",
      "1719/1719 [==============================] - 10s 6ms/step - loss: 0.8111 - accuracy: 0.6824 - val_loss: 0.8215 - val_accuracy: 0.7238 - lr: 0.0050\n",
      "Epoch 8/25\n",
      "1719/1719 [==============================] - 10s 6ms/step - loss: 0.7114 - accuracy: 0.7417 - val_loss: 0.8196 - val_accuracy: 0.7532 - lr: 0.0050\n",
      "Epoch 9/25\n",
      "1719/1719 [==============================] - 10s 6ms/step - loss: 0.6397 - accuracy: 0.7607 - val_loss: 0.7345 - val_accuracy: 0.7476 - lr: 0.0050\n",
      "Epoch 10/25\n",
      "1719/1719 [==============================] - 10s 6ms/step - loss: 0.5469 - accuracy: 0.8232 - val_loss: 0.5909 - val_accuracy: 0.8444 - lr: 0.0050\n",
      "Epoch 11/25\n",
      "1719/1719 [==============================] - 10s 6ms/step - loss: 0.4759 - accuracy: 0.8553 - val_loss: 0.5549 - val_accuracy: 0.8534 - lr: 0.0050\n",
      "Epoch 12/25\n",
      "1719/1719 [==============================] - 10s 6ms/step - loss: 0.4826 - accuracy: 0.8571 - val_loss: 0.5615 - val_accuracy: 0.8312 - lr: 0.0050\n",
      "Epoch 13/25\n",
      "1719/1719 [==============================] - 10s 6ms/step - loss: 0.4469 - accuracy: 0.8635 - val_loss: 0.5779 - val_accuracy: 0.8492 - lr: 0.0050\n",
      "Epoch 14/25\n",
      "1719/1719 [==============================] - 10s 6ms/step - loss: 0.4383 - accuracy: 0.8683 - val_loss: 0.6536 - val_accuracy: 0.8512 - lr: 0.0050\n",
      "Epoch 15/25\n",
      "1719/1719 [==============================] - 10s 6ms/step - loss: 0.4577 - accuracy: 0.8663 - val_loss: 0.6340 - val_accuracy: 0.8106 - lr: 0.0050\n",
      "Epoch 16/25\n",
      "1719/1719 [==============================] - 11s 6ms/step - loss: 0.3200 - accuracy: 0.8977 - val_loss: 0.5196 - val_accuracy: 0.8662 - lr: 0.0010\n",
      "Epoch 17/25\n",
      "1719/1719 [==============================] - 11s 6ms/step - loss: 0.2985 - accuracy: 0.9036 - val_loss: 0.4950 - val_accuracy: 0.8686 - lr: 0.0010\n",
      "Epoch 18/25\n",
      "1719/1719 [==============================] - 11s 6ms/step - loss: 0.2912 - accuracy: 0.9071 - val_loss: 0.5149 - val_accuracy: 0.8678 - lr: 0.0010\n",
      "Epoch 19/25\n",
      "1719/1719 [==============================] - 11s 7ms/step - loss: 0.2800 - accuracy: 0.9096 - val_loss: 0.5189 - val_accuracy: 0.8692 - lr: 0.0010\n",
      "Epoch 20/25\n",
      "1719/1719 [==============================] - 11s 6ms/step - loss: 0.2702 - accuracy: 0.9137 - val_loss: 0.5224 - val_accuracy: 0.8702 - lr: 0.0010\n",
      "Epoch 21/25\n",
      "1719/1719 [==============================] - 11s 7ms/step - loss: 0.2620 - accuracy: 0.9157 - val_loss: 0.5637 - val_accuracy: 0.8710 - lr: 0.0010\n",
      "Epoch 22/25\n",
      "1719/1719 [==============================] - 11s 6ms/step - loss: 0.2551 - accuracy: 0.9183 - val_loss: 0.5408 - val_accuracy: 0.8736 - lr: 0.0010\n",
      "Epoch 23/25\n",
      "1719/1719 [==============================] - 11s 6ms/step - loss: 0.2492 - accuracy: 0.9207 - val_loss: 0.5624 - val_accuracy: 0.8736 - lr: 0.0010\n",
      "Epoch 24/25\n",
      "1719/1719 [==============================] - 11s 6ms/step - loss: 0.2431 - accuracy: 0.9232 - val_loss: 0.5580 - val_accuracy: 0.8730 - lr: 0.0010\n",
      "Epoch 25/25\n",
      "1719/1719 [==============================] - 11s 6ms/step - loss: 0.2358 - accuracy: 0.9251 - val_loss: 0.5843 - val_accuracy: 0.8736 - lr: 0.0010\n"
     ]
    }
   ],
   "source": [
    "lr_scheduler = keras.callbacks.LearningRateScheduler(piecewise_constant_fn)\n",
    "model = keras.models.Sequential(\n",
    "    [\n",
    "        keras.layers.Flatten(input_shape=[28, 28]),\n",
    "        keras.layers.Dense(300, activation=\"selu\", kernel_initializer=\"lecun_normal\"),\n",
    "        keras.layers.Dense(100, activation=\"selu\", kernel_initializer=\"lecun_normal\"),\n",
    "        keras.layers.Dense(10, activation=\"softmax\")\n",
    "    ]\n",
    ")\n",
    "model.compile(loss=\"sparse_categorical_crossentropy\", optimizer=\"nadam\", metrics=[\"accuracy\"])\n",
    "n_epochs = 25\n",
    "history = model.fit(\n",
    "    X_train_scaled, y_train, epochs=n_epochs, validation_data=(X_valid_scaled, y_valid), callbacks=[lr_scheduler]\n",
    ")"
   ]
  },
  {
   "cell_type": "code",
   "execution_count": 85,
   "id": "950448ad-faf1-42d9-a7d4-eca0279a72ab",
   "metadata": {
    "scrolled": true,
    "tags": []
   },
   "outputs": [
    {
     "data": {
      "image/png": "[encoded data removed]",
      "text/plain": [
       "<Figure size 432x288 with 1 Axes>"
      ]
     },
     "metadata": {
      "needs_background": "light"
     },
     "output_type": "display_data"
    }
   ],
   "source": [
    "plt.plot(history.epoch, [piecewise_constant_fn(epoch) for epoch in history.epoch], \"o-\")\n",
    "plt.axis([0, n_epochs - 1, 0, 0.011])\n",
    "plt.xlabel(\"Epoch\")\n",
    "plt.ylabel(\"Learning Rate\")\n",
    "plt.title(\"Piecewise Constant Scheduling\", fontsize=14)\n",
    "plt.grid(True)\n",
    "plt.show()"
   ]
  },
  {
   "cell_type": "code",
   "execution_count": 86,
   "id": "6f5f21b3-3db2-4fb3-8dba-6b5554cc4b88",
   "metadata": {
    "scrolled": true
   },
   "outputs": [
    {
     "name": "stdout",
     "output_type": "stream",
     "text": [
      "Epoch 1/25\n",
      "1719/1719 [==============================] - 6s 3ms/step - loss: 0.5897 - accuracy: 0.8076 - val_loss: 0.5808 - val_accuracy: 0.8096 - lr: 0.0200\n",
      "Epoch 2/25\n",
      "1719/1719 [==============================] - 6s 3ms/step - loss: 0.4924 - accuracy: 0.8402 - val_loss: 0.5183 - val_accuracy: 0.8404 - lr: 0.0200\n",
      "Epoch 3/25\n",
      "1719/1719 [==============================] - 6s 3ms/step - loss: 0.4916 - accuracy: 0.8472 - val_loss: 0.5911 - val_accuracy: 0.8264 - lr: 0.0200\n",
      "Epoch 4/25\n",
      "1719/1719 [==============================] - 5s 3ms/step - loss: 0.5026 - accuracy: 0.8501 - val_loss: 0.8257 - val_accuracy: 0.8270 - lr: 0.0200\n",
      "Epoch 5/25\n",
      "1719/1719 [==============================] - 5s 3ms/step - loss: 0.5053 - accuracy: 0.8513 - val_loss: 0.6428 - val_accuracy: 0.8256 - lr: 0.0200\n",
      "Epoch 6/25\n",
      "1719/1719 [==============================] - 5s 3ms/step - loss: 0.4954 - accuracy: 0.8556 - val_loss: 0.5314 - val_accuracy: 0.8594 - lr: 0.0200\n",
      "Epoch 7/25\n",
      "1719/1719 [==============================] - 5s 3ms/step - loss: 0.4921 - accuracy: 0.8584 - val_loss: 0.7228 - val_accuracy: 0.8258 - lr: 0.0200\n",
      "Epoch 8/25\n",
      "1719/1719 [==============================] - 5s 3ms/step - loss: 0.3002 - accuracy: 0.8952 - val_loss: 0.4166 - val_accuracy: 0.8842 - lr: 0.0100\n",
      "Epoch 9/25\n",
      "1719/1719 [==============================] - 5s 3ms/step - loss: 0.2514 - accuracy: 0.9089 - val_loss: 0.3743 - val_accuracy: 0.8828 - lr: 0.0100\n",
      "Epoch 10/25\n",
      "1719/1719 [==============================] - 5s 3ms/step - loss: 0.2258 - accuracy: 0.9161 - val_loss: 0.4616 - val_accuracy: 0.8822 - lr: 0.0100\n",
      "Epoch 11/25\n",
      "1719/1719 [==============================] - 5s 3ms/step - loss: 0.2135 - accuracy: 0.9217 - val_loss: 0.4545 - val_accuracy: 0.8840 - lr: 0.0100\n",
      "Epoch 12/25\n",
      "1719/1719 [==============================] - 5s 3ms/step - loss: 0.2003 - accuracy: 0.9250 - val_loss: 0.4293 - val_accuracy: 0.8850 - lr: 0.0100\n",
      "Epoch 13/25\n",
      "1719/1719 [==============================] - 5s 3ms/step - loss: 0.1881 - accuracy: 0.9297 - val_loss: 0.4452 - val_accuracy: 0.8828 - lr: 0.0100\n",
      "Epoch 14/25\n",
      "1719/1719 [==============================] - 5s 3ms/step - loss: 0.1785 - accuracy: 0.9338 - val_loss: 0.4445 - val_accuracy: 0.8840 - lr: 0.0100\n",
      "Epoch 15/25\n",
      "1719/1719 [==============================] - 6s 3ms/step - loss: 0.1252 - accuracy: 0.9525 - val_loss: 0.4383 - val_accuracy: 0.8954 - lr: 0.0050\n",
      "Epoch 16/25\n",
      "1719/1719 [==============================] - 5s 3ms/step - loss: 0.1090 - accuracy: 0.9585 - val_loss: 0.4465 - val_accuracy: 0.8926 - lr: 0.0050\n",
      "Epoch 17/25\n",
      "1719/1719 [==============================] - 5s 3ms/step - loss: 0.0978 - accuracy: 0.9629 - val_loss: 0.4808 - val_accuracy: 0.8916 - lr: 0.0050\n",
      "Epoch 18/25\n",
      "1719/1719 [==============================] - 5s 3ms/step - loss: 0.0924 - accuracy: 0.9651 - val_loss: 0.4728 - val_accuracy: 0.8974 - lr: 0.0050\n",
      "Epoch 19/25\n",
      "1719/1719 [==============================] - 5s 3ms/step - loss: 0.0867 - accuracy: 0.9669 - val_loss: 0.4967 - val_accuracy: 0.8936 - lr: 0.0050\n",
      "Epoch 20/25\n",
      "1719/1719 [==============================] - 5s 3ms/step - loss: 0.0666 - accuracy: 0.9757 - val_loss: 0.5103 - val_accuracy: 0.8966 - lr: 0.0025\n",
      "Epoch 21/25\n",
      "1719/1719 [==============================] - 5s 3ms/step - loss: 0.0607 - accuracy: 0.9782 - val_loss: 0.5155 - val_accuracy: 0.8948 - lr: 0.0025\n",
      "Epoch 22/25\n",
      "1719/1719 [==============================] - 5s 3ms/step - loss: 0.0569 - accuracy: 0.9799 - val_loss: 0.5297 - val_accuracy: 0.8932 - lr: 0.0025\n",
      "Epoch 23/25\n",
      "1719/1719 [==============================] - 5s 3ms/step - loss: 0.0532 - accuracy: 0.9813 - val_loss: 0.5385 - val_accuracy: 0.8948 - lr: 0.0025\n",
      "Epoch 24/25\n",
      "1719/1719 [==============================] - 5s 3ms/step - loss: 0.0504 - accuracy: 0.9828 - val_loss: 0.5508 - val_accuracy: 0.8960 - lr: 0.0025\n",
      "Epoch 25/25\n",
      "1719/1719 [==============================] - 5s 3ms/step - loss: 0.0426 - accuracy: 0.9867 - val_loss: 0.5548 - val_accuracy: 0.8948 - lr: 0.0012\n"
     ]
    }
   ],
   "source": [
    "lr_scheduler = keras.callbacks.ReduceLROnPlateau(factor=0.5, patience=5)\n",
    "model = keras.models.Sequential(\n",
    "    [\n",
    "        keras.layers.Flatten(input_shape=[28, 28]),\n",
    "        keras.layers.Dense(300, activation=\"selu\", kernel_initializer=\"lecun_normal\"),\n",
    "        keras.layers.Dense(100, activation=\"selu\", kernel_initializer=\"lecun_normal\"),\n",
    "        keras.layers.Dense(10, activation=\"softmax\")\n",
    "    ]\n",
    ")\n",
    "optimizer = keras.optimizers.SGD(learning_rate=0.02, momentum=0.9)\n",
    "model.compile(loss=\"sparse_categorical_crossentropy\", optimizer=optimizer, metrics=[\"accuracy\"])\n",
    "n_epochs = 25\n",
    "history = model.fit(\n",
    "    X_train_scaled, y_train, epochs=n_epochs, validation_data=(X_valid_scaled, y_valid), callbacks=[lr_scheduler]\n",
    ")"
   ]
  },
  {
   "cell_type": "code",
   "execution_count": 87,
   "id": "092c4d92-f8ea-48aa-858d-8112a1dba9db",
   "metadata": {
    "scrolled": true,
    "tags": []
   },
   "outputs": [
    {
     "data": {
      "image/png": "[encoded data removed]",
      "text/plain": [
       "<Figure size 432x288 with 2 Axes>"
      ]
     },
     "metadata": {
      "needs_background": "light"
     },
     "output_type": "display_data"
    }
   ],
   "source": [
    "plt.plot(history.epoch, history.history[\"lr\"], \"bo-\")\n",
    "plt.xlabel(\"Epoch\")\n",
    "plt.ylabel(\"Learning Rate\", color='b')\n",
    "plt.tick_params('y', colors='b')\n",
    "plt.gca().set_xlim(0, n_epochs - 1)\n",
    "plt.grid(True)\n",
    "ax2 = plt.gca().twinx()\n",
    "ax2.plot(history.epoch, history.history[\"val_loss\"], \"r^-\")\n",
    "ax2.set_ylabel(\"Validation Loss\", color='r')\n",
    "ax2.tick_params('y', colors='r')\n",
    "plt.title(\"Reduce LR on Plateau\", fontsize=14)\n",
    "plt.show()"
   ]
  },
  {
   "cell_type": "markdown",
   "id": "7632be89-d5ab-46fd-ac94-75323f26cbcc",
   "metadata": {},
   "source": [
    "### tf.keras 스케줄러"
   ]
  },
  {
   "cell_type": "code",
   "execution_count": 88,
   "id": "760e1961-1412-46e7-9a44-3f3934123d16",
   "metadata": {
    "scrolled": true
   },
   "outputs": [
    {
     "name": "stdout",
     "output_type": "stream",
     "text": [
      "Epoch 1/25\n",
      "1719/1719 [==============================] - 6s 3ms/step - loss: 0.4886 - accuracy: 0.8277 - val_loss: 0.4209 - val_accuracy: 0.8572\n",
      "Epoch 2/25\n",
      "1719/1719 [==============================] - 5s 3ms/step - loss: 0.3811 - accuracy: 0.8647 - val_loss: 0.3916 - val_accuracy: 0.8598\n",
      "Epoch 3/25\n",
      "1719/1719 [==============================] - 5s 3ms/step - loss: 0.3470 - accuracy: 0.8765 - val_loss: 0.3789 - val_accuracy: 0.8698\n",
      "Epoch 4/25\n",
      "1719/1719 [==============================] - 5s 3ms/step - loss: 0.3250 - accuracy: 0.8841 - val_loss: 0.3622 - val_accuracy: 0.8674\n",
      "Epoch 5/25\n",
      "1719/1719 [==============================] - 5s 3ms/step - loss: 0.3078 - accuracy: 0.8915 - val_loss: 0.3577 - val_accuracy: 0.8724\n",
      "Epoch 6/25\n",
      "1719/1719 [==============================] - 5s 3ms/step - loss: 0.2946 - accuracy: 0.8963 - val_loss: 0.3583 - val_accuracy: 0.8710\n",
      "Epoch 7/25\n",
      "1719/1719 [==============================] - 5s 3ms/step - loss: 0.2837 - accuracy: 0.8992 - val_loss: 0.3436 - val_accuracy: 0.8782\n",
      "Epoch 8/25\n",
      "1719/1719 [==============================] - 5s 3ms/step - loss: 0.2752 - accuracy: 0.9026 - val_loss: 0.3412 - val_accuracy: 0.8806\n",
      "Epoch 9/25\n",
      "1719/1719 [==============================] - 5s 3ms/step - loss: 0.2674 - accuracy: 0.9053 - val_loss: 0.3410 - val_accuracy: 0.8802\n",
      "Epoch 10/25\n",
      "1719/1719 [==============================] - 5s 3ms/step - loss: 0.2605 - accuracy: 0.9083 - val_loss: 0.3356 - val_accuracy: 0.8818\n",
      "Epoch 11/25\n",
      "1719/1719 [==============================] - 5s 3ms/step - loss: 0.2545 - accuracy: 0.9107 - val_loss: 0.3325 - val_accuracy: 0.8844\n",
      "Epoch 12/25\n",
      "1719/1719 [==============================] - 5s 3ms/step - loss: 0.2497 - accuracy: 0.9125 - val_loss: 0.3322 - val_accuracy: 0.8854\n",
      "Epoch 13/25\n",
      "1719/1719 [==============================] - 5s 3ms/step - loss: 0.2452 - accuracy: 0.9140 - val_loss: 0.3339 - val_accuracy: 0.8858\n",
      "Epoch 14/25\n",
      "1719/1719 [==============================] - 5s 3ms/step - loss: 0.2413 - accuracy: 0.9151 - val_loss: 0.3292 - val_accuracy: 0.8868\n",
      "Epoch 15/25\n",
      "1719/1719 [==============================] - 5s 3ms/step - loss: 0.2374 - accuracy: 0.9166 - val_loss: 0.3306 - val_accuracy: 0.8844\n",
      "Epoch 16/25\n",
      "1719/1719 [==============================] - 5s 3ms/step - loss: 0.2345 - accuracy: 0.9185 - val_loss: 0.3299 - val_accuracy: 0.8848\n",
      "Epoch 17/25\n",
      "1719/1719 [==============================] - 5s 3ms/step - loss: 0.2317 - accuracy: 0.9189 - val_loss: 0.3299 - val_accuracy: 0.8848\n",
      "Epoch 18/25\n",
      "1719/1719 [==============================] - 6s 3ms/step - loss: 0.2292 - accuracy: 0.9203 - val_loss: 0.3279 - val_accuracy: 0.8862\n",
      "Epoch 19/25\n",
      "1719/1719 [==============================] - 5s 3ms/step - loss: 0.2268 - accuracy: 0.9214 - val_loss: 0.3292 - val_accuracy: 0.8844\n",
      "Epoch 20/25\n",
      "1719/1719 [==============================] - 5s 3ms/step - loss: 0.2249 - accuracy: 0.9223 - val_loss: 0.3271 - val_accuracy: 0.8868\n",
      "Epoch 21/25\n",
      "1719/1719 [==============================] - 5s 3ms/step - loss: 0.2232 - accuracy: 0.9231 - val_loss: 0.3267 - val_accuracy: 0.8872\n",
      "Epoch 22/25\n",
      "1719/1719 [==============================] - 5s 3ms/step - loss: 0.2216 - accuracy: 0.9232 - val_loss: 0.3270 - val_accuracy: 0.8864\n",
      "Epoch 23/25\n",
      "1719/1719 [==============================] - 5s 3ms/step - loss: 0.2203 - accuracy: 0.9235 - val_loss: 0.3269 - val_accuracy: 0.8864\n",
      "Epoch 24/25\n",
      "1719/1719 [==============================] - 5s 3ms/step - loss: 0.2190 - accuracy: 0.9250 - val_loss: 0.3261 - val_accuracy: 0.8868\n",
      "Epoch 25/25\n",
      "1719/1719 [==============================] - 5s 3ms/step - loss: 0.2180 - accuracy: 0.9250 - val_loss: 0.3258 - val_accuracy: 0.8872\n"
     ]
    }
   ],
   "source": [
    "model = keras.models.Sequential(\n",
    "    [\n",
    "        keras.layers.Flatten(input_shape=[28, 28]),\n",
    "        keras.layers.Dense(300, activation=\"selu\", kernel_initializer=\"lecun_normal\"),\n",
    "        keras.layers.Dense(100, activation=\"selu\", kernel_initializer=\"lecun_normal\"),\n",
    "        keras.layers.Dense(10, activation=\"softmax\")\n",
    "    ]\n",
    ")\n",
    "s = 20 * len(X_train) // 32  # 20 Epoch의 단계 수 (배치 크기 = 32)\n",
    "learning_rate = keras.optimizers.schedules.ExponentialDecay(0.01, s, 0.1)\n",
    "optimizer = keras.optimizers.SGD(learning_rate)\n",
    "model.compile(loss=\"sparse_categorical_crossentropy\", optimizer=optimizer, metrics=[\"accuracy\"])\n",
    "n_epochs = 25\n",
    "history = model.fit(X_train_scaled, y_train, epochs=n_epochs, validation_data=(X_valid_scaled, y_valid))"
   ]
  },
  {
   "cell_type": "markdown",
   "id": "fd7329a7-8f90-4502-9109-151cf2adcac8",
   "metadata": {
    "tags": []
   },
   "source": [
    "구간별 고정 스케줄링은 다음을 사용한다:"
   ]
  },
  {
   "cell_type": "code",
   "execution_count": 89,
   "id": "675c5776-d431-4d85-8baf-1d436505a569",
   "metadata": {
    "scrolled": true
   },
   "outputs": [],
   "source": [
    "learning_rate = keras.optimizers.schedules.PiecewiseConstantDecay(\n",
    "    boundaries=[5. * n_steps_per_epoch, 15. * n_steps_per_epoch], values=[0.01, 0.005, 0.001]\n",
    ")"
   ]
  },
  {
   "cell_type": "markdown",
   "id": "b6cc676a-39cb-4032-babd-6b9f16e88de4",
   "metadata": {},
   "source": [
    "### 1사이클 스케줄링"
   ]
  },
  {
   "cell_type": "code",
   "execution_count": 90,
   "id": "1531d532-d452-41c8-8d3a-c4b1496b0ef6",
   "metadata": {
    "scrolled": true
   },
   "outputs": [],
   "source": [
    "K = keras.backend\n",
    "\n",
    "\n",
    "class ExponentialLearningRate(keras.callbacks.Callback):\n",
    "    def __init__(self, factor):\n",
    "        self.factor = factor\n",
    "        self.rates = []\n",
    "        self.losses = []\n",
    "\n",
    "    def on_batch_end(self, batch, logs):\n",
    "        self.rates.append(K.get_value(self.model.optimizer.lr))\n",
    "        self.losses.append(logs[\"loss\"])\n",
    "        K.set_value(self.model.optimizer.lr, self.model.optimizer.lr * self.factor)\n",
    "\n",
    "\n",
    "def find_learning_rate(model, X, y, epochs=1, batch_size=32, min_rate=10 ** -5, max_rate=10):\n",
    "    init_weights = model.get_weights()\n",
    "    iterations = math.ceil(len(X) / batch_size) * epochs\n",
    "    factor = np.exp(np.log(max_rate / min_rate) / iterations)\n",
    "    init_lr = K.get_value(model.optimizer.lr)\n",
    "    K.set_value(model.optimizer.lr, min_rate)\n",
    "    exp_lr = ExponentialLearningRate(factor)\n",
    "    history = model.fit(X, y, epochs=epochs, batch_size=batch_size, callbacks=[exp_lr])\n",
    "    K.set_value(model.optimizer.lr, init_lr)\n",
    "    model.set_weights(init_weights)\n",
    "    return exp_lr.rates, exp_lr.losses\n",
    "\n",
    "\n",
    "def plot_lr_vs_loss(rates, losses):\n",
    "    plt.plot(rates, losses)\n",
    "    plt.gca().set_xscale(\"log\")\n",
    "    plt.hlines(min(losses), min(rates), max(rates))\n",
    "    plt.axis([min(rates), max(rates), min(losses), (losses[0] + min(losses)) / 2])\n",
    "    plt.xlabel(\"Learning rate\")\n",
    "    plt.ylabel(\"Loss\")"
   ]
  },
  {
   "cell_type": "markdown",
   "id": "9f9e6998-50b7-4cb3-bede-4f543f22847e",
   "metadata": {},
   "source": [
    "**경고**: `on_batch_end()` 메서드에서 `logs[\"loss\"]`로 (에포크의) 평균 손실을 모은다. 이런 이유로 아래 그래프가 부드럽다. 이는 그래프에서 배치 손실이 폭주하기 시작하는 지점과 그렇지 않은 지점 사이에 지연이 있다는 뜻이다. 따라서 변동이 심한 그래프에서는 조금 더 작은 학습률을 선택해야 한다. 또한 `ExponentialLearningRate` 콜백을 조금 바꾸어 (현재 평균 손실과 이전 평균 손실을 기반으로) 배치 손실을 계산할 수 있다:\n",
    "\n",
    "```python\n",
    "class ExponentialLearningRate(keras.callbacks.Callback):\n",
    "    def __init__(self, factor):\n",
    "        self.prev_loss = None\n",
    "        self.factor = factor\n",
    "        self.rates = []\n",
    "        self.losses = []\n",
    "\n",
    "    def on_epoch_begin(self, epoch, logs=None):\n",
    "        self.prev_loss = 0\n",
    "\n",
    "    def on_batch_end(self, batch, logs=None):\n",
    "        batch_loss = logs[\"loss\"] * (batch + 1) - self.prev_loss * batch\n",
    "        self.prev_loss = logs[\"loss\"]\n",
    "        self.rates.append(K.get_value(self.model.optimizer.lr))\n",
    "        self.losses.append(batch_loss)\n",
    "        K.set_value(self.model.optimizer.lr, self.model.optimizer.lr * self.factor)\n",
    "```"
   ]
  },
  {
   "cell_type": "code",
   "execution_count": 91,
   "id": "58b3bb23-8400-4bbd-abe2-098acbdb5062",
   "metadata": {
    "scrolled": true
   },
   "outputs": [],
   "source": [
    "model = keras.models.Sequential(\n",
    "    [\n",
    "        keras.layers.Flatten(input_shape=[28, 28]),\n",
    "        keras.layers.Dense(300, activation=\"selu\", kernel_initializer=\"lecun_normal\"),\n",
    "        keras.layers.Dense(100, activation=\"selu\", kernel_initializer=\"lecun_normal\"),\n",
    "        keras.layers.Dense(10, activation=\"softmax\")\n",
    "    ]\n",
    ")\n",
    "model.compile(\n",
    "    loss=\"sparse_categorical_crossentropy\", optimizer=keras.optimizers.SGD(learning_rate=1e-3), metrics=[\"accuracy\"]\n",
    ")"
   ]
  },
  {
   "cell_type": "code",
   "execution_count": 92,
   "id": "9d3eac79-9fee-4268-8e24-171e46138a6c",
   "metadata": {
    "scrolled": true
   },
   "outputs": [
    {
     "name": "stdout",
     "output_type": "stream",
     "text": [
      "430/430 [==============================] - 2s 4ms/step - loss: nan - accuracy: 0.4133\n"
     ]
    },
    {
     "data": {
      "image/png": "[encoded data removed]",
      "text/plain": [
       "<Figure size 432x288 with 1 Axes>"
      ]
     },
     "metadata": {
      "needs_background": "light"
     },
     "output_type": "display_data"
    }
   ],
   "source": [
    "batch_size = 128\n",
    "rates, losses = find_learning_rate(model, X_train_scaled, y_train, epochs=1, batch_size=batch_size)\n",
    "plot_lr_vs_loss(rates, losses)"
   ]
  },
  {
   "cell_type": "code",
   "execution_count": 93,
   "id": "b57d93b5-f927-4097-adeb-7d064d83249d",
   "metadata": {
    "scrolled": true
   },
   "outputs": [],
   "source": [
    "class OneCycleScheduler(keras.callbacks.Callback):\n",
    "    def __init__(self, iterations, max_rate, start_rate=None, last_iterations=None, last_rate=None):\n",
    "        self.iterations = iterations\n",
    "        self.max_rate = max_rate\n",
    "        self.start_rate = start_rate or max_rate / 10\n",
    "        self.last_iterations = last_iterations or iterations // 10 + 1\n",
    "        self.half_iteration = (iterations - self.last_iterations) // 2\n",
    "        self.last_rate = last_rate or self.start_rate / 1000\n",
    "        self.iteration = 0\n",
    "\n",
    "    def _interpolate(self, iter1, iter2, rate1, rate2):\n",
    "        return (rate2 - rate1) * (self.iteration - iter1) / (iter2 - iter1) + rate1\n",
    "\n",
    "    def on_batch_begin(self, batch, logs):\n",
    "        if self.iteration < self.half_iteration:\n",
    "            rate = self._interpolate(0, self.half_iteration, self.start_rate, self.max_rate)\n",
    "        elif self.iteration < 2 * self.half_iteration:\n",
    "            rate = self._interpolate(self.half_iteration, 2 * self.half_iteration, self.max_rate, self.start_rate)\n",
    "        else:\n",
    "            rate = self._interpolate(2 * self.half_iteration, self.iterations, self.start_rate, self.last_rate)\n",
    "        self.iteration += 1\n",
    "        K.set_value(self.model.optimizer.lr, rate)"
   ]
  },
  {
   "cell_type": "code",
   "execution_count": 94,
   "id": "41c9d9a6-98dd-4c3f-a561-7ad6432ca7fa",
   "metadata": {
    "scrolled": true
   },
   "outputs": [
    {
     "name": "stdout",
     "output_type": "stream",
     "text": [
      "Epoch 1/25\n",
      "430/430 [==============================] - 2s 4ms/step - loss: 0.6520 - accuracy: 0.7747 - val_loss: 0.4880 - val_accuracy: 0.8374\n",
      "Epoch 2/25\n",
      "430/430 [==============================] - 2s 4ms/step - loss: 0.4599 - accuracy: 0.8377 - val_loss: 0.4419 - val_accuracy: 0.8456\n",
      "Epoch 3/25\n",
      "430/430 [==============================] - 2s 4ms/step - loss: 0.4142 - accuracy: 0.8536 - val_loss: 0.4057 - val_accuracy: 0.8600\n",
      "Epoch 4/25\n",
      "430/430 [==============================] - 1s 3ms/step - loss: 0.3843 - accuracy: 0.8634 - val_loss: 0.4007 - val_accuracy: 0.8592\n",
      "Epoch 5/25\n",
      "430/430 [==============================] - 2s 4ms/step - loss: 0.3631 - accuracy: 0.8701 - val_loss: 0.3747 - val_accuracy: 0.8692\n",
      "Epoch 6/25\n",
      "430/430 [==============================] - 2s 4ms/step - loss: 0.3454 - accuracy: 0.8762 - val_loss: 0.3782 - val_accuracy: 0.8698\n",
      "Epoch 7/25\n",
      "430/430 [==============================] - 2s 3ms/step - loss: 0.3302 - accuracy: 0.8810 - val_loss: 0.3650 - val_accuracy: 0.8736\n",
      "Epoch 8/25\n",
      "430/430 [==============================] - 2s 4ms/step - loss: 0.3172 - accuracy: 0.8856 - val_loss: 0.3870 - val_accuracy: 0.8588\n",
      "Epoch 9/25\n",
      "430/430 [==============================] - 2s 4ms/step - loss: 0.3050 - accuracy: 0.8876 - val_loss: 0.3520 - val_accuracy: 0.8774\n",
      "Epoch 10/25\n",
      "430/430 [==============================] - 2s 4ms/step - loss: 0.2909 - accuracy: 0.8950 - val_loss: 0.3511 - val_accuracy: 0.8780\n",
      "Epoch 11/25\n",
      "430/430 [==============================] - 2s 4ms/step - loss: 0.2796 - accuracy: 0.8981 - val_loss: 0.3568 - val_accuracy: 0.8758\n",
      "Epoch 12/25\n",
      "430/430 [==============================] - 2s 4ms/step - loss: 0.2693 - accuracy: 0.9014 - val_loss: 0.3574 - val_accuracy: 0.8730\n",
      "Epoch 13/25\n",
      "430/430 [==============================] - 2s 4ms/step - loss: 0.2522 - accuracy: 0.9076 - val_loss: 0.3602 - val_accuracy: 0.8706\n",
      "Epoch 14/25\n",
      "430/430 [==============================] - 2s 4ms/step - loss: 0.2384 - accuracy: 0.9141 - val_loss: 0.3330 - val_accuracy: 0.8824\n",
      "Epoch 15/25\n",
      "430/430 [==============================] - 2s 4ms/step - loss: 0.2253 - accuracy: 0.9178 - val_loss: 0.3493 - val_accuracy: 0.8772\n",
      "Epoch 16/25\n",
      "430/430 [==============================] - 2s 4ms/step - loss: 0.2142 - accuracy: 0.9240 - val_loss: 0.3531 - val_accuracy: 0.8768\n",
      "Epoch 17/25\n",
      "430/430 [==============================] - 2s 4ms/step - loss: 0.2047 - accuracy: 0.9274 - val_loss: 0.3318 - val_accuracy: 0.8858\n",
      "Epoch 18/25\n",
      "430/430 [==============================] - 2s 4ms/step - loss: 0.1957 - accuracy: 0.9306 - val_loss: 0.3333 - val_accuracy: 0.8868\n",
      "Epoch 19/25\n",
      "430/430 [==============================] - 2s 4ms/step - loss: 0.1877 - accuracy: 0.9338 - val_loss: 0.3233 - val_accuracy: 0.8874\n",
      "Epoch 20/25\n",
      "430/430 [==============================] - 2s 4ms/step - loss: 0.1805 - accuracy: 0.9371 - val_loss: 0.3247 - val_accuracy: 0.8898\n",
      "Epoch 21/25\n",
      "430/430 [==============================] - 2s 4ms/step - loss: 0.1749 - accuracy: 0.9401 - val_loss: 0.3225 - val_accuracy: 0.8902\n",
      "Epoch 22/25\n",
      "430/430 [==============================] - 2s 4ms/step - loss: 0.1692 - accuracy: 0.9424 - val_loss: 0.3202 - val_accuracy: 0.8904\n",
      "Epoch 23/25\n",
      "430/430 [==============================] - 2s 4ms/step - loss: 0.1649 - accuracy: 0.9447 - val_loss: 0.3196 - val_accuracy: 0.8916\n",
      "Epoch 24/25\n",
      "430/430 [==============================] - 2s 4ms/step - loss: 0.1623 - accuracy: 0.9452 - val_loss: 0.3195 - val_accuracy: 0.8916\n",
      "Epoch 25/25\n",
      "430/430 [==============================] - 2s 4ms/step - loss: 0.1602 - accuracy: 0.9469 - val_loss: 0.3191 - val_accuracy: 0.8916\n"
     ]
    }
   ],
   "source": [
    "n_epochs = 25\n",
    "onecycle = OneCycleScheduler(math.ceil(len(X_train) / batch_size) * n_epochs, max_rate=0.05)\n",
    "history = model.fit(\n",
    "    X_train_scaled,\n",
    "    y_train,\n",
    "    epochs=n_epochs,\n",
    "    batch_size=batch_size,\n",
    "    validation_data=(X_valid_scaled, y_valid),\n",
    "    callbacks=[onecycle]\n",
    ")"
   ]
  },
  {
   "cell_type": "code",
   "execution_count": 95,
   "id": "c2f325f7-dcc2-4691-b0e4-7d5054e1092b",
   "metadata": {
    "scrolled": true,
    "tags": []
   },
   "outputs": [],
   "source": [
    "layer = keras.layers.Dense(\n",
    "    100, activation=\"elu\", kernel_initializer=\"he_normal\", kernel_regularizer=keras.regularizers.l2()\n",
    ")\n",
    "# 또는 인수 0.1의 ℓ1 정규화에 대해 l1(0.1)\n",
    "# 또는 l1_l2(0.1, 0.01) ℓ1 및 ℓ2 정규화에 대해 각각 0.1 및 0.01 인수"
   ]
  },
  {
   "cell_type": "code",
   "execution_count": 96,
   "id": "530ff7f2-a91c-4f85-a270-804eb000dbf2",
   "metadata": {
    "scrolled": true,
    "tags": []
   },
   "outputs": [
    {
     "name": "stdout",
     "output_type": "stream",
     "text": [
      "Epoch 1/2\n",
      "1719/1719 [==============================] - 12s 7ms/step - loss: 1.6396 - accuracy: 0.8117 - val_loss: 0.7248 - val_accuracy: 0.8310\n",
      "Epoch 2/2\n",
      "1719/1719 [==============================] - 11s 7ms/step - loss: 0.7215 - accuracy: 0.8256 - val_loss: 0.7165 - val_accuracy: 0.8226\n"
     ]
    }
   ],
   "source": [
    "model = keras.models.Sequential(\n",
    "    [\n",
    "        keras.layers.Flatten(input_shape=[28, 28]),\n",
    "        keras.layers.Dense(\n",
    "            300, activation=\"elu\", kernel_initializer=\"he_normal\", kernel_regularizer=keras.regularizers.l2()\n",
    "        ),\n",
    "        keras.layers.Dense(\n",
    "            100, activation=\"elu\", kernel_initializer=\"he_normal\", kernel_regularizer=keras.regularizers.l2()\n",
    "        ),\n",
    "        keras.layers.Dense(10, activation=\"softmax\", kernel_regularizer=keras.regularizers.l2())\n",
    "    ]\n",
    ")\n",
    "model.compile(loss=\"sparse_categorical_crossentropy\", optimizer=\"nadam\", metrics=[\"accuracy\"])\n",
    "n_epochs = 2\n",
    "history = model.fit(X_train_scaled, y_train, epochs=n_epochs, validation_data=(X_valid_scaled, y_valid))"
   ]
  },
  {
   "cell_type": "code",
   "execution_count": 97,
   "id": "60c22644-43d2-48ac-bd65-3859dca3a099",
   "metadata": {
    "scrolled": true
   },
   "outputs": [
    {
     "name": "stdout",
     "output_type": "stream",
     "text": [
      "Epoch 1/2\n",
      "1719/1719 [==============================] - 12s 6ms/step - loss: 1.5912 - accuracy: 0.8118 - val_loss: 0.7327 - val_accuracy: 0.8196\n",
      "Epoch 2/2\n",
      "1719/1719 [==============================] - 11s 6ms/step - loss: 0.7150 - accuracy: 0.8283 - val_loss: 0.6910 - val_accuracy: 0.8394\n"
     ]
    }
   ],
   "source": [
    "from functools import partial\n",
    "\n",
    "RegularizedDense = partial(\n",
    "    keras.layers.Dense, activation=\"elu\", kernel_initializer=\"he_normal\", kernel_regularizer=keras.regularizers.l2()\n",
    ")\n",
    "model = keras.models.Sequential(\n",
    "    [\n",
    "        keras.layers.Flatten(input_shape=[28, 28]),\n",
    "        RegularizedDense(300),\n",
    "        RegularizedDense(100),\n",
    "        RegularizedDense(10, activation=\"softmax\")\n",
    "    ]\n",
    ")\n",
    "model.compile(loss=\"sparse_categorical_crossentropy\", optimizer=\"nadam\", metrics=[\"accuracy\"])\n",
    "n_epochs = 2\n",
    "history = model.fit(X_train_scaled, y_train, epochs=n_epochs, validation_data=(X_valid_scaled, y_valid))"
   ]
  },
  {
   "cell_type": "markdown",
   "id": "1122ff2d-d267-4f93-9741-84c5cae43117",
   "metadata": {},
   "source": [
    "## 드롭아웃"
   ]
  },
  {
   "cell_type": "code",
   "execution_count": 98,
   "id": "852c08a7-d039-426c-8d28-0abd2f0ea869",
   "metadata": {
    "scrolled": true
   },
   "outputs": [
    {
     "name": "stdout",
     "output_type": "stream",
     "text": [
      "Epoch 1/2\n",
      "1719/1719 [==============================] - 12s 7ms/step - loss: 0.5727 - accuracy: 0.8027 - val_loss: 0.3726 - val_accuracy: 0.8590\n",
      "Epoch 2/2\n",
      "1719/1719 [==============================] - 11s 7ms/step - loss: 0.4247 - accuracy: 0.8442 - val_loss: 0.3566 - val_accuracy: 0.8714\n"
     ]
    }
   ],
   "source": [
    "model = keras.models.Sequential(\n",
    "    [\n",
    "        keras.layers.Flatten(input_shape=[28, 28]),\n",
    "        keras.layers.Dropout(rate=0.2),\n",
    "        keras.layers.Dense(300, activation=\"elu\", kernel_initializer=\"he_normal\"),\n",
    "        keras.layers.Dropout(rate=0.2),\n",
    "        keras.layers.Dense(100, activation=\"elu\", kernel_initializer=\"he_normal\"),\n",
    "        keras.layers.Dropout(rate=0.2),\n",
    "        keras.layers.Dense(10, activation=\"softmax\")\n",
    "    ]\n",
    ")\n",
    "model.compile(loss=\"sparse_categorical_crossentropy\", optimizer=\"nadam\", metrics=[\"accuracy\"])\n",
    "n_epochs = 2\n",
    "history = model.fit(X_train_scaled, y_train, epochs=n_epochs, validation_data=(X_valid_scaled, y_valid))"
   ]
  },
  {
   "cell_type": "markdown",
   "id": "a2265ba2-4b30-4195-8210-aa8da4dddf99",
   "metadata": {},
   "source": [
    "## 알파 드롭아웃"
   ]
  },
  {
   "cell_type": "code",
   "execution_count": 99,
   "id": "206a3d2c-4396-4f7c-9b70-a0d0b24f7b0a",
   "metadata": {
    "scrolled": true,
    "tags": []
   },
   "outputs": [
    {
     "name": "stdout",
     "output_type": "stream",
     "text": [
      "Epoch 1/20\n",
      "1719/1719 [==============================] - 7s 4ms/step - loss: 0.6695 - accuracy: 0.7578 - val_loss: 0.7009 - val_accuracy: 0.8280\n",
      "Epoch 2/20\n",
      "1719/1719 [==============================] - 7s 4ms/step - loss: 0.5608 - accuracy: 0.7934 - val_loss: 0.5194 - val_accuracy: 0.8438\n",
      "Epoch 3/20\n",
      "1719/1719 [==============================] - 7s 4ms/step - loss: 0.5247 - accuracy: 0.8057 - val_loss: 0.5227 - val_accuracy: 0.8522\n",
      "Epoch 4/20\n",
      "1719/1719 [==============================] - 7s 4ms/step - loss: 0.5088 - accuracy: 0.8119 - val_loss: 0.5046 - val_accuracy: 0.8502\n",
      "Epoch 5/20\n",
      "1719/1719 [==============================] - 7s 4ms/step - loss: 0.4948 - accuracy: 0.8176 - val_loss: 0.5177 - val_accuracy: 0.8512\n",
      "Epoch 6/20\n",
      "1719/1719 [==============================] - 7s 4ms/step - loss: 0.4791 - accuracy: 0.8232 - val_loss: 0.4438 - val_accuracy: 0.8688\n",
      "Epoch 7/20\n",
      "1719/1719 [==============================] - 7s 4ms/step - loss: 0.4689 - accuracy: 0.8264 - val_loss: 0.4692 - val_accuracy: 0.8668\n",
      "Epoch 8/20\n",
      "1719/1719 [==============================] - 7s 4ms/step - loss: 0.4614 - accuracy: 0.8300 - val_loss: 0.4643 - val_accuracy: 0.8560\n",
      "Epoch 9/20\n",
      "1719/1719 [==============================] - 7s 4ms/step - loss: 0.4570 - accuracy: 0.8298 - val_loss: 0.4475 - val_accuracy: 0.8682\n",
      "Epoch 10/20\n",
      "1719/1719 [==============================] - 7s 4ms/step - loss: 0.4544 - accuracy: 0.8303 - val_loss: 0.4607 - val_accuracy: 0.8668\n",
      "Epoch 11/20\n",
      "1719/1719 [==============================] - 7s 4ms/step - loss: 0.4457 - accuracy: 0.8345 - val_loss: 0.4268 - val_accuracy: 0.8690\n",
      "Epoch 12/20\n",
      "1719/1719 [==============================] - 7s 4ms/step - loss: 0.4433 - accuracy: 0.8374 - val_loss: 0.4371 - val_accuracy: 0.8678\n",
      "Epoch 13/20\n",
      "1719/1719 [==============================] - 7s 4ms/step - loss: 0.4429 - accuracy: 0.8350 - val_loss: 0.4671 - val_accuracy: 0.8698\n",
      "Epoch 14/20\n",
      "1719/1719 [==============================] - 7s 4ms/step - loss: 0.4377 - accuracy: 0.8379 - val_loss: 0.4421 - val_accuracy: 0.8734\n",
      "Epoch 15/20\n",
      "1719/1719 [==============================] - 7s 4ms/step - loss: 0.4330 - accuracy: 0.8399 - val_loss: 0.4805 - val_accuracy: 0.8610\n",
      "Epoch 16/20\n",
      "1719/1719 [==============================] - 7s 4ms/step - loss: 0.4317 - accuracy: 0.8389 - val_loss: 0.4470 - val_accuracy: 0.8732\n",
      "Epoch 17/20\n",
      "1719/1719 [==============================] - 7s 4ms/step - loss: 0.4284 - accuracy: 0.8418 - val_loss: 0.4508 - val_accuracy: 0.8628\n",
      "Epoch 18/20\n",
      "1719/1719 [==============================] - 7s 4ms/step - loss: 0.4244 - accuracy: 0.8417 - val_loss: 0.4825 - val_accuracy: 0.8644\n",
      "Epoch 19/20\n",
      "1719/1719 [==============================] - 7s 4ms/step - loss: 0.4223 - accuracy: 0.8431 - val_loss: 0.4282 - val_accuracy: 0.8690\n",
      "Epoch 20/20\n",
      "1719/1719 [==============================] - 7s 4ms/step - loss: 0.4184 - accuracy: 0.8457 - val_loss: 0.4551 - val_accuracy: 0.8664\n"
     ]
    }
   ],
   "source": [
    "model = keras.models.Sequential(\n",
    "    [\n",
    "        keras.layers.Flatten(input_shape=[28, 28]),\n",
    "        keras.layers.AlphaDropout(rate=0.2),\n",
    "        keras.layers.Dense(300, activation=\"selu\", kernel_initializer=\"lecun_normal\"),\n",
    "        keras.layers.AlphaDropout(rate=0.2),\n",
    "        keras.layers.Dense(100, activation=\"selu\", kernel_initializer=\"lecun_normal\"),\n",
    "        keras.layers.AlphaDropout(rate=0.2),\n",
    "        keras.layers.Dense(10, activation=\"softmax\")\n",
    "    ]\n",
    ")\n",
    "optimizer = keras.optimizers.SGD(momentum=0.9, nesterov=True)\n",
    "model.compile(loss=\"sparse_categorical_crossentropy\", optimizer=optimizer, metrics=[\"accuracy\"])\n",
    "n_epochs = 20\n",
    "history = model.fit(X_train_scaled, y_train, epochs=n_epochs, validation_data=(X_valid_scaled, y_valid))"
   ]
  },
  {
   "cell_type": "code",
   "execution_count": 100,
   "id": "3b3f626b-9ae7-4d3b-bb95-089ea822cfc0",
   "metadata": {
    "scrolled": true
   },
   "outputs": [
    {
     "name": "stdout",
     "output_type": "stream",
     "text": [
      "313/313 [==============================] - 1s 2ms/step - loss: 0.5104 - accuracy: 0.8561\n"
     ]
    },
    {
     "data": {
      "text/plain": [
       "[0.5103578567504883, 0.8561000227928162]"
      ]
     },
     "execution_count": 100,
     "metadata": {},
     "output_type": "execute_result"
    }
   ],
   "source": [
    "model.evaluate(X_test_scaled, y_test)"
   ]
  },
  {
   "cell_type": "code",
   "execution_count": 101,
   "id": "0f3920e9-87f8-4cc6-b914-0aaa5cc741d5",
   "metadata": {
    "scrolled": true
   },
   "outputs": [
    {
     "name": "stdout",
     "output_type": "stream",
     "text": [
      "1719/1719 [==============================] - 4s 2ms/step - loss: 0.3810 - accuracy: 0.8750\n"
     ]
    },
    {
     "data": {
      "text/plain": [
       "[0.38100603222846985, 0.874963641166687]"
      ]
     },
     "execution_count": 101,
     "metadata": {},
     "output_type": "execute_result"
    }
   ],
   "source": [
    "model.evaluate(X_train_scaled, y_train)"
   ]
  },
  {
   "cell_type": "code",
   "execution_count": 102,
   "id": "47c78866-0249-40ba-8ac2-35a7aae0fe35",
   "metadata": {
    "scrolled": true
   },
   "outputs": [
    {
     "name": "stdout",
     "output_type": "stream",
     "text": [
      "1719/1719 [==============================] - 6s 4ms/step - loss: 0.4161 - accuracy: 0.8453\n"
     ]
    }
   ],
   "source": [
    "history = model.fit(X_train_scaled, y_train)"
   ]
  },
  {
   "cell_type": "markdown",
   "id": "2d2daa73-f633-407f-a9c9-4ee8e5e87d60",
   "metadata": {},
   "source": [
    "## MC 드롭아웃"
   ]
  },
  {
   "cell_type": "code",
   "execution_count": 103,
   "id": "9128e138-c013-44da-b82c-c9748e9cf850",
   "metadata": {
    "scrolled": true
   },
   "outputs": [],
   "source": [
    "y_probas = np.stack([model(X_test_scaled, training=True) for sample in range(100)])\n",
    "y_proba = y_probas.mean(axis=0)"
   ]
  },
  {
   "cell_type": "code",
   "execution_count": 104,
   "id": "71f1bfd0-e1aa-4aac-b936-0de0418e62da",
   "metadata": {
    "scrolled": true
   },
   "outputs": [
    {
     "name": "stdout",
     "output_type": "stream",
     "text": [
      "1/1 [==============================] - 0s 99ms/step\n"
     ]
    },
    {
     "data": {
      "text/plain": [
       "array([[0.  , 0.  , 0.  , 0.  , 0.  , 0.  , 0.  , 0.  , 0.  , 0.99]],\n",
       "      dtype=float32)"
      ]
     },
     "execution_count": 104,
     "metadata": {},
     "output_type": "execute_result"
    }
   ],
   "source": [
    "np.round(model.predict(X_test_scaled[:1]), 2)"
   ]
  },
  {
   "cell_type": "code",
   "execution_count": 105,
   "id": "927b9f2f-c609-4d40-b0c3-ebf4a3082421",
   "metadata": {
    "scrolled": true,
    "tags": []
   },
   "outputs": [
    {
     "data": {
      "text/plain": [
       "array([[[0.  , 0.  , 0.  , 0.  , 0.  , 0.06, 0.  , 0.12, 0.  , 0.82]],\n",
       "\n",
       "       [[0.  , 0.  , 0.  , 0.  , 0.  , 0.44, 0.  , 0.07, 0.  , 0.48]],\n",
       "\n",
       "       [[0.  , 0.  , 0.  , 0.  , 0.  , 0.33, 0.  , 0.19, 0.  , 0.48]],\n",
       "\n",
       "       [[0.  , 0.  , 0.  , 0.  , 0.  , 0.14, 0.  , 0.09, 0.  , 0.77]],\n",
       "\n",
       "       [[0.  , 0.  , 0.  , 0.  , 0.  , 0.03, 0.  , 0.02, 0.  , 0.95]],\n",
       "\n",
       "       [[0.  , 0.  , 0.  , 0.  , 0.  , 0.01, 0.  , 0.02, 0.  , 0.97]],\n",
       "\n",
       "       [[0.  , 0.  , 0.  , 0.  , 0.  , 0.35, 0.  , 0.37, 0.  , 0.28]],\n",
       "\n",
       "       [[0.  , 0.  , 0.  , 0.  , 0.  , 0.55, 0.  , 0.02, 0.  , 0.43]],\n",
       "\n",
       "       [[0.  , 0.  , 0.  , 0.  , 0.  , 0.01, 0.  , 0.01, 0.  , 0.98]],\n",
       "\n",
       "       [[0.  , 0.  , 0.  , 0.  , 0.  , 0.02, 0.  , 0.02, 0.  , 0.96]],\n",
       "\n",
       "       [[0.  , 0.  , 0.  , 0.  , 0.  , 0.08, 0.  , 0.  , 0.  , 0.92]],\n",
       "\n",
       "       [[0.  , 0.  , 0.  , 0.  , 0.  , 0.07, 0.  , 0.11, 0.  , 0.83]],\n",
       "\n",
       "       [[0.  , 0.  , 0.  , 0.  , 0.  , 0.  , 0.  , 0.02, 0.  , 0.98]],\n",
       "\n",
       "       [[0.  , 0.  , 0.  , 0.  , 0.  , 0.  , 0.  , 0.01, 0.  , 0.99]],\n",
       "\n",
       "       [[0.  , 0.  , 0.  , 0.  , 0.  , 0.03, 0.  , 0.19, 0.  , 0.78]],\n",
       "\n",
       "       [[0.  , 0.  , 0.  , 0.  , 0.  , 0.7 , 0.  , 0.  , 0.  , 0.3 ]],\n",
       "\n",
       "       [[0.  , 0.  , 0.  , 0.  , 0.  , 0.18, 0.  , 0.02, 0.  , 0.8 ]],\n",
       "\n",
       "       [[0.  , 0.  , 0.  , 0.  , 0.  , 0.01, 0.  , 0.31, 0.  , 0.67]],\n",
       "\n",
       "       [[0.  , 0.  , 0.  , 0.  , 0.  , 0.12, 0.  , 0.67, 0.  , 0.21]],\n",
       "\n",
       "       [[0.  , 0.  , 0.  , 0.  , 0.  , 0.01, 0.  , 0.11, 0.  , 0.88]],\n",
       "\n",
       "       [[0.  , 0.  , 0.  , 0.  , 0.  , 0.78, 0.  , 0.06, 0.  , 0.16]],\n",
       "\n",
       "       [[0.  , 0.  , 0.  , 0.  , 0.  , 0.  , 0.  , 0.06, 0.  , 0.94]],\n",
       "\n",
       "       [[0.  , 0.  , 0.  , 0.  , 0.  , 0.33, 0.  , 0.16, 0.  , 0.52]],\n",
       "\n",
       "       [[0.  , 0.  , 0.  , 0.  , 0.  , 0.1 , 0.  , 0.09, 0.  , 0.82]],\n",
       "\n",
       "       [[0.  , 0.  , 0.  , 0.  , 0.  , 0.14, 0.  , 0.11, 0.  , 0.75]],\n",
       "\n",
       "       [[0.  , 0.  , 0.  , 0.  , 0.  , 0.01, 0.  , 0.17, 0.  , 0.81]],\n",
       "\n",
       "       [[0.  , 0.  , 0.  , 0.  , 0.  , 0.03, 0.  , 0.06, 0.  , 0.91]],\n",
       "\n",
       "       [[0.  , 0.  , 0.  , 0.  , 0.  , 0.04, 0.  , 0.03, 0.  , 0.94]],\n",
       "\n",
       "       [[0.  , 0.  , 0.  , 0.  , 0.  , 0.05, 0.  , 0.08, 0.  , 0.87]],\n",
       "\n",
       "       [[0.  , 0.  , 0.  , 0.  , 0.  , 0.23, 0.  , 0.02, 0.  , 0.74]],\n",
       "\n",
       "       [[0.  , 0.  , 0.  , 0.  , 0.  , 0.03, 0.  , 0.05, 0.  , 0.92]],\n",
       "\n",
       "       [[0.  , 0.  , 0.  , 0.  , 0.  , 0.05, 0.  , 0.21, 0.  , 0.74]],\n",
       "\n",
       "       [[0.  , 0.  , 0.  , 0.  , 0.  , 0.  , 0.  , 0.03, 0.  , 0.97]],\n",
       "\n",
       "       [[0.  , 0.  , 0.  , 0.  , 0.  , 0.2 , 0.  , 0.07, 0.  , 0.73]],\n",
       "\n",
       "       [[0.  , 0.  , 0.  , 0.  , 0.  , 0.01, 0.  , 0.11, 0.  , 0.87]],\n",
       "\n",
       "       [[0.  , 0.  , 0.  , 0.  , 0.  , 0.6 , 0.  , 0.05, 0.  , 0.35]],\n",
       "\n",
       "       [[0.  , 0.  , 0.  , 0.  , 0.  , 0.04, 0.  , 0.5 , 0.  , 0.46]],\n",
       "\n",
       "       [[0.  , 0.  , 0.  , 0.  , 0.  , 0.21, 0.  , 0.32, 0.01, 0.46]],\n",
       "\n",
       "       [[0.  , 0.  , 0.  , 0.  , 0.  , 0.09, 0.  , 0.25, 0.  , 0.66]],\n",
       "\n",
       "       [[0.  , 0.  , 0.  , 0.  , 0.  , 0.03, 0.  , 0.02, 0.  , 0.96]],\n",
       "\n",
       "       [[0.  , 0.  , 0.  , 0.  , 0.  , 0.09, 0.  , 0.2 , 0.  , 0.71]],\n",
       "\n",
       "       [[0.  , 0.  , 0.  , 0.  , 0.  , 0.05, 0.  , 0.45, 0.  , 0.5 ]],\n",
       "\n",
       "       [[0.  , 0.  , 0.  , 0.  , 0.  , 0.29, 0.  , 0.42, 0.01, 0.28]],\n",
       "\n",
       "       [[0.  , 0.  , 0.  , 0.  , 0.  , 0.26, 0.  , 0.01, 0.  , 0.74]],\n",
       "\n",
       "       [[0.  , 0.  , 0.  , 0.  , 0.  , 0.01, 0.  , 0.23, 0.  , 0.76]],\n",
       "\n",
       "       [[0.  , 0.  , 0.  , 0.  , 0.  , 0.03, 0.  , 0.2 , 0.  , 0.78]],\n",
       "\n",
       "       [[0.  , 0.  , 0.  , 0.  , 0.  , 0.03, 0.  , 0.04, 0.  , 0.93]],\n",
       "\n",
       "       [[0.  , 0.  , 0.  , 0.  , 0.  , 0.  , 0.  , 0.13, 0.  , 0.87]],\n",
       "\n",
       "       [[0.  , 0.  , 0.  , 0.  , 0.  , 0.03, 0.  , 0.09, 0.  , 0.87]],\n",
       "\n",
       "       [[0.  , 0.  , 0.  , 0.  , 0.  , 0.05, 0.  , 0.05, 0.  , 0.9 ]],\n",
       "\n",
       "       [[0.  , 0.  , 0.  , 0.  , 0.  , 0.02, 0.  , 0.12, 0.  , 0.86]],\n",
       "\n",
       "       [[0.  , 0.  , 0.  , 0.  , 0.  , 0.54, 0.  , 0.01, 0.  , 0.45]],\n",
       "\n",
       "       [[0.  , 0.  , 0.  , 0.  , 0.  , 0.07, 0.  , 0.01, 0.  , 0.92]],\n",
       "\n",
       "       [[0.  , 0.  , 0.  , 0.  , 0.  , 0.01, 0.  , 0.33, 0.  , 0.67]],\n",
       "\n",
       "       [[0.  , 0.  , 0.  , 0.  , 0.  , 0.06, 0.  , 0.1 , 0.  , 0.83]],\n",
       "\n",
       "       [[0.  , 0.  , 0.  , 0.  , 0.  , 0.31, 0.  , 0.02, 0.  , 0.67]],\n",
       "\n",
       "       [[0.  , 0.  , 0.  , 0.  , 0.  , 0.01, 0.  , 0.04, 0.  , 0.95]],\n",
       "\n",
       "       [[0.  , 0.  , 0.  , 0.  , 0.  , 0.67, 0.  , 0.14, 0.  , 0.18]],\n",
       "\n",
       "       [[0.  , 0.  , 0.  , 0.  , 0.  , 0.02, 0.  , 0.08, 0.  , 0.9 ]],\n",
       "\n",
       "       [[0.  , 0.  , 0.  , 0.  , 0.  , 0.02, 0.  , 0.1 , 0.  , 0.88]],\n",
       "\n",
       "       [[0.  , 0.  , 0.  , 0.  , 0.  , 0.01, 0.  , 0.01, 0.  , 0.98]],\n",
       "\n",
       "       [[0.  , 0.  , 0.  , 0.  , 0.  , 0.35, 0.  , 0.2 , 0.  , 0.45]],\n",
       "\n",
       "       [[0.  , 0.  , 0.  , 0.  , 0.  , 0.1 , 0.  , 0.46, 0.  , 0.44]],\n",
       "\n",
       "       [[0.  , 0.  , 0.  , 0.  , 0.  , 0.07, 0.  , 0.3 , 0.  , 0.63]],\n",
       "\n",
       "       [[0.  , 0.  , 0.  , 0.  , 0.  , 0.02, 0.  , 0.14, 0.  , 0.84]],\n",
       "\n",
       "       [[0.  , 0.  , 0.  , 0.  , 0.  , 0.05, 0.  , 0.18, 0.  , 0.76]],\n",
       "\n",
       "       [[0.  , 0.  , 0.  , 0.  , 0.  , 0.35, 0.  , 0.22, 0.  , 0.43]],\n",
       "\n",
       "       [[0.  , 0.  , 0.  , 0.  , 0.  , 0.01, 0.  , 0.82, 0.  , 0.17]],\n",
       "\n",
       "       [[0.  , 0.  , 0.  , 0.  , 0.  , 0.06, 0.  , 0.22, 0.  , 0.72]],\n",
       "\n",
       "       [[0.  , 0.  , 0.  , 0.  , 0.  , 0.3 , 0.  , 0.13, 0.  , 0.57]],\n",
       "\n",
       "       [[0.  , 0.  , 0.  , 0.  , 0.  , 0.01, 0.  , 0.35, 0.  , 0.64]],\n",
       "\n",
       "       [[0.  , 0.  , 0.  , 0.  , 0.  , 0.47, 0.  , 0.04, 0.  , 0.49]],\n",
       "\n",
       "       [[0.  , 0.  , 0.  , 0.  , 0.  , 0.07, 0.  , 0.03, 0.  , 0.9 ]],\n",
       "\n",
       "       [[0.  , 0.  , 0.  , 0.  , 0.  , 0.08, 0.  , 0.09, 0.  , 0.83]],\n",
       "\n",
       "       [[0.  , 0.  , 0.  , 0.  , 0.  , 0.28, 0.  , 0.04, 0.  , 0.68]],\n",
       "\n",
       "       [[0.  , 0.  , 0.  , 0.  , 0.  , 0.34, 0.  , 0.07, 0.  , 0.59]],\n",
       "\n",
       "       [[0.  , 0.  , 0.  , 0.  , 0.  , 0.04, 0.  , 0.01, 0.  , 0.95]],\n",
       "\n",
       "       [[0.  , 0.  , 0.  , 0.  , 0.  , 0.03, 0.  , 0.02, 0.01, 0.93]],\n",
       "\n",
       "       [[0.  , 0.  , 0.  , 0.  , 0.  , 0.01, 0.  , 0.08, 0.  , 0.91]],\n",
       "\n",
       "       [[0.  , 0.  , 0.  , 0.  , 0.  , 0.03, 0.  , 0.02, 0.  , 0.95]],\n",
       "\n",
       "       [[0.  , 0.  , 0.  , 0.  , 0.  , 0.15, 0.  , 0.48, 0.  , 0.37]],\n",
       "\n",
       "       [[0.  , 0.  , 0.  , 0.  , 0.  , 0.5 , 0.  , 0.08, 0.  , 0.41]],\n",
       "\n",
       "       [[0.  , 0.  , 0.  , 0.  , 0.  , 0.15, 0.  , 0.29, 0.  , 0.56]],\n",
       "\n",
       "       [[0.  , 0.  , 0.  , 0.  , 0.  , 0.03, 0.  , 0.43, 0.  , 0.54]],\n",
       "\n",
       "       [[0.  , 0.  , 0.  , 0.  , 0.  , 0.01, 0.  , 0.21, 0.  , 0.79]],\n",
       "\n",
       "       [[0.  , 0.  , 0.  , 0.  , 0.  , 0.47, 0.  , 0.01, 0.  , 0.53]],\n",
       "\n",
       "       [[0.  , 0.  , 0.  , 0.  , 0.  , 0.  , 0.  , 0.  , 0.  , 0.99]],\n",
       "\n",
       "       [[0.  , 0.  , 0.  , 0.  , 0.  , 0.01, 0.  , 0.06, 0.  , 0.93]],\n",
       "\n",
       "       [[0.  , 0.  , 0.  , 0.  , 0.  , 0.53, 0.  , 0.35, 0.  , 0.12]],\n",
       "\n",
       "       [[0.  , 0.  , 0.  , 0.  , 0.  , 0.06, 0.  , 0.02, 0.  , 0.92]],\n",
       "\n",
       "       [[0.  , 0.  , 0.  , 0.  , 0.  , 0.1 , 0.  , 0.03, 0.  , 0.87]],\n",
       "\n",
       "       [[0.  , 0.  , 0.  , 0.  , 0.  , 0.  , 0.  , 0.72, 0.  , 0.28]],\n",
       "\n",
       "       [[0.  , 0.  , 0.  , 0.  , 0.  , 0.04, 0.  , 0.34, 0.  , 0.62]],\n",
       "\n",
       "       [[0.  , 0.  , 0.  , 0.  , 0.  , 0.73, 0.  , 0.06, 0.  , 0.2 ]],\n",
       "\n",
       "       [[0.  , 0.  , 0.  , 0.  , 0.  , 0.11, 0.  , 0.23, 0.  , 0.66]],\n",
       "\n",
       "       [[0.  , 0.  , 0.  , 0.  , 0.  , 0.03, 0.  , 0.05, 0.  , 0.92]],\n",
       "\n",
       "       [[0.  , 0.  , 0.  , 0.  , 0.  , 0.  , 0.  , 0.15, 0.  , 0.85]],\n",
       "\n",
       "       [[0.  , 0.  , 0.  , 0.  , 0.  , 0.02, 0.  , 0.02, 0.  , 0.97]],\n",
       "\n",
       "       [[0.  , 0.  , 0.  , 0.  , 0.  , 0.21, 0.  , 0.03, 0.  , 0.76]],\n",
       "\n",
       "       [[0.  , 0.  , 0.  , 0.  , 0.  , 0.06, 0.  , 0.38, 0.  , 0.56]]],\n",
       "      dtype=float32)"
      ]
     },
     "execution_count": 105,
     "metadata": {},
     "output_type": "execute_result"
    }
   ],
   "source": [
    "np.round(y_probas[:, :1], 2)"
   ]
  },
  {
   "cell_type": "code",
   "execution_count": 106,
   "id": "f0c5e767-e1ba-4437-858f-ae7a38257b68",
   "metadata": {
    "scrolled": true
   },
   "outputs": [
    {
     "data": {
      "text/plain": [
       "array([[0.  , 0.  , 0.  , 0.  , 0.  , 0.15, 0.  , 0.15, 0.  , 0.7 ]],\n",
       "      dtype=float32)"
      ]
     },
     "execution_count": 106,
     "metadata": {},
     "output_type": "execute_result"
    }
   ],
   "source": [
    "np.round(y_proba[:1], 2)"
   ]
  },
  {
   "cell_type": "code",
   "execution_count": 107,
   "id": "85a85135-1523-4d56-af61-b501782a12ac",
   "metadata": {
    "scrolled": true
   },
   "outputs": [
    {
     "data": {
      "text/plain": [
       "array([[0.  , 0.  , 0.  , 0.  , 0.  , 0.19, 0.  , 0.17, 0.  , 0.24]],\n",
       "      dtype=float32)"
      ]
     },
     "execution_count": 107,
     "metadata": {},
     "output_type": "execute_result"
    }
   ],
   "source": [
    "y_std = y_probas.std(axis=0)\n",
    "np.round(y_std[:1], 2)"
   ]
  },
  {
   "cell_type": "code",
   "execution_count": 108,
   "id": "9d84754a-8ef5-4752-a60d-eb411b52e6e9",
   "metadata": {
    "scrolled": true
   },
   "outputs": [],
   "source": [
    "y_pred = np.argmax(y_proba, axis=1)"
   ]
  },
  {
   "cell_type": "code",
   "execution_count": 109,
   "id": "7fb28d24-9288-4202-aa28-868960c9cb87",
   "metadata": {
    "scrolled": true
   },
   "outputs": [
    {
     "data": {
      "text/plain": [
       "0.8621"
      ]
     },
     "execution_count": 109,
     "metadata": {},
     "output_type": "execute_result"
    }
   ],
   "source": [
    "accuracy = np.sum(y_pred == y_test) / len(y_test)\n",
    "accuracy"
   ]
  },
  {
   "cell_type": "code",
   "execution_count": 110,
   "id": "24c9cf77-b5c3-42a4-9a80-1c1a4fbd632c",
   "metadata": {
    "scrolled": true
   },
   "outputs": [],
   "source": [
    "class MCDropout(keras.layers.Dropout):\n",
    "    def call(self, inputs):\n",
    "        return super().call(inputs, training=True)\n",
    "\n",
    "\n",
    "class MCAlphaDropout(keras.layers.AlphaDropout):\n",
    "    def call(self, inputs):\n",
    "        return super().call(inputs, training=True)"
   ]
  },
  {
   "cell_type": "code",
   "execution_count": 111,
   "id": "be765d86-5043-4f65-898e-87d2244789ab",
   "metadata": {
    "scrolled": true
   },
   "outputs": [
    {
     "data": {
      "text/plain": [
       "True"
      ]
     },
     "execution_count": 111,
     "metadata": {},
     "output_type": "execute_result"
    }
   ],
   "source": [
    "isinstance(model.layers[1], keras.layers.AlphaDropout)"
   ]
  },
  {
   "cell_type": "code",
   "execution_count": 112,
   "id": "6b65ce69-a0c6-4bef-9a4c-14118b1e96d0",
   "metadata": {
    "scrolled": true
   },
   "outputs": [],
   "source": [
    "mc_model = keras.models.Sequential(\n",
    "    [MCAlphaDropout(layer.rate) if isinstance(layer, keras.layers.AlphaDropout) else layer for layer in model.layers]\n",
    ")"
   ]
  },
  {
   "cell_type": "code",
   "execution_count": 113,
   "id": "2116e90c-73e2-4b92-9498-c245d54edf45",
   "metadata": {
    "scrolled": true
   },
   "outputs": [
    {
     "name": "stdout",
     "output_type": "stream",
     "text": [
      "Model: \"sequential_21\"\n",
      "_________________________________________________________________\n",
      " Layer (type)                Output Shape              Param #   \n",
      "=================================================================\n",
      " flatten_18 (Flatten)        (None, 784)               0         \n",
      "                                                                 \n",
      " mc_alpha_dropout (MCAlphaDr  (None, 784)              0         \n",
      " opout)                                                          \n",
      "                                                                 \n",
      " dense_263 (Dense)           (None, 300)               235500    \n",
      "                                                                 \n",
      " mc_alpha_dropout_1 (MCAlpha  (None, 300)              0         \n",
      " Dropout)                                                        \n",
      "                                                                 \n",
      " dense_264 (Dense)           (None, 100)               30100     \n",
      "                                                                 \n",
      " mc_alpha_dropout_2 (MCAlpha  (None, 100)              0         \n",
      " Dropout)                                                        \n",
      "                                                                 \n",
      " dense_265 (Dense)           (None, 10)                1010      \n",
      "                                                                 \n",
      "=================================================================\n",
      "Total params: 266,610\n",
      "Trainable params: 266,610\n",
      "Non-trainable params: 0\n",
      "_________________________________________________________________\n"
     ]
    }
   ],
   "source": [
    "mc_model.summary()"
   ]
  },
  {
   "cell_type": "code",
   "execution_count": 114,
   "id": "b9d6b585-f97f-4786-ae04-611bd9b8c28d",
   "metadata": {
    "scrolled": true
   },
   "outputs": [],
   "source": [
    "optimizer = keras.optimizers.SGD(momentum=0.9, nesterov=True)\n",
    "mc_model.compile(loss=\"sparse_categorical_crossentropy\", optimizer=optimizer, metrics=[\"accuracy\"])"
   ]
  },
  {
   "cell_type": "code",
   "execution_count": 115,
   "id": "49e5b0b8-4b3a-4642-a4f1-acd6f30ae3b3",
   "metadata": {
    "scrolled": true
   },
   "outputs": [],
   "source": [
    "mc_model.set_weights(model.get_weights())"
   ]
  },
  {
   "cell_type": "markdown",
   "id": "9a114891-10ba-4d01-9cc9-1a694e74f1e9",
   "metadata": {},
   "source": [
    "이제 MC 드롭아웃을 모델에 사용할 수 있다:"
   ]
  },
  {
   "cell_type": "code",
   "execution_count": 116,
   "id": "b59dac6f-9582-44b5-9eb7-4a30a20ca285",
   "metadata": {
    "scrolled": true,
    "tags": []
   },
   "outputs": [
    {
     "name": "stdout",
     "output_type": "stream",
     "text": [
      "1/1 [==============================] - 0s 108ms/step\n",
      "1/1 [==============================] - 0s 19ms/step\n",
      "1/1 [==============================] - 0s 19ms/step\n",
      "1/1 [==============================] - 0s 20ms/step\n",
      "1/1 [==============================] - 0s 19ms/step\n",
      "1/1 [==============================] - 0s 19ms/step\n",
      "1/1 [==============================] - 0s 19ms/step\n",
      "1/1 [==============================] - 0s 19ms/step\n",
      "1/1 [==============================] - 0s 19ms/step\n",
      "1/1 [==============================] - 0s 19ms/step\n",
      "1/1 [==============================] - 0s 19ms/step\n",
      "1/1 [==============================] - 0s 20ms/step\n",
      "1/1 [==============================] - 0s 20ms/step\n",
      "1/1 [==============================] - 0s 19ms/step\n",
      "1/1 [==============================] - 0s 19ms/step\n",
      "1/1 [==============================] - 0s 19ms/step\n",
      "1/1 [==============================] - 0s 20ms/step\n",
      "1/1 [==============================] - 0s 19ms/step\n",
      "1/1 [==============================] - 0s 19ms/step\n",
      "1/1 [==============================] - 0s 19ms/step\n",
      "1/1 [==============================] - 0s 19ms/step\n",
      "1/1 [==============================] - 0s 19ms/step\n",
      "1/1 [==============================] - 0s 19ms/step\n",
      "1/1 [==============================] - 0s 20ms/step\n",
      "1/1 [==============================] - 0s 19ms/step\n",
      "1/1 [==============================] - 0s 19ms/step\n",
      "1/1 [==============================] - 0s 19ms/step\n",
      "1/1 [==============================] - 0s 19ms/step\n",
      "1/1 [==============================] - 0s 19ms/step\n",
      "1/1 [==============================] - 0s 19ms/step\n",
      "1/1 [==============================] - 0s 18ms/step\n",
      "1/1 [==============================] - 0s 19ms/step\n",
      "1/1 [==============================] - 0s 19ms/step\n",
      "1/1 [==============================] - 0s 21ms/step\n",
      "1/1 [==============================] - 0s 22ms/step\n",
      "1/1 [==============================] - 0s 19ms/step\n",
      "1/1 [==============================] - 0s 20ms/step\n",
      "1/1 [==============================] - 0s 19ms/step\n",
      "1/1 [==============================] - 0s 19ms/step\n",
      "1/1 [==============================] - 0s 19ms/step\n",
      "1/1 [==============================] - 0s 18ms/step\n",
      "1/1 [==============================] - 0s 19ms/step\n",
      "1/1 [==============================] - 0s 19ms/step\n",
      "1/1 [==============================] - 0s 35ms/step\n",
      "1/1 [==============================] - 0s 23ms/step\n",
      "1/1 [==============================] - 0s 19ms/step\n",
      "1/1 [==============================] - 0s 20ms/step\n",
      "1/1 [==============================] - 0s 19ms/step\n",
      "1/1 [==============================] - 0s 19ms/step\n",
      "1/1 [==============================] - 0s 19ms/step\n",
      "1/1 [==============================] - 0s 19ms/step\n",
      "1/1 [==============================] - 0s 19ms/step\n",
      "1/1 [==============================] - 0s 19ms/step\n",
      "1/1 [==============================] - 0s 19ms/step\n",
      "1/1 [==============================] - 0s 19ms/step\n",
      "1/1 [==============================] - 0s 19ms/step\n",
      "1/1 [==============================] - 0s 19ms/step\n",
      "1/1 [==============================] - 0s 19ms/step\n",
      "1/1 [==============================] - 0s 19ms/step\n",
      "1/1 [==============================] - 0s 18ms/step\n",
      "1/1 [==============================] - 0s 19ms/step\n",
      "1/1 [==============================] - 0s 20ms/step\n",
      "1/1 [==============================] - 0s 19ms/step\n",
      "1/1 [==============================] - 0s 19ms/step\n",
      "1/1 [==============================] - 0s 21ms/step\n",
      "1/1 [==============================] - 0s 19ms/step\n",
      "1/1 [==============================] - 0s 19ms/step\n",
      "1/1 [==============================] - 0s 20ms/step\n",
      "1/1 [==============================] - 0s 19ms/step\n",
      "1/1 [==============================] - 0s 19ms/step\n",
      "1/1 [==============================] - 0s 19ms/step\n",
      "1/1 [==============================] - 0s 19ms/step\n",
      "1/1 [==============================] - 0s 19ms/step\n",
      "1/1 [==============================] - 0s 19ms/step\n",
      "1/1 [==============================] - 0s 19ms/step\n",
      "1/1 [==============================] - 0s 19ms/step\n",
      "1/1 [==============================] - 0s 19ms/step\n",
      "1/1 [==============================] - 0s 20ms/step\n",
      "1/1 [==============================] - 0s 19ms/step\n",
      "1/1 [==============================] - 0s 19ms/step\n",
      "1/1 [==============================] - 0s 19ms/step\n",
      "1/1 [==============================] - 0s 20ms/step\n",
      "1/1 [==============================] - 0s 20ms/step\n",
      "1/1 [==============================] - 0s 20ms/step\n",
      "1/1 [==============================] - 0s 19ms/step\n",
      "1/1 [==============================] - 0s 19ms/step\n",
      "1/1 [==============================] - 0s 20ms/step\n",
      "1/1 [==============================] - 0s 19ms/step\n",
      "1/1 [==============================] - 0s 19ms/step\n",
      "1/1 [==============================] - 0s 19ms/step\n",
      "1/1 [==============================] - 0s 19ms/step\n",
      "1/1 [==============================] - 0s 19ms/step\n",
      "1/1 [==============================] - 0s 19ms/step\n",
      "1/1 [==============================] - 0s 19ms/step\n",
      "1/1 [==============================] - 0s 20ms/step\n",
      "1/1 [==============================] - 0s 19ms/step\n",
      "1/1 [==============================] - 0s 19ms/step\n",
      "1/1 [==============================] - 0s 19ms/step\n",
      "1/1 [==============================] - 0s 19ms/step\n",
      "1/1 [==============================] - 0s 20ms/step\n"
     ]
    },
    {
     "data": {
      "text/plain": [
       "array([[0.  , 0.  , 0.  , 0.  , 0.  , 0.19, 0.  , 0.11, 0.  , 0.7 ]],\n",
       "      dtype=float32)"
      ]
     },
     "execution_count": 116,
     "metadata": {},
     "output_type": "execute_result"
    }
   ],
   "source": [
    "np.round(np.mean([mc_model.predict(X_test_scaled[:1]) for sample in range(100)], axis=0), 2)"
   ]
  },
  {
   "cell_type": "markdown",
   "id": "c91d09fe-b273-4e2b-855e-6fdc93927443",
   "metadata": {},
   "source": [
    "## 맥스 노름"
   ]
  },
  {
   "cell_type": "code",
   "execution_count": 117,
   "id": "99d1f00c-ee45-46c9-a5c6-2c18c7738dc4",
   "metadata": {},
   "outputs": [],
   "source": [
    "layer = keras.layers.Dense(\n",
    "    100, activation=\"selu\", kernel_initializer=\"lecun_normal\", kernel_constraint=keras.constraints.max_norm(1.)\n",
    ")"
   ]
  },
  {
   "cell_type": "code",
   "execution_count": 118,
   "id": "024fc808-2fbd-40a3-aad4-90123c351098",
   "metadata": {},
   "outputs": [
    {
     "name": "stdout",
     "output_type": "stream",
     "text": [
      "Epoch 1/2\n",
      "1719/1719 [==============================] - 13s 7ms/step - loss: 0.4752 - accuracy: 0.8338 - val_loss: 0.3662 - val_accuracy: 0.8734\n",
      "Epoch 2/2\n",
      "1719/1719 [==============================] - 12s 7ms/step - loss: 0.3570 - accuracy: 0.8691 - val_loss: 0.3474 - val_accuracy: 0.8770\n"
     ]
    }
   ],
   "source": [
    "MaxNormDense = partial(\n",
    "    keras.layers.Dense,\n",
    "    activation=\"selu\",\n",
    "    kernel_initializer=\"lecun_normal\",\n",
    "    kernel_constraint=keras.constraints.max_norm(1.)\n",
    ")\n",
    "model = keras.models.Sequential(\n",
    "    [\n",
    "        keras.layers.Flatten(input_shape=[28, 28]),\n",
    "        MaxNormDense(300),\n",
    "        MaxNormDense(100),\n",
    "        keras.layers.Dense(10, activation=\"softmax\")\n",
    "    ]\n",
    ")\n",
    "model.compile(loss=\"sparse_categorical_crossentropy\", optimizer=\"nadam\", metrics=[\"accuracy\"])\n",
    "n_epochs = 2\n",
    "history = model.fit(X_train_scaled, y_train, epochs=n_epochs, validation_data=(X_valid_scaled, y_valid))"
   ]
  },
  {
   "cell_type": "markdown",
   "id": "86c56b93-936f-43cf-9d63-afb2ec18e9b1",
   "metadata": {},
   "source": [
    "# 연습"
   ]
  },
  {
   "cell_type": "markdown",
   "id": "79b7f005-b1a3-4753-a7d3-46956e18a877",
   "metadata": {},
   "source": [
    "## 1. CIFAR10에서 딥러닝"
   ]
  },
  {
   "cell_type": "code",
   "execution_count": null,
   "id": "1aa98423-63bd-4814-be27-2c28ae4b7d59",
   "metadata": {},
   "outputs": [],
   "source": []
  }
 ],
 "metadata": {
  "kernelspec": {
   "display_name": "Python 3 (ipykernel)",
   "language": "python",
   "name": "python3"
  },
  "language_info": {
   "codemirror_mode": {
    "name": "ipython",
    "version": 3
   },
   "file_extension": ".py",
   "mimetype": "text/x-python",
   "name": "python",
   "nbconvert_exporter": "python",
   "pygments_lexer": "ipython3",
   "version": "3.10.5"
  }
 },
 "nbformat": 4,
 "nbformat_minor": 5
}
