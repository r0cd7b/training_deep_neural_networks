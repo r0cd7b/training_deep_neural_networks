{
 "cells": [
  {
   "cell_type": "markdown",
   "id": "d7de80d8-2019-4db9-a5eb-69758a8bd970",
   "metadata": {},
   "source": [
    "**심층 신경망 훈련하기**"
   ]
  },
  {
   "cell_type": "markdown",
   "id": "20d6ad85-ab94-4e3e-8868-39f5b4ed3bb3",
   "metadata": {},
   "source": [
    "# 설정"
   ]
  },
  {
   "cell_type": "markdown",
   "id": "3ee378ee-d761-40e9-9a21-8ccbca8d2b11",
   "metadata": {},
   "source": [
    "먼저 몇 개의 모듈을 임포트한다. 맷플롯립 그림을 저장하는 함수를 준비한다."
   ]
  },
  {
   "cell_type": "code",
   "execution_count": 1,
   "id": "5762e6a9-14ee-4e1a-b4bd-6ce7728f8c6e",
   "metadata": {
    "scrolled": true
   },
   "outputs": [],
   "source": [
    "# 공통 모듈 임포트\n",
    "import matplotlib as mpl\n",
    "import os\n",
    "import matplotlib.pyplot as plt\n",
    "\n",
    "# 깔끔한 그래프 출력을 위해\n",
    "mpl.rc(\"axes\", labelsize=14)\n",
    "mpl.rc(\"xtick\", labelsize=12)\n",
    "mpl.rc(\"ytick\", labelsize=12)\n",
    "# 그림을 저장할 위치\n",
    "PROJECT_ROOT_DIR = '.'\n",
    "IMAGES_PATH = os.path.join(PROJECT_ROOT_DIR, \"images\")\n",
    "os.makedirs(IMAGES_PATH, exist_ok=True)\n",
    "\n",
    "\n",
    "def save_fig(fig_id, tight_layout=True, fig_extension=\"png\", resolution=300):\n",
    "    path = os.path.join(IMAGES_PATH, f\"{fig_id}.{fig_extension}\")\n",
    "    print(\"그림 저장:\", fig_id)\n",
    "    if tight_layout:\n",
    "        plt.tight_layout()\n",
    "    plt.savefig(path, format=fig_extension, dpi=resolution)"
   ]
  },
  {
   "cell_type": "markdown",
   "id": "462eb377-3ae1-4d84-a774-b4e2bdfce66f",
   "metadata": {},
   "source": [
    "# 그레이디언트 소실과 폭주 문제"
   ]
  },
  {
   "cell_type": "code",
   "execution_count": 2,
   "id": "8ad60083-b13e-4559-bec2-2facc845e8d0",
   "metadata": {
    "scrolled": true
   },
   "outputs": [],
   "source": [
    "def logit(z):\n",
    "    return 1 / (1 + np.exp(-z))"
   ]
  },
  {
   "cell_type": "code",
   "execution_count": 3,
   "id": "b2f3d2c4-60ce-41e4-9c65-c0578bf25502",
   "metadata": {
    "scrolled": true
   },
   "outputs": [
    {
     "name": "stdout",
     "output_type": "stream",
     "text": [
      "그림 저장: sigmoid_saturation_plot\n"
     ]
    },
    {
     "data": {
      "image/png": "[encoded data removed]",
      "text/plain": [
       "<Figure size 432x288 with 1 Axes>"
      ]
     },
     "metadata": {
      "needs_background": "light"
     },
     "output_type": "display_data"
    }
   ],
   "source": [
    "import numpy as np\n",
    "\n",
    "z = np.linspace(-5, 5, 200)\n",
    "plt.plot([-5, 5], [0, 0], \"k-\")\n",
    "plt.plot([-5, 5], [1, 1], \"k--\")\n",
    "plt.plot([0, 0], [-0.2, 1.2], \"k-\")\n",
    "plt.plot([-5, 5], [-3 / 4, 7 / 4], \"g--\")\n",
    "plt.plot(z, logit(z), \"b-\", linewidth=2)\n",
    "props = dict(facecolor=\"black\", shrink=0.1)\n",
    "plt.annotate(\"Saturating\", xytext=(3.5, 0.7), xy=(5, 1), arrowprops=props, fontsize=14, ha=\"center\")\n",
    "plt.annotate(\"Saturating\", xytext=(-3.5, 0.3), xy=(-5, 0), arrowprops=props, fontsize=14, ha=\"center\")\n",
    "plt.annotate(\"Linear\", xytext=(2, 0.2), xy=(0, 0.5), arrowprops=props, fontsize=14, ha=\"center\")\n",
    "plt.grid(True)\n",
    "plt.title(\"Sigmoid activation function\", fontsize=14)\n",
    "plt.axis([-5, 5, -0.2, 1.2])\n",
    "save_fig(\"sigmoid_saturation_plot\")\n",
    "plt.show()"
   ]
  },
  {
   "cell_type": "markdown",
   "id": "f47d568f-8383-416c-8b64-7776257d4cd7",
   "metadata": {
    "tags": []
   },
   "source": [
    "## Xavier 초기화와 He 초기화"
   ]
  },
  {
   "cell_type": "code",
   "execution_count": 4,
   "id": "84a14a82-fe6d-4050-a012-ec1945f5058b",
   "metadata": {
    "scrolled": true,
    "tags": []
   },
   "outputs": [
    {
     "data": {
      "text/plain": [
       "['Constant',\n",
       " 'GlorotNormal',\n",
       " 'GlorotUniform',\n",
       " 'HeNormal',\n",
       " 'HeUniform',\n",
       " 'Identity',\n",
       " 'Initializer',\n",
       " 'LecunNormal',\n",
       " 'LecunUniform',\n",
       " 'Ones',\n",
       " 'Orthogonal',\n",
       " 'RandomNormal',\n",
       " 'RandomUniform',\n",
       " 'TruncatedNormal',\n",
       " 'VarianceScaling',\n",
       " 'Zeros',\n",
       " 'constant',\n",
       " 'deserialize',\n",
       " 'get',\n",
       " 'glorot_normal',\n",
       " 'glorot_uniform',\n",
       " 'he_normal',\n",
       " 'he_uniform',\n",
       " 'identity',\n",
       " 'lecun_normal',\n",
       " 'lecun_uniform',\n",
       " 'ones',\n",
       " 'orthogonal',\n",
       " 'random_normal',\n",
       " 'random_uniform',\n",
       " 'serialize',\n",
       " 'truncated_normal',\n",
       " 'variance_scaling',\n",
       " 'zeros']"
      ]
     },
     "execution_count": 4,
     "metadata": {},
     "output_type": "execute_result"
    }
   ],
   "source": [
    "from tensorflow import keras\n",
    "\n",
    "[name for name in dir(keras.initializers) if not name.startswith(\"_\")]"
   ]
  },
  {
   "cell_type": "code",
   "execution_count": 5,
   "id": "41c2c4ea-1c8b-4b34-8888-56598df69db9",
   "metadata": {
    "scrolled": true
   },
   "outputs": [
    {
     "data": {
      "text/plain": [
       "<keras.layers.core.dense.Dense at 0x136e8c864d0>"
      ]
     },
     "execution_count": 5,
     "metadata": {},
     "output_type": "execute_result"
    }
   ],
   "source": [
    "keras.layers.Dense(10, activation=\"relu\", kernel_initializer=\"he_normal\")"
   ]
  },
  {
   "cell_type": "code",
   "execution_count": 6,
   "id": "9a3557f2-038a-48b6-b47d-7bf4183c3736",
   "metadata": {
    "scrolled": true
   },
   "outputs": [
    {
     "data": {
      "text/plain": [
       "<keras.layers.core.dense.Dense at 0x1368a2114b0>"
      ]
     },
     "execution_count": 6,
     "metadata": {},
     "output_type": "execute_result"
    }
   ],
   "source": [
    "init = keras.initializers.VarianceScaling(scale=2., mode=\"fan_avg\", distribution=\"uniform\")\n",
    "keras.layers.Dense(10, activation=\"relu\", kernel_initializer=init)"
   ]
  },
  {
   "cell_type": "markdown",
   "id": "9859571e-5486-42a9-823b-5b33239f9722",
   "metadata": {},
   "source": [
    "## 수렴하지 않는 활성화 함수"
   ]
  },
  {
   "cell_type": "markdown",
   "id": "417b8a50-22c4-40a6-b1a2-3fcb431b0d18",
   "metadata": {},
   "source": [
    "### LeakyReLU"
   ]
  },
  {
   "cell_type": "code",
   "execution_count": 7,
   "id": "e5ebb245-75f9-4ae4-85ad-d8cb220375b7",
   "metadata": {
    "scrolled": true
   },
   "outputs": [],
   "source": [
    "def leaky_relu(z, alpha=0.01):\n",
    "    return np.maximum(alpha * z, z)"
   ]
  },
  {
   "cell_type": "code",
   "execution_count": 8,
   "id": "6ad41fac-3510-463c-87a9-427d2e3c92ce",
   "metadata": {
    "scrolled": true
   },
   "outputs": [
    {
     "name": "stdout",
     "output_type": "stream",
     "text": [
      "그림 저장: leaky_relu_plot\n"
     ]
    },
    {
     "data": {
      "image/png": "[encoded data removed]",
      "text/plain": [
       "<Figure size 432x288 with 1 Axes>"
      ]
     },
     "metadata": {
      "needs_background": "light"
     },
     "output_type": "display_data"
    }
   ],
   "source": [
    "plt.plot(z, leaky_relu(z, 0.05), \"b-\", linewidth=2)\n",
    "plt.plot([-5, 5], [0, 0], \"k-\")\n",
    "plt.plot([0, 0], [-0.5, 4.2], \"k-\")\n",
    "plt.grid(True)\n",
    "props = dict(facecolor=\"black\", shrink=0.1)\n",
    "plt.annotate(\"Leak\", xytext=(-3.5, 0.5), xy=(-5, -0.2), arrowprops=props, fontsize=14, ha=\"center\")\n",
    "plt.title(\"Leaky ReLU activation function\", fontsize=14)\n",
    "plt.axis([-5, 5, -0.5, 4.2])\n",
    "save_fig(\"leaky_relu_plot\")\n",
    "plt.show()"
   ]
  },
  {
   "cell_type": "code",
   "execution_count": 9,
   "id": "4dab87dc-83e6-40cd-b3ac-3611cda64d55",
   "metadata": {
    "scrolled": true,
    "tags": []
   },
   "outputs": [
    {
     "data": {
      "text/plain": [
       "['deserialize',\n",
       " 'elu',\n",
       " 'exponential',\n",
       " 'gelu',\n",
       " 'get',\n",
       " 'hard_sigmoid',\n",
       " 'linear',\n",
       " 'relu',\n",
       " 'selu',\n",
       " 'serialize',\n",
       " 'sigmoid',\n",
       " 'softmax',\n",
       " 'softplus',\n",
       " 'softsign',\n",
       " 'swish',\n",
       " 'tanh']"
      ]
     },
     "execution_count": 9,
     "metadata": {},
     "output_type": "execute_result"
    }
   ],
   "source": [
    "[m for m in dir(keras.activations) if not m.startswith(\"_\")]"
   ]
  },
  {
   "cell_type": "code",
   "execution_count": 10,
   "id": "fb260da4-7996-456d-9b6b-620caefc5a96",
   "metadata": {
    "scrolled": true
   },
   "outputs": [
    {
     "data": {
      "text/plain": [
       "['LeakyReLU', 'PReLU', 'ReLU', 'ThresholdedReLU']"
      ]
     },
     "execution_count": 10,
     "metadata": {},
     "output_type": "execute_result"
    }
   ],
   "source": [
    "[m for m in dir(keras.layers) if \"relu\" in m.lower()]"
   ]
  },
  {
   "cell_type": "markdown",
   "id": "7e165ee6-1d15-4112-a008-ca9ed8ac0280",
   "metadata": {},
   "source": [
    "LeakyReLU를 사용해 패션 MNIST에서 신경망을 훈련해 본다:"
   ]
  },
  {
   "cell_type": "code",
   "execution_count": 11,
   "id": "b20b9fb3-dcbe-4dae-8eec-05330efd53ef",
   "metadata": {
    "scrolled": true
   },
   "outputs": [],
   "source": [
    "(X_train_full, y_train_full), (X_test, y_test) = keras.datasets.fashion_mnist.load_data()\n",
    "X_train_full = X_train_full / 255.0\n",
    "X_test = X_test / 255.0\n",
    "X_valid, X_train = X_train_full[:5000], X_train_full[5000:]\n",
    "y_valid, y_train = y_train_full[:5000], y_train_full[5000:]"
   ]
  },
  {
   "cell_type": "code",
   "execution_count": 12,
   "id": "ca7461d3-820e-4b7b-8881-8d912019ba22",
   "metadata": {
    "scrolled": true
   },
   "outputs": [],
   "source": [
    "model = keras.models.Sequential(\n",
    "    [\n",
    "        keras.layers.Flatten(input_shape=[28, 28]),\n",
    "        keras.layers.Dense(300, kernel_initializer=\"he_normal\"),\n",
    "        keras.layers.LeakyReLU(),\n",
    "        keras.layers.Dense(100, kernel_initializer=\"he_normal\"),\n",
    "        keras.layers.LeakyReLU(),\n",
    "        keras.layers.Dense(10, activation=\"softmax\")\n",
    "    ]\n",
    ")"
   ]
  },
  {
   "cell_type": "code",
   "execution_count": 13,
   "id": "0d5a4bb4-cba6-4ca7-a540-bf989ea01ef7",
   "metadata": {
    "scrolled": true
   },
   "outputs": [],
   "source": [
    "model.compile(\n",
    "    loss=\"sparse_categorical_crossentropy\", optimizer=keras.optimizers.SGD(learning_rate=1e-3), metrics=[\"accuracy\"]\n",
    ")"
   ]
  },
  {
   "cell_type": "code",
   "execution_count": 14,
   "id": "f9a31c12-cab4-439f-b29e-42b790fc3d87",
   "metadata": {
    "scrolled": true,
    "tags": []
   },
   "outputs": [
    {
     "name": "stdout",
     "output_type": "stream",
     "text": [
      "Epoch 1/10\n",
      "1719/1719 [==============================] - 7s 3ms/step - loss: 1.2769 - accuracy: 0.6189 - val_loss: 0.8522 - val_accuracy: 0.7406\n",
      "Epoch 2/10\n",
      "1719/1719 [==============================] - 5s 3ms/step - loss: 0.7704 - accuracy: 0.7557 - val_loss: 0.6866 - val_accuracy: 0.7856\n",
      "Epoch 3/10\n",
      "1719/1719 [==============================] - 5s 3ms/step - loss: 0.6633 - accuracy: 0.7824 - val_loss: 0.6154 - val_accuracy: 0.8032\n",
      "Epoch 4/10\n",
      "1719/1719 [==============================] - 5s 3ms/step - loss: 0.6082 - accuracy: 0.7983 - val_loss: 0.5719 - val_accuracy: 0.8134\n",
      "Epoch 5/10\n",
      "1719/1719 [==============================] - 5s 3ms/step - loss: 0.5723 - accuracy: 0.8085 - val_loss: 0.5447 - val_accuracy: 0.8206\n",
      "Epoch 6/10\n",
      "1719/1719 [==============================] - 5s 3ms/step - loss: 0.5468 - accuracy: 0.8161 - val_loss: 0.5211 - val_accuracy: 0.8260\n",
      "Epoch 7/10\n",
      "1719/1719 [==============================] - 5s 3ms/step - loss: 0.5274 - accuracy: 0.8210 - val_loss: 0.5066 - val_accuracy: 0.8334\n",
      "Epoch 8/10\n",
      "1719/1719 [==============================] - 5s 3ms/step - loss: 0.5124 - accuracy: 0.8248 - val_loss: 0.4907 - val_accuracy: 0.8382\n",
      "Epoch 9/10\n",
      "1719/1719 [==============================] - 5s 3ms/step - loss: 0.4997 - accuracy: 0.8287 - val_loss: 0.4804 - val_accuracy: 0.8436\n",
      "Epoch 10/10\n",
      "1719/1719 [==============================] - 5s 3ms/step - loss: 0.4891 - accuracy: 0.8322 - val_loss: 0.4738 - val_accuracy: 0.8416\n"
     ]
    }
   ],
   "source": [
    "history = model.fit(X_train, y_train, epochs=10, validation_data=(X_valid, y_valid))"
   ]
  },
  {
   "cell_type": "markdown",
   "id": "f5112924-5764-4b3e-b6de-3b7c1a8064ca",
   "metadata": {},
   "source": [
    "PReLU를 테스트해 본다:"
   ]
  },
  {
   "cell_type": "code",
   "execution_count": 15,
   "id": "a471931e-b763-4ab9-97ce-fd313291948a",
   "metadata": {
    "scrolled": true
   },
   "outputs": [],
   "source": [
    "model = keras.models.Sequential(\n",
    "    [\n",
    "        keras.layers.Flatten(input_shape=[28, 28]),\n",
    "        keras.layers.Dense(300, kernel_initializer=\"he_normal\"),\n",
    "        keras.layers.PReLU(),\n",
    "        keras.layers.Dense(100, kernel_initializer=\"he_normal\"),\n",
    "        keras.layers.PReLU(),\n",
    "        keras.layers.Dense(10, activation=\"softmax\")\n",
    "    ]\n",
    ")"
   ]
  },
  {
   "cell_type": "code",
   "execution_count": 16,
   "id": "fdcf7b3e-427c-4540-bca9-9d9fd11fc725",
   "metadata": {
    "scrolled": true
   },
   "outputs": [],
   "source": [
    "model.compile(\n",
    "    loss=\"sparse_categorical_crossentropy\", optimizer=keras.optimizers.SGD(learning_rate=1e-3), metrics=[\"accuracy\"]\n",
    ")"
   ]
  },
  {
   "cell_type": "code",
   "execution_count": 17,
   "id": "21f62951-97af-44e7-9780-6227440606a3",
   "metadata": {
    "scrolled": true
   },
   "outputs": [
    {
     "name": "stdout",
     "output_type": "stream",
     "text": [
      "Epoch 1/10\n",
      "1719/1719 [==============================] - 7s 4ms/step - loss: 1.3151 - accuracy: 0.6036 - val_loss: 0.9008 - val_accuracy: 0.7184\n",
      "Epoch 2/10\n",
      "1719/1719 [==============================] - 6s 4ms/step - loss: 0.8079 - accuracy: 0.7414 - val_loss: 0.7175 - val_accuracy: 0.7754\n",
      "Epoch 3/10\n",
      "1719/1719 [==============================] - 7s 4ms/step - loss: 0.6890 - accuracy: 0.7765 - val_loss: 0.6391 - val_accuracy: 0.7984\n",
      "Epoch 4/10\n",
      "1719/1719 [==============================] - 6s 4ms/step - loss: 0.6273 - accuracy: 0.7933 - val_loss: 0.5920 - val_accuracy: 0.8142\n",
      "Epoch 5/10\n",
      "1719/1719 [==============================] - 6s 4ms/step - loss: 0.5873 - accuracy: 0.8055 - val_loss: 0.5609 - val_accuracy: 0.8200\n",
      "Epoch 6/10\n",
      "1719/1719 [==============================] - 6s 4ms/step - loss: 0.5588 - accuracy: 0.8131 - val_loss: 0.5384 - val_accuracy: 0.8262\n",
      "Epoch 7/10\n",
      "1719/1719 [==============================] - 6s 4ms/step - loss: 0.5369 - accuracy: 0.8191 - val_loss: 0.5203 - val_accuracy: 0.8328\n",
      "Epoch 8/10\n",
      "1719/1719 [==============================] - 6s 4ms/step - loss: 0.5198 - accuracy: 0.8241 - val_loss: 0.5063 - val_accuracy: 0.8354\n",
      "Epoch 9/10\n",
      "1719/1719 [==============================] - 6s 4ms/step - loss: 0.5062 - accuracy: 0.8276 - val_loss: 0.4907 - val_accuracy: 0.8430\n",
      "Epoch 10/10\n",
      "1719/1719 [==============================] - 6s 4ms/step - loss: 0.4944 - accuracy: 0.8314 - val_loss: 0.4842 - val_accuracy: 0.8432\n"
     ]
    }
   ],
   "source": [
    "history = model.fit(X_train, y_train, epochs=10, validation_data=(X_valid, y_valid))"
   ]
  },
  {
   "cell_type": "markdown",
   "id": "938d027c-a8fc-4720-884c-1ecc3646a034",
   "metadata": {
    "tags": []
   },
   "source": [
    "### ELU"
   ]
  },
  {
   "cell_type": "code",
   "execution_count": 18,
   "id": "9093a957-2f99-4ff4-ac72-c1857ec9c56c",
   "metadata": {
    "scrolled": true
   },
   "outputs": [],
   "source": [
    "def elu(z, alpha=1):\n",
    "    return np.where(z < 0, alpha * (np.exp(z) - 1), z)"
   ]
  },
  {
   "cell_type": "code",
   "execution_count": 19,
   "id": "cd2e80f8-6d18-4d97-9b1b-efa9d71abfe2",
   "metadata": {
    "scrolled": true
   },
   "outputs": [
    {
     "name": "stdout",
     "output_type": "stream",
     "text": [
      "그림 저장: elu_plot\n"
     ]
    },
    {
     "data": {
      "image/png": "[encoded data removed]",
      "text/plain": [
       "<Figure size 432x288 with 1 Axes>"
      ]
     },
     "metadata": {
      "needs_background": "light"
     },
     "output_type": "display_data"
    }
   ],
   "source": [
    "plt.plot(z, elu(z), \"b-\", linewidth=2)\n",
    "plt.plot([-5, 5], [0, 0], \"k-\")\n",
    "plt.plot([-5, 5], [-1, -1], \"k--\")\n",
    "plt.plot([0, 0], [-2.2, 3.2], \"k-\")\n",
    "plt.grid(True)\n",
    "plt.title(r\"ELU activation function ($\\alpha=1$)\", fontsize=14)\n",
    "plt.axis([-5, 5, -2.2, 3.2])\n",
    "save_fig(\"elu_plot\")\n",
    "plt.show()"
   ]
  },
  {
   "cell_type": "markdown",
   "id": "155ab429-62d2-4f70-b5d1-27dd9f1eef7c",
   "metadata": {},
   "source": [
    "텐서플로에서 쉽게 ELU를 적용할 수 있다. 층을 만들 때 활성화 함수로 지정하면 된다:"
   ]
  },
  {
   "cell_type": "code",
   "execution_count": 20,
   "id": "12bf5d45-9d06-40e2-8332-89aa41b4c3ee",
   "metadata": {
    "scrolled": true
   },
   "outputs": [
    {
     "data": {
      "text/plain": [
       "<keras.layers.core.dense.Dense at 0x138d26e5390>"
      ]
     },
     "execution_count": 20,
     "metadata": {},
     "output_type": "execute_result"
    }
   ],
   "source": [
    "keras.layers.Dense(10, activation=\"elu\")"
   ]
  },
  {
   "cell_type": "markdown",
   "id": "e2db2154-287b-494f-92c4-767f115ada47",
   "metadata": {
    "tags": []
   },
   "source": [
    "### SELU"
   ]
  },
  {
   "cell_type": "markdown",
   "id": "f4506fa2-512b-451f-8830-e95b4fbbc4ab",
   "metadata": {},
   "source": [
    "Günter Klambauer, Thomas Unterthiner, Andreas Mayr는 2017년 한 [훌륭한 논문](https://arxiv.org/pdf/1706.02515.pdf)에서 SELU 활성화 함수를 소개했다. 훈련하는 동안 완전 연결 층만 쌓아서 신경망을 만들고 SELU 활성화 함수와 LeCun 초기화를 사용한다면 자기 정규화된다. 각 층의 출력이 평균과\n",
    "표준편차를 보존하는 경향이 있다. 이는 그레이디언트 소실과 폭주 문제를 막아 준다. 그 결과로 SELU 활성화 함수는 이런 종류의 네트워크(특히 아주 깊은 네트워크)에서 다른 활성화 함수보다 뛰어난 성능을 종종 낸다. 따라서 꼭 시도해 봐야 한다. 하지만 SELU 활성화 함수의 자기 정규화 특징은 쉽게 깨진다. ℓ<sub>1</sub>나 ℓ<sub>2</sub> 정규화, 드롭아웃, 맥스 노름, 스킵 연결이나 시퀀셜하지 않은 다른 토폴로지를 사용할 수 없다(즉 순환 신경망은 자기 정규화되지 않는다). 하지만 실전에서 시퀀셜 CNN과 잘 동작한다. 자기 정규화가 깨지면 SELU가 다른 활성화 함수보다 더 나은 성능을 내지 않을 것이다."
   ]
  },
  {
   "cell_type": "code",
   "execution_count": 21,
   "id": "85b8b847-5dbe-485e-b7d4-8512817ec562",
   "metadata": {
    "scrolled": true
   },
   "outputs": [],
   "source": [
    "from scipy.special import erfc\n",
    "\n",
    "# alpha와 scale은 평균 0과 표준 편차 1로 자기 정규화한다\n",
    "# (논문에 있는 식 14 참조):\n",
    "alpha_0_1 = -np.sqrt(2 / np.pi) / (erfc(1 / np.sqrt(2)) * np.exp(1 / 2) - 1)\n",
    "scale_0_1 = (1 - erfc(1 / np.sqrt(2)) * np.sqrt(np.e)) * np.sqrt(2 * np.pi) * (\n",
    "        2 * erfc(np.sqrt(2)) * np.e ** 2 + np.pi * erfc(1 / np.sqrt(2)) ** 2 * np.e - 2 * (2 + np.pi) * erfc(\n",
    "    1 / np.sqrt(2)) * np.sqrt(np.e) + np.pi + 2) ** (-1 / 2)"
   ]
  },
  {
   "cell_type": "code",
   "execution_count": 22,
   "id": "23b1a261-6c00-42aa-b1f6-3c92362309f3",
   "metadata": {
    "scrolled": true
   },
   "outputs": [],
   "source": [
    "def selu(z, scale=scale_0_1, alpha=alpha_0_1):\n",
    "    return scale * elu(z, alpha)"
   ]
  },
  {
   "cell_type": "code",
   "execution_count": 23,
   "id": "3037d8d1-10b7-402e-b50e-1e6339c795ad",
   "metadata": {
    "scrolled": true
   },
   "outputs": [
    {
     "name": "stdout",
     "output_type": "stream",
     "text": [
      "그림 저장: selu_plot\n"
     ]
    },
    {
     "data": {
      "image/png": "[encoded data removed]",
      "text/plain": [
       "<Figure size 432x288 with 1 Axes>"
      ]
     },
     "metadata": {
      "needs_background": "light"
     },
     "output_type": "display_data"
    }
   ],
   "source": [
    "plt.plot(z, selu(z), \"b-\", linewidth=2)\n",
    "plt.plot([-5, 5], [0, 0], \"k-\")\n",
    "plt.plot([-5, 5], [-1.758, -1.758], \"k--\")\n",
    "plt.plot([0, 0], [-2.2, 3.2], \"k-\")\n",
    "plt.grid(True)\n",
    "plt.title(\"SELU activation function\", fontsize=14)\n",
    "plt.axis([-5, 5, -2.2, 3.2])\n",
    "save_fig(\"selu_plot\")\n",
    "plt.show()"
   ]
  },
  {
   "cell_type": "markdown",
   "id": "852ab8ad-3dc3-4c29-99a7-0988e48ab7e3",
   "metadata": {
    "tags": []
   },
   "source": [
    "기본적으로 SELU 하이퍼파라미터(`scale`과 `alpha`)는 각 뉴런의 평균 출력이 0에 가깝고 표준 편차는 1에 가깝도록 조정된다(입력은 평균이 0이고 표준 편차 1로 표준화되었다고 가정한다). 이 활성화 함수를 사용하면 1,000개의 층이 있는 심층 신경망도 모든 층에 걸쳐 거의 평균이 0이고 표준 편차를 1로 유지한다. 이를 통해 그레이디언트 폭주와 소실 문제를 피할 수 있다:"
   ]
  },
  {
   "cell_type": "code",
   "execution_count": 24,
   "id": "32094937-7b98-4f37-883e-fed10f804086",
   "metadata": {
    "scrolled": true
   },
   "outputs": [
    {
     "name": "stdout",
     "output_type": "stream",
     "text": [
      "Layer 0: mean 0.00, std deviation 0.99\n",
      "Layer 100: mean 0.00, std deviation 1.00\n",
      "Layer 200: mean 0.02, std deviation 0.91\n",
      "Layer 300: mean -0.01, std deviation 0.88\n",
      "Layer 400: mean 0.01, std deviation 0.91\n",
      "Layer 500: mean 0.01, std deviation 0.94\n",
      "Layer 600: mean -0.04, std deviation 0.89\n",
      "Layer 700: mean 0.03, std deviation 0.96\n",
      "Layer 800: mean 0.01, std deviation 0.92\n",
      "Layer 900: mean 0.03, std deviation 0.96\n"
     ]
    }
   ],
   "source": [
    "Z = np.random.normal(size=(500, 100))  # 표준화된 입력\n",
    "for layer in range(1000):\n",
    "    W = np.random.normal(size=(100, 100), scale=np.sqrt(1 / 100))  # LeCun 초기화\n",
    "    Z = selu(np.dot(Z, W))\n",
    "    means = np.mean(Z, axis=0).mean()\n",
    "    stds = np.std(Z, axis=0).mean()\n",
    "    if layer % 100 == 0:\n",
    "        print(f\"Layer {layer}: mean {means:.2f}, std deviation {stds:.2f}\")"
   ]
  },
  {
   "cell_type": "markdown",
   "id": "608a6c04-cdc0-4cdb-af53-6c6b1381d8c5",
   "metadata": {},
   "source": [
    "쉽게 SELU를 사용할 수 있다:"
   ]
  },
  {
   "cell_type": "code",
   "execution_count": 25,
   "id": "dd469f7d-b2b1-4773-a0c2-0af7d97e0d12",
   "metadata": {
    "scrolled": true
   },
   "outputs": [
    {
     "data": {
      "text/plain": [
       "<keras.layers.core.dense.Dense at 0x136e841cf40>"
      ]
     },
     "execution_count": 25,
     "metadata": {},
     "output_type": "execute_result"
    }
   ],
   "source": [
    "keras.layers.Dense(10, activation=\"selu\", kernel_initializer=\"lecun_normal\")"
   ]
  },
  {
   "cell_type": "markdown",
   "id": "3f1bda40-6798-401e-8464-4c569faff11e",
   "metadata": {},
   "source": [
    "100개의 은닉층과 SELU 활성화 함수를 사용한 패션 MNIST를 위한 신경망을 만들어 본다:"
   ]
  },
  {
   "cell_type": "code",
   "execution_count": 26,
   "id": "4db111c8-3bf4-4995-a02d-0b6e376fc118",
   "metadata": {
    "scrolled": true
   },
   "outputs": [],
   "source": [
    "model = keras.models.Sequential()\n",
    "model.add(keras.layers.Flatten(input_shape=[28, 28]))\n",
    "model.add(keras.layers.Dense(300, activation=\"selu\", kernel_initializer=\"lecun_normal\"))\n",
    "for layer in range(99):\n",
    "    model.add(keras.layers.Dense(100, activation=\"selu\", kernel_initializer=\"lecun_normal\"))\n",
    "model.add(keras.layers.Dense(10, activation=\"softmax\"))"
   ]
  },
  {
   "cell_type": "code",
   "execution_count": 27,
   "id": "ec5ccb8c-ebc6-444d-81ff-c4dd2fc52da7",
   "metadata": {
    "scrolled": true
   },
   "outputs": [],
   "source": [
    "model.compile(\n",
    "    loss=\"sparse_categorical_crossentropy\", optimizer=keras.optimizers.SGD(learning_rate=1e-3), metrics=[\"accuracy\"]\n",
    ")"
   ]
  },
  {
   "cell_type": "markdown",
   "id": "40bec7eb-a7b9-4e1c-8606-4d01860db832",
   "metadata": {},
   "source": [
    "이제 훈련해 본다. 입력을 평균 0과 표준 편차 1로 바꾸어야 한다는 것을 잊지 않는다:"
   ]
  },
  {
   "cell_type": "code",
   "execution_count": 28,
   "id": "0e0d8b9e-86b4-444e-96d9-5ab4e93d1c1d",
   "metadata": {
    "scrolled": true
   },
   "outputs": [],
   "source": [
    "pixel_means = X_train.mean(axis=0, keepdims=True)\n",
    "pixel_stds = X_train.std(axis=0, keepdims=True)\n",
    "X_train_scaled = (X_train - pixel_means) / pixel_stds\n",
    "X_valid_scaled = (X_valid - pixel_means) / pixel_stds\n",
    "X_test_scaled = (X_test - pixel_means) / pixel_stds"
   ]
  },
  {
   "cell_type": "code",
   "execution_count": 29,
   "id": "5c96a61b-06a2-41bb-958e-b286f895b371",
   "metadata": {
    "scrolled": true
   },
   "outputs": [
    {
     "name": "stdout",
     "output_type": "stream",
     "text": [
      "Epoch 1/5\n",
      "1719/1719 [==============================] - 54s 30ms/step - loss: 1.5222 - accuracy: 0.4027 - val_loss: 0.9642 - val_accuracy: 0.6056\n",
      "Epoch 2/5\n",
      "1719/1719 [==============================] - 51s 30ms/step - loss: 1.0336 - accuracy: 0.6046 - val_loss: 1.0718 - val_accuracy: 0.5616\n",
      "Epoch 3/5\n",
      "1719/1719 [==============================] - 50s 29ms/step - loss: 0.9127 - accuracy: 0.6549 - val_loss: 0.7297 - val_accuracy: 0.7434\n",
      "Epoch 4/5\n",
      "1719/1719 [==============================] - 51s 30ms/step - loss: 0.7669 - accuracy: 0.7181 - val_loss: 0.7907 - val_accuracy: 0.7204\n",
      "Epoch 5/5\n",
      "1719/1719 [==============================] - 51s 29ms/step - loss: 0.8265 - accuracy: 0.7043 - val_loss: 0.7112 - val_accuracy: 0.7476\n"
     ]
    }
   ],
   "source": [
    "history = model.fit(X_train_scaled, y_train, epochs=5, validation_data=(X_valid_scaled, y_valid))"
   ]
  },
  {
   "cell_type": "markdown",
   "id": "4ba7fd16-5027-449d-8960-c6be015c5e6b",
   "metadata": {},
   "source": [
    "대신 ReLU 활성화 함수를 사용하면 어떤 일이 일어나는지 확인해 본다:"
   ]
  },
  {
   "cell_type": "code",
   "execution_count": 30,
   "id": "ef7ac6c7-d96b-4c0e-ab6d-ee72e54f9526",
   "metadata": {
    "scrolled": true
   },
   "outputs": [],
   "source": [
    "model = keras.models.Sequential()\n",
    "model.add(keras.layers.Flatten(input_shape=[28, 28]))\n",
    "model.add(keras.layers.Dense(300, activation=\"relu\", kernel_initializer=\"he_normal\"))\n",
    "for layer in range(99):\n",
    "    model.add(keras.layers.Dense(100, activation=\"relu\", kernel_initializer=\"he_normal\"))\n",
    "model.add(keras.layers.Dense(10, activation=\"softmax\"))"
   ]
  },
  {
   "cell_type": "code",
   "execution_count": 31,
   "id": "418d8bd4-d494-4016-9b22-522bffd65896",
   "metadata": {
    "scrolled": true
   },
   "outputs": [],
   "source": [
    "model.compile(\n",
    "    loss=\"sparse_categorical_crossentropy\", optimizer=keras.optimizers.SGD(learning_rate=1e-3), metrics=[\"accuracy\"]\n",
    ")"
   ]
  },
  {
   "cell_type": "code",
   "execution_count": 32,
   "id": "a19b41f3-8edb-4cf9-aba5-c7ccd2b08fd7",
   "metadata": {
    "scrolled": true
   },
   "outputs": [
    {
     "name": "stdout",
     "output_type": "stream",
     "text": [
      "Epoch 1/5\n",
      "1719/1719 [==============================] - 54s 30ms/step - loss: 2.0606 - accuracy: 0.2557 - val_loss: 1.8285 - val_accuracy: 0.3704\n",
      "Epoch 2/5\n",
      "1719/1719 [==============================] - 46s 27ms/step - loss: 1.5577 - accuracy: 0.3581 - val_loss: 1.2766 - val_accuracy: 0.4348\n",
      "Epoch 3/5\n",
      "1719/1719 [==============================] - 48s 28ms/step - loss: 1.1967 - accuracy: 0.4939 - val_loss: 2.0156 - val_accuracy: 0.2468\n",
      "Epoch 4/5\n",
      "1719/1719 [==============================] - 52s 30ms/step - loss: 0.9904 - accuracy: 0.5961 - val_loss: 0.8398 - val_accuracy: 0.6892\n",
      "Epoch 5/5\n",
      "1719/1719 [==============================] - 54s 31ms/step - loss: 0.7881 - accuracy: 0.7030 - val_loss: 0.8117 - val_accuracy: 0.6558\n"
     ]
    }
   ],
   "source": [
    "history = model.fit(X_train_scaled, y_train, epochs=5, validation_data=(X_valid_scaled, y_valid))"
   ]
  },
  {
   "cell_type": "markdown",
   "id": "6e88d380-2c3b-449b-ae5e-24f6624c813f",
   "metadata": {
    "tags": []
   },
   "source": [
    "좋지 않다. 그레이디언트 폭주나 소실 문제가 발생한 것이다."
   ]
  },
  {
   "cell_type": "markdown",
   "id": "be6a8f4c-5802-4e6d-8959-0891ced7b59a",
   "metadata": {},
   "source": [
    "# 배치 정규화"
   ]
  },
  {
   "cell_type": "code",
   "execution_count": 33,
   "id": "c00ac265-8be4-4274-9ece-d818c56e62cf",
   "metadata": {
    "scrolled": true,
    "tags": []
   },
   "outputs": [],
   "source": [
    "model = keras.models.Sequential(\n",
    "    [\n",
    "        keras.layers.Flatten(input_shape=[28, 28]),\n",
    "        keras.layers.BatchNormalization(),\n",
    "        keras.layers.Dense(300, activation=\"relu\"),\n",
    "        keras.layers.BatchNormalization(),\n",
    "        keras.layers.Dense(100, activation=\"relu\"),\n",
    "        keras.layers.BatchNormalization(),\n",
    "        keras.layers.Dense(10, activation=\"softmax\")\n",
    "    ]\n",
    ")"
   ]
  },
  {
   "cell_type": "code",
   "execution_count": 34,
   "id": "0487ba22-a4a1-48ef-84c4-93b4e0d68efe",
   "metadata": {
    "scrolled": true
   },
   "outputs": [
    {
     "name": "stdout",
     "output_type": "stream",
     "text": [
      "Model: \"sequential_4\"\n",
      "_________________________________________________________________\n",
      " Layer (type)                Output Shape              Param #   \n",
      "=================================================================\n",
      " flatten_4 (Flatten)         (None, 784)               0         \n",
      "                                                                 \n",
      " batch_normalization (BatchN  (None, 784)              3136      \n",
      " ormalization)                                                   \n",
      "                                                                 \n",
      " dense_212 (Dense)           (None, 300)               235500    \n",
      "                                                                 \n",
      " batch_normalization_1 (Batc  (None, 300)              1200      \n",
      " hNormalization)                                                 \n",
      "                                                                 \n",
      " dense_213 (Dense)           (None, 100)               30100     \n",
      "                                                                 \n",
      " batch_normalization_2 (Batc  (None, 100)              400       \n",
      " hNormalization)                                                 \n",
      "                                                                 \n",
      " dense_214 (Dense)           (None, 10)                1010      \n",
      "                                                                 \n",
      "=================================================================\n",
      "Total params: 271,346\n",
      "Trainable params: 268,978\n",
      "Non-trainable params: 2,368\n",
      "_________________________________________________________________\n"
     ]
    }
   ],
   "source": [
    "model.summary()"
   ]
  },
  {
   "cell_type": "code",
   "execution_count": 35,
   "id": "2521a648-6822-41f5-8d72-621ca4bcbd25",
   "metadata": {
    "scrolled": true,
    "tags": []
   },
   "outputs": [
    {
     "data": {
      "text/plain": [
       "[('batch_normalization/gamma:0', True),\n",
       " ('batch_normalization/beta:0', True),\n",
       " ('batch_normalization/moving_mean:0', False),\n",
       " ('batch_normalization/moving_variance:0', False)]"
      ]
     },
     "execution_count": 35,
     "metadata": {},
     "output_type": "execute_result"
    }
   ],
   "source": [
    "bn1 = model.layers[1]\n",
    "[(var.name, var.trainable) for var in bn1.variables]"
   ]
  },
  {
   "cell_type": "code",
   "execution_count": 36,
   "id": "a3e18056-3284-4334-b108-2b55ee6ff0ce",
   "metadata": {
    "scrolled": true
   },
   "outputs": [],
   "source": [
    "model.compile(\n",
    "    loss=\"sparse_categorical_crossentropy\", optimizer=keras.optimizers.SGD(learning_rate=1e-3), metrics=[\"accuracy\"]\n",
    ")"
   ]
  },
  {
   "cell_type": "code",
   "execution_count": 37,
   "id": "b991149f-3e3d-454d-8ed9-d319789603aa",
   "metadata": {
    "scrolled": true
   },
   "outputs": [
    {
     "name": "stdout",
     "output_type": "stream",
     "text": [
      "Epoch 1/10\n",
      "1719/1719 [==============================] - 11s 6ms/step - loss: 0.8522 - accuracy: 0.7123 - val_loss: 0.5472 - val_accuracy: 0.8156\n",
      "Epoch 2/10\n",
      "1719/1719 [==============================] - 10s 6ms/step - loss: 0.5724 - accuracy: 0.8013 - val_loss: 0.4742 - val_accuracy: 0.8374\n",
      "Epoch 3/10\n",
      "1719/1719 [==============================] - 10s 6ms/step - loss: 0.5157 - accuracy: 0.8214 - val_loss: 0.4392 - val_accuracy: 0.8474\n",
      "Epoch 4/10\n",
      "1719/1719 [==============================] - 10s 6ms/step - loss: 0.4804 - accuracy: 0.8321 - val_loss: 0.4169 - val_accuracy: 0.8534\n",
      "Epoch 5/10\n",
      "1719/1719 [==============================] - 10s 6ms/step - loss: 0.4560 - accuracy: 0.8407 - val_loss: 0.4041 - val_accuracy: 0.8578\n",
      "Epoch 6/10\n",
      "1719/1719 [==============================] - 10s 6ms/step - loss: 0.4396 - accuracy: 0.8442 - val_loss: 0.3913 - val_accuracy: 0.8622\n",
      "Epoch 7/10\n",
      "1719/1719 [==============================] - 10s 6ms/step - loss: 0.4248 - accuracy: 0.8496 - val_loss: 0.3805 - val_accuracy: 0.8674\n",
      "Epoch 8/10\n",
      "1719/1719 [==============================] - 10s 6ms/step - loss: 0.4110 - accuracy: 0.8549 - val_loss: 0.3730 - val_accuracy: 0.8686\n",
      "Epoch 9/10\n",
      "1719/1719 [==============================] - 10s 6ms/step - loss: 0.3999 - accuracy: 0.8584 - val_loss: 0.3663 - val_accuracy: 0.8684\n",
      "Epoch 10/10\n",
      "1719/1719 [==============================] - 10s 6ms/step - loss: 0.3921 - accuracy: 0.8607 - val_loss: 0.3607 - val_accuracy: 0.8700\n"
     ]
    }
   ],
   "source": [
    "history = model.fit(X_train, y_train, epochs=10, validation_data=(X_valid, y_valid))"
   ]
  },
  {
   "cell_type": "markdown",
   "id": "543e238a-1691-4b0b-9dcb-e3867ed13aad",
   "metadata": {
    "tags": []
   },
   "source": [
    "이따금 활성화 함수 전에 BN을 적용해도 잘 동작한다(여기에는 논란의 여지가 있다). 또한 `BatchNormalization` 층 이전의 층은 편향을 위한 항이 필요 없다. `BatchNormalization` 층이 이를 무효화하기 때문이다. 따라서 필요 없는 파라미터이므로 `use_bias=False`를 지정하여 층을 만들 수 있다:"
   ]
  },
  {
   "cell_type": "code",
   "execution_count": 38,
   "id": "0dacfe52-f9d4-491b-8258-370b8f5cd15e",
   "metadata": {
    "scrolled": true,
    "tags": []
   },
   "outputs": [],
   "source": [
    "model = keras.models.Sequential(\n",
    "    [\n",
    "        keras.layers.Flatten(input_shape=[28, 28]),\n",
    "        keras.layers.BatchNormalization(),\n",
    "        keras.layers.Dense(300, use_bias=False),\n",
    "        keras.layers.BatchNormalization(),\n",
    "        keras.layers.Activation(\"relu\"),\n",
    "        keras.layers.Dense(100, use_bias=False),\n",
    "        keras.layers.BatchNormalization(),\n",
    "        keras.layers.Activation(\"relu\"),\n",
    "        keras.layers.Dense(10, activation=\"softmax\")\n",
    "    ]\n",
    ")"
   ]
  },
  {
   "cell_type": "code",
   "execution_count": 39,
   "id": "74093742-9b08-46b2-8bb1-36b0c5087261",
   "metadata": {
    "scrolled": true
   },
   "outputs": [],
   "source": [
    "model.compile(\n",
    "    loss=\"sparse_categorical_crossentropy\", optimizer=keras.optimizers.SGD(learning_rate=1e-3), metrics=[\"accuracy\"]\n",
    ")"
   ]
  },
  {
   "cell_type": "code",
   "execution_count": 40,
   "id": "cf07dee6-c527-4ba0-a46d-8a02e9ad4464",
   "metadata": {
    "scrolled": true
   },
   "outputs": [
    {
     "name": "stdout",
     "output_type": "stream",
     "text": [
      "Epoch 1/10\n",
      "1719/1719 [==============================] - 10s 5ms/step - loss: 1.0460 - accuracy: 0.6784 - val_loss: 0.6663 - val_accuracy: 0.7904\n",
      "Epoch 2/10\n",
      "1719/1719 [==============================] - 9s 5ms/step - loss: 0.6699 - accuracy: 0.7846 - val_loss: 0.5489 - val_accuracy: 0.8214\n",
      "Epoch 3/10\n",
      "1719/1719 [==============================] - 9s 5ms/step - loss: 0.5886 - accuracy: 0.8036 - val_loss: 0.4944 - val_accuracy: 0.8378\n",
      "Epoch 4/10\n",
      "1719/1719 [==============================] - 9s 5ms/step - loss: 0.5415 - accuracy: 0.8168 - val_loss: 0.4635 - val_accuracy: 0.8468\n",
      "Epoch 5/10\n",
      "1719/1719 [==============================] - 9s 5ms/step - loss: 0.5114 - accuracy: 0.8274 - val_loss: 0.4406 - val_accuracy: 0.8528\n",
      "Epoch 6/10\n",
      "1719/1719 [==============================] - 9s 5ms/step - loss: 0.4876 - accuracy: 0.8334 - val_loss: 0.4242 - val_accuracy: 0.8578\n",
      "Epoch 7/10\n",
      "1719/1719 [==============================] - 9s 5ms/step - loss: 0.4694 - accuracy: 0.8375 - val_loss: 0.4109 - val_accuracy: 0.8630\n",
      "Epoch 8/10\n",
      "1719/1719 [==============================] - 9s 5ms/step - loss: 0.4532 - accuracy: 0.8438 - val_loss: 0.4020 - val_accuracy: 0.8656\n",
      "Epoch 9/10\n",
      "1719/1719 [==============================] - 9s 5ms/step - loss: 0.4423 - accuracy: 0.8464 - val_loss: 0.3926 - val_accuracy: 0.8684\n",
      "Epoch 10/10\n",
      "1719/1719 [==============================] - 9s 5ms/step - loss: 0.4308 - accuracy: 0.8507 - val_loss: 0.3862 - val_accuracy: 0.8680\n"
     ]
    }
   ],
   "source": [
    "history = model.fit(X_train, y_train, epochs=10, validation_data=(X_valid, y_valid))"
   ]
  },
  {
   "cell_type": "markdown",
   "id": "6bf6c6ca-2f11-4c5e-9d0a-96c0d84491b1",
   "metadata": {
    "tags": []
   },
   "source": [
    "## 그레이디언트 클리핑"
   ]
  },
  {
   "cell_type": "markdown",
   "id": "1e7ed889-9be9-48eb-960f-4322d5574b4f",
   "metadata": {},
   "source": [
    "모든 케라스 옵티마이저는 `clipnorm`이나 `clipvalue` 매개변수를 지원한다:"
   ]
  },
  {
   "cell_type": "code",
   "execution_count": 41,
   "id": "4635a5c6-bfc3-4a9f-98c3-e9bf443331fc",
   "metadata": {
    "scrolled": true
   },
   "outputs": [],
   "source": [
    "optimizer = keras.optimizers.SGD(clipvalue=1.0)"
   ]
  },
  {
   "cell_type": "code",
   "execution_count": 42,
   "id": "cfe9f991-1bc4-4753-b0de-88b5ec368c94",
   "metadata": {
    "scrolled": true
   },
   "outputs": [],
   "source": [
    "optimizer = keras.optimizers.SGD(clipnorm=1.0)"
   ]
  },
  {
   "cell_type": "markdown",
   "id": "f61979f7-ee56-467d-b8f5-0537a786e01a",
   "metadata": {},
   "source": [
    "## 사전 훈련된 층 재사용하기"
   ]
  },
  {
   "cell_type": "markdown",
   "id": "c258b77f-e5b2-4956-b175-a4b526964d52",
   "metadata": {},
   "source": [
    "### 케라스 모델 재사용하기"
   ]
  },
  {
   "cell_type": "markdown",
   "id": "daf0f319-b5a5-4868-af49-faa51da20b34",
   "metadata": {},
   "source": [
    "패션 MNIST 훈련 세트를 두 개로 나누어 본다:\n",
    "* `X_train_A`: 샌달과 셔츠(클래스 5와 6)을 제외한 모든 이미지\n",
    "* `X_train_B`: 샌달과 셔츠 이미지 중 처음 200개만 가진 작은 훈련 세트\n",
    "\n",
    "검증 세트와 테스트 세트도 이렇게 나눈다. 하지만 이미지 개수는 제한하지 않는다.\n",
    "\n",
    "A 세트(8개의 클래스를 가진 분류 문제)에서 모델을 훈련하고 이를 재사용하여 B 세트(이진 분류)를 해결해 본다. A 작업에서 B 작업으로 약간의 지식이 전달되기를 기대한다. 왜냐하면 A 세트의 클래스(스니커즈, 앵클 부츠, 코트, 티셔츠 등)가 B 세트에 있는 클래스(샌달과 셔츠)와 조금 비슷하기 때문이다. 하지만 `Dense` 층을 사용하기 때문에 동일한 위치에 나타난 패턴만 재사용할 수 있다(반대로 합성곱 층은 훨씬 많은 정보를 전송한다. 학습한 패턴을 이미지의 어느 위치에서나 감지할 수 있기 때문이다.)."
   ]
  },
  {
   "cell_type": "code",
   "execution_count": 43,
   "id": "d8acd492-471e-46e8-b2c5-2494639c47b5",
   "metadata": {
    "scrolled": true
   },
   "outputs": [],
   "source": [
    "def split_dataset(X, y):\n",
    "    y_5_or_6 = (y == 5) | (y == 6)  # 샌들 또는 셔츠\n",
    "    y_A = y[~y_5_or_6]\n",
    "    y_A[y_A > 6] -= 2  # 클래스 인덱스 7, 8, 9는 5, 6, 7로 이동해야 한다\n",
    "    y_B = (y[y_5_or_6] == 6).astype(np.float32)  # 이진 분류 작업: 셔츠(클래스 6)인가?\n",
    "    return (X[~y_5_or_6], y_A), (X[y_5_or_6], y_B)\n",
    "\n",
    "\n",
    "(X_train_A, y_train_A), (X_train_B, y_train_B) = split_dataset(X_train, y_train)\n",
    "(X_valid_A, y_valid_A), (X_valid_B, y_valid_B) = split_dataset(X_valid, y_valid)\n",
    "(X_test_A, y_test_A), (X_test_B, y_test_B) = split_dataset(X_test, y_test)\n",
    "X_train_B = X_train_B[:200]\n",
    "y_train_B = y_train_B[:200]"
   ]
  },
  {
   "cell_type": "code",
   "execution_count": 44,
   "id": "a4bd08c0-ae95-43b2-8646-6dde4ba2e5e0",
   "metadata": {
    "scrolled": true
   },
   "outputs": [
    {
     "data": {
      "text/plain": [
       "(43986, 28, 28)"
      ]
     },
     "execution_count": 44,
     "metadata": {},
     "output_type": "execute_result"
    }
   ],
   "source": [
    "X_train_A.shape"
   ]
  },
  {
   "cell_type": "code",
   "execution_count": 45,
   "id": "edc11cc4-60ff-4883-8f1d-d85ded0ac6c5",
   "metadata": {
    "scrolled": true
   },
   "outputs": [
    {
     "data": {
      "text/plain": [
       "(200, 28, 28)"
      ]
     },
     "execution_count": 45,
     "metadata": {},
     "output_type": "execute_result"
    }
   ],
   "source": [
    "X_train_B.shape"
   ]
  },
  {
   "cell_type": "code",
   "execution_count": 46,
   "id": "d1f8ba7b-7044-44a3-a97b-f36e0fd2808f",
   "metadata": {
    "scrolled": true
   },
   "outputs": [
    {
     "data": {
      "text/plain": [
       "array([4, 0, 5, 7, 7, 7, 4, 4, 3, 4, 0, 1, 6, 3, 4, 3, 2, 6, 5, 3, 4, 5,\n",
       "       1, 3, 4, 2, 0, 6, 7, 1], dtype=uint8)"
      ]
     },
     "execution_count": 46,
     "metadata": {},
     "output_type": "execute_result"
    }
   ],
   "source": [
    "y_train_A[:30]"
   ]
  },
  {
   "cell_type": "code",
   "execution_count": 47,
   "id": "05446be6-5629-40cd-a646-32e5cd4bc097",
   "metadata": {
    "scrolled": true
   },
   "outputs": [
    {
     "data": {
      "text/plain": [
       "array([1., 1., 0., 0., 0., 0., 1., 1., 1., 0., 0., 1., 1., 0., 0., 0., 0.,\n",
       "       0., 0., 1., 1., 0., 0., 1., 1., 0., 1., 1., 1., 1.], dtype=float32)"
      ]
     },
     "execution_count": 47,
     "metadata": {},
     "output_type": "execute_result"
    }
   ],
   "source": [
    "y_train_B[:30]"
   ]
  },
  {
   "cell_type": "code",
   "execution_count": 48,
   "id": "81618cdc-113a-4ba2-8a32-54438a953ec9",
   "metadata": {
    "scrolled": true
   },
   "outputs": [],
   "source": [
    "model_A = keras.models.Sequential()\n",
    "model_A.add(keras.layers.Flatten(input_shape=[28, 28]))\n",
    "for n_hidden in (300, 100, 50, 50, 50):\n",
    "    model_A.add(keras.layers.Dense(n_hidden, activation=\"selu\"))\n",
    "model_A.add(keras.layers.Dense(8, activation=\"softmax\"))"
   ]
  },
  {
   "cell_type": "code",
   "execution_count": 49,
   "id": "7549254a-2999-4f24-9604-55861546c4e4",
   "metadata": {
    "scrolled": true
   },
   "outputs": [],
   "source": [
    "model_A.compile(\n",
    "    loss=\"sparse_categorical_crossentropy\", optimizer=keras.optimizers.SGD(learning_rate=1e-3), metrics=[\"accuracy\"]\n",
    ")"
   ]
  },
  {
   "cell_type": "code",
   "execution_count": 50,
   "id": "7113ae8b-8aa4-4dcd-a7e0-48ae3bc23cde",
   "metadata": {
    "scrolled": true
   },
   "outputs": [
    {
     "name": "stdout",
     "output_type": "stream",
     "text": [
      "Epoch 1/20\n",
      "1375/1375 [==============================] - 5s 4ms/step - loss: 0.5826 - accuracy: 0.8135 - val_loss: 0.3864 - val_accuracy: 0.8710\n",
      "Epoch 2/20\n",
      "1375/1375 [==============================] - 5s 4ms/step - loss: 0.3610 - accuracy: 0.8755 - val_loss: 0.3308 - val_accuracy: 0.8874\n",
      "Epoch 3/20\n",
      "1375/1375 [==============================] - 5s 4ms/step - loss: 0.3230 - accuracy: 0.8878 - val_loss: 0.3106 - val_accuracy: 0.8941\n",
      "Epoch 4/20\n",
      "1375/1375 [==============================] - 5s 4ms/step - loss: 0.3031 - accuracy: 0.8952 - val_loss: 0.2948 - val_accuracy: 0.9001\n",
      "Epoch 5/20\n",
      "1375/1375 [==============================] - 5s 4ms/step - loss: 0.2887 - accuracy: 0.8998 - val_loss: 0.2799 - val_accuracy: 0.9061\n",
      "Epoch 6/20\n",
      "1375/1375 [==============================] - 5s 4ms/step - loss: 0.2787 - accuracy: 0.9044 - val_loss: 0.2789 - val_accuracy: 0.9038\n",
      "Epoch 7/20\n",
      "1375/1375 [==============================] - 5s 4ms/step - loss: 0.2708 - accuracy: 0.9071 - val_loss: 0.2683 - val_accuracy: 0.9106\n",
      "Epoch 8/20\n",
      "1375/1375 [==============================] - 5s 4ms/step - loss: 0.2634 - accuracy: 0.9092 - val_loss: 0.2618 - val_accuracy: 0.9113\n",
      "Epoch 9/20\n",
      "1375/1375 [==============================] - 5s 4ms/step - loss: 0.2578 - accuracy: 0.9119 - val_loss: 0.2590 - val_accuracy: 0.9111\n",
      "Epoch 10/20\n",
      "1375/1375 [==============================] - 5s 4ms/step - loss: 0.2526 - accuracy: 0.9140 - val_loss: 0.2551 - val_accuracy: 0.9108\n",
      "Epoch 11/20\n",
      "1375/1375 [==============================] - 5s 4ms/step - loss: 0.2479 - accuracy: 0.9150 - val_loss: 0.2535 - val_accuracy: 0.9133\n",
      "Epoch 12/20\n",
      "1375/1375 [==============================] - 5s 4ms/step - loss: 0.2445 - accuracy: 0.9161 - val_loss: 0.2506 - val_accuracy: 0.9126\n",
      "Epoch 13/20\n",
      "1375/1375 [==============================] - 5s 4ms/step - loss: 0.2408 - accuracy: 0.9170 - val_loss: 0.2477 - val_accuracy: 0.9148\n",
      "Epoch 14/20\n",
      "1375/1375 [==============================] - 5s 4ms/step - loss: 0.2373 - accuracy: 0.9181 - val_loss: 0.2451 - val_accuracy: 0.9150\n",
      "Epoch 15/20\n",
      "1375/1375 [==============================] - 5s 4ms/step - loss: 0.2342 - accuracy: 0.9199 - val_loss: 0.2431 - val_accuracy: 0.9168\n",
      "Epoch 16/20\n",
      "1375/1375 [==============================] - 5s 4ms/step - loss: 0.2315 - accuracy: 0.9210 - val_loss: 0.2407 - val_accuracy: 0.9170\n",
      "Epoch 17/20\n",
      "1375/1375 [==============================] - 5s 4ms/step - loss: 0.2287 - accuracy: 0.9212 - val_loss: 0.2459 - val_accuracy: 0.9121\n",
      "Epoch 18/20\n",
      "1375/1375 [==============================] - 5s 4ms/step - loss: 0.2260 - accuracy: 0.9222 - val_loss: 0.2389 - val_accuracy: 0.9170\n",
      "Epoch 19/20\n",
      "1375/1375 [==============================] - 5s 4ms/step - loss: 0.2235 - accuracy: 0.9229 - val_loss: 0.2394 - val_accuracy: 0.9203\n",
      "Epoch 20/20\n",
      "1375/1375 [==============================] - 5s 4ms/step - loss: 0.2215 - accuracy: 0.9244 - val_loss: 0.2420 - val_accuracy: 0.9180\n"
     ]
    }
   ],
   "source": [
    "history = model_A.fit(X_train_A, y_train_A, epochs=20, validation_data=(X_valid_A, y_valid_A))"
   ]
  },
  {
   "cell_type": "code",
   "execution_count": 51,
   "id": "a78e6863-a1b3-4ee4-9e2c-31c3ecb16816",
   "metadata": {
    "scrolled": true,
    "tags": []
   },
   "outputs": [],
   "source": [
    "model_A.save(\"my_model_A.h5\")"
   ]
  },
  {
   "cell_type": "code",
   "execution_count": 52,
   "id": "c7c2564c-717f-4d31-a429-067346b9db66",
   "metadata": {
    "scrolled": true
   },
   "outputs": [],
   "source": [
    "model_B = keras.models.Sequential()\n",
    "model_B.add(keras.layers.Flatten(input_shape=[28, 28]))\n",
    "for n_hidden in (300, 100, 50, 50, 50):\n",
    "    model_B.add(keras.layers.Dense(n_hidden, activation=\"selu\"))\n",
    "model_B.add(keras.layers.Dense(1, activation=\"sigmoid\"))"
   ]
  },
  {
   "cell_type": "code",
   "execution_count": 53,
   "id": "9916a78b-6e89-49cf-b971-3045c339a9dd",
   "metadata": {
    "scrolled": true
   },
   "outputs": [],
   "source": [
    "model_B.compile(loss=\"binary_crossentropy\", optimizer=keras.optimizers.SGD(learning_rate=1e-3), metrics=[\"accuracy\"])"
   ]
  },
  {
   "cell_type": "code",
   "execution_count": 54,
   "id": "a49b088b-cba9-4d09-a8de-965b499f8e9b",
   "metadata": {
    "scrolled": true
   },
   "outputs": [
    {
     "name": "stdout",
     "output_type": "stream",
     "text": [
      "Epoch 1/20\n",
      "7/7 [==============================] - 1s 42ms/step - loss: 0.6011 - accuracy: 0.7100 - val_loss: 0.4897 - val_accuracy: 0.7748\n",
      "Epoch 2/20\n",
      "7/7 [==============================] - 0s 19ms/step - loss: 0.4260 - accuracy: 0.8300 - val_loss: 0.3811 - val_accuracy: 0.8550\n",
      "Epoch 3/20\n",
      "7/7 [==============================] - 0s 18ms/step - loss: 0.3321 - accuracy: 0.9000 - val_loss: 0.3136 - val_accuracy: 0.8986\n",
      "Epoch 4/20\n",
      "7/7 [==============================] - 0s 18ms/step - loss: 0.2712 - accuracy: 0.9150 - val_loss: 0.2636 - val_accuracy: 0.9300\n",
      "Epoch 5/20\n",
      "7/7 [==============================] - 0s 19ms/step - loss: 0.2285 - accuracy: 0.9550 - val_loss: 0.2304 - val_accuracy: 0.9442\n",
      "Epoch 6/20\n",
      "7/7 [==============================] - 0s 18ms/step - loss: 0.1978 - accuracy: 0.9700 - val_loss: 0.2065 - val_accuracy: 0.9503\n",
      "Epoch 7/20\n",
      "7/7 [==============================] - 0s 19ms/step - loss: 0.1749 - accuracy: 0.9700 - val_loss: 0.1868 - val_accuracy: 0.9564\n",
      "Epoch 8/20\n",
      "7/7 [==============================] - 0s 19ms/step - loss: 0.1561 - accuracy: 0.9800 - val_loss: 0.1709 - val_accuracy: 0.9604\n",
      "Epoch 9/20\n",
      "7/7 [==============================] - 0s 19ms/step - loss: 0.1411 - accuracy: 0.9850 - val_loss: 0.1584 - val_accuracy: 0.9645\n",
      "Epoch 10/20\n",
      "7/7 [==============================] - 0s 19ms/step - loss: 0.1294 - accuracy: 0.9850 - val_loss: 0.1483 - val_accuracy: 0.9675\n",
      "Epoch 11/20\n",
      "7/7 [==============================] - 0s 18ms/step - loss: 0.1194 - accuracy: 0.9850 - val_loss: 0.1390 - val_accuracy: 0.9696\n",
      "Epoch 12/20\n",
      "7/7 [==============================] - 0s 19ms/step - loss: 0.1106 - accuracy: 0.9850 - val_loss: 0.1313 - val_accuracy: 0.9686\n",
      "Epoch 13/20\n",
      "7/7 [==============================] - 0s 19ms/step - loss: 0.1032 - accuracy: 0.9900 - val_loss: 0.1242 - val_accuracy: 0.9726\n",
      "Epoch 14/20\n",
      "7/7 [==============================] - 0s 18ms/step - loss: 0.0969 - accuracy: 0.9950 - val_loss: 0.1184 - val_accuracy: 0.9736\n",
      "Epoch 15/20\n",
      "7/7 [==============================] - 0s 18ms/step - loss: 0.0909 - accuracy: 0.9950 - val_loss: 0.1136 - val_accuracy: 0.9736\n",
      "Epoch 16/20\n",
      "7/7 [==============================] - 0s 18ms/step - loss: 0.0860 - accuracy: 0.9950 - val_loss: 0.1095 - val_accuracy: 0.9746\n",
      "Epoch 17/20\n",
      "7/7 [==============================] - 0s 18ms/step - loss: 0.0815 - accuracy: 0.9950 - val_loss: 0.1054 - val_accuracy: 0.9746\n",
      "Epoch 18/20\n",
      "7/7 [==============================] - 0s 18ms/step - loss: 0.0778 - accuracy: 0.9950 - val_loss: 0.1014 - val_accuracy: 0.9746\n",
      "Epoch 19/20\n",
      "7/7 [==============================] - 0s 18ms/step - loss: 0.0739 - accuracy: 0.9950 - val_loss: 0.0984 - val_accuracy: 0.9746\n",
      "Epoch 20/20\n",
      "7/7 [==============================] - 0s 18ms/step - loss: 0.0707 - accuracy: 0.9950 - val_loss: 0.0953 - val_accuracy: 0.9746\n"
     ]
    }
   ],
   "source": [
    "history = model_B.fit(X_train_B, y_train_B, epochs=20, validation_data=(X_valid_B, y_valid_B))"
   ]
  },
  {
   "cell_type": "code",
   "execution_count": 55,
   "id": "0d9bb929-34bd-4e95-9389-b366d1ebaf27",
   "metadata": {
    "scrolled": true,
    "tags": []
   },
   "outputs": [
    {
     "name": "stdout",
     "output_type": "stream",
     "text": [
      "Model: \"sequential_7\"\n",
      "_________________________________________________________________\n",
      " Layer (type)                Output Shape              Param #   \n",
      "=================================================================\n",
      " flatten_7 (Flatten)         (None, 784)               0         \n",
      "                                                                 \n",
      " dense_224 (Dense)           (None, 300)               235500    \n",
      "                                                                 \n",
      " dense_225 (Dense)           (None, 100)               30100     \n",
      "                                                                 \n",
      " dense_226 (Dense)           (None, 50)                5050      \n",
      "                                                                 \n",
      " dense_227 (Dense)           (None, 50)                2550      \n",
      "                                                                 \n",
      " dense_228 (Dense)           (None, 50)                2550      \n",
      "                                                                 \n",
      " dense_229 (Dense)           (None, 1)                 51        \n",
      "                                                                 \n",
      "=================================================================\n",
      "Total params: 275,801\n",
      "Trainable params: 275,801\n",
      "Non-trainable params: 0\n",
      "_________________________________________________________________\n"
     ]
    }
   ],
   "source": [
    "model_B.summary()"
   ]
  },
  {
   "cell_type": "code",
   "execution_count": 56,
   "id": "6a95b8c2-3023-4f66-a1e4-6fdca65922cb",
   "metadata": {
    "scrolled": true
   },
   "outputs": [],
   "source": [
    "model_A = keras.models.load_model(\"my_model_A.h5\")\n",
    "model_B_on_A = keras.models.Sequential(model_A.layers[:-1])\n",
    "model_B_on_A.add(keras.layers.Dense(1, activation=\"sigmoid\"))"
   ]
  },
  {
   "cell_type": "markdown",
   "id": "f61f7142-203a-4704-af97-875a3500c067",
   "metadata": {},
   "source": [
    "`model_B_on_A`와 `model_A`는 층을 공유하기 때문에 하나를 훈련하면 두 모델이 업데이트된다. 이를 피하려면 `model_A`를 클론한 것을 사용해 `model_B_on_A`를 만들어야 한다:"
   ]
  },
  {
   "cell_type": "code",
   "execution_count": 57,
   "id": "07c77cb1-603e-4c54-b173-479324be585e",
   "metadata": {
    "scrolled": true
   },
   "outputs": [],
   "source": [
    "model_A_clone = keras.models.clone_model(model_A)\n",
    "model_A_clone.set_weights(model_A.get_weights())\n",
    "model_B_on_A = keras.models.Sequential(model_A_clone.layers[:-1])\n",
    "model_B_on_A.add(keras.layers.Dense(1, activation=\"sigmoid\"))"
   ]
  },
  {
   "cell_type": "code",
   "execution_count": 58,
   "id": "7c606817-3971-4519-bb5a-d9fd8c0cacc6",
   "metadata": {
    "scrolled": true
   },
   "outputs": [],
   "source": [
    "for layer in model_B_on_A.layers[:-1]:\n",
    "    layer.trainable = False\n",
    "model_B_on_A.compile(\n",
    "    loss=\"binary_crossentropy\", optimizer=keras.optimizers.SGD(learning_rate=1e-3), metrics=[\"accuracy\"]\n",
    ")"
   ]
  },
  {
   "cell_type": "code",
   "execution_count": 59,
   "id": "21b9443a-cf01-4b56-a0d0-04f205cfc86f",
   "metadata": {
    "scrolled": true
   },
   "outputs": [
    {
     "name": "stdout",
     "output_type": "stream",
     "text": [
      "Epoch 1/4\n",
      "7/7 [==============================] - 1s 40ms/step - loss: 0.4521 - accuracy: 0.7850 - val_loss: 0.4596 - val_accuracy: 0.7901\n",
      "Epoch 2/4\n",
      "7/7 [==============================] - 0s 19ms/step - loss: 0.4282 - accuracy: 0.8100 - val_loss: 0.4359 - val_accuracy: 0.8276\n",
      "Epoch 3/4\n",
      "7/7 [==============================] - 0s 18ms/step - loss: 0.4055 - accuracy: 0.8300 - val_loss: 0.4150 - val_accuracy: 0.8418\n",
      "Epoch 4/4\n",
      "7/7 [==============================] - 0s 18ms/step - loss: 0.3857 - accuracy: 0.8450 - val_loss: 0.3957 - val_accuracy: 0.8590\n",
      "Epoch 1/16\n",
      "7/7 [==============================] - 1s 40ms/step - loss: 0.3402 - accuracy: 0.8950 - val_loss: 0.3109 - val_accuracy: 0.9351\n",
      "Epoch 2/16\n",
      "7/7 [==============================] - 0s 20ms/step - loss: 0.2662 - accuracy: 0.9450 - val_loss: 0.2583 - val_accuracy: 0.9584\n",
      "Epoch 3/16\n",
      "7/7 [==============================] - 0s 19ms/step - loss: 0.2194 - accuracy: 0.9700 - val_loss: 0.2207 - val_accuracy: 0.9716\n",
      "Epoch 4/16\n",
      "7/7 [==============================] - 0s 18ms/step - loss: 0.1857 - accuracy: 0.9750 - val_loss: 0.1936 - val_accuracy: 0.9736\n",
      "Epoch 5/16\n",
      "7/7 [==============================] - 0s 18ms/step - loss: 0.1610 - accuracy: 0.9850 - val_loss: 0.1719 - val_accuracy: 0.9797\n",
      "Epoch 6/16\n",
      "7/7 [==============================] - 0s 18ms/step - loss: 0.1406 - accuracy: 0.9900 - val_loss: 0.1548 - val_accuracy: 0.9828\n",
      "Epoch 7/16\n",
      "7/7 [==============================] - 0s 18ms/step - loss: 0.1246 - accuracy: 0.9950 - val_loss: 0.1410 - val_accuracy: 0.9878\n",
      "Epoch 8/16\n",
      "7/7 [==============================] - 0s 18ms/step - loss: 0.1115 - accuracy: 1.0000 - val_loss: 0.1296 - val_accuracy: 0.9878\n",
      "Epoch 9/16\n",
      "7/7 [==============================] - 0s 19ms/step - loss: 0.1007 - accuracy: 1.0000 - val_loss: 0.1204 - val_accuracy: 0.9878\n",
      "Epoch 10/16\n",
      "7/7 [==============================] - 0s 19ms/step - loss: 0.0921 - accuracy: 1.0000 - val_loss: 0.1126 - val_accuracy: 0.9878\n",
      "Epoch 11/16\n",
      "7/7 [==============================] - 0s 21ms/step - loss: 0.0847 - accuracy: 1.0000 - val_loss: 0.1059 - val_accuracy: 0.9888\n",
      "Epoch 12/16\n",
      "7/7 [==============================] - 0s 18ms/step - loss: 0.0782 - accuracy: 1.0000 - val_loss: 0.1002 - val_accuracy: 0.9888\n",
      "Epoch 13/16\n",
      "7/7 [==============================] - 0s 19ms/step - loss: 0.0728 - accuracy: 1.0000 - val_loss: 0.0952 - val_accuracy: 0.9888\n",
      "Epoch 14/16\n",
      "7/7 [==============================] - 0s 18ms/step - loss: 0.0680 - accuracy: 1.0000 - val_loss: 0.0907 - val_accuracy: 0.9888\n",
      "Epoch 15/16\n",
      "7/7 [==============================] - 0s 18ms/step - loss: 0.0637 - accuracy: 1.0000 - val_loss: 0.0867 - val_accuracy: 0.9888\n",
      "Epoch 16/16\n",
      "7/7 [==============================] - 0s 19ms/step - loss: 0.0598 - accuracy: 1.0000 - val_loss: 0.0830 - val_accuracy: 0.9899\n"
     ]
    }
   ],
   "source": [
    "history = model_B_on_A.fit(X_train_B, y_train_B, epochs=4, validation_data=(X_valid_B, y_valid_B))\n",
    "for layer in model_B_on_A.layers[:-1]:\n",
    "    layer.trainable = True\n",
    "model_B_on_A.compile(\n",
    "    loss=\"binary_crossentropy\", optimizer=keras.optimizers.SGD(learning_rate=1e-3), metrics=[\"accuracy\"]\n",
    ")\n",
    "history = model_B_on_A.fit(X_train_B, y_train_B, epochs=16, validation_data=(X_valid_B, y_valid_B))"
   ]
  },
  {
   "cell_type": "markdown",
   "id": "d7b23e81-e4f6-4ac8-8b9b-6e6e51cb77a5",
   "metadata": {
    "tags": []
   },
   "source": [
    "마지막 점수는 어떨까?"
   ]
  },
  {
   "cell_type": "code",
   "execution_count": 60,
   "id": "b938d01b-7a48-4d86-8344-3d4cc292777d",
   "metadata": {
    "scrolled": true
   },
   "outputs": [
    {
     "name": "stdout",
     "output_type": "stream",
     "text": [
      "63/63 [==============================] - 0s 2ms/step - loss: 0.0874 - accuracy: 0.9845\n"
     ]
    },
    {
     "data": {
      "text/plain": [
       "[0.08740125596523285, 0.984499990940094]"
      ]
     },
     "execution_count": 60,
     "metadata": {},
     "output_type": "execute_result"
    }
   ],
   "source": [
    "B = model_B.evaluate(X_test_B, y_test_B)\n",
    "B"
   ]
  },
  {
   "cell_type": "code",
   "execution_count": 61,
   "id": "9b899fd5-8f9d-4fb6-94f3-395f810195db",
   "metadata": {
    "scrolled": true
   },
   "outputs": [
    {
     "name": "stdout",
     "output_type": "stream",
     "text": [
      "63/63 [==============================] - 0s 2ms/step - loss: 0.0782 - accuracy: 0.9950\n"
     ]
    },
    {
     "data": {
      "text/plain": [
       "[0.07820695638656616, 0.9950000047683716]"
      ]
     },
     "execution_count": 61,
     "metadata": {},
     "output_type": "execute_result"
    }
   ],
   "source": [
    "B_on_A = model_B_on_A.evaluate(X_test_B, y_test_B)\n",
    "B_on_A"
   ]
  },
  {
   "cell_type": "markdown",
   "id": "a81f73de-c1be-4a6f-b957-050b06e100eb",
   "metadata": {},
   "source": [
    "아주 약간의 정보를 전달했다: 오차율이 아주 조금 줄었다."
   ]
  },
  {
   "cell_type": "code",
   "execution_count": 62,
   "id": "bffbbb62-e7d9-4ce6-88df-477cf6bf537b",
   "metadata": {
    "scrolled": true
   },
   "outputs": [
    {
     "data": {
      "text/plain": [
       "1.0001060553894126"
      ]
     },
     "execution_count": 62,
     "metadata": {},
     "output_type": "execute_result"
    }
   ],
   "source": [
    "(100 - B[1]) / (100 - B_on_A[1])"
   ]
  },
  {
   "cell_type": "markdown",
   "id": "9b19bb16-b5f4-4184-b529-c011eaddedb5",
   "metadata": {
    "tags": []
   },
   "source": [
    "# 고속 옵티마이저"
   ]
  },
  {
   "cell_type": "markdown",
   "id": "cbb69212-b7c2-4cc1-8281-f4be2a448031",
   "metadata": {},
   "source": [
    "## 모멘텀 옵티마이저"
   ]
  },
  {
   "cell_type": "code",
   "execution_count": 63,
   "id": "4a22926a-72f2-4d37-bd45-45e610f324fe",
   "metadata": {
    "scrolled": true
   },
   "outputs": [],
   "source": [
    "optimizer = keras.optimizers.SGD(learning_rate=0.001, momentum=0.9)"
   ]
  },
  {
   "cell_type": "markdown",
   "id": "af03d5ef-d9ce-47cf-8d08-3a8a780859db",
   "metadata": {},
   "source": [
    "## 네스테로프 가속 경사"
   ]
  },
  {
   "cell_type": "code",
   "execution_count": 64,
   "id": "26887969-a595-424b-984c-3f74ff07b949",
   "metadata": {
    "scrolled": true
   },
   "outputs": [],
   "source": [
    "optimizer = keras.optimizers.SGD(learning_rate=0.001, momentum=0.9, nesterov=True)"
   ]
  },
  {
   "cell_type": "markdown",
   "id": "fc5e18f7-8c1b-4fcf-a50e-30ca3c60370a",
   "metadata": {},
   "source": [
    "## AdaGrad"
   ]
  },
  {
   "cell_type": "code",
   "execution_count": 65,
   "id": "8235a7dc-e1d7-483d-9261-b2dc9c5b3a40",
   "metadata": {
    "scrolled": true
   },
   "outputs": [],
   "source": [
    "optimizer = keras.optimizers.Adagrad()"
   ]
  },
  {
   "cell_type": "markdown",
   "id": "b0c29163-f5fd-4b9a-a54b-60aeba38db6a",
   "metadata": {},
   "source": [
    "## RMSProp"
   ]
  },
  {
   "cell_type": "code",
   "execution_count": 66,
   "id": "39a7e7e7-43ed-4722-be24-b92431d29673",
   "metadata": {
    "scrolled": true
   },
   "outputs": [],
   "source": [
    "optimizer = keras.optimizers.RMSprop()"
   ]
  },
  {
   "cell_type": "markdown",
   "id": "892241ac-ff4d-40b8-b57f-7a772c97f189",
   "metadata": {},
   "source": [
    "## Adam 옵티마이저"
   ]
  },
  {
   "cell_type": "code",
   "execution_count": 67,
   "id": "41fb2553-1ce9-467d-b669-18d5f3ca3c66",
   "metadata": {
    "scrolled": true
   },
   "outputs": [],
   "source": [
    "optimizer = keras.optimizers.Adam()"
   ]
  },
  {
   "cell_type": "markdown",
   "id": "08b42551-d050-4a6c-babc-cf7a0386c0af",
   "metadata": {},
   "source": [
    "## Nadam 옵티마이저"
   ]
  },
  {
   "cell_type": "code",
   "execution_count": 68,
   "id": "c424614b-32c1-4c96-8398-913aa6cdf915",
   "metadata": {
    "scrolled": true
   },
   "outputs": [],
   "source": [
    "optimizer = keras.optimizers.Nadam()"
   ]
  },
  {
   "cell_type": "markdown",
   "id": "d7d40f32-3942-4e85-8cac-8e7cf2f90c5e",
   "metadata": {
    "tags": []
   },
   "source": [
    "## 학습률 스케줄링"
   ]
  },
  {
   "cell_type": "markdown",
   "id": "e2fa9774-ab3e-47c6-b3fd-216f4eefc8ff",
   "metadata": {},
   "source": [
    "### 거듭제곱 스케줄링"
   ]
  },
  {
   "cell_type": "markdown",
   "id": "298e65fa-7785-4430-8a1e-3dd7903c969e",
   "metadata": {},
   "source": [
    "```lr = lr0 / (1 + steps / s)**c```\n",
    "* 케라스는 `c=1`과 `s = 1 / decay`을 사용한다"
   ]
  },
  {
   "cell_type": "code",
   "execution_count": 69,
   "id": "a41a3dde-6dd5-4378-bf6b-8c4e85d49185",
   "metadata": {
    "scrolled": true
   },
   "outputs": [],
   "source": [
    "optimizer = keras.optimizers.SGD(decay=1e-4)"
   ]
  },
  {
   "cell_type": "code",
   "execution_count": 70,
   "id": "c5a68479-f73a-47a3-b2fb-8265f654a9c5",
   "metadata": {
    "scrolled": true
   },
   "outputs": [],
   "source": [
    "model = keras.models.Sequential(\n",
    "    [\n",
    "        keras.layers.Flatten(input_shape=[28, 28]),\n",
    "        keras.layers.Dense(300, activation=\"selu\", kernel_initializer=\"lecun_normal\"),\n",
    "        keras.layers.Dense(100, activation=\"selu\", kernel_initializer=\"lecun_normal\"),\n",
    "        keras.layers.Dense(10, activation=\"softmax\")\n",
    "    ]\n",
    ")\n",
    "model.compile(loss=\"sparse_categorical_crossentropy\", optimizer=optimizer, metrics=[\"accuracy\"])"
   ]
  },
  {
   "cell_type": "code",
   "execution_count": 71,
   "id": "356065a7-2f9d-46a5-9c35-b8c8c6547b2a",
   "metadata": {
    "scrolled": true
   },
   "outputs": [
    {
     "name": "stdout",
     "output_type": "stream",
     "text": [
      "Epoch 1/25\n",
      "1719/1719 [==============================] - 6s 3ms/step - loss: 0.4878 - accuracy: 0.8285 - val_loss: 0.4178 - val_accuracy: 0.8582\n",
      "Epoch 2/25\n",
      "1719/1719 [==============================] - 5s 3ms/step - loss: 0.3821 - accuracy: 0.8645 - val_loss: 0.3873 - val_accuracy: 0.8668\n",
      "Epoch 3/25\n",
      "1719/1719 [==============================] - 5s 3ms/step - loss: 0.3484 - accuracy: 0.8760 - val_loss: 0.3794 - val_accuracy: 0.8666\n",
      "Epoch 4/25\n",
      "1719/1719 [==============================] - 5s 3ms/step - loss: 0.3273 - accuracy: 0.8833 - val_loss: 0.3566 - val_accuracy: 0.8750\n",
      "Epoch 5/25\n",
      "1719/1719 [==============================] - 5s 3ms/step - loss: 0.3109 - accuracy: 0.8888 - val_loss: 0.3486 - val_accuracy: 0.8764\n",
      "Epoch 6/25\n",
      "1719/1719 [==============================] - 5s 3ms/step - loss: 0.2973 - accuracy: 0.8931 - val_loss: 0.3519 - val_accuracy: 0.8784\n",
      "Epoch 7/25\n",
      "1719/1719 [==============================] - 5s 3ms/step - loss: 0.2873 - accuracy: 0.8970 - val_loss: 0.3419 - val_accuracy: 0.8780\n",
      "Epoch 8/25\n",
      "1719/1719 [==============================] - 5s 3ms/step - loss: 0.2778 - accuracy: 0.9008 - val_loss: 0.3424 - val_accuracy: 0.8814\n",
      "Epoch 9/25\n",
      "1719/1719 [==============================] - 5s 3ms/step - loss: 0.2702 - accuracy: 0.9024 - val_loss: 0.3311 - val_accuracy: 0.8834\n",
      "Epoch 10/25\n",
      "1719/1719 [==============================] - 5s 3ms/step - loss: 0.2630 - accuracy: 0.9053 - val_loss: 0.3298 - val_accuracy: 0.8848\n",
      "Epoch 11/25\n",
      "1719/1719 [==============================] - 5s 3ms/step - loss: 0.2564 - accuracy: 0.9078 - val_loss: 0.3302 - val_accuracy: 0.8836\n",
      "Epoch 12/25\n",
      "1719/1719 [==============================] - 5s 3ms/step - loss: 0.2512 - accuracy: 0.9100 - val_loss: 0.3309 - val_accuracy: 0.8818\n",
      "Epoch 13/25\n",
      "1719/1719 [==============================] - 5s 3ms/step - loss: 0.2456 - accuracy: 0.9125 - val_loss: 0.3267 - val_accuracy: 0.8846\n",
      "Epoch 14/25\n",
      "1719/1719 [==============================] - 5s 3ms/step - loss: 0.2409 - accuracy: 0.9142 - val_loss: 0.3254 - val_accuracy: 0.8856\n",
      "Epoch 15/25\n",
      "1719/1719 [==============================] - 5s 3ms/step - loss: 0.2363 - accuracy: 0.9160 - val_loss: 0.3219 - val_accuracy: 0.8858\n",
      "Epoch 16/25\n",
      "1719/1719 [==============================] - 5s 3ms/step - loss: 0.2325 - accuracy: 0.9174 - val_loss: 0.3261 - val_accuracy: 0.8860\n",
      "Epoch 17/25\n",
      "1719/1719 [==============================] - 5s 3ms/step - loss: 0.2283 - accuracy: 0.9196 - val_loss: 0.3246 - val_accuracy: 0.8860\n",
      "Epoch 18/25\n",
      "1719/1719 [==============================] - 5s 3ms/step - loss: 0.2247 - accuracy: 0.9211 - val_loss: 0.3199 - val_accuracy: 0.8874\n",
      "Epoch 19/25\n",
      "1719/1719 [==============================] - 5s 3ms/step - loss: 0.2211 - accuracy: 0.9221 - val_loss: 0.3216 - val_accuracy: 0.8888\n",
      "Epoch 20/25\n",
      "1719/1719 [==============================] - 5s 3ms/step - loss: 0.2181 - accuracy: 0.9238 - val_loss: 0.3215 - val_accuracy: 0.8872\n",
      "Epoch 21/25\n",
      "1719/1719 [==============================] - 5s 3ms/step - loss: 0.2152 - accuracy: 0.9249 - val_loss: 0.3190 - val_accuracy: 0.8906\n",
      "Epoch 22/25\n",
      "1719/1719 [==============================] - 5s 3ms/step - loss: 0.2121 - accuracy: 0.9257 - val_loss: 0.3195 - val_accuracy: 0.8884\n",
      "Epoch 23/25\n",
      "1719/1719 [==============================] - 5s 3ms/step - loss: 0.2093 - accuracy: 0.9268 - val_loss: 0.3185 - val_accuracy: 0.8890\n",
      "Epoch 24/25\n",
      "1719/1719 [==============================] - 5s 3ms/step - loss: 0.2070 - accuracy: 0.9277 - val_loss: 0.3175 - val_accuracy: 0.8908\n",
      "Epoch 25/25\n",
      "1719/1719 [==============================] - 5s 3ms/step - loss: 0.2044 - accuracy: 0.9288 - val_loss: 0.3180 - val_accuracy: 0.8902\n"
     ]
    }
   ],
   "source": [
    "n_epochs = 25\n",
    "history = model.fit(X_train_scaled, y_train, epochs=n_epochs, validation_data=(X_valid_scaled, y_valid))"
   ]
  },
  {
   "cell_type": "code",
   "execution_count": 72,
   "id": "30ad3ff1-d453-4c0f-adc1-add9599efcbd",
   "metadata": {
    "scrolled": true,
    "tags": []
   },
   "outputs": [
    {
     "data": {
      "image/png": "[encoded data removed]",
      "text/plain": [
       "<Figure size 432x288 with 1 Axes>"
      ]
     },
     "metadata": {
      "needs_background": "light"
     },
     "output_type": "display_data"
    }
   ],
   "source": [
    "import math\n",
    "\n",
    "learning_rate = 0.01\n",
    "decay = 1e-4\n",
    "batch_size = 32\n",
    "n_steps_per_epoch = math.ceil(len(X_train) / batch_size)\n",
    "epochs = np.arange(n_epochs)\n",
    "lrs = learning_rate / (1 + decay * epochs * n_steps_per_epoch)\n",
    "plt.plot(epochs, lrs, \"o-\")\n",
    "plt.axis([0, n_epochs - 1, 0, 0.01])\n",
    "plt.xlabel(\"Epoch\")\n",
    "plt.ylabel(\"Learning Rate\")\n",
    "plt.title(\"Power Scheduling\", fontsize=14)\n",
    "plt.grid(True)\n",
    "plt.show()"
   ]
  },
  {
   "cell_type": "markdown",
   "id": "152ea458-a5cd-4d4e-9f9f-41c1f5531c4c",
   "metadata": {
    "tags": []
   },
   "source": [
    "### 지수 기반 스케줄링"
   ]
  },
  {
   "cell_type": "markdown",
   "id": "83c0f2fd-3780-46c2-8702-9adb0e018b4f",
   "metadata": {},
   "source": [
    "```lr = lr0 * 0.1**(epoch / s)```"
   ]
  },
  {
   "cell_type": "code",
   "execution_count": 73,
   "id": "a3e75cb7-dcaa-4455-9f99-ae540192f14e",
   "metadata": {
    "scrolled": true
   },
   "outputs": [],
   "source": [
    "def exponential_decay_fn(epoch):\n",
    "    return 0.01 * 0.1 ** (epoch / 20)"
   ]
  },
  {
   "cell_type": "code",
   "execution_count": 74,
   "id": "dcdad474-f606-4d6d-b785-622cc49781cc",
   "metadata": {
    "scrolled": true
   },
   "outputs": [],
   "source": [
    "def exponential_decay(lr0, s):\n",
    "    def exponential_decay_fn(epoch):\n",
    "        return lr0 * 0.1 ** (epoch / s)\n",
    "\n",
    "    return exponential_decay_fn\n",
    "\n",
    "\n",
    "exponential_decay_fn = exponential_decay(lr0=0.01, s=20)"
   ]
  },
  {
   "cell_type": "code",
   "execution_count": 75,
   "id": "881d775c-667b-41c8-b50b-c1a3a6276651",
   "metadata": {
    "scrolled": true
   },
   "outputs": [],
   "source": [
    "model = keras.models.Sequential(\n",
    "    [\n",
    "        keras.layers.Flatten(input_shape=[28, 28]),\n",
    "        keras.layers.Dense(300, activation=\"selu\", kernel_initializer=\"lecun_normal\"),\n",
    "        keras.layers.Dense(100, activation=\"selu\", kernel_initializer=\"lecun_normal\"),\n",
    "        keras.layers.Dense(10, activation=\"softmax\")\n",
    "    ]\n",
    ")\n",
    "model.compile(loss=\"sparse_categorical_crossentropy\", optimizer=\"nadam\", metrics=[\"accuracy\"])\n",
    "n_epochs = 25"
   ]
  },
  {
   "cell_type": "code",
   "execution_count": 76,
   "id": "c32a831a-b257-4c7b-b6f8-9a5c79e67234",
   "metadata": {
    "scrolled": true
   },
   "outputs": [
    {
     "name": "stdout",
     "output_type": "stream",
     "text": [
      "Epoch 1/25\n",
      "1719/1719 [==============================] - 10s 6ms/step - loss: 0.8737 - accuracy: 0.7560 - val_loss: 0.8659 - val_accuracy: 0.7856 - lr: 0.0100\n",
      "Epoch 2/25\n",
      "1719/1719 [==============================] - 10s 6ms/step - loss: 0.6628 - accuracy: 0.7988 - val_loss: 0.7147 - val_accuracy: 0.8046 - lr: 0.0089\n",
      "Epoch 3/25\n",
      "1719/1719 [==============================] - 10s 6ms/step - loss: 0.6503 - accuracy: 0.8070 - val_loss: 0.6555 - val_accuracy: 0.8240 - lr: 0.0079\n",
      "Epoch 4/25\n",
      "1719/1719 [==============================] - 10s 6ms/step - loss: 0.5632 - accuracy: 0.8250 - val_loss: 0.7230 - val_accuracy: 0.8346 - lr: 0.0071\n",
      "Epoch 5/25\n",
      "1719/1719 [==============================] - 10s 6ms/step - loss: 0.5106 - accuracy: 0.8407 - val_loss: 0.5316 - val_accuracy: 0.8454 - lr: 0.0063\n",
      "Epoch 6/25\n",
      "1719/1719 [==============================] - 10s 6ms/step - loss: 0.4580 - accuracy: 0.8552 - val_loss: 0.5839 - val_accuracy: 0.8508 - lr: 0.0056\n",
      "Epoch 7/25\n",
      "1719/1719 [==============================] - 10s 6ms/step - loss: 0.4286 - accuracy: 0.8643 - val_loss: 0.4764 - val_accuracy: 0.8502 - lr: 0.0050\n",
      "Epoch 8/25\n",
      "1719/1719 [==============================] - 10s 6ms/step - loss: 0.3905 - accuracy: 0.8738 - val_loss: 0.5092 - val_accuracy: 0.8490 - lr: 0.0045\n",
      "Epoch 9/25\n",
      "1719/1719 [==============================] - 10s 6ms/step - loss: 0.3608 - accuracy: 0.8808 - val_loss: 0.5184 - val_accuracy: 0.8656 - lr: 0.0040\n",
      "Epoch 10/25\n",
      "1719/1719 [==============================] - 10s 6ms/step - loss: 0.3413 - accuracy: 0.8875 - val_loss: 0.4942 - val_accuracy: 0.8624 - lr: 0.0035\n",
      "Epoch 11/25\n",
      "1719/1719 [==============================] - 10s 6ms/step - loss: 0.3136 - accuracy: 0.8943 - val_loss: 0.4971 - val_accuracy: 0.8734 - lr: 0.0032\n",
      "Epoch 12/25\n",
      "1719/1719 [==============================] - 10s 6ms/step - loss: 0.2884 - accuracy: 0.9020 - val_loss: 0.4675 - val_accuracy: 0.8802 - lr: 0.0028\n",
      "Epoch 13/25\n",
      "1719/1719 [==============================] - 10s 6ms/step - loss: 0.2655 - accuracy: 0.9098 - val_loss: 0.4864 - val_accuracy: 0.8788 - lr: 0.0025\n",
      "Epoch 14/25\n",
      "1719/1719 [==============================] - 10s 6ms/step - loss: 0.2482 - accuracy: 0.9136 - val_loss: 0.4312 - val_accuracy: 0.8820 - lr: 0.0022\n",
      "Epoch 15/25\n",
      "1719/1719 [==============================] - 10s 6ms/step - loss: 0.2352 - accuracy: 0.9195 - val_loss: 0.4624 - val_accuracy: 0.8870 - lr: 0.0020\n",
      "Epoch 16/25\n",
      "1719/1719 [==============================] - 10s 6ms/step - loss: 0.2181 - accuracy: 0.9249 - val_loss: 0.5000 - val_accuracy: 0.8800 - lr: 0.0018\n",
      "Epoch 17/25\n",
      "1719/1719 [==============================] - 10s 6ms/step - loss: 0.1990 - accuracy: 0.9308 - val_loss: 0.4854 - val_accuracy: 0.8876 - lr: 0.0016\n",
      "Epoch 18/25\n",
      "1719/1719 [==============================] - 10s 6ms/step - loss: 0.1907 - accuracy: 0.9352 - val_loss: 0.4822 - val_accuracy: 0.8858 - lr: 0.0014\n",
      "Epoch 19/25\n",
      "1719/1719 [==============================] - 10s 6ms/step - loss: 0.1764 - accuracy: 0.9408 - val_loss: 0.5085 - val_accuracy: 0.8886 - lr: 0.0013\n",
      "Epoch 20/25\n",
      "1719/1719 [==============================] - 10s 6ms/step - loss: 0.1650 - accuracy: 0.9439 - val_loss: 0.5249 - val_accuracy: 0.8868 - lr: 0.0011\n",
      "Epoch 21/25\n",
      "1719/1719 [==============================] - 10s 6ms/step - loss: 0.1532 - accuracy: 0.9488 - val_loss: 0.5100 - val_accuracy: 0.8896 - lr: 0.0010\n",
      "Epoch 22/25\n",
      "1719/1719 [==============================] - 10s 6ms/step - loss: 0.1418 - accuracy: 0.9538 - val_loss: 0.5321 - val_accuracy: 0.8910 - lr: 8.9125e-04\n",
      "Epoch 23/25\n",
      "1719/1719 [==============================] - 10s 6ms/step - loss: 0.1333 - accuracy: 0.9566 - val_loss: 0.5616 - val_accuracy: 0.8910 - lr: 7.9433e-04\n",
      "Epoch 24/25\n",
      "1719/1719 [==============================] - 10s 6ms/step - loss: 0.1247 - accuracy: 0.9594 - val_loss: 0.5794 - val_accuracy: 0.8896 - lr: 7.0795e-04\n",
      "Epoch 25/25\n",
      "1719/1719 [==============================] - 10s 6ms/step - loss: 0.1171 - accuracy: 0.9624 - val_loss: 0.6179 - val_accuracy: 0.8886 - lr: 6.3096e-04\n"
     ]
    }
   ],
   "source": [
    "lr_scheduler = keras.callbacks.LearningRateScheduler(exponential_decay_fn)\n",
    "history = model.fit(\n",
    "    X_train_scaled, y_train, epochs=n_epochs, validation_data=(X_valid_scaled, y_valid), callbacks=[lr_scheduler]\n",
    ")"
   ]
  },
  {
   "cell_type": "code",
   "execution_count": 77,
   "id": "1aaee461-77f1-4098-8d83-bdf964e4bb3a",
   "metadata": {
    "scrolled": true,
    "tags": []
   },
   "outputs": [
    {
     "data": {
      "image/png": "[encoded data removed]",
      "text/plain": [
       "<Figure size 432x288 with 1 Axes>"
      ]
     },
     "metadata": {
      "needs_background": "light"
     },
     "output_type": "display_data"
    }
   ],
   "source": [
    "plt.plot(history.epoch, history.history[\"lr\"], \"o-\")\n",
    "plt.axis([0, n_epochs - 1, 0, 0.011])\n",
    "plt.xlabel(\"Epoch\")\n",
    "plt.ylabel(\"Learning Rate\")\n",
    "plt.title(\"Exponential Scheduling\", fontsize=14)\n",
    "plt.grid(True)\n",
    "plt.show()"
   ]
  },
  {
   "cell_type": "markdown",
   "id": "9c8ac302-91e0-4ef1-8cd0-8c1fc6bc293d",
   "metadata": {},
   "source": [
    "이 스케줄 함수는 두 번째 매개변수로 현재 학습률을 받을 수 있다:"
   ]
  },
  {
   "cell_type": "code",
   "execution_count": 78,
   "id": "c4bd1a3b-4a21-42af-b44b-1a86be58597c",
   "metadata": {
    "scrolled": true
   },
   "outputs": [],
   "source": [
    "def exponential_decay_fn(epoch, lr):\n",
    "    return lr * 0.1 ** (1 / 20)"
   ]
  },
  {
   "cell_type": "markdown",
   "id": "2b55eb3e-4ace-450b-8cc3-30c652267677",
   "metadata": {},
   "source": [
    "에포크가 아니라 반복마다 학습률을 업데이트하려면 사용자 정의 콜백 클래스를 작성해야 한다:"
   ]
  },
  {
   "cell_type": "code",
   "execution_count": 79,
   "id": "fce13a21-be42-4860-bbb5-f1266d982ad0",
   "metadata": {
    "scrolled": true
   },
   "outputs": [
    {
     "name": "stdout",
     "output_type": "stream",
     "text": [
      "Epoch 1/25\n",
      "1719/1719 [==============================] - 12s 6ms/step - loss: 0.7907 - accuracy: 0.7666 - val_loss: 0.6200 - val_accuracy: 0.7912 - lr: 0.0089\n",
      "Epoch 2/25\n",
      "1719/1719 [==============================] - 11s 6ms/step - loss: 0.6728 - accuracy: 0.7987 - val_loss: 0.7025 - val_accuracy: 0.8156 - lr: 0.0079\n",
      "Epoch 3/25\n",
      "1719/1719 [==============================] - 11s 6ms/step - loss: 0.5460 - accuracy: 0.8278 - val_loss: 0.5556 - val_accuracy: 0.8300 - lr: 0.0071\n",
      "Epoch 4/25\n",
      "1719/1719 [==============================] - 11s 6ms/step - loss: 0.5285 - accuracy: 0.8383 - val_loss: 0.4679 - val_accuracy: 0.8436 - lr: 0.0063\n",
      "Epoch 5/25\n",
      "1719/1719 [==============================] - 11s 6ms/step - loss: 0.4669 - accuracy: 0.8523 - val_loss: 0.5842 - val_accuracy: 0.8254 - lr: 0.0056\n",
      "Epoch 6/25\n",
      "1719/1719 [==============================] - 11s 6ms/step - loss: 0.4192 - accuracy: 0.8645 - val_loss: 0.5071 - val_accuracy: 0.8548 - lr: 0.0050\n",
      "Epoch 7/25\n",
      "1719/1719 [==============================] - 11s 6ms/step - loss: 0.3866 - accuracy: 0.8738 - val_loss: 0.4352 - val_accuracy: 0.8686 - lr: 0.0045\n",
      "Epoch 8/25\n",
      "1719/1719 [==============================] - 11s 6ms/step - loss: 0.3614 - accuracy: 0.8815 - val_loss: 0.5005 - val_accuracy: 0.8682 - lr: 0.0040\n",
      "Epoch 9/25\n",
      "1719/1719 [==============================] - 11s 6ms/step - loss: 0.3409 - accuracy: 0.8878 - val_loss: 0.5277 - val_accuracy: 0.8464 - lr: 0.0035\n",
      "Epoch 10/25\n",
      "1719/1719 [==============================] - 11s 6ms/step - loss: 0.3079 - accuracy: 0.8957 - val_loss: 0.4395 - val_accuracy: 0.8766 - lr: 0.0032\n",
      "Epoch 11/25\n",
      "1719/1719 [==============================] - 11s 6ms/step - loss: 0.2886 - accuracy: 0.9027 - val_loss: 0.4225 - val_accuracy: 0.8834 - lr: 0.0028\n",
      "Epoch 12/25\n",
      "1719/1719 [==============================] - 11s 6ms/step - loss: 0.2715 - accuracy: 0.9089 - val_loss: 0.4464 - val_accuracy: 0.8724 - lr: 0.0025\n",
      "Epoch 13/25\n",
      "1719/1719 [==============================] - 11s 6ms/step - loss: 0.2461 - accuracy: 0.9153 - val_loss: 0.4263 - val_accuracy: 0.8824 - lr: 0.0022\n",
      "Epoch 14/25\n",
      "1719/1719 [==============================] - 11s 6ms/step - loss: 0.2297 - accuracy: 0.9207 - val_loss: 0.4150 - val_accuracy: 0.8794 - lr: 0.0020\n",
      "Epoch 15/25\n",
      "1719/1719 [==============================] - 11s 6ms/step - loss: 0.2146 - accuracy: 0.9264 - val_loss: 0.4705 - val_accuracy: 0.8872 - lr: 0.0018\n",
      "Epoch 16/25\n",
      "1719/1719 [==============================] - 11s 6ms/step - loss: 0.2044 - accuracy: 0.9306 - val_loss: 0.4230 - val_accuracy: 0.8874 - lr: 0.0016\n",
      "Epoch 17/25\n",
      "1719/1719 [==============================] - 11s 6ms/step - loss: 0.1859 - accuracy: 0.9369 - val_loss: 0.5648 - val_accuracy: 0.8866 - lr: 0.0014\n",
      "Epoch 18/25\n",
      "1719/1719 [==============================] - 11s 6ms/step - loss: 0.1752 - accuracy: 0.9403 - val_loss: 0.4773 - val_accuracy: 0.8910 - lr: 0.0013\n",
      "Epoch 19/25\n",
      "1719/1719 [==============================] - 11s 6ms/step - loss: 0.1583 - accuracy: 0.9450 - val_loss: 0.4991 - val_accuracy: 0.8870 - lr: 0.0011\n",
      "Epoch 20/25\n",
      "1719/1719 [==============================] - 11s 6ms/step - loss: 0.1489 - accuracy: 0.9494 - val_loss: 0.4818 - val_accuracy: 0.8900 - lr: 9.9967e-04\n",
      "Epoch 21/25\n",
      "1719/1719 [==============================] - 11s 6ms/step - loss: 0.1367 - accuracy: 0.9534 - val_loss: 0.5424 - val_accuracy: 0.8908 - lr: 8.9094e-04\n",
      "Epoch 22/25\n",
      "1719/1719 [==============================] - 11s 6ms/step - loss: 0.1285 - accuracy: 0.9571 - val_loss: 0.5412 - val_accuracy: 0.8914 - lr: 7.9404e-04\n",
      "Epoch 23/25\n",
      "1719/1719 [==============================] - 11s 6ms/step - loss: 0.1204 - accuracy: 0.9604 - val_loss: 0.5466 - val_accuracy: 0.8934 - lr: 7.0767e-04\n",
      "Epoch 24/25\n",
      "1719/1719 [==============================] - 11s 6ms/step - loss: 0.1133 - accuracy: 0.9627 - val_loss: 0.5885 - val_accuracy: 0.8926 - lr: 6.3071e-04\n",
      "Epoch 25/25\n",
      "1719/1719 [==============================] - 11s 6ms/step - loss: 0.1061 - accuracy: 0.9655 - val_loss: 0.5862 - val_accuracy: 0.8888 - lr: 5.6211e-04\n"
     ]
    }
   ],
   "source": [
    "K = keras.backend\n",
    "\n",
    "\n",
    "class ExponentialDecay(keras.callbacks.Callback):\n",
    "    def __init__(self, s=40000):\n",
    "        super().__init__()\n",
    "        self.s = s\n",
    "\n",
    "    def on_batch_begin(self, batch, logs=None):\n",
    "        # 노트: 에포크마다 `batch` 매개변수가 재설정된다\n",
    "        lr = K.get_value(self.model.optimizer.lr)\n",
    "        K.set_value(self.model.optimizer.lr, lr * 0.1 ** (1 / self.s))\n",
    "\n",
    "    def on_epoch_end(self, epoch, logs=None):\n",
    "        logs = logs or {}\n",
    "        logs[\"lr\"] = K.get_value(self.model.optimizer.lr)\n",
    "\n",
    "\n",
    "model = keras.models.Sequential(\n",
    "    [\n",
    "        keras.layers.Flatten(input_shape=[28, 28]),\n",
    "        keras.layers.Dense(300, activation=\"selu\", kernel_initializer=\"lecun_normal\"),\n",
    "        keras.layers.Dense(100, activation=\"selu\", kernel_initializer=\"lecun_normal\"),\n",
    "        keras.layers.Dense(10, activation=\"softmax\")\n",
    "    ]\n",
    ")\n",
    "lr0 = 0.01\n",
    "optimizer = keras.optimizers.Nadam(learning_rate=lr0)\n",
    "model.compile(loss=\"sparse_categorical_crossentropy\", optimizer=optimizer, metrics=[\"accuracy\"])\n",
    "n_epochs = 25\n",
    "s = 20 * len(X_train) // 32  # 20 에포크 동안 스텝 횟수 (배치 크기 = 32)\n",
    "exp_decay = ExponentialDecay(s)\n",
    "history = model.fit(\n",
    "    X_train_scaled, y_train, epochs=n_epochs, validation_data=(X_valid_scaled, y_valid), callbacks=[exp_decay]\n",
    ")"
   ]
  },
  {
   "cell_type": "code",
   "execution_count": 80,
   "id": "217f50a1-5c53-4fae-9e4f-e9aee4519028",
   "metadata": {
    "scrolled": true,
    "tags": []
   },
   "outputs": [],
   "source": [
    "n_steps = n_epochs * len(X_train) // 32\n",
    "steps = np.arange(n_steps)\n",
    "lrs = lr0 * 0.1 ** (steps / s)"
   ]
  },
  {
   "cell_type": "code",
   "execution_count": 81,
   "id": "74e60567-cc36-4ac0-845e-1df8ec86b700",
   "metadata": {
    "scrolled": true
   },
   "outputs": [
    {
     "data": {
      "image/png": "[encoded data removed]",
      "text/plain": [
       "<Figure size 432x288 with 1 Axes>"
      ]
     },
     "metadata": {
      "needs_background": "light"
     },
     "output_type": "display_data"
    }
   ],
   "source": [
    "plt.plot(steps, lrs, '-', linewidth=2)\n",
    "plt.axis([0, n_steps - 1, 0, lr0 * 1.1])\n",
    "plt.xlabel(\"Batch\")\n",
    "plt.ylabel(\"Learning Rate\")\n",
    "plt.title(\"Exponential Scheduling (per batch)\", fontsize=14)\n",
    "plt.grid(True)\n",
    "plt.show()"
   ]
  },
  {
   "cell_type": "markdown",
   "id": "1aec5ebe-63e0-4abf-b7d9-b016a64a4379",
   "metadata": {},
   "source": [
    "### 기간별 고정 스케줄링"
   ]
  },
  {
   "cell_type": "code",
   "execution_count": 82,
   "id": "601f195c-a0f3-4fed-8823-2d0a8e1311c9",
   "metadata": {
    "scrolled": true
   },
   "outputs": [],
   "source": [
    "def piecewise_constant_fn(epoch):\n",
    "    if epoch < 5:\n",
    "        return 0.01\n",
    "    elif epoch < 15:\n",
    "        return 0.005\n",
    "    else:\n",
    "        return 0.001"
   ]
  },
  {
   "cell_type": "code",
   "execution_count": 83,
   "id": "b10a03c1-f309-4b1d-9f87-8e8694bbe911",
   "metadata": {
    "scrolled": true
   },
   "outputs": [],
   "source": [
    "def piecewise_constant(boundaries, values):\n",
    "    boundaries = np.array([0] + boundaries)\n",
    "    values = np.array(values)\n",
    "\n",
    "    def piecewise_constant_fn(epoch):\n",
    "        return values[np.argmax(boundaries > epoch) - 1]\n",
    "\n",
    "    return piecewise_constant_fn\n",
    "\n",
    "\n",
    "piecewise_constant_fn = piecewise_constant([5, 15], [0.01, 0.005, 0.001])"
   ]
  },
  {
   "cell_type": "code",
   "execution_count": 84,
   "id": "20bb3a14-d760-403f-b6f4-9fb6280de089",
   "metadata": {
    "scrolled": true
   },
   "outputs": [
    {
     "name": "stdout",
     "output_type": "stream",
     "text": [
      "Epoch 1/25\n",
      "1719/1719 [==============================] - 11s 6ms/step - loss: 0.8386 - accuracy: 0.7577 - val_loss: 0.8506 - val_accuracy: 0.7580 - lr: 0.0100\n",
      "Epoch 2/25\n",
      "1719/1719 [==============================] - 10s 6ms/step - loss: 0.8711 - accuracy: 0.7495 - val_loss: 0.8230 - val_accuracy: 0.7774 - lr: 0.0100\n",
      "Epoch 3/25\n",
      "1719/1719 [==============================] - 10s 6ms/step - loss: 0.8930 - accuracy: 0.7401 - val_loss: 0.9584 - val_accuracy: 0.7144 - lr: 0.0100\n",
      "Epoch 4/25\n",
      "1719/1719 [==============================] - 10s 6ms/step - loss: 0.8582 - accuracy: 0.7467 - val_loss: 1.0122 - val_accuracy: 0.7466 - lr: 0.0100\n",
      "Epoch 5/25\n",
      "1719/1719 [==============================] - 10s 6ms/step - loss: 1.0143 - accuracy: 0.6842 - val_loss: 1.0861 - val_accuracy: 0.6194 - lr: 0.0100\n",
      "Epoch 6/25\n",
      "1719/1719 [==============================] - 10s 6ms/step - loss: 0.8311 - accuracy: 0.7129 - val_loss: 0.7678 - val_accuracy: 0.7602 - lr: 0.0050\n",
      "Epoch 7/25\n",
      "1719/1719 [==============================] - 10s 6ms/step - loss: 0.6402 - accuracy: 0.8039 - val_loss: 0.7028 - val_accuracy: 0.8146 - lr: 0.0050\n",
      "Epoch 8/25\n",
      "1719/1719 [==============================] - 10s 6ms/step - loss: 0.5664 - accuracy: 0.8269 - val_loss: 0.6987 - val_accuracy: 0.8290 - lr: 0.0050\n",
      "Epoch 9/25\n",
      "1719/1719 [==============================] - 10s 6ms/step - loss: 0.5181 - accuracy: 0.8456 - val_loss: 0.6158 - val_accuracy: 0.8476 - lr: 0.0050\n",
      "Epoch 10/25\n",
      "1719/1719 [==============================] - 10s 6ms/step - loss: 0.5022 - accuracy: 0.8497 - val_loss: 0.6021 - val_accuracy: 0.8368 - lr: 0.0050\n",
      "Epoch 11/25\n",
      "1719/1719 [==============================] - 10s 6ms/step - loss: 0.4981 - accuracy: 0.8552 - val_loss: 0.5973 - val_accuracy: 0.8410 - lr: 0.0050\n",
      "Epoch 12/25\n",
      "1719/1719 [==============================] - 10s 6ms/step - loss: 0.4661 - accuracy: 0.8631 - val_loss: 0.9494 - val_accuracy: 0.8372 - lr: 0.0050\n",
      "Epoch 13/25\n",
      "1719/1719 [==============================] - 10s 6ms/step - loss: 0.4656 - accuracy: 0.8641 - val_loss: 0.5582 - val_accuracy: 0.8606 - lr: 0.0050\n",
      "Epoch 14/25\n",
      "1719/1719 [==============================] - 10s 6ms/step - loss: 0.4527 - accuracy: 0.8656 - val_loss: 0.6615 - val_accuracy: 0.8584 - lr: 0.0050\n",
      "Epoch 15/25\n",
      "1719/1719 [==============================] - 10s 6ms/step - loss: 0.4525 - accuracy: 0.8706 - val_loss: 0.6087 - val_accuracy: 0.8560 - lr: 0.0050\n",
      "Epoch 16/25\n",
      "1719/1719 [==============================] - 10s 6ms/step - loss: 0.3199 - accuracy: 0.8965 - val_loss: 0.5121 - val_accuracy: 0.8788 - lr: 0.0010\n",
      "Epoch 17/25\n",
      "1719/1719 [==============================] - 10s 6ms/step - loss: 0.2927 - accuracy: 0.9046 - val_loss: 0.5042 - val_accuracy: 0.8740 - lr: 0.0010\n",
      "Epoch 18/25\n",
      "1719/1719 [==============================] - 10s 6ms/step - loss: 0.2787 - accuracy: 0.9094 - val_loss: 0.5552 - val_accuracy: 0.8760 - lr: 0.0010\n",
      "Epoch 19/25\n",
      "1719/1719 [==============================] - 10s 6ms/step - loss: 0.2668 - accuracy: 0.9137 - val_loss: 0.4952 - val_accuracy: 0.8772 - lr: 0.0010\n",
      "Epoch 20/25\n",
      "1719/1719 [==============================] - 10s 6ms/step - loss: 0.2585 - accuracy: 0.9156 - val_loss: 0.4939 - val_accuracy: 0.8774 - lr: 0.0010\n",
      "Epoch 21/25\n",
      "1719/1719 [==============================] - 10s 6ms/step - loss: 0.2512 - accuracy: 0.9193 - val_loss: 0.5219 - val_accuracy: 0.8838 - lr: 0.0010\n",
      "Epoch 22/25\n",
      "1719/1719 [==============================] - 10s 6ms/step - loss: 0.2437 - accuracy: 0.9214 - val_loss: 0.5195 - val_accuracy: 0.8828 - lr: 0.0010\n",
      "Epoch 23/25\n",
      "1719/1719 [==============================] - 10s 6ms/step - loss: 0.2347 - accuracy: 0.9255 - val_loss: 0.5446 - val_accuracy: 0.8832 - lr: 0.0010\n",
      "Epoch 24/25\n",
      "1719/1719 [==============================] - 10s 6ms/step - loss: 0.2284 - accuracy: 0.9280 - val_loss: 0.5485 - val_accuracy: 0.8846 - lr: 0.0010\n",
      "Epoch 25/25\n",
      "1719/1719 [==============================] - 10s 6ms/step - loss: 0.2241 - accuracy: 0.9294 - val_loss: 0.5614 - val_accuracy: 0.8826 - lr: 0.0010\n"
     ]
    }
   ],
   "source": [
    "lr_scheduler = keras.callbacks.LearningRateScheduler(piecewise_constant_fn)\n",
    "model = keras.models.Sequential(\n",
    "    [\n",
    "        keras.layers.Flatten(input_shape=[28, 28]),\n",
    "        keras.layers.Dense(300, activation=\"selu\", kernel_initializer=\"lecun_normal\"),\n",
    "        keras.layers.Dense(100, activation=\"selu\", kernel_initializer=\"lecun_normal\"),\n",
    "        keras.layers.Dense(10, activation=\"softmax\")\n",
    "    ]\n",
    ")\n",
    "model.compile(loss=\"sparse_categorical_crossentropy\", optimizer=\"nadam\", metrics=[\"accuracy\"])\n",
    "n_epochs = 25\n",
    "history = model.fit(\n",
    "    X_train_scaled, y_train, epochs=n_epochs, validation_data=(X_valid_scaled, y_valid), callbacks=[lr_scheduler]\n",
    ")"
   ]
  },
  {
   "cell_type": "code",
   "execution_count": 85,
   "id": "950448ad-faf1-42d9-a7d4-eca0279a72ab",
   "metadata": {
    "scrolled": true,
    "tags": []
   },
   "outputs": [
    {
     "data": {
      "image/png": "[encoded data removed]",
      "text/plain": [
       "<Figure size 432x288 with 1 Axes>"
      ]
     },
     "metadata": {
      "needs_background": "light"
     },
     "output_type": "display_data"
    }
   ],
   "source": [
    "plt.plot(history.epoch, [piecewise_constant_fn(epoch) for epoch in history.epoch], \"o-\")\n",
    "plt.axis([0, n_epochs - 1, 0, 0.011])\n",
    "plt.xlabel(\"Epoch\")\n",
    "plt.ylabel(\"Learning Rate\")\n",
    "plt.title(\"Piecewise Constant Scheduling\", fontsize=14)\n",
    "plt.grid(True)\n",
    "plt.show()"
   ]
  },
  {
   "cell_type": "code",
   "execution_count": 86,
   "id": "6f5f21b3-3db2-4fb3-8dba-6b5554cc4b88",
   "metadata": {
    "scrolled": true
   },
   "outputs": [
    {
     "name": "stdout",
     "output_type": "stream",
     "text": [
      "Epoch 1/25\n",
      "1719/1719 [==============================] - 6s 3ms/step - loss: 0.5964 - accuracy: 0.8064 - val_loss: 0.5381 - val_accuracy: 0.8274 - lr: 0.0200\n",
      "Epoch 2/25\n",
      "1719/1719 [==============================] - 5s 3ms/step - loss: 0.5112 - accuracy: 0.8375 - val_loss: 0.5578 - val_accuracy: 0.8380 - lr: 0.0200\n",
      "Epoch 3/25\n",
      "1719/1719 [==============================] - 5s 3ms/step - loss: 0.5220 - accuracy: 0.8417 - val_loss: 0.6109 - val_accuracy: 0.8404 - lr: 0.0200\n",
      "Epoch 4/25\n",
      "1719/1719 [==============================] - 5s 3ms/step - loss: 0.5038 - accuracy: 0.8486 - val_loss: 0.5495 - val_accuracy: 0.8450 - lr: 0.0200\n",
      "Epoch 5/25\n",
      "1719/1719 [==============================] - 5s 3ms/step - loss: 0.5228 - accuracy: 0.8493 - val_loss: 0.5328 - val_accuracy: 0.8542 - lr: 0.0200\n",
      "Epoch 6/25\n",
      "1719/1719 [==============================] - 5s 3ms/step - loss: 0.5390 - accuracy: 0.8493 - val_loss: 0.6136 - val_accuracy: 0.8424 - lr: 0.0200\n",
      "Epoch 7/25\n",
      "1719/1719 [==============================] - 5s 3ms/step - loss: 0.5137 - accuracy: 0.8562 - val_loss: 0.5507 - val_accuracy: 0.8594 - lr: 0.0200\n",
      "Epoch 8/25\n",
      "1719/1719 [==============================] - 5s 3ms/step - loss: 0.5235 - accuracy: 0.8570 - val_loss: 0.6160 - val_accuracy: 0.8408 - lr: 0.0200\n",
      "Epoch 9/25\n",
      "1719/1719 [==============================] - 5s 3ms/step - loss: 0.5387 - accuracy: 0.8559 - val_loss: 0.6383 - val_accuracy: 0.8376 - lr: 0.0200\n",
      "Epoch 10/25\n",
      "1719/1719 [==============================] - 5s 3ms/step - loss: 0.5291 - accuracy: 0.8568 - val_loss: 0.6126 - val_accuracy: 0.8292 - lr: 0.0200\n",
      "Epoch 11/25\n",
      "1719/1719 [==============================] - 5s 3ms/step - loss: 0.2848 - accuracy: 0.8999 - val_loss: 0.5133 - val_accuracy: 0.8682 - lr: 0.0100\n",
      "Epoch 12/25\n",
      "1719/1719 [==============================] - 5s 3ms/step - loss: 0.2444 - accuracy: 0.9116 - val_loss: 0.4261 - val_accuracy: 0.8814 - lr: 0.0100\n",
      "Epoch 13/25\n",
      "1719/1719 [==============================] - 5s 3ms/step - loss: 0.2183 - accuracy: 0.9191 - val_loss: 0.4354 - val_accuracy: 0.8842 - lr: 0.0100\n",
      "Epoch 14/25\n",
      "1719/1719 [==============================] - 5s 3ms/step - loss: 0.2091 - accuracy: 0.9234 - val_loss: 0.4709 - val_accuracy: 0.8840 - lr: 0.0100\n",
      "Epoch 15/25\n",
      "1719/1719 [==============================] - 5s 3ms/step - loss: 0.1965 - accuracy: 0.9267 - val_loss: 0.4950 - val_accuracy: 0.8772 - lr: 0.0100\n",
      "Epoch 16/25\n",
      "1719/1719 [==============================] - 5s 3ms/step - loss: 0.1803 - accuracy: 0.9333 - val_loss: 0.4688 - val_accuracy: 0.8832 - lr: 0.0100\n",
      "Epoch 17/25\n",
      "1719/1719 [==============================] - 5s 3ms/step - loss: 0.1727 - accuracy: 0.9358 - val_loss: 0.5013 - val_accuracy: 0.8898 - lr: 0.0100\n",
      "Epoch 18/25\n",
      "1719/1719 [==============================] - 5s 3ms/step - loss: 0.1226 - accuracy: 0.9519 - val_loss: 0.4916 - val_accuracy: 0.8898 - lr: 0.0050\n",
      "Epoch 19/25\n",
      "1719/1719 [==============================] - 5s 3ms/step - loss: 0.1095 - accuracy: 0.9575 - val_loss: 0.4988 - val_accuracy: 0.8938 - lr: 0.0050\n",
      "Epoch 20/25\n",
      "1719/1719 [==============================] - 5s 3ms/step - loss: 0.1020 - accuracy: 0.9602 - val_loss: 0.5041 - val_accuracy: 0.8936 - lr: 0.0050\n",
      "Epoch 21/25\n",
      "1719/1719 [==============================] - 5s 3ms/step - loss: 0.0969 - accuracy: 0.9621 - val_loss: 0.5293 - val_accuracy: 0.8924 - lr: 0.0050\n",
      "Epoch 22/25\n",
      "1719/1719 [==============================] - 5s 3ms/step - loss: 0.0903 - accuracy: 0.9646 - val_loss: 0.5470 - val_accuracy: 0.8924 - lr: 0.0050\n",
      "Epoch 23/25\n",
      "1719/1719 [==============================] - 5s 3ms/step - loss: 0.0719 - accuracy: 0.9724 - val_loss: 0.5425 - val_accuracy: 0.8934 - lr: 0.0025\n",
      "Epoch 24/25\n",
      "1719/1719 [==============================] - 5s 3ms/step - loss: 0.0665 - accuracy: 0.9749 - val_loss: 0.5570 - val_accuracy: 0.8930 - lr: 0.0025\n",
      "Epoch 25/25\n",
      "1719/1719 [==============================] - 5s 3ms/step - loss: 0.0632 - accuracy: 0.9762 - val_loss: 0.5710 - val_accuracy: 0.8944 - lr: 0.0025\n"
     ]
    }
   ],
   "source": [
    "lr_scheduler = keras.callbacks.ReduceLROnPlateau(factor=0.5, patience=5)\n",
    "model = keras.models.Sequential(\n",
    "    [\n",
    "        keras.layers.Flatten(input_shape=[28, 28]),\n",
    "        keras.layers.Dense(300, activation=\"selu\", kernel_initializer=\"lecun_normal\"),\n",
    "        keras.layers.Dense(100, activation=\"selu\", kernel_initializer=\"lecun_normal\"),\n",
    "        keras.layers.Dense(10, activation=\"softmax\")\n",
    "    ]\n",
    ")\n",
    "optimizer = keras.optimizers.SGD(learning_rate=0.02, momentum=0.9)\n",
    "model.compile(loss=\"sparse_categorical_crossentropy\", optimizer=optimizer, metrics=[\"accuracy\"])\n",
    "n_epochs = 25\n",
    "history = model.fit(\n",
    "    X_train_scaled, y_train, epochs=n_epochs, validation_data=(X_valid_scaled, y_valid), callbacks=[lr_scheduler]\n",
    ")"
   ]
  },
  {
   "cell_type": "code",
   "execution_count": 87,
   "id": "092c4d92-f8ea-48aa-858d-8112a1dba9db",
   "metadata": {
    "scrolled": true,
    "tags": []
   },
   "outputs": [
    {
     "data": {
      "image/png": "[encoded data removed]",
      "text/plain": [
       "<Figure size 432x288 with 2 Axes>"
      ]
     },
     "metadata": {
      "needs_background": "light"
     },
     "output_type": "display_data"
    }
   ],
   "source": [
    "plt.plot(history.epoch, history.history[\"lr\"], \"bo-\")\n",
    "plt.xlabel(\"Epoch\")\n",
    "plt.ylabel(\"Learning Rate\", color='b')\n",
    "plt.tick_params('y', colors='b')\n",
    "plt.gca().set_xlim(0, n_epochs - 1)\n",
    "plt.grid(True)\n",
    "ax2 = plt.gca().twinx()\n",
    "ax2.plot(history.epoch, history.history[\"val_loss\"], \"r^-\")\n",
    "ax2.set_ylabel(\"Validation Loss\", color='r')\n",
    "ax2.tick_params('y', colors='r')\n",
    "plt.title(\"Reduce LR on Plateau\", fontsize=14)\n",
    "plt.show()"
   ]
  },
  {
   "cell_type": "markdown",
   "id": "7632be89-d5ab-46fd-ac94-75323f26cbcc",
   "metadata": {},
   "source": [
    "### tf.keras 스케줄러"
   ]
  },
  {
   "cell_type": "code",
   "execution_count": 88,
   "id": "760e1961-1412-46e7-9a44-3f3934123d16",
   "metadata": {
    "scrolled": true
   },
   "outputs": [
    {
     "name": "stdout",
     "output_type": "stream",
     "text": [
      "Epoch 1/25\n",
      "1719/1719 [==============================] - 5s 3ms/step - loss: 0.4862 - accuracy: 0.8305 - val_loss: 0.4072 - val_accuracy: 0.8568\n",
      "Epoch 2/25\n",
      "1719/1719 [==============================] - 5s 3ms/step - loss: 0.3758 - accuracy: 0.8660 - val_loss: 0.3707 - val_accuracy: 0.8694\n",
      "Epoch 3/25\n",
      "1719/1719 [==============================] - 5s 3ms/step - loss: 0.3413 - accuracy: 0.8789 - val_loss: 0.3671 - val_accuracy: 0.8688\n",
      "Epoch 4/25\n",
      "1719/1719 [==============================] - 6s 3ms/step - loss: 0.3194 - accuracy: 0.8850 - val_loss: 0.3637 - val_accuracy: 0.8724\n",
      "Epoch 5/25\n",
      "1719/1719 [==============================] - 6s 3ms/step - loss: 0.3039 - accuracy: 0.8923 - val_loss: 0.3432 - val_accuracy: 0.8792\n",
      "Epoch 6/25\n",
      "1719/1719 [==============================] - 6s 3ms/step - loss: 0.2899 - accuracy: 0.8976 - val_loss: 0.3399 - val_accuracy: 0.8796\n",
      "Epoch 7/25\n",
      "1719/1719 [==============================] - 6s 3ms/step - loss: 0.2792 - accuracy: 0.9004 - val_loss: 0.3369 - val_accuracy: 0.8812\n",
      "Epoch 8/25\n",
      "1719/1719 [==============================] - 6s 4ms/step - loss: 0.2703 - accuracy: 0.9031 - val_loss: 0.3308 - val_accuracy: 0.8806\n",
      "Epoch 9/25\n",
      "1719/1719 [==============================] - 6s 4ms/step - loss: 0.2627 - accuracy: 0.9057 - val_loss: 0.3310 - val_accuracy: 0.8816\n",
      "Epoch 10/25\n",
      "1719/1719 [==============================] - 6s 4ms/step - loss: 0.2563 - accuracy: 0.9084 - val_loss: 0.3276 - val_accuracy: 0.8818\n",
      "Epoch 11/25\n",
      "1719/1719 [==============================] - 6s 3ms/step - loss: 0.2504 - accuracy: 0.9113 - val_loss: 0.3281 - val_accuracy: 0.8830\n",
      "Epoch 12/25\n",
      "1719/1719 [==============================] - 6s 4ms/step - loss: 0.2451 - accuracy: 0.9130 - val_loss: 0.3295 - val_accuracy: 0.8848\n",
      "Epoch 13/25\n",
      "1719/1719 [==============================] - 6s 4ms/step - loss: 0.2408 - accuracy: 0.9154 - val_loss: 0.3237 - val_accuracy: 0.8872\n",
      "Epoch 14/25\n",
      "1719/1719 [==============================] - 6s 4ms/step - loss: 0.2367 - accuracy: 0.9162 - val_loss: 0.3227 - val_accuracy: 0.8850\n",
      "Epoch 15/25\n",
      "1719/1719 [==============================] - 6s 4ms/step - loss: 0.2331 - accuracy: 0.9184 - val_loss: 0.3222 - val_accuracy: 0.8832\n",
      "Epoch 16/25\n",
      "1719/1719 [==============================] - 6s 3ms/step - loss: 0.2305 - accuracy: 0.9188 - val_loss: 0.3219 - val_accuracy: 0.8838\n",
      "Epoch 17/25\n",
      "1719/1719 [==============================] - 6s 3ms/step - loss: 0.2276 - accuracy: 0.9211 - val_loss: 0.3215 - val_accuracy: 0.8858\n",
      "Epoch 18/25\n",
      "1719/1719 [==============================] - 5s 3ms/step - loss: 0.2253 - accuracy: 0.9201 - val_loss: 0.3214 - val_accuracy: 0.8850\n",
      "Epoch 19/25\n",
      "1719/1719 [==============================] - 5s 3ms/step - loss: 0.2230 - accuracy: 0.9224 - val_loss: 0.3224 - val_accuracy: 0.8854\n",
      "Epoch 20/25\n",
      "1719/1719 [==============================] - 5s 3ms/step - loss: 0.2210 - accuracy: 0.9231 - val_loss: 0.3213 - val_accuracy: 0.8858\n",
      "Epoch 21/25\n",
      "1719/1719 [==============================] - 5s 3ms/step - loss: 0.2196 - accuracy: 0.9236 - val_loss: 0.3204 - val_accuracy: 0.8858\n",
      "Epoch 22/25\n",
      "1719/1719 [==============================] - 5s 3ms/step - loss: 0.2178 - accuracy: 0.9242 - val_loss: 0.3207 - val_accuracy: 0.8880\n",
      "Epoch 23/25\n",
      "1719/1719 [==============================] - 5s 3ms/step - loss: 0.2166 - accuracy: 0.9249 - val_loss: 0.3202 - val_accuracy: 0.8854\n",
      "Epoch 24/25\n",
      "1719/1719 [==============================] - 5s 3ms/step - loss: 0.2153 - accuracy: 0.9249 - val_loss: 0.3192 - val_accuracy: 0.8856\n",
      "Epoch 25/25\n",
      "1719/1719 [==============================] - 5s 3ms/step - loss: 0.2143 - accuracy: 0.9258 - val_loss: 0.3209 - val_accuracy: 0.8858\n"
     ]
    }
   ],
   "source": [
    "model = keras.models.Sequential(\n",
    "    [\n",
    "        keras.layers.Flatten(input_shape=[28, 28]),\n",
    "        keras.layers.Dense(300, activation=\"selu\", kernel_initializer=\"lecun_normal\"),\n",
    "        keras.layers.Dense(100, activation=\"selu\", kernel_initializer=\"lecun_normal\"),\n",
    "        keras.layers.Dense(10, activation=\"softmax\")\n",
    "    ]\n",
    ")\n",
    "s = 20 * len(X_train) // 32  # 20 Epoch의 단계 수 (배치 크기 = 32)\n",
    "learning_rate = keras.optimizers.schedules.ExponentialDecay(0.01, s, 0.1)\n",
    "optimizer = keras.optimizers.SGD(learning_rate)\n",
    "model.compile(loss=\"sparse_categorical_crossentropy\", optimizer=optimizer, metrics=[\"accuracy\"])\n",
    "n_epochs = 25\n",
    "history = model.fit(X_train_scaled, y_train, epochs=n_epochs, validation_data=(X_valid_scaled, y_valid))"
   ]
  },
  {
   "cell_type": "markdown",
   "id": "fd7329a7-8f90-4502-9109-151cf2adcac8",
   "metadata": {
    "tags": []
   },
   "source": [
    "구간별 고정 스케줄링은 다음을 사용한다:"
   ]
  },
  {
   "cell_type": "code",
   "execution_count": 89,
   "id": "675c5776-d431-4d85-8baf-1d436505a569",
   "metadata": {
    "scrolled": true
   },
   "outputs": [],
   "source": [
    "learning_rate = keras.optimizers.schedules.PiecewiseConstantDecay(\n",
    "    boundaries=[5. * n_steps_per_epoch, 15. * n_steps_per_epoch], values=[0.01, 0.005, 0.001]\n",
    ")"
   ]
  },
  {
   "cell_type": "markdown",
   "id": "b6cc676a-39cb-4032-babd-6b9f16e88de4",
   "metadata": {},
   "source": [
    "### 1사이클 스케줄링"
   ]
  },
  {
   "cell_type": "code",
   "execution_count": 90,
   "id": "1531d532-d452-41c8-8d3a-c4b1496b0ef6",
   "metadata": {
    "scrolled": true
   },
   "outputs": [],
   "source": [
    "K = keras.backend\n",
    "\n",
    "\n",
    "class ExponentialLearningRate(keras.callbacks.Callback):\n",
    "    def __init__(self, factor):\n",
    "        self.factor = factor\n",
    "        self.rates = []\n",
    "        self.losses = []\n",
    "\n",
    "    def on_batch_end(self, batch, logs):\n",
    "        self.rates.append(K.get_value(self.model.optimizer.lr))\n",
    "        self.losses.append(logs[\"loss\"])\n",
    "        K.set_value(self.model.optimizer.lr, self.model.optimizer.lr * self.factor)\n",
    "\n",
    "\n",
    "def find_learning_rate(model, X, y, epochs=1, batch_size=32, min_rate=10 ** -5, max_rate=10):\n",
    "    init_weights = model.get_weights()\n",
    "    iterations = math.ceil(len(X) / batch_size) * epochs\n",
    "    factor = np.exp(np.log(max_rate / min_rate) / iterations)\n",
    "    init_lr = K.get_value(model.optimizer.lr)\n",
    "    K.set_value(model.optimizer.lr, min_rate)\n",
    "    exp_lr = ExponentialLearningRate(factor)\n",
    "    history = model.fit(X, y, epochs=epochs, batch_size=batch_size, callbacks=[exp_lr])\n",
    "    K.set_value(model.optimizer.lr, init_lr)\n",
    "    model.set_weights(init_weights)\n",
    "    return exp_lr.rates, exp_lr.losses\n",
    "\n",
    "\n",
    "def plot_lr_vs_loss(rates, losses):\n",
    "    plt.plot(rates, losses)\n",
    "    plt.gca().set_xscale(\"log\")\n",
    "    plt.hlines(min(losses), min(rates), max(rates))\n",
    "    plt.axis([min(rates), max(rates), min(losses), (losses[0] + min(losses)) / 2])\n",
    "    plt.xlabel(\"Learning rate\")\n",
    "    plt.ylabel(\"Loss\")"
   ]
  },
  {
   "cell_type": "markdown",
   "id": "9f9e6998-50b7-4cb3-bede-4f543f22847e",
   "metadata": {},
   "source": [
    "**경고**: `on_batch_end()` 메서드에서 `logs[\"loss\"]`로 (에포크의) 평균 손실을 모은다. 이런 이유로 아래 그래프가 부드럽다. 이는 그래프에서 배치 손실이 폭주하기 시작하는 지점과 그렇지 않은 지점 사이에 지연이 있다는 뜻이다. 따라서 변동이 심한 그래프에서는 조금 더 작은 학습률을 선택해야 한다. 또한 `ExponentialLearningRate` 콜백을 조금 바꾸어 (현재 평균 손실과 이전 평균 손실을 기반으로) 배치 손실을 계산할 수 있다:\n",
    "\n",
    "```python\n",
    "class ExponentialLearningRate(keras.callbacks.Callback):\n",
    "    def __init__(self, factor):\n",
    "        self.prev_loss = None\n",
    "        self.factor = factor\n",
    "        self.rates = []\n",
    "        self.losses = []\n",
    "\n",
    "    def on_epoch_begin(self, epoch, logs=None):\n",
    "        self.prev_loss = 0\n",
    "\n",
    "    def on_batch_end(self, batch, logs=None):\n",
    "        batch_loss = logs[\"loss\"] * (batch + 1) - self.prev_loss * batch\n",
    "        self.prev_loss = logs[\"loss\"]\n",
    "        self.rates.append(K.get_value(self.model.optimizer.lr))\n",
    "        self.losses.append(batch_loss)\n",
    "        K.set_value(self.model.optimizer.lr, self.model.optimizer.lr * self.factor)\n",
    "```"
   ]
  },
  {
   "cell_type": "code",
   "execution_count": 91,
   "id": "58b3bb23-8400-4bbd-abe2-098acbdb5062",
   "metadata": {
    "scrolled": true
   },
   "outputs": [],
   "source": [
    "model = keras.models.Sequential(\n",
    "    [\n",
    "        keras.layers.Flatten(input_shape=[28, 28]),\n",
    "        keras.layers.Dense(300, activation=\"selu\", kernel_initializer=\"lecun_normal\"),\n",
    "        keras.layers.Dense(100, activation=\"selu\", kernel_initializer=\"lecun_normal\"),\n",
    "        keras.layers.Dense(10, activation=\"softmax\")\n",
    "    ]\n",
    ")\n",
    "model.compile(\n",
    "    loss=\"sparse_categorical_crossentropy\", optimizer=keras.optimizers.SGD(learning_rate=1e-3), metrics=[\"accuracy\"]\n",
    ")"
   ]
  },
  {
   "cell_type": "code",
   "execution_count": 92,
   "id": "9d3eac79-9fee-4268-8e24-171e46138a6c",
   "metadata": {
    "scrolled": true
   },
   "outputs": [
    {
     "name": "stdout",
     "output_type": "stream",
     "text": [
      "430/430 [==============================] - 2s 4ms/step - loss: nan - accuracy: 0.3545\n"
     ]
    },
    {
     "data": {
      "image/png": "[encoded data removed]",
      "text/plain": [
       "<Figure size 432x288 with 1 Axes>"
      ]
     },
     "metadata": {
      "needs_background": "light"
     },
     "output_type": "display_data"
    }
   ],
   "source": [
    "batch_size = 128\n",
    "rates, losses = find_learning_rate(model, X_train_scaled, y_train, epochs=1, batch_size=batch_size)\n",
    "plot_lr_vs_loss(rates, losses)"
   ]
  },
  {
   "cell_type": "code",
   "execution_count": 93,
   "id": "b57d93b5-f927-4097-adeb-7d064d83249d",
   "metadata": {
    "scrolled": true
   },
   "outputs": [],
   "source": [
    "class OneCycleScheduler(keras.callbacks.Callback):\n",
    "    def __init__(self, iterations, max_rate, start_rate=None, last_iterations=None, last_rate=None):\n",
    "        self.iterations = iterations\n",
    "        self.max_rate = max_rate\n",
    "        self.start_rate = start_rate or max_rate / 10\n",
    "        self.last_iterations = last_iterations or iterations // 10 + 1\n",
    "        self.half_iteration = (iterations - self.last_iterations) // 2\n",
    "        self.last_rate = last_rate or self.start_rate / 1000\n",
    "        self.iteration = 0\n",
    "\n",
    "    def _interpolate(self, iter1, iter2, rate1, rate2):\n",
    "        return (rate2 - rate1) * (self.iteration - iter1) / (iter2 - iter1) + rate1\n",
    "\n",
    "    def on_batch_begin(self, batch, logs):\n",
    "        if self.iteration < self.half_iteration:\n",
    "            rate = self._interpolate(0, self.half_iteration, self.start_rate, self.max_rate)\n",
    "        elif self.iteration < 2 * self.half_iteration:\n",
    "            rate = self._interpolate(self.half_iteration, 2 * self.half_iteration, self.max_rate, self.start_rate)\n",
    "        else:\n",
    "            rate = self._interpolate(2 * self.half_iteration, self.iterations, self.start_rate, self.last_rate)\n",
    "        self.iteration += 1\n",
    "        K.set_value(self.model.optimizer.lr, rate)"
   ]
  },
  {
   "cell_type": "code",
   "execution_count": 94,
   "id": "41c9d9a6-98dd-4c3f-a561-7ad6432ca7fa",
   "metadata": {
    "scrolled": true
   },
   "outputs": [
    {
     "name": "stdout",
     "output_type": "stream",
     "text": [
      "Epoch 1/25\n",
      "430/430 [==============================] - 2s 4ms/step - loss: 0.6624 - accuracy: 0.7724 - val_loss: 0.4905 - val_accuracy: 0.8304\n",
      "Epoch 2/25\n",
      "430/430 [==============================] - 1s 3ms/step - loss: 0.4580 - accuracy: 0.8395 - val_loss: 0.4478 - val_accuracy: 0.8464\n",
      "Epoch 3/25\n",
      "430/430 [==============================] - 2s 4ms/step - loss: 0.4135 - accuracy: 0.8541 - val_loss: 0.4023 - val_accuracy: 0.8626\n",
      "Epoch 4/25\n",
      "430/430 [==============================] - 1s 3ms/step - loss: 0.3856 - accuracy: 0.8631 - val_loss: 0.3948 - val_accuracy: 0.8596\n",
      "Epoch 5/25\n",
      "430/430 [==============================] - 2s 4ms/step - loss: 0.3635 - accuracy: 0.8709 - val_loss: 0.3860 - val_accuracy: 0.8640\n",
      "Epoch 6/25\n",
      "430/430 [==============================] - 1s 3ms/step - loss: 0.3462 - accuracy: 0.8766 - val_loss: 0.3659 - val_accuracy: 0.8744\n",
      "Epoch 7/25\n",
      "430/430 [==============================] - 2s 3ms/step - loss: 0.3305 - accuracy: 0.8811 - val_loss: 0.3622 - val_accuracy: 0.8706\n",
      "Epoch 8/25\n",
      "430/430 [==============================] - 1s 3ms/step - loss: 0.3181 - accuracy: 0.8841 - val_loss: 0.3684 - val_accuracy: 0.8720\n",
      "Epoch 9/25\n",
      "430/430 [==============================] - 1s 3ms/step - loss: 0.3050 - accuracy: 0.8886 - val_loss: 0.3659 - val_accuracy: 0.8734\n",
      "Epoch 10/25\n",
      "430/430 [==============================] - 1s 3ms/step - loss: 0.2937 - accuracy: 0.8927 - val_loss: 0.3628 - val_accuracy: 0.8732\n",
      "Epoch 11/25\n",
      "430/430 [==============================] - 2s 4ms/step - loss: 0.2819 - accuracy: 0.8974 - val_loss: 0.3555 - val_accuracy: 0.8734\n",
      "Epoch 12/25\n",
      "430/430 [==============================] - 1s 3ms/step - loss: 0.2690 - accuracy: 0.9010 - val_loss: 0.3244 - val_accuracy: 0.8896\n",
      "Epoch 13/25\n",
      "430/430 [==============================] - 2s 4ms/step - loss: 0.2527 - accuracy: 0.9088 - val_loss: 0.3352 - val_accuracy: 0.8866\n",
      "Epoch 14/25\n",
      "430/430 [==============================] - 1s 3ms/step - loss: 0.2388 - accuracy: 0.9137 - val_loss: 0.3230 - val_accuracy: 0.8858\n",
      "Epoch 15/25\n",
      "430/430 [==============================] - 2s 3ms/step - loss: 0.2253 - accuracy: 0.9193 - val_loss: 0.3252 - val_accuracy: 0.8828\n",
      "Epoch 16/25\n",
      "430/430 [==============================] - 1s 3ms/step - loss: 0.2145 - accuracy: 0.9226 - val_loss: 0.3272 - val_accuracy: 0.8902\n",
      "Epoch 17/25\n",
      "430/430 [==============================] - 1s 3ms/step - loss: 0.2036 - accuracy: 0.9267 - val_loss: 0.3200 - val_accuracy: 0.8916\n",
      "Epoch 18/25\n",
      "430/430 [==============================] - 2s 4ms/step - loss: 0.1950 - accuracy: 0.9314 - val_loss: 0.3184 - val_accuracy: 0.8942\n",
      "Epoch 19/25\n",
      "430/430 [==============================] - 1s 3ms/step - loss: 0.1869 - accuracy: 0.9345 - val_loss: 0.3239 - val_accuracy: 0.8902\n",
      "Epoch 20/25\n",
      "430/430 [==============================] - 1s 3ms/step - loss: 0.1806 - accuracy: 0.9374 - val_loss: 0.3149 - val_accuracy: 0.8952\n",
      "Epoch 21/25\n",
      "430/430 [==============================] - 1s 3ms/step - loss: 0.1734 - accuracy: 0.9407 - val_loss: 0.3168 - val_accuracy: 0.8934\n",
      "Epoch 22/25\n",
      "430/430 [==============================] - 1s 3ms/step - loss: 0.1684 - accuracy: 0.9422 - val_loss: 0.3138 - val_accuracy: 0.8966\n",
      "Epoch 23/25\n",
      "430/430 [==============================] - 1s 3ms/step - loss: 0.1640 - accuracy: 0.9446 - val_loss: 0.3132 - val_accuracy: 0.8958\n",
      "Epoch 24/25\n",
      "430/430 [==============================] - 1s 3ms/step - loss: 0.1612 - accuracy: 0.9462 - val_loss: 0.3125 - val_accuracy: 0.8962\n",
      "Epoch 25/25\n",
      "430/430 [==============================] - 1s 3ms/step - loss: 0.1592 - accuracy: 0.9473 - val_loss: 0.3129 - val_accuracy: 0.8966\n"
     ]
    }
   ],
   "source": [
    "n_epochs = 25\n",
    "onecycle = OneCycleScheduler(math.ceil(len(X_train) / batch_size) * n_epochs, max_rate=0.05)\n",
    "history = model.fit(\n",
    "    X_train_scaled,\n",
    "    y_train,\n",
    "    epochs=n_epochs,\n",
    "    batch_size=batch_size,\n",
    "    validation_data=(X_valid_scaled, y_valid),\n",
    "    callbacks=[onecycle]\n",
    ")"
   ]
  },
  {
   "cell_type": "code",
   "execution_count": 95,
   "id": "c2f325f7-dcc2-4691-b0e4-7d5054e1092b",
   "metadata": {
    "scrolled": true,
    "tags": []
   },
   "outputs": [],
   "source": [
    "layer = keras.layers.Dense(\n",
    "    100, activation=\"elu\", kernel_initializer=\"he_normal\", kernel_regularizer=keras.regularizers.l2(0.01)\n",
    ")\n",
    "# 또는 인수 0.1의 ℓ1 정규화에 대해 l1(0.1)\n",
    "# 또는 l1_l2(0.1, 0.01) ℓ1 및 ℓ2 정규화에 대해 각각 0.1 및 0.01 인수"
   ]
  },
  {
   "cell_type": "code",
   "execution_count": 96,
   "id": "530ff7f2-a91c-4f85-a270-804eb000dbf2",
   "metadata": {
    "scrolled": true,
    "tags": []
   },
   "outputs": [
    {
     "name": "stdout",
     "output_type": "stream",
     "text": [
      "Epoch 1/2\n",
      "1719/1719 [==============================] - 12s 7ms/step - loss: 1.6101 - accuracy: 0.8132 - val_loss: 0.7229 - val_accuracy: 0.8264\n",
      "Epoch 2/2\n",
      "1719/1719 [==============================] - 11s 6ms/step - loss: 0.7200 - accuracy: 0.8250 - val_loss: 0.6902 - val_accuracy: 0.8396\n"
     ]
    }
   ],
   "source": [
    "model = keras.models.Sequential(\n",
    "    [\n",
    "        keras.layers.Flatten(input_shape=[28, 28]),\n",
    "        keras.layers.Dense(\n",
    "            300, activation=\"elu\", kernel_initializer=\"he_normal\", kernel_regularizer=keras.regularizers.l2(0.01)\n",
    "        ),\n",
    "        keras.layers.Dense(\n",
    "            100, activation=\"elu\", kernel_initializer=\"he_normal\", kernel_regularizer=keras.regularizers.l2(0.01)\n",
    "        ),\n",
    "        keras.layers.Dense(10, activation=\"softmax\", kernel_regularizer=keras.regularizers.l2(0.01))\n",
    "    ]\n",
    ")\n",
    "model.compile(loss=\"sparse_categorical_crossentropy\", optimizer=\"nadam\", metrics=[\"accuracy\"])\n",
    "n_epochs = 2\n",
    "history = model.fit(X_train_scaled, y_train, epochs=n_epochs, validation_data=(X_valid_scaled, y_valid))"
   ]
  },
  {
   "cell_type": "code",
   "execution_count": 97,
   "id": "60c22644-43d2-48ac-bd65-3859dca3a099",
   "metadata": {
    "scrolled": true
   },
   "outputs": [
    {
     "name": "stdout",
     "output_type": "stream",
     "text": [
      "Epoch 1/2\n",
      "1719/1719 [==============================] - 12s 6ms/step - loss: 1.6521 - accuracy: 0.8128 - val_loss: 0.7428 - val_accuracy: 0.8234\n",
      "Epoch 2/2\n",
      "1719/1719 [==============================] - 11s 6ms/step - loss: 0.7221 - accuracy: 0.8245 - val_loss: 0.7117 - val_accuracy: 0.8302\n"
     ]
    }
   ],
   "source": [
    "from functools import partial\n",
    "\n",
    "RegularizedDense = partial(\n",
    "    keras.layers.Dense, activation=\"elu\", kernel_initializer=\"he_normal\", kernel_regularizer=keras.regularizers.l2(0.01)\n",
    ")\n",
    "model = keras.models.Sequential(\n",
    "    [\n",
    "        keras.layers.Flatten(input_shape=[28, 28]),\n",
    "        RegularizedDense(300),\n",
    "        RegularizedDense(100),\n",
    "        RegularizedDense(10, activation=\"softmax\")\n",
    "    ]\n",
    ")\n",
    "model.compile(loss=\"sparse_categorical_crossentropy\", optimizer=\"nadam\", metrics=[\"accuracy\"])\n",
    "n_epochs = 2\n",
    "history = model.fit(X_train_scaled, y_train, epochs=n_epochs, validation_data=(X_valid_scaled, y_valid))"
   ]
  },
  {
   "cell_type": "markdown",
   "id": "1122ff2d-d267-4f93-9741-84c5cae43117",
   "metadata": {},
   "source": [
    "## 드롭아웃"
   ]
  },
  {
   "cell_type": "code",
   "execution_count": 107,
   "id": "852c08a7-d039-426c-8d28-0abd2f0ea869",
   "metadata": {
    "scrolled": true
   },
   "outputs": [
    {
     "name": "stdout",
     "output_type": "stream",
     "text": [
      "Epoch 1/2\n",
      "1719/1719 [==============================] - 12s 7ms/step - loss: 0.5724 - accuracy: 0.8030 - val_loss: 0.3846 - val_accuracy: 0.8608\n",
      "Epoch 2/2\n",
      "1719/1719 [==============================] - 11s 7ms/step - loss: 0.4212 - accuracy: 0.8457 - val_loss: 0.3539 - val_accuracy: 0.8646\n"
     ]
    }
   ],
   "source": [
    "model = keras.models.Sequential(\n",
    "    [\n",
    "        keras.layers.Flatten(input_shape=[28, 28]),\n",
    "        keras.layers.Dropout(rate=0.2),\n",
    "        keras.layers.Dense(300, activation=\"elu\", kernel_initializer=\"he_normal\"),\n",
    "        keras.layers.Dropout(rate=0.2),\n",
    "        keras.layers.Dense(100, activation=\"elu\", kernel_initializer=\"he_normal\"),\n",
    "        keras.layers.Dropout(rate=0.2),\n",
    "        keras.layers.Dense(10, activation=\"softmax\")\n",
    "    ]\n",
    ")\n",
    "model.compile(loss=\"sparse_categorical_crossentropy\", optimizer=\"nadam\", metrics=[\"accuracy\"])\n",
    "n_epochs = 2\n",
    "history = model.fit(X_train_scaled, y_train, epochs=n_epochs, validation_data=(X_valid_scaled, y_valid))"
   ]
  },
  {
   "cell_type": "markdown",
   "id": "a2265ba2-4b30-4195-8210-aa8da4dddf99",
   "metadata": {},
   "source": [
    "## 알파 드롭아웃"
   ]
  },
  {
   "cell_type": "code",
   "execution_count": 111,
   "id": "206a3d2c-4396-4f7c-9b70-a0d0b24f7b0a",
   "metadata": {
    "scrolled": true,
    "tags": []
   },
   "outputs": [
    {
     "name": "stdout",
     "output_type": "stream",
     "text": [
      "Epoch 1/20\n",
      "1719/1719 [==============================] - 7s 4ms/step - loss: 0.6703 - accuracy: 0.7577 - val_loss: 0.6430 - val_accuracy: 0.8296\n",
      "Epoch 2/20\n",
      "1719/1719 [==============================] - 7s 4ms/step - loss: 0.5586 - accuracy: 0.7963 - val_loss: 0.5593 - val_accuracy: 0.8492\n",
      "Epoch 3/20\n",
      "1719/1719 [==============================] - 7s 4ms/step - loss: 0.5299 - accuracy: 0.8025 - val_loss: 0.5456 - val_accuracy: 0.8480\n",
      "Epoch 4/20\n",
      "1719/1719 [==============================] - 7s 4ms/step - loss: 0.5089 - accuracy: 0.8122 - val_loss: 0.5271 - val_accuracy: 0.8474\n",
      "Epoch 5/20\n",
      "1719/1719 [==============================] - 7s 4ms/step - loss: 0.4924 - accuracy: 0.8175 - val_loss: 0.4974 - val_accuracy: 0.8528\n",
      "Epoch 6/20\n",
      "1719/1719 [==============================] - 7s 4ms/step - loss: 0.4802 - accuracy: 0.8203 - val_loss: 0.5233 - val_accuracy: 0.8508\n",
      "Epoch 7/20\n",
      "1719/1719 [==============================] - 7s 4ms/step - loss: 0.4723 - accuracy: 0.8249 - val_loss: 0.4925 - val_accuracy: 0.8600\n",
      "Epoch 8/20\n",
      "1719/1719 [==============================] - 7s 4ms/step - loss: 0.4656 - accuracy: 0.8255 - val_loss: 0.4263 - val_accuracy: 0.8674\n",
      "Epoch 9/20\n",
      "1719/1719 [==============================] - 7s 4ms/step - loss: 0.4587 - accuracy: 0.8305 - val_loss: 0.4177 - val_accuracy: 0.8690\n",
      "Epoch 10/20\n",
      "1719/1719 [==============================] - 7s 4ms/step - loss: 0.4521 - accuracy: 0.8321 - val_loss: 0.4307 - val_accuracy: 0.8676\n",
      "Epoch 11/20\n",
      "1719/1719 [==============================] - 7s 4ms/step - loss: 0.4448 - accuracy: 0.8349 - val_loss: 0.4828 - val_accuracy: 0.8624\n",
      "Epoch 12/20\n",
      "1719/1719 [==============================] - 7s 4ms/step - loss: 0.4442 - accuracy: 0.8354 - val_loss: 0.4515 - val_accuracy: 0.8676\n",
      "Epoch 13/20\n",
      "1719/1719 [==============================] - 7s 4ms/step - loss: 0.4408 - accuracy: 0.8366 - val_loss: 0.4414 - val_accuracy: 0.8718\n",
      "Epoch 14/20\n",
      "1719/1719 [==============================] - 7s 4ms/step - loss: 0.4299 - accuracy: 0.8393 - val_loss: 0.4927 - val_accuracy: 0.8668\n",
      "Epoch 15/20\n",
      "1719/1719 [==============================] - 7s 4ms/step - loss: 0.4319 - accuracy: 0.8406 - val_loss: 0.4539 - val_accuracy: 0.8712\n",
      "Epoch 16/20\n",
      "1719/1719 [==============================] - 7s 4ms/step - loss: 0.4286 - accuracy: 0.8405 - val_loss: 0.4560 - val_accuracy: 0.8658\n",
      "Epoch 17/20\n",
      "1719/1719 [==============================] - 7s 4ms/step - loss: 0.4245 - accuracy: 0.8427 - val_loss: 0.4002 - val_accuracy: 0.8800\n",
      "Epoch 18/20\n",
      "1719/1719 [==============================] - 7s 4ms/step - loss: 0.4234 - accuracy: 0.8420 - val_loss: 0.4223 - val_accuracy: 0.8744\n",
      "Epoch 19/20\n",
      "1719/1719 [==============================] - 7s 4ms/step - loss: 0.4205 - accuracy: 0.8440 - val_loss: 0.4513 - val_accuracy: 0.8720\n",
      "Epoch 20/20\n",
      "1719/1719 [==============================] - 7s 4ms/step - loss: 0.4199 - accuracy: 0.8439 - val_loss: 0.4320 - val_accuracy: 0.8726\n"
     ]
    }
   ],
   "source": [
    "model = keras.models.Sequential(\n",
    "    [\n",
    "        keras.layers.Flatten(input_shape=[28, 28]),\n",
    "        keras.layers.AlphaDropout(rate=0.2),\n",
    "        keras.layers.Dense(300, activation=\"selu\", kernel_initializer=\"lecun_normal\"),\n",
    "        keras.layers.AlphaDropout(rate=0.2),\n",
    "        keras.layers.Dense(100, activation=\"selu\", kernel_initializer=\"lecun_normal\"),\n",
    "        keras.layers.AlphaDropout(rate=0.2),\n",
    "        keras.layers.Dense(10, activation=\"softmax\")\n",
    "    ]\n",
    ")\n",
    "optimizer = keras.optimizers.SGD(learning_rate=0.01, momentum=0.9, nesterov=True)\n",
    "model.compile(loss=\"sparse_categorical_crossentropy\", optimizer=optimizer, metrics=[\"accuracy\"])\n",
    "n_epochs = 20\n",
    "history = model.fit(X_train_scaled, y_train, epochs=n_epochs, validation_data=(X_valid_scaled, y_valid))"
   ]
  },
  {
   "cell_type": "code",
   "execution_count": 113,
   "id": "3b3f626b-9ae7-4d3b-bb95-089ea822cfc0",
   "metadata": {},
   "outputs": [
    {
     "name": "stdout",
     "output_type": "stream",
     "text": [
      "313/313 [==============================] - 1s 3ms/step - loss: 0.4724 - accuracy: 0.8649\n"
     ]
    },
    {
     "data": {
      "text/plain": [
       "[0.4724210798740387, 0.8648999929428101]"
      ]
     },
     "execution_count": 113,
     "metadata": {},
     "output_type": "execute_result"
    }
   ],
   "source": [
    "model.evaluate(X_test_scaled, y_test)"
   ]
  },
  {
   "cell_type": "code",
   "execution_count": 114,
   "id": "0f3920e9-87f8-4cc6-b914-0aaa5cc741d5",
   "metadata": {},
   "outputs": [
    {
     "name": "stdout",
     "output_type": "stream",
     "text": [
      "1719/1719 [==============================] - 4s 2ms/step - loss: 0.3495 - accuracy: 0.8836\n"
     ]
    },
    {
     "data": {
      "text/plain": [
       "[0.3494909703731537, 0.8835999965667725]"
      ]
     },
     "execution_count": 114,
     "metadata": {},
     "output_type": "execute_result"
    }
   ],
   "source": [
    "model.evaluate(X_train_scaled, y_train)"
   ]
  },
  {
   "cell_type": "code",
   "execution_count": 115,
   "id": "47c78866-0249-40ba-8ac2-35a7aae0fe35",
   "metadata": {},
   "outputs": [
    {
     "name": "stdout",
     "output_type": "stream",
     "text": [
      "1719/1719 [==============================] - 6s 4ms/step - loss: 0.4132 - accuracy: 0.8474\n"
     ]
    }
   ],
   "source": [
    "history = model.fit(X_train_scaled, y_train)"
   ]
  },
  {
   "cell_type": "code",
   "execution_count": null,
   "id": "90eab5fd-e51a-415a-b906-9484507367dc",
   "metadata": {},
   "outputs": [],
   "source": []
  }
 ],
 "metadata": {
  "kernelspec": {
   "display_name": "Python 3 (ipykernel)",
   "language": "python",
   "name": "python3"
  },
  "language_info": {
   "codemirror_mode": {
    "name": "ipython",
    "version": 3
   },
   "file_extension": ".py",
   "mimetype": "text/x-python",
   "name": "python",
   "nbconvert_exporter": "python",
   "pygments_lexer": "ipython3",
   "version": "3.10.5"
  }
 },
 "nbformat": 4,
 "nbformat_minor": 5
}
