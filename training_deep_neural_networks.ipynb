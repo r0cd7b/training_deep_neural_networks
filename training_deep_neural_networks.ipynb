{
 "cells": [
  {
   "cell_type": "markdown",
   "id": "d7de80d8-2019-4db9-a5eb-69758a8bd970",
   "metadata": {},
   "source": [
    "**심층 신경망 훈련하기**"
   ]
  },
  {
   "cell_type": "markdown",
   "id": "20d6ad85-ab94-4e3e-8868-39f5b4ed3bb3",
   "metadata": {},
   "source": [
    "# 설정"
   ]
  },
  {
   "cell_type": "markdown",
   "id": "3ee378ee-d761-40e9-9a21-8ccbca8d2b11",
   "metadata": {},
   "source": [
    "먼저 몇 개의 모듈을 임포트한다. 맷플롯립 그림을 저장하는 함수를 준비한다."
   ]
  },
  {
   "cell_type": "code",
   "execution_count": 1,
   "id": "5762e6a9-14ee-4e1a-b4bd-6ce7728f8c6e",
   "metadata": {
    "scrolled": true
   },
   "outputs": [],
   "source": [
    "# 공통 모듈 임포트\n",
    "import matplotlib as mpl\n",
    "import os\n",
    "import matplotlib.pyplot as plt\n",
    "\n",
    "# 깔끔한 그래프 출력을 위해\n",
    "mpl.rc(\"axes\", labelsize=14)\n",
    "mpl.rc(\"xtick\", labelsize=12)\n",
    "mpl.rc(\"ytick\", labelsize=12)\n",
    "# 그림을 저장할 위치\n",
    "PROJECT_ROOT_DIR = '.'\n",
    "IMAGES_PATH = os.path.join(PROJECT_ROOT_DIR, \"images\")\n",
    "os.makedirs(IMAGES_PATH, exist_ok=True)\n",
    "\n",
    "\n",
    "def save_fig(fig_id, tight_layout=True, fig_extension=\"png\", resolution=300):\n",
    "    path = os.path.join(IMAGES_PATH, f\"{fig_id}.{fig_extension}\")\n",
    "    print(\"그림 저장:\", fig_id)\n",
    "    if tight_layout:\n",
    "        plt.tight_layout()\n",
    "    plt.savefig(path, format=fig_extension, dpi=resolution)"
   ]
  },
  {
   "cell_type": "markdown",
   "id": "462eb377-3ae1-4d84-a774-b4e2bdfce66f",
   "metadata": {},
   "source": [
    "# 그레이디언트 소실과 폭주 문제"
   ]
  },
  {
   "cell_type": "code",
   "execution_count": 2,
   "id": "8ad60083-b13e-4559-bec2-2facc845e8d0",
   "metadata": {
    "scrolled": true
   },
   "outputs": [],
   "source": [
    "def logit(z):\n",
    "    return 1 / (1 + np.exp(-z))"
   ]
  },
  {
   "cell_type": "code",
   "execution_count": 3,
   "id": "b2f3d2c4-60ce-41e4-9c65-c0578bf25502",
   "metadata": {
    "scrolled": true
   },
   "outputs": [
    {
     "name": "stdout",
     "output_type": "stream",
     "text": [
      "그림 저장: sigmoid_saturation_plot\n"
     ]
    },
    {
     "data": {
      "image/png": "[encoded data removed]",
      "text/plain": [
       "<Figure size 432x288 with 1 Axes>"
      ]
     },
     "metadata": {
      "needs_background": "light"
     },
     "output_type": "display_data"
    }
   ],
   "source": [
    "import numpy as np\n",
    "\n",
    "z = np.linspace(-5, 5, 200)\n",
    "plt.plot([-5, 5], [0, 0], \"k-\")\n",
    "plt.plot([-5, 5], [1, 1], \"k--\")\n",
    "plt.plot([0, 0], [-0.2, 1.2], \"k-\")\n",
    "plt.plot([-5, 5], [-3 / 4, 7 / 4], \"g--\")\n",
    "plt.plot(z, logit(z), \"b-\", linewidth=2)\n",
    "props = dict(facecolor=\"black\", shrink=0.1)\n",
    "plt.annotate(\"Saturating\", xytext=(3.5, 0.7), xy=(5, 1), arrowprops=props, fontsize=14, ha=\"center\")\n",
    "plt.annotate(\"Saturating\", xytext=(-3.5, 0.3), xy=(-5, 0), arrowprops=props, fontsize=14, ha=\"center\")\n",
    "plt.annotate(\"Linear\", xytext=(2, 0.2), xy=(0, 0.5), arrowprops=props, fontsize=14, ha=\"center\")\n",
    "plt.grid(True)\n",
    "plt.title(\"Sigmoid activation function\", fontsize=14)\n",
    "plt.axis([-5, 5, -0.2, 1.2])\n",
    "save_fig(\"sigmoid_saturation_plot\")\n",
    "plt.show()"
   ]
  },
  {
   "cell_type": "markdown",
   "id": "f47d568f-8383-416c-8b64-7776257d4cd7",
   "metadata": {
    "tags": []
   },
   "source": [
    "## Xavier 초기화와 He 초기화"
   ]
  },
  {
   "cell_type": "code",
   "execution_count": 4,
   "id": "84a14a82-fe6d-4050-a012-ec1945f5058b",
   "metadata": {
    "scrolled": true,
    "tags": []
   },
   "outputs": [
    {
     "data": {
      "text/plain": [
       "['Constant',\n",
       " 'GlorotNormal',\n",
       " 'GlorotUniform',\n",
       " 'HeNormal',\n",
       " 'HeUniform',\n",
       " 'Identity',\n",
       " 'Initializer',\n",
       " 'LecunNormal',\n",
       " 'LecunUniform',\n",
       " 'Ones',\n",
       " 'Orthogonal',\n",
       " 'RandomNormal',\n",
       " 'RandomUniform',\n",
       " 'TruncatedNormal',\n",
       " 'VarianceScaling',\n",
       " 'Zeros',\n",
       " 'constant',\n",
       " 'deserialize',\n",
       " 'get',\n",
       " 'glorot_normal',\n",
       " 'glorot_uniform',\n",
       " 'he_normal',\n",
       " 'he_uniform',\n",
       " 'identity',\n",
       " 'lecun_normal',\n",
       " 'lecun_uniform',\n",
       " 'ones',\n",
       " 'orthogonal',\n",
       " 'random_normal',\n",
       " 'random_uniform',\n",
       " 'serialize',\n",
       " 'truncated_normal',\n",
       " 'variance_scaling',\n",
       " 'zeros']"
      ]
     },
     "execution_count": 4,
     "metadata": {},
     "output_type": "execute_result"
    }
   ],
   "source": [
    "from tensorflow import keras\n",
    "\n",
    "[name for name in dir(keras.initializers) if not name.startswith(\"_\")]"
   ]
  },
  {
   "cell_type": "code",
   "execution_count": 5,
   "id": "41c2c4ea-1c8b-4b34-8888-56598df69db9",
   "metadata": {
    "scrolled": true
   },
   "outputs": [
    {
     "data": {
      "text/plain": [
       "<keras.layers.core.dense.Dense at 0x149da557f40>"
      ]
     },
     "execution_count": 5,
     "metadata": {},
     "output_type": "execute_result"
    }
   ],
   "source": [
    "keras.layers.Dense(10, activation=\"relu\", kernel_initializer=\"he_normal\")"
   ]
  },
  {
   "cell_type": "code",
   "execution_count": 6,
   "id": "9a3557f2-038a-48b6-b47d-7bf4183c3736",
   "metadata": {
    "scrolled": true
   },
   "outputs": [
    {
     "data": {
      "text/plain": [
       "<keras.layers.core.dense.Dense at 0x149fbaece50>"
      ]
     },
     "execution_count": 6,
     "metadata": {},
     "output_type": "execute_result"
    }
   ],
   "source": [
    "init = keras.initializers.VarianceScaling(scale=2., mode=\"fan_avg\", distribution=\"uniform\")\n",
    "keras.layers.Dense(10, activation=\"relu\", kernel_initializer=init)"
   ]
  },
  {
   "cell_type": "markdown",
   "id": "9859571e-5486-42a9-823b-5b33239f9722",
   "metadata": {},
   "source": [
    "## 수렴하지 않는 활성화 함수"
   ]
  },
  {
   "cell_type": "markdown",
   "id": "417b8a50-22c4-40a6-b1a2-3fcb431b0d18",
   "metadata": {},
   "source": [
    "### LeakyReLU"
   ]
  },
  {
   "cell_type": "code",
   "execution_count": 7,
   "id": "e5ebb245-75f9-4ae4-85ad-d8cb220375b7",
   "metadata": {
    "scrolled": true
   },
   "outputs": [],
   "source": [
    "def leaky_relu(z, alpha=0.01):\n",
    "    return np.maximum(alpha * z, z)"
   ]
  },
  {
   "cell_type": "code",
   "execution_count": 8,
   "id": "6ad41fac-3510-463c-87a9-427d2e3c92ce",
   "metadata": {
    "scrolled": true
   },
   "outputs": [
    {
     "name": "stdout",
     "output_type": "stream",
     "text": [
      "그림 저장: leaky_relu_plot\n"
     ]
    },
    {
     "data": {
      "image/png": "[encoded data removed]",
      "text/plain": [
       "<Figure size 432x288 with 1 Axes>"
      ]
     },
     "metadata": {
      "needs_background": "light"
     },
     "output_type": "display_data"
    }
   ],
   "source": [
    "plt.plot(z, leaky_relu(z, 0.05), \"b-\", linewidth=2)\n",
    "plt.plot([-5, 5], [0, 0], \"k-\")\n",
    "plt.plot([0, 0], [-0.5, 4.2], \"k-\")\n",
    "plt.grid(True)\n",
    "props = dict(facecolor=\"black\", shrink=0.1)\n",
    "plt.annotate(\"Leak\", xytext=(-3.5, 0.5), xy=(-5, -0.2), arrowprops=props, fontsize=14, ha=\"center\")\n",
    "plt.title(\"Leaky ReLU activation function\", fontsize=14)\n",
    "plt.axis([-5, 5, -0.5, 4.2])\n",
    "save_fig(\"leaky_relu_plot\")\n",
    "plt.show()"
   ]
  },
  {
   "cell_type": "code",
   "execution_count": 9,
   "id": "4dab87dc-83e6-40cd-b3ac-3611cda64d55",
   "metadata": {
    "scrolled": true,
    "tags": []
   },
   "outputs": [
    {
     "data": {
      "text/plain": [
       "['deserialize',\n",
       " 'elu',\n",
       " 'exponential',\n",
       " 'gelu',\n",
       " 'get',\n",
       " 'hard_sigmoid',\n",
       " 'linear',\n",
       " 'relu',\n",
       " 'selu',\n",
       " 'serialize',\n",
       " 'sigmoid',\n",
       " 'softmax',\n",
       " 'softplus',\n",
       " 'softsign',\n",
       " 'swish',\n",
       " 'tanh']"
      ]
     },
     "execution_count": 9,
     "metadata": {},
     "output_type": "execute_result"
    }
   ],
   "source": [
    "[m for m in dir(keras.activations) if not m.startswith(\"_\")]"
   ]
  },
  {
   "cell_type": "code",
   "execution_count": 10,
   "id": "fb260da4-7996-456d-9b6b-620caefc5a96",
   "metadata": {
    "scrolled": true
   },
   "outputs": [
    {
     "data": {
      "text/plain": [
       "['LeakyReLU', 'PReLU', 'ReLU', 'ThresholdedReLU']"
      ]
     },
     "execution_count": 10,
     "metadata": {},
     "output_type": "execute_result"
    }
   ],
   "source": [
    "[m for m in dir(keras.layers) if \"relu\" in m.lower()]"
   ]
  },
  {
   "cell_type": "markdown",
   "id": "7e165ee6-1d15-4112-a008-ca9ed8ac0280",
   "metadata": {},
   "source": [
    "LeakyReLU를 사용해 패션 MNIST에서 신경망을 훈련해 본다:"
   ]
  },
  {
   "cell_type": "code",
   "execution_count": 11,
   "id": "b20b9fb3-dcbe-4dae-8eec-05330efd53ef",
   "metadata": {
    "scrolled": true
   },
   "outputs": [],
   "source": [
    "(X_train_full, y_train_full), (X_test, y_test) = keras.datasets.fashion_mnist.load_data()\n",
    "X_train_full = X_train_full / 255.0\n",
    "X_test = X_test / 255.0\n",
    "X_valid, X_train = X_train_full[:5000], X_train_full[5000:]\n",
    "y_valid, y_train = y_train_full[:5000], y_train_full[5000:]"
   ]
  },
  {
   "cell_type": "code",
   "execution_count": 12,
   "id": "ca7461d3-820e-4b7b-8881-8d912019ba22",
   "metadata": {
    "scrolled": true
   },
   "outputs": [],
   "source": [
    "model = keras.models.Sequential(\n",
    "    [\n",
    "        keras.layers.Flatten(input_shape=[28, 28]),\n",
    "        keras.layers.Dense(300, kernel_initializer=\"he_normal\"),\n",
    "        keras.layers.LeakyReLU(),\n",
    "        keras.layers.Dense(100, kernel_initializer=\"he_normal\"),\n",
    "        keras.layers.LeakyReLU(),\n",
    "        keras.layers.Dense(10, activation=\"softmax\")\n",
    "    ]\n",
    ")"
   ]
  },
  {
   "cell_type": "code",
   "execution_count": 13,
   "id": "0d5a4bb4-cba6-4ca7-a540-bf989ea01ef7",
   "metadata": {
    "scrolled": true
   },
   "outputs": [],
   "source": [
    "model.compile(\n",
    "    loss=\"sparse_categorical_crossentropy\", optimizer=keras.optimizers.SGD(learning_rate=1e-3), metrics=[\"accuracy\"]\n",
    ")"
   ]
  },
  {
   "cell_type": "code",
   "execution_count": 14,
   "id": "f9a31c12-cab4-439f-b29e-42b790fc3d87",
   "metadata": {
    "scrolled": true,
    "tags": []
   },
   "outputs": [
    {
     "name": "stdout",
     "output_type": "stream",
     "text": [
      "Epoch 1/10\n",
      "1719/1719 [==============================] - 7s 3ms/step - loss: 1.3308 - accuracy: 0.6031 - val_loss: 0.8936 - val_accuracy: 0.7122\n",
      "Epoch 2/10\n",
      "1719/1719 [==============================] - 5s 3ms/step - loss: 0.7998 - accuracy: 0.7385 - val_loss: 0.7177 - val_accuracy: 0.7672\n",
      "Epoch 3/10\n",
      "1719/1719 [==============================] - 5s 3ms/step - loss: 0.6846 - accuracy: 0.7767 - val_loss: 0.6407 - val_accuracy: 0.7888\n",
      "Epoch 4/10\n",
      "1719/1719 [==============================] - 5s 3ms/step - loss: 0.6229 - accuracy: 0.7957 - val_loss: 0.5946 - val_accuracy: 0.8048\n",
      "Epoch 5/10\n",
      "1719/1719 [==============================] - 5s 3ms/step - loss: 0.5830 - accuracy: 0.8071 - val_loss: 0.5607 - val_accuracy: 0.8178\n",
      "Epoch 6/10\n",
      "1719/1719 [==============================] - 5s 3ms/step - loss: 0.5550 - accuracy: 0.8144 - val_loss: 0.5369 - val_accuracy: 0.8256\n",
      "Epoch 7/10\n",
      "1719/1719 [==============================] - 5s 3ms/step - loss: 0.5339 - accuracy: 0.8203 - val_loss: 0.5211 - val_accuracy: 0.8314\n",
      "Epoch 8/10\n",
      "1719/1719 [==============================] - 5s 3ms/step - loss: 0.5178 - accuracy: 0.8250 - val_loss: 0.5061 - val_accuracy: 0.8322\n",
      "Epoch 9/10\n",
      "1719/1719 [==============================] - 5s 3ms/step - loss: 0.5038 - accuracy: 0.8295 - val_loss: 0.4949 - val_accuracy: 0.8380\n",
      "Epoch 10/10\n",
      "1719/1719 [==============================] - 5s 3ms/step - loss: 0.4928 - accuracy: 0.8317 - val_loss: 0.4846 - val_accuracy: 0.8376\n"
     ]
    }
   ],
   "source": [
    "history = model.fit(X_train, y_train, epochs=10, validation_data=(X_valid, y_valid))"
   ]
  },
  {
   "cell_type": "markdown",
   "id": "f5112924-5764-4b3e-b6de-3b7c1a8064ca",
   "metadata": {},
   "source": [
    "PReLU를 테스트해 본다:"
   ]
  },
  {
   "cell_type": "code",
   "execution_count": 15,
   "id": "a471931e-b763-4ab9-97ce-fd313291948a",
   "metadata": {
    "scrolled": true
   },
   "outputs": [],
   "source": [
    "model = keras.models.Sequential(\n",
    "    [\n",
    "        keras.layers.Flatten(input_shape=[28, 28]),\n",
    "        keras.layers.Dense(300, kernel_initializer=\"he_normal\"),\n",
    "        keras.layers.PReLU(),\n",
    "        keras.layers.Dense(100, kernel_initializer=\"he_normal\"),\n",
    "        keras.layers.PReLU(),\n",
    "        keras.layers.Dense(10, activation=\"softmax\")\n",
    "    ]\n",
    ")"
   ]
  },
  {
   "cell_type": "code",
   "execution_count": 16,
   "id": "fdcf7b3e-427c-4540-bca9-9d9fd11fc725",
   "metadata": {
    "scrolled": true
   },
   "outputs": [],
   "source": [
    "model.compile(\n",
    "    loss=\"sparse_categorical_crossentropy\", optimizer=keras.optimizers.SGD(learning_rate=1e-3), metrics=[\"accuracy\"]\n",
    ")"
   ]
  },
  {
   "cell_type": "code",
   "execution_count": 17,
   "id": "21f62951-97af-44e7-9780-6227440606a3",
   "metadata": {
    "scrolled": true
   },
   "outputs": [
    {
     "name": "stdout",
     "output_type": "stream",
     "text": [
      "Epoch 1/10\n",
      "1719/1719 [==============================] - 6s 3ms/step - loss: 1.3709 - accuracy: 0.6027 - val_loss: 0.9355 - val_accuracy: 0.7008\n",
      "Epoch 2/10\n",
      "1719/1719 [==============================] - 6s 3ms/step - loss: 0.8302 - accuracy: 0.7319 - val_loss: 0.7394 - val_accuracy: 0.7670\n",
      "Epoch 3/10\n",
      "1719/1719 [==============================] - 6s 3ms/step - loss: 0.7027 - accuracy: 0.7716 - val_loss: 0.6571 - val_accuracy: 0.7900\n",
      "Epoch 4/10\n",
      "1719/1719 [==============================] - 6s 3ms/step - loss: 0.6347 - accuracy: 0.7933 - val_loss: 0.6030 - val_accuracy: 0.8026\n",
      "Epoch 5/10\n",
      "1719/1719 [==============================] - 6s 3ms/step - loss: 0.5908 - accuracy: 0.8058 - val_loss: 0.5690 - val_accuracy: 0.8090\n",
      "Epoch 6/10\n",
      "1719/1719 [==============================] - 6s 3ms/step - loss: 0.5601 - accuracy: 0.8137 - val_loss: 0.5454 - val_accuracy: 0.8192\n",
      "Epoch 7/10\n",
      "1719/1719 [==============================] - 6s 3ms/step - loss: 0.5366 - accuracy: 0.8194 - val_loss: 0.5240 - val_accuracy: 0.8248\n",
      "Epoch 8/10\n",
      "1719/1719 [==============================] - 6s 4ms/step - loss: 0.5187 - accuracy: 0.8253 - val_loss: 0.5090 - val_accuracy: 0.8284\n",
      "Epoch 9/10\n",
      "1719/1719 [==============================] - 6s 3ms/step - loss: 0.5043 - accuracy: 0.8291 - val_loss: 0.4943 - val_accuracy: 0.8334\n",
      "Epoch 10/10\n",
      "1719/1719 [==============================] - 6s 3ms/step - loss: 0.4923 - accuracy: 0.8322 - val_loss: 0.4826 - val_accuracy: 0.8364\n"
     ]
    }
   ],
   "source": [
    "history = model.fit(X_train, y_train, epochs=10, validation_data=(X_valid, y_valid))"
   ]
  },
  {
   "cell_type": "markdown",
   "id": "938d027c-a8fc-4720-884c-1ecc3646a034",
   "metadata": {
    "tags": []
   },
   "source": [
    "### ELU"
   ]
  },
  {
   "cell_type": "code",
   "execution_count": 18,
   "id": "9093a957-2f99-4ff4-ac72-c1857ec9c56c",
   "metadata": {
    "scrolled": true
   },
   "outputs": [],
   "source": [
    "def elu(z, alpha=1):\n",
    "    return np.where(z < 0, alpha * (np.exp(z) - 1), z)"
   ]
  },
  {
   "cell_type": "code",
   "execution_count": 19,
   "id": "cd2e80f8-6d18-4d97-9b1b-efa9d71abfe2",
   "metadata": {
    "scrolled": true
   },
   "outputs": [
    {
     "name": "stdout",
     "output_type": "stream",
     "text": [
      "그림 저장: elu_plot\n"
     ]
    },
    {
     "data": {
      "image/png": "[encoded data removed]",
      "text/plain": [
       "<Figure size 432x288 with 1 Axes>"
      ]
     },
     "metadata": {
      "needs_background": "light"
     },
     "output_type": "display_data"
    }
   ],
   "source": [
    "plt.plot(z, elu(z), \"b-\", linewidth=2)\n",
    "plt.plot([-5, 5], [0, 0], \"k-\")\n",
    "plt.plot([-5, 5], [-1, -1], \"k--\")\n",
    "plt.plot([0, 0], [-2.2, 3.2], \"k-\")\n",
    "plt.grid(True)\n",
    "plt.title(r\"ELU activation function ($\\alpha=1$)\", fontsize=14)\n",
    "plt.axis([-5, 5, -2.2, 3.2])\n",
    "save_fig(\"elu_plot\")\n",
    "plt.show()"
   ]
  },
  {
   "cell_type": "markdown",
   "id": "155ab429-62d2-4f70-b5d1-27dd9f1eef7c",
   "metadata": {},
   "source": [
    "텐서플로에서 쉽게 ELU를 적용할 수 있다. 층을 만들 때 활성화 함수로 지정하면 된다:"
   ]
  },
  {
   "cell_type": "code",
   "execution_count": 20,
   "id": "12bf5d45-9d06-40e2-8332-89aa41b4c3ee",
   "metadata": {
    "scrolled": true
   },
   "outputs": [
    {
     "data": {
      "text/plain": [
       "<keras.layers.core.dense.Dense at 0x149d9ce4bb0>"
      ]
     },
     "execution_count": 20,
     "metadata": {},
     "output_type": "execute_result"
    }
   ],
   "source": [
    "keras.layers.Dense(10, activation=\"elu\")"
   ]
  },
  {
   "cell_type": "markdown",
   "id": "e2db2154-287b-494f-92c4-767f115ada47",
   "metadata": {
    "tags": []
   },
   "source": [
    "### SELU"
   ]
  },
  {
   "cell_type": "markdown",
   "id": "f4506fa2-512b-451f-8830-e95b4fbbc4ab",
   "metadata": {},
   "source": [
    "Günter Klambauer, Thomas Unterthiner, Andreas Mayr는 2017년 한 [훌륭한 논문](https://arxiv.org/pdf/1706.02515.pdf)에서 SELU 활성화 함수를 소개했다. 훈련하는 동안 완전 연결 층만 쌓아서 신경망을 만들고 SELU 활성화 함수와 LeCun 초기화를 사용한다면 자기 정규화된다. 각 층의 출력이 평균과\n",
    "표준편차를 보존하는 경향이 있다. 이는 그레이디언트 소실과 폭주 문제를 막아 준다. 그 결과로 SELU 활성화 함수는 이런 종류의 네트워크(특히 아주 깊은 네트워크)에서 다른 활성화 함수보다 뛰어난 성능을 종종 낸다. 따라서 꼭 시도해 봐야 한다. 하지만 SELU 활성화 함수의 자기 정규화 특징은 쉽게 깨진다. ℓ<sub>1</sub>나 ℓ<sub>2</sub> 정규화, 드롭아웃, 맥스 노름, 스킵 연결이나 시퀀셜하지 않은 다른 토폴로지를 사용할 수 없다(즉 순환 신경망은 자기 정규화되지 않는다). 하지만 실전에서 시퀀셜 CNN과 잘 동작한다. 자기 정규화가 깨지면 SELU가 다른 활성화 함수보다 더 나은 성능을 내지 않을 것이다."
   ]
  },
  {
   "cell_type": "code",
   "execution_count": 21,
   "id": "85b8b847-5dbe-485e-b7d4-8512817ec562",
   "metadata": {
    "scrolled": true
   },
   "outputs": [],
   "source": [
    "from scipy.special import erfc\n",
    "\n",
    "# alpha와 scale은 평균 0과 표준 편차 1로 자기 정규화한다\n",
    "# (논문에 있는 식 14 참조):\n",
    "alpha_0_1 = -np.sqrt(2 / np.pi) / (erfc(1 / np.sqrt(2)) * np.exp(1 / 2) - 1)\n",
    "scale_0_1 = (1 - erfc(1 / np.sqrt(2)) * np.sqrt(np.e)) * np.sqrt(2 * np.pi) * (\n",
    "        2 * erfc(np.sqrt(2)) * np.e ** 2 + np.pi * erfc(1 / np.sqrt(2)) ** 2 * np.e - 2 * (2 + np.pi) * erfc(\n",
    "    1 / np.sqrt(2)) * np.sqrt(np.e) + np.pi + 2) ** (-1 / 2)"
   ]
  },
  {
   "cell_type": "code",
   "execution_count": 22,
   "id": "23b1a261-6c00-42aa-b1f6-3c92362309f3",
   "metadata": {
    "scrolled": true
   },
   "outputs": [],
   "source": [
    "def selu(z, scale=scale_0_1, alpha=alpha_0_1):\n",
    "    return scale * elu(z, alpha)"
   ]
  },
  {
   "cell_type": "code",
   "execution_count": 23,
   "id": "3037d8d1-10b7-402e-b50e-1e6339c795ad",
   "metadata": {
    "scrolled": true
   },
   "outputs": [
    {
     "name": "stdout",
     "output_type": "stream",
     "text": [
      "그림 저장: selu_plot\n"
     ]
    },
    {
     "data": {
      "image/png": "[encoded data removed]",
      "text/plain": [
       "<Figure size 432x288 with 1 Axes>"
      ]
     },
     "metadata": {
      "needs_background": "light"
     },
     "output_type": "display_data"
    }
   ],
   "source": [
    "plt.plot(z, selu(z), \"b-\", linewidth=2)\n",
    "plt.plot([-5, 5], [0, 0], \"k-\")\n",
    "plt.plot([-5, 5], [-1.758, -1.758], \"k--\")\n",
    "plt.plot([0, 0], [-2.2, 3.2], \"k-\")\n",
    "plt.grid(True)\n",
    "plt.title(\"SELU activation function\", fontsize=14)\n",
    "plt.axis([-5, 5, -2.2, 3.2])\n",
    "save_fig(\"selu_plot\")\n",
    "plt.show()"
   ]
  },
  {
   "cell_type": "markdown",
   "id": "852ab8ad-3dc3-4c29-99a7-0988e48ab7e3",
   "metadata": {
    "tags": []
   },
   "source": [
    "기본적으로 SELU 하이퍼파라미터(`scale`과 `alpha`)는 각 뉴런의 평균 출력이 0에 가깝고 표준 편차는 1에 가깝도록 조정된다(입력은 평균이 0이고 표준 편차 1로 표준화되었다고 가정한다). 이 활성화 함수를 사용하면 1,000개의 층이 있는 심층 신경망도 모든 층에 걸쳐 거의 평균이 0이고 표준 편차를 1로 유지한다. 이를 통해 그레이디언트 폭주와 소실 문제를 피할 수 있다:"
   ]
  },
  {
   "cell_type": "code",
   "execution_count": 24,
   "id": "32094937-7b98-4f37-883e-fed10f804086",
   "metadata": {
    "scrolled": true
   },
   "outputs": [
    {
     "name": "stdout",
     "output_type": "stream",
     "text": [
      "Layer 0: mean 0.00, std deviation 0.99\n",
      "Layer 100: mean -0.02, std deviation 0.87\n",
      "Layer 200: mean -0.03, std deviation 0.93\n",
      "Layer 300: mean -0.02, std deviation 0.90\n",
      "Layer 400: mean -0.12, std deviation 0.87\n",
      "Layer 500: mean -0.03, std deviation 0.87\n",
      "Layer 600: mean -0.04, std deviation 0.89\n",
      "Layer 700: mean -0.05, std deviation 0.84\n",
      "Layer 800: mean 0.01, std deviation 0.99\n",
      "Layer 900: mean -0.06, std deviation 0.90\n"
     ]
    }
   ],
   "source": [
    "Z = np.random.normal(size=(500, 100))  # 표준화된 입력\n",
    "for layer in range(1000):\n",
    "    W = np.random.normal(size=(100, 100), scale=np.sqrt(1 / 100))  # LeCun 초기화\n",
    "    Z = selu(np.dot(Z, W))\n",
    "    means = np.mean(Z, axis=0).mean()\n",
    "    stds = np.std(Z, axis=0).mean()\n",
    "    if layer % 100 == 0:\n",
    "        print(f\"Layer {layer}: mean {means:.2f}, std deviation {stds:.2f}\")"
   ]
  },
  {
   "cell_type": "markdown",
   "id": "608a6c04-cdc0-4cdb-af53-6c6b1381d8c5",
   "metadata": {},
   "source": [
    "쉽게 SELU를 사용할 수 있다:"
   ]
  },
  {
   "cell_type": "code",
   "execution_count": 25,
   "id": "dd469f7d-b2b1-4773-a0c2-0af7d97e0d12",
   "metadata": {
    "scrolled": true
   },
   "outputs": [
    {
     "data": {
      "text/plain": [
       "<keras.layers.core.dense.Dense at 0x149d9ce5ab0>"
      ]
     },
     "execution_count": 25,
     "metadata": {},
     "output_type": "execute_result"
    }
   ],
   "source": [
    "keras.layers.Dense(10, activation=\"selu\", kernel_initializer=\"lecun_normal\")"
   ]
  },
  {
   "cell_type": "markdown",
   "id": "3f1bda40-6798-401e-8464-4c569faff11e",
   "metadata": {},
   "source": [
    "100개의 은닉층과 SELU 활성화 함수를 사용한 패션 MNIST를 위한 신경망을 만들어 본다:"
   ]
  },
  {
   "cell_type": "code",
   "execution_count": 26,
   "id": "4db111c8-3bf4-4995-a02d-0b6e376fc118",
   "metadata": {
    "scrolled": true
   },
   "outputs": [],
   "source": [
    "model = keras.models.Sequential()\n",
    "model.add(keras.layers.Flatten(input_shape=[28, 28]))\n",
    "model.add(keras.layers.Dense(300, activation=\"selu\", kernel_initializer=\"lecun_normal\"))\n",
    "for layer in range(99):\n",
    "    model.add(keras.layers.Dense(100, activation=\"selu\", kernel_initializer=\"lecun_normal\"))\n",
    "model.add(keras.layers.Dense(10, activation=\"softmax\"))"
   ]
  },
  {
   "cell_type": "code",
   "execution_count": 27,
   "id": "ec5ccb8c-ebc6-444d-81ff-c4dd2fc52da7",
   "metadata": {
    "scrolled": true
   },
   "outputs": [],
   "source": [
    "model.compile(\n",
    "    loss=\"sparse_categorical_crossentropy\", optimizer=keras.optimizers.SGD(learning_rate=1e-3), metrics=[\"accuracy\"]\n",
    ")"
   ]
  },
  {
   "cell_type": "markdown",
   "id": "40bec7eb-a7b9-4e1c-8606-4d01860db832",
   "metadata": {},
   "source": [
    "이제 훈련해 본다. 입력을 평균 0과 표준 편차 1로 바꾸어야 한다는 것을 잊지 않는다:"
   ]
  },
  {
   "cell_type": "code",
   "execution_count": 28,
   "id": "0e0d8b9e-86b4-444e-96d9-5ab4e93d1c1d",
   "metadata": {
    "scrolled": true
   },
   "outputs": [],
   "source": [
    "pixel_means = X_train.mean(axis=0, keepdims=True)\n",
    "pixel_stds = X_train.std(axis=0, keepdims=True)\n",
    "X_train_scaled = (X_train - pixel_means) / pixel_stds\n",
    "X_valid_scaled = (X_valid - pixel_means) / pixel_stds\n",
    "X_test_scaled = (X_test - pixel_means) / pixel_stds"
   ]
  },
  {
   "cell_type": "code",
   "execution_count": 29,
   "id": "5c96a61b-06a2-41bb-958e-b286f895b371",
   "metadata": {
    "scrolled": true
   },
   "outputs": [
    {
     "name": "stdout",
     "output_type": "stream",
     "text": [
      "Epoch 1/5\n",
      "1719/1719 [==============================] - 47s 26ms/step - loss: 1.5771 - accuracy: 0.4008 - val_loss: 1.4415 - val_accuracy: 0.3970\n",
      "Epoch 2/5\n",
      "1719/1719 [==============================] - 46s 27ms/step - loss: 1.0148 - accuracy: 0.6145 - val_loss: 1.1662 - val_accuracy: 0.6454\n",
      "Epoch 3/5\n",
      "1719/1719 [==============================] - 44s 26ms/step - loss: 0.7109 - accuracy: 0.7384 - val_loss: 0.7398 - val_accuracy: 0.7422\n",
      "Epoch 4/5\n",
      "1719/1719 [==============================] - 45s 26ms/step - loss: 0.6139 - accuracy: 0.7781 - val_loss: 0.5912 - val_accuracy: 0.7910\n",
      "Epoch 5/5\n",
      "1719/1719 [==============================] - 45s 26ms/step - loss: 0.5595 - accuracy: 0.8030 - val_loss: 0.5279 - val_accuracy: 0.8194\n"
     ]
    }
   ],
   "source": [
    "history = model.fit(X_train_scaled, y_train, epochs=5, validation_data=(X_valid_scaled, y_valid))"
   ]
  },
  {
   "cell_type": "markdown",
   "id": "4ba7fd16-5027-449d-8960-c6be015c5e6b",
   "metadata": {},
   "source": [
    "대신 ReLU 활성화 함수를 사용하면 어떤 일이 일어나는지 확인해 본다:"
   ]
  },
  {
   "cell_type": "code",
   "execution_count": 30,
   "id": "ef7ac6c7-d96b-4c0e-ab6d-ee72e54f9526",
   "metadata": {
    "scrolled": true
   },
   "outputs": [],
   "source": [
    "model = keras.models.Sequential()\n",
    "model.add(keras.layers.Flatten(input_shape=[28, 28]))\n",
    "model.add(keras.layers.Dense(300, activation=\"relu\", kernel_initializer=\"he_normal\"))\n",
    "for layer in range(99):\n",
    "    model.add(keras.layers.Dense(100, activation=\"relu\", kernel_initializer=\"he_normal\"))\n",
    "model.add(keras.layers.Dense(10, activation=\"softmax\"))"
   ]
  },
  {
   "cell_type": "code",
   "execution_count": 31,
   "id": "418d8bd4-d494-4016-9b22-522bffd65896",
   "metadata": {
    "scrolled": true
   },
   "outputs": [],
   "source": [
    "model.compile(\n",
    "    loss=\"sparse_categorical_crossentropy\", optimizer=keras.optimizers.SGD(learning_rate=1e-3), metrics=[\"accuracy\"]\n",
    ")"
   ]
  },
  {
   "cell_type": "code",
   "execution_count": 32,
   "id": "a19b41f3-8edb-4cf9-aba5-c7ccd2b08fd7",
   "metadata": {
    "scrolled": true
   },
   "outputs": [
    {
     "name": "stdout",
     "output_type": "stream",
     "text": [
      "Epoch 1/5\n",
      "1719/1719 [==============================] - 46s 25ms/step - loss: 2.0186 - accuracy: 0.2158 - val_loss: 1.9807 - val_accuracy: 0.2126\n",
      "Epoch 2/5\n",
      "1719/1719 [==============================] - 42s 24ms/step - loss: 1.5926 - accuracy: 0.3402 - val_loss: 1.4261 - val_accuracy: 0.4200\n",
      "Epoch 3/5\n",
      "1719/1719 [==============================] - 42s 25ms/step - loss: 1.2918 - accuracy: 0.4771 - val_loss: 1.0757 - val_accuracy: 0.5732\n",
      "Epoch 4/5\n",
      "1719/1719 [==============================] - 46s 27ms/step - loss: 1.0915 - accuracy: 0.5660 - val_loss: 1.2063 - val_accuracy: 0.5382\n",
      "Epoch 5/5\n",
      "1719/1719 [==============================] - 45s 26ms/step - loss: 1.0563 - accuracy: 0.5883 - val_loss: 0.9028 - val_accuracy: 0.6422\n"
     ]
    }
   ],
   "source": [
    "history = model.fit(X_train_scaled, y_train, epochs=5, validation_data=(X_valid_scaled, y_valid))"
   ]
  },
  {
   "cell_type": "markdown",
   "id": "6e88d380-2c3b-449b-ae5e-24f6624c813f",
   "metadata": {
    "tags": []
   },
   "source": [
    "좋지 않다. 그레이디언트 폭주나 소실 문제가 발생한 것이다."
   ]
  },
  {
   "cell_type": "markdown",
   "id": "be6a8f4c-5802-4e6d-8959-0891ced7b59a",
   "metadata": {},
   "source": [
    "# 배치 정규화"
   ]
  },
  {
   "cell_type": "code",
   "execution_count": 33,
   "id": "c00ac265-8be4-4274-9ece-d818c56e62cf",
   "metadata": {
    "scrolled": true,
    "tags": []
   },
   "outputs": [],
   "source": [
    "model = keras.models.Sequential(\n",
    "    [\n",
    "        keras.layers.Flatten(input_shape=[28, 28]),\n",
    "        keras.layers.BatchNormalization(),\n",
    "        keras.layers.Dense(300, activation=\"relu\"),\n",
    "        keras.layers.BatchNormalization(),\n",
    "        keras.layers.Dense(100, activation=\"relu\"),\n",
    "        keras.layers.BatchNormalization(),\n",
    "        keras.layers.Dense(10, activation=\"softmax\")\n",
    "    ]\n",
    ")"
   ]
  },
  {
   "cell_type": "code",
   "execution_count": 34,
   "id": "0487ba22-a4a1-48ef-84c4-93b4e0d68efe",
   "metadata": {
    "scrolled": true
   },
   "outputs": [
    {
     "name": "stdout",
     "output_type": "stream",
     "text": [
      "Model: \"sequential_4\"\n",
      "_________________________________________________________________\n",
      " Layer (type)                Output Shape              Param #   \n",
      "=================================================================\n",
      " flatten_4 (Flatten)         (None, 784)               0         \n",
      "                                                                 \n",
      " batch_normalization (BatchN  (None, 784)              3136      \n",
      " ormalization)                                                   \n",
      "                                                                 \n",
      " dense_212 (Dense)           (None, 300)               235500    \n",
      "                                                                 \n",
      " batch_normalization_1 (Batc  (None, 300)              1200      \n",
      " hNormalization)                                                 \n",
      "                                                                 \n",
      " dense_213 (Dense)           (None, 100)               30100     \n",
      "                                                                 \n",
      " batch_normalization_2 (Batc  (None, 100)              400       \n",
      " hNormalization)                                                 \n",
      "                                                                 \n",
      " dense_214 (Dense)           (None, 10)                1010      \n",
      "                                                                 \n",
      "=================================================================\n",
      "Total params: 271,346\n",
      "Trainable params: 268,978\n",
      "Non-trainable params: 2,368\n",
      "_________________________________________________________________\n"
     ]
    }
   ],
   "source": [
    "model.summary()"
   ]
  },
  {
   "cell_type": "code",
   "execution_count": 35,
   "id": "2521a648-6822-41f5-8d72-621ca4bcbd25",
   "metadata": {
    "scrolled": true,
    "tags": []
   },
   "outputs": [
    {
     "data": {
      "text/plain": [
       "[('batch_normalization/gamma:0', True),\n",
       " ('batch_normalization/beta:0', True),\n",
       " ('batch_normalization/moving_mean:0', False),\n",
       " ('batch_normalization/moving_variance:0', False)]"
      ]
     },
     "execution_count": 35,
     "metadata": {},
     "output_type": "execute_result"
    }
   ],
   "source": [
    "bn1 = model.layers[1]\n",
    "[(var.name, var.trainable) for var in bn1.variables]"
   ]
  },
  {
   "cell_type": "code",
   "execution_count": 36,
   "id": "a3e18056-3284-4334-b108-2b55ee6ff0ce",
   "metadata": {
    "scrolled": true
   },
   "outputs": [],
   "source": [
    "model.compile(\n",
    "    loss=\"sparse_categorical_crossentropy\", optimizer=keras.optimizers.SGD(learning_rate=1e-3), metrics=[\"accuracy\"]\n",
    ")"
   ]
  },
  {
   "cell_type": "code",
   "execution_count": 37,
   "id": "b991149f-3e3d-454d-8ed9-d319789603aa",
   "metadata": {
    "scrolled": true
   },
   "outputs": [
    {
     "name": "stdout",
     "output_type": "stream",
     "text": [
      "Epoch 1/10\n",
      "1719/1719 [==============================] - 11s 6ms/step - loss: 0.8355 - accuracy: 0.7178 - val_loss: 0.5450 - val_accuracy: 0.8168\n",
      "Epoch 2/10\n",
      "1719/1719 [==============================] - 10s 6ms/step - loss: 0.5674 - accuracy: 0.8050 - val_loss: 0.4672 - val_accuracy: 0.8404\n",
      "Epoch 3/10\n",
      "1719/1719 [==============================] - 11s 6ms/step - loss: 0.5065 - accuracy: 0.8236 - val_loss: 0.4313 - val_accuracy: 0.8504\n",
      "Epoch 4/10\n",
      "1719/1719 [==============================] - 10s 6ms/step - loss: 0.4752 - accuracy: 0.8350 - val_loss: 0.4103 - val_accuracy: 0.8594\n",
      "Epoch 5/10\n",
      "1719/1719 [==============================] - 10s 6ms/step - loss: 0.4533 - accuracy: 0.8407 - val_loss: 0.3950 - val_accuracy: 0.8638\n",
      "Epoch 6/10\n",
      "1719/1719 [==============================] - 13s 8ms/step - loss: 0.4365 - accuracy: 0.8465 - val_loss: 0.3835 - val_accuracy: 0.8662\n",
      "Epoch 7/10\n",
      "1719/1719 [==============================] - 14s 8ms/step - loss: 0.4199 - accuracy: 0.8507 - val_loss: 0.3758 - val_accuracy: 0.8676\n",
      "Epoch 8/10\n",
      "1719/1719 [==============================] - 12s 7ms/step - loss: 0.4092 - accuracy: 0.8557 - val_loss: 0.3698 - val_accuracy: 0.8696\n",
      "Epoch 9/10\n",
      "1719/1719 [==============================] - 11s 7ms/step - loss: 0.3997 - accuracy: 0.8593 - val_loss: 0.3637 - val_accuracy: 0.8736\n",
      "Epoch 10/10\n",
      "1719/1719 [==============================] - 11s 6ms/step - loss: 0.3913 - accuracy: 0.8619 - val_loss: 0.3561 - val_accuracy: 0.8726\n"
     ]
    }
   ],
   "source": [
    "history = model.fit(X_train, y_train, epochs=10, validation_data=(X_valid, y_valid))"
   ]
  },
  {
   "cell_type": "markdown",
   "id": "543e238a-1691-4b0b-9dcb-e3867ed13aad",
   "metadata": {
    "tags": []
   },
   "source": [
    "이따금 활성화 함수 전에 BN을 적용해도 잘 동작한다(여기에는 논란의 여지가 있다). 또한 `BatchNormalization` 층 이전의 층은 편향을 위한 항이 필요 없다. `BatchNormalization` 층이 이를 무효화하기 때문이다. 따라서 필요 없는 파라미터이므로 `use_bias=False`를 지정하여 층을 만들 수 있다:"
   ]
  },
  {
   "cell_type": "code",
   "execution_count": 38,
   "id": "0dacfe52-f9d4-491b-8258-370b8f5cd15e",
   "metadata": {
    "scrolled": true,
    "tags": []
   },
   "outputs": [],
   "source": [
    "model = keras.models.Sequential(\n",
    "    [\n",
    "        keras.layers.Flatten(input_shape=[28, 28]),\n",
    "        keras.layers.BatchNormalization(),\n",
    "        keras.layers.Dense(300, use_bias=False),\n",
    "        keras.layers.BatchNormalization(),\n",
    "        keras.layers.Activation(\"relu\"),\n",
    "        keras.layers.Dense(100, use_bias=False),\n",
    "        keras.layers.BatchNormalization(),\n",
    "        keras.layers.Activation(\"relu\"),\n",
    "        keras.layers.Dense(10, activation=\"softmax\")\n",
    "    ]\n",
    ")"
   ]
  },
  {
   "cell_type": "code",
   "execution_count": 39,
   "id": "74093742-9b08-46b2-8bb1-36b0c5087261",
   "metadata": {
    "scrolled": true
   },
   "outputs": [],
   "source": [
    "model.compile(\n",
    "    loss=\"sparse_categorical_crossentropy\", optimizer=keras.optimizers.SGD(learning_rate=1e-3), metrics=[\"accuracy\"]\n",
    ")"
   ]
  },
  {
   "cell_type": "code",
   "execution_count": 40,
   "id": "cf07dee6-c527-4ba0-a46d-8a02e9ad4464",
   "metadata": {
    "scrolled": true
   },
   "outputs": [
    {
     "name": "stdout",
     "output_type": "stream",
     "text": [
      "Epoch 1/10\n",
      "1719/1719 [==============================] - 11s 6ms/step - loss: 1.0360 - accuracy: 0.6771 - val_loss: 0.6732 - val_accuracy: 0.7894\n",
      "Epoch 2/10\n",
      "1719/1719 [==============================] - 9s 5ms/step - loss: 0.6799 - accuracy: 0.7810 - val_loss: 0.5551 - val_accuracy: 0.8190\n",
      "Epoch 3/10\n",
      "1719/1719 [==============================] - 9s 5ms/step - loss: 0.5943 - accuracy: 0.8034 - val_loss: 0.5030 - val_accuracy: 0.8348\n",
      "Epoch 4/10\n",
      "1719/1719 [==============================] - 9s 5ms/step - loss: 0.5501 - accuracy: 0.8147 - val_loss: 0.4690 - val_accuracy: 0.8436\n",
      "Epoch 5/10\n",
      "1719/1719 [==============================] - 9s 5ms/step - loss: 0.5144 - accuracy: 0.8251 - val_loss: 0.4455 - val_accuracy: 0.8492\n",
      "Epoch 6/10\n",
      "1719/1719 [==============================] - 9s 5ms/step - loss: 0.4931 - accuracy: 0.8316 - val_loss: 0.4298 - val_accuracy: 0.8540\n",
      "Epoch 7/10\n",
      "1719/1719 [==============================] - 9s 5ms/step - loss: 0.4737 - accuracy: 0.8372 - val_loss: 0.4159 - val_accuracy: 0.8598\n",
      "Epoch 8/10\n",
      "1719/1719 [==============================] - 9s 5ms/step - loss: 0.4595 - accuracy: 0.8422 - val_loss: 0.4048 - val_accuracy: 0.8648\n",
      "Epoch 9/10\n",
      "1719/1719 [==============================] - 9s 6ms/step - loss: 0.4468 - accuracy: 0.8444 - val_loss: 0.3978 - val_accuracy: 0.8648\n",
      "Epoch 10/10\n",
      "1719/1719 [==============================] - 10s 6ms/step - loss: 0.4367 - accuracy: 0.8496 - val_loss: 0.3904 - val_accuracy: 0.8662\n"
     ]
    }
   ],
   "source": [
    "history = model.fit(X_train, y_train, epochs=10, validation_data=(X_valid, y_valid))"
   ]
  },
  {
   "cell_type": "markdown",
   "id": "6bf6c6ca-2f11-4c5e-9d0a-96c0d84491b1",
   "metadata": {
    "tags": []
   },
   "source": [
    "## 그레이디언트 클리핑"
   ]
  },
  {
   "cell_type": "markdown",
   "id": "1e7ed889-9be9-48eb-960f-4322d5574b4f",
   "metadata": {},
   "source": [
    "모든 케라스 옵티마이저는 `clipnorm`이나 `clipvalue` 매개변수를 지원한다:"
   ]
  },
  {
   "cell_type": "code",
   "execution_count": 41,
   "id": "4635a5c6-bfc3-4a9f-98c3-e9bf443331fc",
   "metadata": {
    "scrolled": true
   },
   "outputs": [],
   "source": [
    "optimizer = keras.optimizers.SGD(clipvalue=1.0)"
   ]
  },
  {
   "cell_type": "code",
   "execution_count": 42,
   "id": "cfe9f991-1bc4-4753-b0de-88b5ec368c94",
   "metadata": {
    "scrolled": true
   },
   "outputs": [],
   "source": [
    "optimizer = keras.optimizers.SGD(clipnorm=1.0)"
   ]
  },
  {
   "cell_type": "markdown",
   "id": "f61979f7-ee56-467d-b8f5-0537a786e01a",
   "metadata": {},
   "source": [
    "## 사전 훈련된 층 재사용하기"
   ]
  },
  {
   "cell_type": "markdown",
   "id": "c258b77f-e5b2-4956-b175-a4b526964d52",
   "metadata": {},
   "source": [
    "### 케라스 모델 재사용하기"
   ]
  },
  {
   "cell_type": "markdown",
   "id": "daf0f319-b5a5-4868-af49-faa51da20b34",
   "metadata": {},
   "source": [
    "패션 MNIST 훈련 세트를 두 개로 나누어 본다:\n",
    "* `X_train_A`: 샌달과 셔츠(클래스 5와 6)을 제외한 모든 이미지\n",
    "* `X_train_B`: 샌달과 셔츠 이미지 중 처음 200개만 가진 작은 훈련 세트\n",
    "\n",
    "검증 세트와 테스트 세트도 이렇게 나눈다. 하지만 이미지 개수는 제한하지 않는다.\n",
    "\n",
    "A 세트(8개의 클래스를 가진 분류 문제)에서 모델을 훈련하고 이를 재사용하여 B 세트(이진 분류)를 해결해 본다. A 작업에서 B 작업으로 약간의 지식이 전달되기를 기대한다. 왜냐하면 A 세트의 클래스(스니커즈, 앵클 부츠, 코트, 티셔츠 등)가 B 세트에 있는 클래스(샌달과 셔츠)와 조금 비슷하기 때문이다. 하지만 `Dense` 층을 사용하기 때문에 동일한 위치에 나타난 패턴만 재사용할 수 있다(반대로 합성곱 층은 훨씬 많은 정보를 전송한다. 학습한 패턴을 이미지의 어느 위치에서나 감지할 수 있기 때문이다.)."
   ]
  },
  {
   "cell_type": "code",
   "execution_count": 43,
   "id": "d8acd492-471e-46e8-b2c5-2494639c47b5",
   "metadata": {
    "scrolled": true
   },
   "outputs": [],
   "source": [
    "def split_dataset(X, y):\n",
    "    y_5_or_6 = (y == 5) | (y == 6)  # 샌들 또는 셔츠\n",
    "    y_A = y[~y_5_or_6]\n",
    "    y_A[y_A > 6] -= 2  # 클래스 인덱스 7, 8, 9는 5, 6, 7로 이동해야 한다\n",
    "    y_B = (y[y_5_or_6] == 6).astype(np.float32)  # 이진 분류 작업: 셔츠(클래스 6)인가?\n",
    "    return (X[~y_5_or_6], y_A), (X[y_5_or_6], y_B)\n",
    "\n",
    "\n",
    "(X_train_A, y_train_A), (X_train_B, y_train_B) = split_dataset(X_train, y_train)\n",
    "(X_valid_A, y_valid_A), (X_valid_B, y_valid_B) = split_dataset(X_valid, y_valid)\n",
    "(X_test_A, y_test_A), (X_test_B, y_test_B) = split_dataset(X_test, y_test)\n",
    "X_train_B = X_train_B[:200]\n",
    "y_train_B = y_train_B[:200]"
   ]
  },
  {
   "cell_type": "code",
   "execution_count": 44,
   "id": "a4bd08c0-ae95-43b2-8646-6dde4ba2e5e0",
   "metadata": {
    "scrolled": true
   },
   "outputs": [
    {
     "data": {
      "text/plain": [
       "(43986, 28, 28)"
      ]
     },
     "execution_count": 44,
     "metadata": {},
     "output_type": "execute_result"
    }
   ],
   "source": [
    "X_train_A.shape"
   ]
  },
  {
   "cell_type": "code",
   "execution_count": 45,
   "id": "edc11cc4-60ff-4883-8f1d-d85ded0ac6c5",
   "metadata": {
    "scrolled": true
   },
   "outputs": [
    {
     "data": {
      "text/plain": [
       "(200, 28, 28)"
      ]
     },
     "execution_count": 45,
     "metadata": {},
     "output_type": "execute_result"
    }
   ],
   "source": [
    "X_train_B.shape"
   ]
  },
  {
   "cell_type": "code",
   "execution_count": 46,
   "id": "d1f8ba7b-7044-44a3-a97b-f36e0fd2808f",
   "metadata": {
    "scrolled": true
   },
   "outputs": [
    {
     "data": {
      "text/plain": [
       "array([4, 0, 5, 7, 7, 7, 4, 4, 3, 4, 0, 1, 6, 3, 4, 3, 2, 6, 5, 3, 4, 5,\n",
       "       1, 3, 4, 2, 0, 6, 7, 1], dtype=uint8)"
      ]
     },
     "execution_count": 46,
     "metadata": {},
     "output_type": "execute_result"
    }
   ],
   "source": [
    "y_train_A[:30]"
   ]
  },
  {
   "cell_type": "code",
   "execution_count": 47,
   "id": "05446be6-5629-40cd-a646-32e5cd4bc097",
   "metadata": {
    "scrolled": true
   },
   "outputs": [
    {
     "data": {
      "text/plain": [
       "array([1., 1., 0., 0., 0., 0., 1., 1., 1., 0., 0., 1., 1., 0., 0., 0., 0.,\n",
       "       0., 0., 1., 1., 0., 0., 1., 1., 0., 1., 1., 1., 1.], dtype=float32)"
      ]
     },
     "execution_count": 47,
     "metadata": {},
     "output_type": "execute_result"
    }
   ],
   "source": [
    "y_train_B[:30]"
   ]
  },
  {
   "cell_type": "code",
   "execution_count": 48,
   "id": "81618cdc-113a-4ba2-8a32-54438a953ec9",
   "metadata": {
    "scrolled": true
   },
   "outputs": [],
   "source": [
    "model_A = keras.models.Sequential()\n",
    "model_A.add(keras.layers.Flatten(input_shape=[28, 28]))\n",
    "for n_hidden in (300, 100, 50, 50, 50):\n",
    "    model_A.add(keras.layers.Dense(n_hidden, activation=\"selu\"))\n",
    "model_A.add(keras.layers.Dense(8, activation=\"softmax\"))"
   ]
  },
  {
   "cell_type": "code",
   "execution_count": 49,
   "id": "7549254a-2999-4f24-9604-55861546c4e4",
   "metadata": {
    "scrolled": true
   },
   "outputs": [],
   "source": [
    "model_A.compile(\n",
    "    loss=\"sparse_categorical_crossentropy\", optimizer=keras.optimizers.SGD(learning_rate=1e-3), metrics=[\"accuracy\"]\n",
    ")"
   ]
  },
  {
   "cell_type": "code",
   "execution_count": 50,
   "id": "7113ae8b-8aa4-4dcd-a7e0-48ae3bc23cde",
   "metadata": {
    "scrolled": true
   },
   "outputs": [
    {
     "name": "stdout",
     "output_type": "stream",
     "text": [
      "Epoch 1/20\n",
      "1375/1375 [==============================] - 6s 4ms/step - loss: 0.5859 - accuracy: 0.8134 - val_loss: 0.3696 - val_accuracy: 0.8710\n",
      "Epoch 2/20\n",
      "1375/1375 [==============================] - 5s 4ms/step - loss: 0.3532 - accuracy: 0.8774 - val_loss: 0.3368 - val_accuracy: 0.8799\n",
      "Epoch 3/20\n",
      "1375/1375 [==============================] - 5s 4ms/step - loss: 0.3206 - accuracy: 0.8880 - val_loss: 0.3041 - val_accuracy: 0.8939\n",
      "Epoch 4/20\n",
      "1375/1375 [==============================] - 5s 4ms/step - loss: 0.3018 - accuracy: 0.8944 - val_loss: 0.2899 - val_accuracy: 0.8999\n",
      "Epoch 5/20\n",
      "1375/1375 [==============================] - 5s 4ms/step - loss: 0.2889 - accuracy: 0.8997 - val_loss: 0.2780 - val_accuracy: 0.9041\n",
      "Epoch 6/20\n",
      "1375/1375 [==============================] - 5s 4ms/step - loss: 0.2790 - accuracy: 0.9040 - val_loss: 0.2688 - val_accuracy: 0.9058\n",
      "Epoch 7/20\n",
      "1375/1375 [==============================] - 5s 4ms/step - loss: 0.2707 - accuracy: 0.9069 - val_loss: 0.2672 - val_accuracy: 0.9086\n",
      "Epoch 8/20\n",
      "1375/1375 [==============================] - 5s 4ms/step - loss: 0.2634 - accuracy: 0.9090 - val_loss: 0.2633 - val_accuracy: 0.9086\n",
      "Epoch 9/20\n",
      "1375/1375 [==============================] - 5s 4ms/step - loss: 0.2581 - accuracy: 0.9118 - val_loss: 0.2561 - val_accuracy: 0.9113\n",
      "Epoch 10/20\n",
      "1375/1375 [==============================] - 5s 4ms/step - loss: 0.2524 - accuracy: 0.9137 - val_loss: 0.2530 - val_accuracy: 0.9123\n",
      "Epoch 11/20\n",
      "1375/1375 [==============================] - 5s 4ms/step - loss: 0.2480 - accuracy: 0.9145 - val_loss: 0.2495 - val_accuracy: 0.9126\n",
      "Epoch 12/20\n",
      "1375/1375 [==============================] - 5s 4ms/step - loss: 0.2441 - accuracy: 0.9165 - val_loss: 0.2545 - val_accuracy: 0.9106\n",
      "Epoch 13/20\n",
      "1375/1375 [==============================] - 5s 4ms/step - loss: 0.2403 - accuracy: 0.9179 - val_loss: 0.2450 - val_accuracy: 0.9136\n",
      "Epoch 14/20\n",
      "1375/1375 [==============================] - 5s 4ms/step - loss: 0.2369 - accuracy: 0.9189 - val_loss: 0.2443 - val_accuracy: 0.9148\n",
      "Epoch 15/20\n",
      "1375/1375 [==============================] - 5s 4ms/step - loss: 0.2338 - accuracy: 0.9200 - val_loss: 0.2425 - val_accuracy: 0.9133\n",
      "Epoch 16/20\n",
      "1375/1375 [==============================] - 5s 4ms/step - loss: 0.2306 - accuracy: 0.9215 - val_loss: 0.2416 - val_accuracy: 0.9170\n",
      "Epoch 17/20\n",
      "1375/1375 [==============================] - 5s 4ms/step - loss: 0.2277 - accuracy: 0.9216 - val_loss: 0.2375 - val_accuracy: 0.9168\n",
      "Epoch 18/20\n",
      "1375/1375 [==============================] - 5s 4ms/step - loss: 0.2252 - accuracy: 0.9227 - val_loss: 0.2412 - val_accuracy: 0.9141\n",
      "Epoch 19/20\n",
      "1375/1375 [==============================] - 5s 4ms/step - loss: 0.2227 - accuracy: 0.9237 - val_loss: 0.2334 - val_accuracy: 0.9165\n",
      "Epoch 20/20\n",
      "1375/1375 [==============================] - 5s 4ms/step - loss: 0.2202 - accuracy: 0.9232 - val_loss: 0.2358 - val_accuracy: 0.9198\n"
     ]
    }
   ],
   "source": [
    "history = model_A.fit(X_train_A, y_train_A, epochs=20, validation_data=(X_valid_A, y_valid_A))"
   ]
  },
  {
   "cell_type": "code",
   "execution_count": 51,
   "id": "a78e6863-a1b3-4ee4-9e2c-31c3ecb16816",
   "metadata": {
    "scrolled": true,
    "tags": []
   },
   "outputs": [],
   "source": [
    "model_A.save(\"my_model_A.h5\")"
   ]
  },
  {
   "cell_type": "code",
   "execution_count": 52,
   "id": "c7c2564c-717f-4d31-a429-067346b9db66",
   "metadata": {
    "scrolled": true
   },
   "outputs": [],
   "source": [
    "model_B = keras.models.Sequential()\n",
    "model_B.add(keras.layers.Flatten(input_shape=[28, 28]))\n",
    "for n_hidden in (300, 100, 50, 50, 50):\n",
    "    model_B.add(keras.layers.Dense(n_hidden, activation=\"selu\"))\n",
    "model_B.add(keras.layers.Dense(1, activation=\"sigmoid\"))"
   ]
  },
  {
   "cell_type": "code",
   "execution_count": 53,
   "id": "9916a78b-6e89-49cf-b971-3045c339a9dd",
   "metadata": {
    "scrolled": true
   },
   "outputs": [],
   "source": [
    "model_B.compile(loss=\"binary_crossentropy\", optimizer=keras.optimizers.SGD(learning_rate=1e-3), metrics=[\"accuracy\"])"
   ]
  },
  {
   "cell_type": "code",
   "execution_count": 54,
   "id": "a49b088b-cba9-4d09-a8de-965b499f8e9b",
   "metadata": {
    "scrolled": true
   },
   "outputs": [
    {
     "name": "stdout",
     "output_type": "stream",
     "text": [
      "Epoch 1/20\n",
      "7/7 [==============================] - 1s 47ms/step - loss: 0.6921 - accuracy: 0.5650 - val_loss: 0.5867 - val_accuracy: 0.7302\n",
      "Epoch 2/20\n",
      "7/7 [==============================] - 0s 22ms/step - loss: 0.5453 - accuracy: 0.7800 - val_loss: 0.4871 - val_accuracy: 0.8418\n",
      "Epoch 3/20\n",
      "7/7 [==============================] - 0s 20ms/step - loss: 0.4548 - accuracy: 0.8450 - val_loss: 0.4184 - val_accuracy: 0.8915\n",
      "Epoch 4/20\n",
      "7/7 [==============================] - 0s 20ms/step - loss: 0.3878 - accuracy: 0.9050 - val_loss: 0.3635 - val_accuracy: 0.9118\n",
      "Epoch 5/20\n",
      "7/7 [==============================] - 0s 20ms/step - loss: 0.3351 - accuracy: 0.9400 - val_loss: 0.3222 - val_accuracy: 0.9351\n",
      "Epoch 6/20\n",
      "7/7 [==============================] - 0s 21ms/step - loss: 0.2943 - accuracy: 0.9700 - val_loss: 0.2886 - val_accuracy: 0.9493\n",
      "Epoch 7/20\n",
      "7/7 [==============================] - 0s 20ms/step - loss: 0.2620 - accuracy: 0.9750 - val_loss: 0.2627 - val_accuracy: 0.9584\n",
      "Epoch 8/20\n",
      "7/7 [==============================] - 0s 20ms/step - loss: 0.2365 - accuracy: 0.9850 - val_loss: 0.2408 - val_accuracy: 0.9645\n",
      "Epoch 9/20\n",
      "7/7 [==============================] - 0s 21ms/step - loss: 0.2148 - accuracy: 0.9850 - val_loss: 0.2226 - val_accuracy: 0.9665\n",
      "Epoch 10/20\n",
      "7/7 [==============================] - 0s 23ms/step - loss: 0.1976 - accuracy: 0.9850 - val_loss: 0.2075 - val_accuracy: 0.9696\n",
      "Epoch 11/20\n",
      "7/7 [==============================] - 0s 19ms/step - loss: 0.1829 - accuracy: 0.9850 - val_loss: 0.1945 - val_accuracy: 0.9726\n",
      "Epoch 12/20\n",
      "7/7 [==============================] - 0s 19ms/step - loss: 0.1698 - accuracy: 0.9900 - val_loss: 0.1832 - val_accuracy: 0.9726\n",
      "Epoch 13/20\n",
      "7/7 [==============================] - 0s 19ms/step - loss: 0.1586 - accuracy: 0.9900 - val_loss: 0.1730 - val_accuracy: 0.9736\n",
      "Epoch 14/20\n",
      "7/7 [==============================] - 0s 18ms/step - loss: 0.1485 - accuracy: 0.9900 - val_loss: 0.1642 - val_accuracy: 0.9746\n",
      "Epoch 15/20\n",
      "7/7 [==============================] - 0s 18ms/step - loss: 0.1397 - accuracy: 0.9900 - val_loss: 0.1565 - val_accuracy: 0.9777\n",
      "Epoch 16/20\n",
      "7/7 [==============================] - 0s 20ms/step - loss: 0.1318 - accuracy: 0.9950 - val_loss: 0.1494 - val_accuracy: 0.9777\n",
      "Epoch 17/20\n",
      "7/7 [==============================] - 0s 18ms/step - loss: 0.1245 - accuracy: 0.9950 - val_loss: 0.1427 - val_accuracy: 0.9777\n",
      "Epoch 18/20\n",
      "7/7 [==============================] - 0s 19ms/step - loss: 0.1177 - accuracy: 0.9950 - val_loss: 0.1370 - val_accuracy: 0.9777\n",
      "Epoch 19/20\n",
      "7/7 [==============================] - 0s 22ms/step - loss: 0.1120 - accuracy: 0.9950 - val_loss: 0.1317 - val_accuracy: 0.9777\n",
      "Epoch 20/20\n",
      "7/7 [==============================] - 0s 23ms/step - loss: 0.1066 - accuracy: 0.9950 - val_loss: 0.1271 - val_accuracy: 0.9787\n"
     ]
    }
   ],
   "source": [
    "history = model_B.fit(X_train_B, y_train_B, epochs=20, validation_data=(X_valid_B, y_valid_B))"
   ]
  },
  {
   "cell_type": "code",
   "execution_count": 55,
   "id": "0d9bb929-34bd-4e95-9389-b366d1ebaf27",
   "metadata": {
    "scrolled": true,
    "tags": []
   },
   "outputs": [
    {
     "name": "stdout",
     "output_type": "stream",
     "text": [
      "Model: \"sequential_7\"\n",
      "_________________________________________________________________\n",
      " Layer (type)                Output Shape              Param #   \n",
      "=================================================================\n",
      " flatten_7 (Flatten)         (None, 784)               0         \n",
      "                                                                 \n",
      " dense_224 (Dense)           (None, 300)               235500    \n",
      "                                                                 \n",
      " dense_225 (Dense)           (None, 100)               30100     \n",
      "                                                                 \n",
      " dense_226 (Dense)           (None, 50)                5050      \n",
      "                                                                 \n",
      " dense_227 (Dense)           (None, 50)                2550      \n",
      "                                                                 \n",
      " dense_228 (Dense)           (None, 50)                2550      \n",
      "                                                                 \n",
      " dense_229 (Dense)           (None, 1)                 51        \n",
      "                                                                 \n",
      "=================================================================\n",
      "Total params: 275,801\n",
      "Trainable params: 275,801\n",
      "Non-trainable params: 0\n",
      "_________________________________________________________________\n"
     ]
    }
   ],
   "source": [
    "model_B.summary()"
   ]
  },
  {
   "cell_type": "code",
   "execution_count": 56,
   "id": "6a95b8c2-3023-4f66-a1e4-6fdca65922cb",
   "metadata": {
    "scrolled": true
   },
   "outputs": [],
   "source": [
    "model_A = keras.models.load_model(\"my_model_A.h5\")\n",
    "model_B_on_A = keras.models.Sequential(model_A.layers[:-1])\n",
    "model_B_on_A.add(keras.layers.Dense(1, activation=\"sigmoid\"))"
   ]
  },
  {
   "cell_type": "markdown",
   "id": "f61f7142-203a-4704-af97-875a3500c067",
   "metadata": {},
   "source": [
    "`model_B_on_A`와 `model_A`는 층을 공유하기 때문에 하나를 훈련하면 두 모델이 업데이트된다. 이를 피하려면 `model_A`를 클론한 것을 사용해 `model_B_on_A`를 만들어야 한다:"
   ]
  },
  {
   "cell_type": "code",
   "execution_count": 57,
   "id": "07c77cb1-603e-4c54-b173-479324be585e",
   "metadata": {
    "scrolled": true
   },
   "outputs": [],
   "source": [
    "model_A_clone = keras.models.clone_model(model_A)\n",
    "model_A_clone.set_weights(model_A.get_weights())\n",
    "model_B_on_A = keras.models.Sequential(model_A_clone.layers[:-1])\n",
    "model_B_on_A.add(keras.layers.Dense(1, activation=\"sigmoid\"))"
   ]
  },
  {
   "cell_type": "code",
   "execution_count": 58,
   "id": "7c606817-3971-4519-bb5a-d9fd8c0cacc6",
   "metadata": {
    "scrolled": true
   },
   "outputs": [],
   "source": [
    "for layer in model_B_on_A.layers[:-1]:\n",
    "    layer.trainable = False\n",
    "model_B_on_A.compile(\n",
    "    loss=\"binary_crossentropy\", optimizer=keras.optimizers.SGD(learning_rate=1e-3), metrics=[\"accuracy\"]\n",
    ")"
   ]
  },
  {
   "cell_type": "code",
   "execution_count": 59,
   "id": "21b9443a-cf01-4b56-a0d0-04f205cfc86f",
   "metadata": {
    "scrolled": true
   },
   "outputs": [
    {
     "name": "stdout",
     "output_type": "stream",
     "text": [
      "Epoch 1/4\n",
      "7/7 [==============================] - 1s 41ms/step - loss: 1.9941 - accuracy: 0.1600 - val_loss: 1.8696 - val_accuracy: 0.1856\n",
      "Epoch 2/4\n",
      "7/7 [==============================] - 0s 19ms/step - loss: 1.8275 - accuracy: 0.1900 - val_loss: 1.7174 - val_accuracy: 0.2028\n",
      "Epoch 3/4\n",
      "7/7 [==============================] - 0s 20ms/step - loss: 1.6758 - accuracy: 0.2100 - val_loss: 1.5778 - val_accuracy: 0.2373\n",
      "Epoch 4/4\n",
      "7/7 [==============================] - 0s 19ms/step - loss: 1.5370 - accuracy: 0.2400 - val_loss: 1.4422 - val_accuracy: 0.2576\n",
      "Epoch 1/16\n",
      "7/7 [==============================] - 1s 41ms/step - loss: 1.1272 - accuracy: 0.4250 - val_loss: 0.7530 - val_accuracy: 0.5913\n",
      "Epoch 2/16\n",
      "7/7 [==============================] - 0s 20ms/step - loss: 0.6504 - accuracy: 0.6350 - val_loss: 0.4978 - val_accuracy: 0.7373\n",
      "Epoch 3/16\n",
      "7/7 [==============================] - 0s 20ms/step - loss: 0.4494 - accuracy: 0.7750 - val_loss: 0.3623 - val_accuracy: 0.8387\n",
      "Epoch 4/16\n",
      "7/7 [==============================] - 0s 20ms/step - loss: 0.3321 - accuracy: 0.8600 - val_loss: 0.2797 - val_accuracy: 0.8945\n",
      "Epoch 5/16\n",
      "7/7 [==============================] - 0s 19ms/step - loss: 0.2601 - accuracy: 0.9150 - val_loss: 0.2257 - val_accuracy: 0.9300\n",
      "Epoch 6/16\n",
      "7/7 [==============================] - 0s 19ms/step - loss: 0.2108 - accuracy: 0.9300 - val_loss: 0.1881 - val_accuracy: 0.9533\n",
      "Epoch 7/16\n",
      "7/7 [==============================] - 0s 19ms/step - loss: 0.1758 - accuracy: 0.9400 - val_loss: 0.1620 - val_accuracy: 0.9625\n",
      "Epoch 8/16\n",
      "7/7 [==============================] - 0s 19ms/step - loss: 0.1510 - accuracy: 0.9750 - val_loss: 0.1421 - val_accuracy: 0.9675\n",
      "Epoch 9/16\n",
      "7/7 [==============================] - 0s 19ms/step - loss: 0.1316 - accuracy: 0.9800 - val_loss: 0.1277 - val_accuracy: 0.9757\n",
      "Epoch 10/16\n",
      "7/7 [==============================] - 0s 18ms/step - loss: 0.1170 - accuracy: 0.9800 - val_loss: 0.1155 - val_accuracy: 0.9807\n",
      "Epoch 11/16\n",
      "7/7 [==============================] - 0s 19ms/step - loss: 0.1044 - accuracy: 0.9800 - val_loss: 0.1062 - val_accuracy: 0.9828\n",
      "Epoch 12/16\n",
      "7/7 [==============================] - 0s 19ms/step - loss: 0.0948 - accuracy: 0.9850 - val_loss: 0.0986 - val_accuracy: 0.9848\n",
      "Epoch 13/16\n",
      "7/7 [==============================] - 0s 18ms/step - loss: 0.0872 - accuracy: 0.9900 - val_loss: 0.0916 - val_accuracy: 0.9878\n",
      "Epoch 14/16\n",
      "7/7 [==============================] - 0s 19ms/step - loss: 0.0801 - accuracy: 0.9950 - val_loss: 0.0861 - val_accuracy: 0.9888\n",
      "Epoch 15/16\n",
      "7/7 [==============================] - 0s 19ms/step - loss: 0.0745 - accuracy: 0.9950 - val_loss: 0.0807 - val_accuracy: 0.9909\n",
      "Epoch 16/16\n",
      "7/7 [==============================] - 0s 19ms/step - loss: 0.0688 - accuracy: 0.9950 - val_loss: 0.0763 - val_accuracy: 0.9909\n"
     ]
    }
   ],
   "source": [
    "history = model_B_on_A.fit(X_train_B, y_train_B, epochs=4, validation_data=(X_valid_B, y_valid_B))\n",
    "for layer in model_B_on_A.layers[:-1]:\n",
    "    layer.trainable = True\n",
    "model_B_on_A.compile(\n",
    "    loss=\"binary_crossentropy\", optimizer=keras.optimizers.SGD(learning_rate=1e-3), metrics=[\"accuracy\"]\n",
    ")\n",
    "history = model_B_on_A.fit(X_train_B, y_train_B, epochs=16, validation_data=(X_valid_B, y_valid_B))"
   ]
  },
  {
   "cell_type": "markdown",
   "id": "d7b23e81-e4f6-4ac8-8b9b-6e6e51cb77a5",
   "metadata": {
    "tags": []
   },
   "source": [
    "마지막 점수는 어떨까?"
   ]
  },
  {
   "cell_type": "code",
   "execution_count": 60,
   "id": "b938d01b-7a48-4d86-8344-3d4cc292777d",
   "metadata": {
    "scrolled": true
   },
   "outputs": [
    {
     "name": "stdout",
     "output_type": "stream",
     "text": [
      "63/63 [==============================] - 0s 3ms/step - loss: 0.1250 - accuracy: 0.9865\n"
     ]
    },
    {
     "data": {
      "text/plain": [
       "[0.12497635930776596, 0.9865000247955322]"
      ]
     },
     "execution_count": 60,
     "metadata": {},
     "output_type": "execute_result"
    }
   ],
   "source": [
    "B = model_B.evaluate(X_test_B, y_test_B)\n",
    "B"
   ]
  },
  {
   "cell_type": "code",
   "execution_count": 61,
   "id": "9b899fd5-8f9d-4fb6-94f3-395f810195db",
   "metadata": {
    "scrolled": true
   },
   "outputs": [
    {
     "name": "stdout",
     "output_type": "stream",
     "text": [
      "63/63 [==============================] - 0s 2ms/step - loss: 0.0830 - accuracy: 0.9830\n"
     ]
    },
    {
     "data": {
      "text/plain": [
       "[0.08295535296201706, 0.9829999804496765]"
      ]
     },
     "execution_count": 61,
     "metadata": {},
     "output_type": "execute_result"
    }
   ],
   "source": [
    "B_on_A = model_B_on_A.evaluate(X_test_B, y_test_B)\n",
    "B_on_A"
   ]
  },
  {
   "cell_type": "markdown",
   "id": "a81f73de-c1be-4a6f-b957-050b06e100eb",
   "metadata": {},
   "source": [
    "아주 약간의 정보를 전달했다: 오차율이 아주 조금 줄었다."
   ]
  },
  {
   "cell_type": "code",
   "execution_count": 62,
   "id": "bffbbb62-e7d9-4ce6-88df-477cf6bf537b",
   "metadata": {
    "scrolled": true
   },
   "outputs": [
    {
     "data": {
      "text/plain": [
       "0.9999646520865593"
      ]
     },
     "execution_count": 62,
     "metadata": {},
     "output_type": "execute_result"
    }
   ],
   "source": [
    "(100 - B[1]) / (100 - B_on_A[1])"
   ]
  },
  {
   "cell_type": "markdown",
   "id": "9b19bb16-b5f4-4184-b529-c011eaddedb5",
   "metadata": {
    "tags": []
   },
   "source": [
    "# 고속 옵티마이저"
   ]
  },
  {
   "cell_type": "markdown",
   "id": "cbb69212-b7c2-4cc1-8281-f4be2a448031",
   "metadata": {},
   "source": [
    "## 모멘텀 옵티마이저"
   ]
  },
  {
   "cell_type": "code",
   "execution_count": 63,
   "id": "4a22926a-72f2-4d37-bd45-45e610f324fe",
   "metadata": {
    "scrolled": true
   },
   "outputs": [],
   "source": [
    "optimizer = keras.optimizers.SGD(learning_rate=0.001, momentum=0.9)"
   ]
  },
  {
   "cell_type": "markdown",
   "id": "af03d5ef-d9ce-47cf-8d08-3a8a780859db",
   "metadata": {},
   "source": [
    "## 네스테로프 가속 경사"
   ]
  },
  {
   "cell_type": "code",
   "execution_count": 64,
   "id": "26887969-a595-424b-984c-3f74ff07b949",
   "metadata": {
    "scrolled": true
   },
   "outputs": [],
   "source": [
    "optimizer = keras.optimizers.SGD(learning_rate=0.001, momentum=0.9, nesterov=True)"
   ]
  },
  {
   "cell_type": "markdown",
   "id": "fc5e18f7-8c1b-4fcf-a50e-30ca3c60370a",
   "metadata": {},
   "source": [
    "## AdaGrad"
   ]
  },
  {
   "cell_type": "code",
   "execution_count": 65,
   "id": "8235a7dc-e1d7-483d-9261-b2dc9c5b3a40",
   "metadata": {
    "scrolled": true
   },
   "outputs": [],
   "source": [
    "optimizer = keras.optimizers.Adagrad()"
   ]
  },
  {
   "cell_type": "markdown",
   "id": "b0c29163-f5fd-4b9a-a54b-60aeba38db6a",
   "metadata": {},
   "source": [
    "## RMSProp"
   ]
  },
  {
   "cell_type": "code",
   "execution_count": 66,
   "id": "39a7e7e7-43ed-4722-be24-b92431d29673",
   "metadata": {
    "scrolled": true
   },
   "outputs": [],
   "source": [
    "optimizer = keras.optimizers.RMSprop()"
   ]
  },
  {
   "cell_type": "markdown",
   "id": "892241ac-ff4d-40b8-b57f-7a772c97f189",
   "metadata": {},
   "source": [
    "## Adam 옵티마이저"
   ]
  },
  {
   "cell_type": "code",
   "execution_count": 67,
   "id": "41fb2553-1ce9-467d-b669-18d5f3ca3c66",
   "metadata": {
    "scrolled": true
   },
   "outputs": [],
   "source": [
    "optimizer = keras.optimizers.Adam()"
   ]
  },
  {
   "cell_type": "markdown",
   "id": "08b42551-d050-4a6c-babc-cf7a0386c0af",
   "metadata": {},
   "source": [
    "## Nadam 옵티마이저"
   ]
  },
  {
   "cell_type": "code",
   "execution_count": 68,
   "id": "c424614b-32c1-4c96-8398-913aa6cdf915",
   "metadata": {
    "scrolled": true
   },
   "outputs": [],
   "source": [
    "optimizer = keras.optimizers.Nadam()"
   ]
  },
  {
   "cell_type": "markdown",
   "id": "d7d40f32-3942-4e85-8cac-8e7cf2f90c5e",
   "metadata": {
    "tags": []
   },
   "source": [
    "## 학습률 스케줄링"
   ]
  },
  {
   "cell_type": "markdown",
   "id": "e2fa9774-ab3e-47c6-b3fd-216f4eefc8ff",
   "metadata": {},
   "source": [
    "### 거듭제곱 스케줄링"
   ]
  },
  {
   "cell_type": "markdown",
   "id": "298e65fa-7785-4430-8a1e-3dd7903c969e",
   "metadata": {},
   "source": [
    "```lr = lr0 / (1 + steps / s)**c```\n",
    "* 케라스는 `c=1`과 `s = 1 / decay`을 사용한다"
   ]
  },
  {
   "cell_type": "code",
   "execution_count": 69,
   "id": "a41a3dde-6dd5-4378-bf6b-8c4e85d49185",
   "metadata": {
    "scrolled": true
   },
   "outputs": [],
   "source": [
    "optimizer = keras.optimizers.SGD(decay=1e-4)"
   ]
  },
  {
   "cell_type": "code",
   "execution_count": 70,
   "id": "c5a68479-f73a-47a3-b2fb-8265f654a9c5",
   "metadata": {
    "scrolled": true
   },
   "outputs": [],
   "source": [
    "model = keras.models.Sequential(\n",
    "    [\n",
    "        keras.layers.Flatten(input_shape=[28, 28]),\n",
    "        keras.layers.Dense(300, activation=\"selu\", kernel_initializer=\"lecun_normal\"),\n",
    "        keras.layers.Dense(100, activation=\"selu\", kernel_initializer=\"lecun_normal\"),\n",
    "        keras.layers.Dense(10, activation=\"softmax\")\n",
    "    ]\n",
    ")\n",
    "model.compile(loss=\"sparse_categorical_crossentropy\", optimizer=optimizer, metrics=[\"accuracy\"])"
   ]
  },
  {
   "cell_type": "code",
   "execution_count": 71,
   "id": "356065a7-2f9d-46a5-9c35-b8c8c6547b2a",
   "metadata": {
    "scrolled": true
   },
   "outputs": [
    {
     "name": "stdout",
     "output_type": "stream",
     "text": [
      "Epoch 1/25\n",
      "1719/1719 [==============================] - 6s 3ms/step - loss: 0.4883 - accuracy: 0.8301 - val_loss: 0.4091 - val_accuracy: 0.8598\n",
      "Epoch 2/25\n",
      "1719/1719 [==============================] - 6s 3ms/step - loss: 0.3806 - accuracy: 0.8655 - val_loss: 0.3805 - val_accuracy: 0.8704\n",
      "Epoch 3/25\n",
      "1719/1719 [==============================] - 6s 3ms/step - loss: 0.3477 - accuracy: 0.8758 - val_loss: 0.3635 - val_accuracy: 0.8702\n",
      "Epoch 4/25\n",
      "1719/1719 [==============================] - 5s 3ms/step - loss: 0.3257 - accuracy: 0.8843 - val_loss: 0.3635 - val_accuracy: 0.8678\n",
      "Epoch 5/25\n",
      "1719/1719 [==============================] - 6s 3ms/step - loss: 0.3096 - accuracy: 0.8896 - val_loss: 0.3460 - val_accuracy: 0.8762\n",
      "Epoch 6/25\n",
      "1719/1719 [==============================] - 6s 3ms/step - loss: 0.2968 - accuracy: 0.8944 - val_loss: 0.3425 - val_accuracy: 0.8784\n",
      "Epoch 7/25\n",
      "1719/1719 [==============================] - 6s 3ms/step - loss: 0.2866 - accuracy: 0.8974 - val_loss: 0.3314 - val_accuracy: 0.8796\n",
      "Epoch 8/25\n",
      "1719/1719 [==============================] - 6s 3ms/step - loss: 0.2771 - accuracy: 0.8999 - val_loss: 0.3351 - val_accuracy: 0.8784\n",
      "Epoch 9/25\n",
      "1719/1719 [==============================] - 6s 3ms/step - loss: 0.2697 - accuracy: 0.9033 - val_loss: 0.3293 - val_accuracy: 0.8824\n",
      "Epoch 10/25\n",
      "1719/1719 [==============================] - 5s 3ms/step - loss: 0.2631 - accuracy: 0.9064 - val_loss: 0.3269 - val_accuracy: 0.8806\n",
      "Epoch 11/25\n",
      "1719/1719 [==============================] - 5s 3ms/step - loss: 0.2566 - accuracy: 0.9086 - val_loss: 0.3261 - val_accuracy: 0.8804\n",
      "Epoch 12/25\n",
      "1719/1719 [==============================] - 5s 3ms/step - loss: 0.2508 - accuracy: 0.9103 - val_loss: 0.3242 - val_accuracy: 0.8856\n",
      "Epoch 13/25\n",
      "1719/1719 [==============================] - 5s 3ms/step - loss: 0.2460 - accuracy: 0.9119 - val_loss: 0.3203 - val_accuracy: 0.8846\n",
      "Epoch 14/25\n",
      "1719/1719 [==============================] - 5s 3ms/step - loss: 0.2409 - accuracy: 0.9149 - val_loss: 0.3189 - val_accuracy: 0.8850\n",
      "Epoch 15/25\n",
      "1719/1719 [==============================] - 6s 3ms/step - loss: 0.2369 - accuracy: 0.9160 - val_loss: 0.3205 - val_accuracy: 0.8832\n",
      "Epoch 16/25\n",
      "1719/1719 [==============================] - 6s 3ms/step - loss: 0.2324 - accuracy: 0.9168 - val_loss: 0.3196 - val_accuracy: 0.8838\n",
      "Epoch 17/25\n",
      "1719/1719 [==============================] - 5s 3ms/step - loss: 0.2288 - accuracy: 0.9197 - val_loss: 0.3259 - val_accuracy: 0.8808\n",
      "Epoch 18/25\n",
      "1719/1719 [==============================] - 5s 3ms/step - loss: 0.2255 - accuracy: 0.9201 - val_loss: 0.3181 - val_accuracy: 0.8870\n",
      "Epoch 19/25\n",
      "1719/1719 [==============================] - 5s 3ms/step - loss: 0.2217 - accuracy: 0.9221 - val_loss: 0.3231 - val_accuracy: 0.8858\n",
      "Epoch 20/25\n",
      "1719/1719 [==============================] - 5s 3ms/step - loss: 0.2187 - accuracy: 0.9240 - val_loss: 0.3223 - val_accuracy: 0.8850\n",
      "Epoch 21/25\n",
      "1719/1719 [==============================] - 5s 3ms/step - loss: 0.2161 - accuracy: 0.9239 - val_loss: 0.3140 - val_accuracy: 0.8842\n",
      "Epoch 22/25\n",
      "1719/1719 [==============================] - 5s 3ms/step - loss: 0.2132 - accuracy: 0.9256 - val_loss: 0.3145 - val_accuracy: 0.8896\n",
      "Epoch 23/25\n",
      "1719/1719 [==============================] - 6s 3ms/step - loss: 0.2103 - accuracy: 0.9263 - val_loss: 0.3130 - val_accuracy: 0.8862\n",
      "Epoch 24/25\n",
      "1719/1719 [==============================] - 5s 3ms/step - loss: 0.2077 - accuracy: 0.9278 - val_loss: 0.3151 - val_accuracy: 0.8890\n",
      "Epoch 25/25\n",
      "1719/1719 [==============================] - 6s 3ms/step - loss: 0.2054 - accuracy: 0.9283 - val_loss: 0.3150 - val_accuracy: 0.8890\n"
     ]
    }
   ],
   "source": [
    "n_epochs = 25\n",
    "history = model.fit(X_train_scaled, y_train, epochs=n_epochs, validation_data=(X_valid_scaled, y_valid))"
   ]
  },
  {
   "cell_type": "code",
   "execution_count": 72,
   "id": "30ad3ff1-d453-4c0f-adc1-add9599efcbd",
   "metadata": {
    "scrolled": true,
    "tags": []
   },
   "outputs": [
    {
     "data": {
      "image/png": "[encoded data removed]",
      "text/plain": [
       "<Figure size 432x288 with 1 Axes>"
      ]
     },
     "metadata": {
      "needs_background": "light"
     },
     "output_type": "display_data"
    }
   ],
   "source": [
    "import math\n",
    "\n",
    "learning_rate = 0.01\n",
    "decay = 1e-4\n",
    "batch_size = 32\n",
    "n_steps_per_epoch = math.ceil(len(X_train) / batch_size)\n",
    "epochs = np.arange(n_epochs)\n",
    "lrs = learning_rate / (1 + decay * epochs * n_steps_per_epoch)\n",
    "plt.plot(epochs, lrs, \"o-\")\n",
    "plt.axis([0, n_epochs - 1, 0, 0.01])\n",
    "plt.xlabel(\"Epoch\")\n",
    "plt.ylabel(\"Learning Rate\")\n",
    "plt.title(\"Power Scheduling\", fontsize=14)\n",
    "plt.grid(True)\n",
    "plt.show()"
   ]
  },
  {
   "cell_type": "markdown",
   "id": "152ea458-a5cd-4d4e-9f9f-41c1f5531c4c",
   "metadata": {
    "tags": []
   },
   "source": [
    "### 지수 기반 스케줄링"
   ]
  },
  {
   "cell_type": "markdown",
   "id": "83c0f2fd-3780-46c2-8702-9adb0e018b4f",
   "metadata": {},
   "source": [
    "```lr = lr0 * 0.1**(epoch / s)```"
   ]
  },
  {
   "cell_type": "code",
   "execution_count": 73,
   "id": "a3e75cb7-dcaa-4455-9f99-ae540192f14e",
   "metadata": {
    "scrolled": true
   },
   "outputs": [],
   "source": [
    "def exponential_decay_fn(epoch):\n",
    "    return 0.01 * 0.1 ** (epoch / 20)"
   ]
  },
  {
   "cell_type": "code",
   "execution_count": 74,
   "id": "dcdad474-f606-4d6d-b785-622cc49781cc",
   "metadata": {
    "scrolled": true
   },
   "outputs": [],
   "source": [
    "def exponential_decay(lr0, s):\n",
    "    def exponential_decay_fn(epoch):\n",
    "        return lr0 * 0.1 ** (epoch / s)\n",
    "\n",
    "    return exponential_decay_fn\n",
    "\n",
    "\n",
    "exponential_decay_fn = exponential_decay(lr0=0.01, s=20)"
   ]
  },
  {
   "cell_type": "code",
   "execution_count": 75,
   "id": "881d775c-667b-41c8-b50b-c1a3a6276651",
   "metadata": {
    "scrolled": true
   },
   "outputs": [],
   "source": [
    "model = keras.models.Sequential(\n",
    "    [\n",
    "        keras.layers.Flatten(input_shape=[28, 28]),\n",
    "        keras.layers.Dense(300, activation=\"selu\", kernel_initializer=\"lecun_normal\"),\n",
    "        keras.layers.Dense(100, activation=\"selu\", kernel_initializer=\"lecun_normal\"),\n",
    "        keras.layers.Dense(10, activation=\"softmax\")\n",
    "    ]\n",
    ")\n",
    "model.compile(loss=\"sparse_categorical_crossentropy\", optimizer=\"nadam\", metrics=[\"accuracy\"])\n",
    "n_epochs = 25"
   ]
  },
  {
   "cell_type": "code",
   "execution_count": 76,
   "id": "c32a831a-b257-4c7b-b6f8-9a5c79e67234",
   "metadata": {
    "scrolled": true
   },
   "outputs": [
    {
     "name": "stdout",
     "output_type": "stream",
     "text": [
      "Epoch 1/25\n",
      "1719/1719 [==============================] - 11s 6ms/step - loss: 0.8567 - accuracy: 0.7545 - val_loss: 0.8291 - val_accuracy: 0.7654 - lr: 0.0100\n",
      "Epoch 2/25\n",
      "1719/1719 [==============================] - 10s 6ms/step - loss: 0.7073 - accuracy: 0.7903 - val_loss: 0.8126 - val_accuracy: 0.7936 - lr: 0.0089\n",
      "Epoch 3/25\n",
      "1719/1719 [==============================] - 11s 6ms/step - loss: 0.6118 - accuracy: 0.8132 - val_loss: 0.6398 - val_accuracy: 0.8200 - lr: 0.0079\n",
      "Epoch 4/25\n",
      "1719/1719 [==============================] - 11s 6ms/step - loss: 0.5426 - accuracy: 0.8320 - val_loss: 0.6423 - val_accuracy: 0.8260 - lr: 0.0071\n",
      "Epoch 5/25\n",
      "1719/1719 [==============================] - 11s 6ms/step - loss: 0.4845 - accuracy: 0.8481 - val_loss: 0.6129 - val_accuracy: 0.8258 - lr: 0.0063\n",
      "Epoch 6/25\n",
      "1719/1719 [==============================] - 11s 6ms/step - loss: 0.4424 - accuracy: 0.8606 - val_loss: 0.5649 - val_accuracy: 0.8530 - lr: 0.0056\n",
      "Epoch 7/25\n",
      "1719/1719 [==============================] - 10s 6ms/step - loss: 0.4071 - accuracy: 0.8690 - val_loss: 0.4874 - val_accuracy: 0.8650 - lr: 0.0050\n",
      "Epoch 8/25\n",
      "1719/1719 [==============================] - 10s 6ms/step - loss: 0.3827 - accuracy: 0.8755 - val_loss: 0.4923 - val_accuracy: 0.8638 - lr: 0.0045\n",
      "Epoch 9/25\n",
      "1719/1719 [==============================] - 11s 6ms/step - loss: 0.3486 - accuracy: 0.8836 - val_loss: 0.5147 - val_accuracy: 0.8652 - lr: 0.0040\n",
      "Epoch 10/25\n",
      "1719/1719 [==============================] - 10s 6ms/step - loss: 0.3297 - accuracy: 0.8917 - val_loss: 0.4572 - val_accuracy: 0.8770 - lr: 0.0035\n",
      "Epoch 11/25\n",
      "1719/1719 [==============================] - 11s 6ms/step - loss: 0.3030 - accuracy: 0.8982 - val_loss: 0.4246 - val_accuracy: 0.8784 - lr: 0.0032\n",
      "Epoch 12/25\n",
      "1719/1719 [==============================] - 11s 6ms/step - loss: 0.2763 - accuracy: 0.9067 - val_loss: 0.4470 - val_accuracy: 0.8812 - lr: 0.0028\n",
      "Epoch 13/25\n",
      "1719/1719 [==============================] - 11s 6ms/step - loss: 0.2572 - accuracy: 0.9117 - val_loss: 0.4912 - val_accuracy: 0.8798 - lr: 0.0025\n",
      "Epoch 14/25\n",
      "1719/1719 [==============================] - 11s 6ms/step - loss: 0.2400 - accuracy: 0.9172 - val_loss: 0.4856 - val_accuracy: 0.8802 - lr: 0.0022\n",
      "Epoch 15/25\n",
      "1719/1719 [==============================] - 11s 6ms/step - loss: 0.2218 - accuracy: 0.9229 - val_loss: 0.4472 - val_accuracy: 0.8804 - lr: 0.0020\n",
      "Epoch 16/25\n",
      "1719/1719 [==============================] - 11s 6ms/step - loss: 0.2087 - accuracy: 0.9280 - val_loss: 0.4658 - val_accuracy: 0.8884 - lr: 0.0018\n",
      "Epoch 17/25\n",
      "1719/1719 [==============================] - 11s 6ms/step - loss: 0.1964 - accuracy: 0.9325 - val_loss: 0.4940 - val_accuracy: 0.8868 - lr: 0.0016\n",
      "Epoch 18/25\n",
      "1719/1719 [==============================] - 11s 6ms/step - loss: 0.1800 - accuracy: 0.9377 - val_loss: 0.4830 - val_accuracy: 0.8902 - lr: 0.0014\n",
      "Epoch 19/25\n",
      "1719/1719 [==============================] - 11s 6ms/step - loss: 0.1688 - accuracy: 0.9416 - val_loss: 0.5207 - val_accuracy: 0.8884 - lr: 0.0013\n",
      "Epoch 20/25\n",
      "1719/1719 [==============================] - 11s 6ms/step - loss: 0.1586 - accuracy: 0.9456 - val_loss: 0.5542 - val_accuracy: 0.8888 - lr: 0.0011\n",
      "Epoch 21/25\n",
      "1719/1719 [==============================] - 10s 6ms/step - loss: 0.1463 - accuracy: 0.9501 - val_loss: 0.5346 - val_accuracy: 0.8890 - lr: 0.0010\n",
      "Epoch 22/25\n",
      "1719/1719 [==============================] - 11s 6ms/step - loss: 0.1379 - accuracy: 0.9532 - val_loss: 0.5643 - val_accuracy: 0.8906 - lr: 8.9125e-04\n",
      "Epoch 23/25\n",
      "1719/1719 [==============================] - 10s 6ms/step - loss: 0.1285 - accuracy: 0.9564 - val_loss: 0.5864 - val_accuracy: 0.8824 - lr: 7.9433e-04\n",
      "Epoch 24/25\n",
      "1719/1719 [==============================] - 10s 6ms/step - loss: 0.1195 - accuracy: 0.9592 - val_loss: 0.5637 - val_accuracy: 0.8896 - lr: 7.0795e-04\n",
      "Epoch 25/25\n",
      "1719/1719 [==============================] - 10s 6ms/step - loss: 0.1122 - accuracy: 0.9629 - val_loss: 0.6271 - val_accuracy: 0.8890 - lr: 6.3096e-04\n"
     ]
    }
   ],
   "source": [
    "lr_scheduler = keras.callbacks.LearningRateScheduler(exponential_decay_fn)\n",
    "history = model.fit(\n",
    "    X_train_scaled, y_train, epochs=n_epochs, validation_data=(X_valid_scaled, y_valid), callbacks=[lr_scheduler]\n",
    ")"
   ]
  },
  {
   "cell_type": "code",
   "execution_count": 77,
   "id": "1aaee461-77f1-4098-8d83-bdf964e4bb3a",
   "metadata": {
    "scrolled": true,
    "tags": []
   },
   "outputs": [
    {
     "data": {
      "image/png": "[encoded data removed]",
      "text/plain": [
       "<Figure size 432x288 with 1 Axes>"
      ]
     },
     "metadata": {
      "needs_background": "light"
     },
     "output_type": "display_data"
    }
   ],
   "source": [
    "plt.plot(history.epoch, history.history[\"lr\"], \"o-\")\n",
    "plt.axis([0, n_epochs - 1, 0, 0.011])\n",
    "plt.xlabel(\"Epoch\")\n",
    "plt.ylabel(\"Learning Rate\")\n",
    "plt.title(\"Exponential Scheduling\", fontsize=14)\n",
    "plt.grid(True)\n",
    "plt.show()"
   ]
  },
  {
   "cell_type": "markdown",
   "id": "9c8ac302-91e0-4ef1-8cd0-8c1fc6bc293d",
   "metadata": {},
   "source": [
    "이 스케줄 함수는 두 번째 매개변수로 현재 학습률을 받을 수 있다:"
   ]
  },
  {
   "cell_type": "code",
   "execution_count": 78,
   "id": "c4bd1a3b-4a21-42af-b44b-1a86be58597c",
   "metadata": {
    "scrolled": true
   },
   "outputs": [],
   "source": [
    "def exponential_decay_fn(epoch, lr):\n",
    "    return lr * 0.1 ** (1 / 20)"
   ]
  },
  {
   "cell_type": "markdown",
   "id": "2b55eb3e-4ace-450b-8cc3-30c652267677",
   "metadata": {},
   "source": [
    "에포크가 아니라 반복마다 학습률을 업데이트하려면 사용자 정의 콜백 클래스를 작성해야 한다:"
   ]
  },
  {
   "cell_type": "code",
   "execution_count": 79,
   "id": "fce13a21-be42-4860-bbb5-f1266d982ad0",
   "metadata": {
    "scrolled": true
   },
   "outputs": [
    {
     "name": "stdout",
     "output_type": "stream",
     "text": [
      "Epoch 1/25\n",
      "1719/1719 [==============================] - 12s 7ms/step - loss: 0.7895 - accuracy: 0.7696 - val_loss: 0.6371 - val_accuracy: 0.8132 - lr: 0.0089\n",
      "Epoch 2/25\n",
      "1719/1719 [==============================] - 11s 6ms/step - loss: 0.6297 - accuracy: 0.8058 - val_loss: 0.7267 - val_accuracy: 0.7492 - lr: 0.0079\n",
      "Epoch 3/25\n",
      "1719/1719 [==============================] - 12s 7ms/step - loss: 0.5626 - accuracy: 0.8277 - val_loss: 0.5640 - val_accuracy: 0.8232 - lr: 0.0071\n",
      "Epoch 4/25\n",
      "1719/1719 [==============================] - 12s 7ms/step - loss: 0.5163 - accuracy: 0.8409 - val_loss: 0.5995 - val_accuracy: 0.8350 - lr: 0.0063\n",
      "Epoch 5/25\n",
      "1719/1719 [==============================] - 12s 7ms/step - loss: 0.4528 - accuracy: 0.8576 - val_loss: 0.4872 - val_accuracy: 0.8504 - lr: 0.0056\n",
      "Epoch 6/25\n",
      "1719/1719 [==============================] - 12s 7ms/step - loss: 0.4326 - accuracy: 0.8659 - val_loss: 0.5164 - val_accuracy: 0.8510 - lr: 0.0050\n",
      "Epoch 7/25\n",
      "1719/1719 [==============================] - 12s 7ms/step - loss: 0.3923 - accuracy: 0.8740 - val_loss: 0.4628 - val_accuracy: 0.8680 - lr: 0.0045\n",
      "Epoch 8/25\n",
      "1719/1719 [==============================] - 12s 7ms/step - loss: 0.3450 - accuracy: 0.8855 - val_loss: 0.4393 - val_accuracy: 0.8716 - lr: 0.0040\n",
      "Epoch 9/25\n",
      "1719/1719 [==============================] - 12s 7ms/step - loss: 0.3258 - accuracy: 0.8911 - val_loss: 0.4920 - val_accuracy: 0.8694 - lr: 0.0035\n",
      "Epoch 10/25\n",
      "1719/1719 [==============================] - 12s 7ms/step - loss: 0.3053 - accuracy: 0.8975 - val_loss: 0.4203 - val_accuracy: 0.8808 - lr: 0.0032\n",
      "Epoch 11/25\n",
      "1719/1719 [==============================] - 12s 7ms/step - loss: 0.2793 - accuracy: 0.9047 - val_loss: 0.4918 - val_accuracy: 0.8682 - lr: 0.0028\n",
      "Epoch 12/25\n",
      "1719/1719 [==============================] - 12s 7ms/step - loss: 0.2606 - accuracy: 0.9105 - val_loss: 0.4575 - val_accuracy: 0.8768 - lr: 0.0025\n",
      "Epoch 13/25\n",
      "1719/1719 [==============================] - 12s 7ms/step - loss: 0.2456 - accuracy: 0.9166 - val_loss: 0.4296 - val_accuracy: 0.8796 - lr: 0.0022\n",
      "Epoch 14/25\n",
      "1719/1719 [==============================] - 12s 7ms/step - loss: 0.2218 - accuracy: 0.9242 - val_loss: 0.4676 - val_accuracy: 0.8760 - lr: 0.0020\n",
      "Epoch 15/25\n",
      "1719/1719 [==============================] - 12s 7ms/step - loss: 0.2060 - accuracy: 0.9288 - val_loss: 0.4742 - val_accuracy: 0.8802 - lr: 0.0018\n",
      "Epoch 16/25\n",
      "1719/1719 [==============================] - 12s 7ms/step - loss: 0.1950 - accuracy: 0.9339 - val_loss: 0.4758 - val_accuracy: 0.8856 - lr: 0.0016\n",
      "Epoch 17/25\n",
      "1719/1719 [==============================] - 12s 7ms/step - loss: 0.1794 - accuracy: 0.9384 - val_loss: 0.4677 - val_accuracy: 0.8860 - lr: 0.0014\n",
      "Epoch 18/25\n",
      "1719/1719 [==============================] - 12s 7ms/step - loss: 0.1609 - accuracy: 0.9445 - val_loss: 0.4877 - val_accuracy: 0.8886 - lr: 0.0013\n",
      "Epoch 19/25\n",
      "1719/1719 [==============================] - 12s 7ms/step - loss: 0.1487 - accuracy: 0.9498 - val_loss: 0.5003 - val_accuracy: 0.8904 - lr: 0.0011\n",
      "Epoch 20/25\n",
      "1719/1719 [==============================] - 11s 7ms/step - loss: 0.1383 - accuracy: 0.9538 - val_loss: 0.5598 - val_accuracy: 0.8904 - lr: 9.9967e-04\n",
      "Epoch 21/25\n",
      "1719/1719 [==============================] - 12s 7ms/step - loss: 0.1295 - accuracy: 0.9571 - val_loss: 0.5359 - val_accuracy: 0.8896 - lr: 8.9094e-04\n",
      "Epoch 22/25\n",
      "1719/1719 [==============================] - 12s 7ms/step - loss: 0.1210 - accuracy: 0.9610 - val_loss: 0.5724 - val_accuracy: 0.8864 - lr: 7.9404e-04\n",
      "Epoch 23/25\n",
      "1719/1719 [==============================] - 11s 7ms/step - loss: 0.1110 - accuracy: 0.9633 - val_loss: 0.5846 - val_accuracy: 0.8884 - lr: 7.0767e-04\n",
      "Epoch 24/25\n",
      "1719/1719 [==============================] - 11s 7ms/step - loss: 0.1044 - accuracy: 0.9664 - val_loss: 0.6220 - val_accuracy: 0.8860 - lr: 6.3071e-04\n",
      "Epoch 25/25\n",
      "1719/1719 [==============================] - 11s 7ms/step - loss: 0.0963 - accuracy: 0.9693 - val_loss: 0.6686 - val_accuracy: 0.8920 - lr: 5.6211e-04\n"
     ]
    }
   ],
   "source": [
    "K = keras.backend\n",
    "\n",
    "\n",
    "class ExponentialDecay(keras.callbacks.Callback):\n",
    "    def __init__(self, s=40000):\n",
    "        super().__init__()\n",
    "        self.s = s\n",
    "\n",
    "    def on_batch_begin(self, batch, logs=None):\n",
    "        # 노트: 에포크마다 `batch` 매개변수가 재설정된다\n",
    "        lr = K.get_value(self.model.optimizer.lr)\n",
    "        K.set_value(self.model.optimizer.lr, lr * 0.1 ** (1 / self.s))\n",
    "\n",
    "    def on_epoch_end(self, epoch, logs=None):\n",
    "        logs = logs or {}\n",
    "        logs[\"lr\"] = K.get_value(self.model.optimizer.lr)\n",
    "\n",
    "\n",
    "model = keras.models.Sequential(\n",
    "    [\n",
    "        keras.layers.Flatten(input_shape=[28, 28]),\n",
    "        keras.layers.Dense(300, activation=\"selu\", kernel_initializer=\"lecun_normal\"),\n",
    "        keras.layers.Dense(100, activation=\"selu\", kernel_initializer=\"lecun_normal\"),\n",
    "        keras.layers.Dense(10, activation=\"softmax\")\n",
    "    ]\n",
    ")\n",
    "lr0 = 0.01\n",
    "optimizer = keras.optimizers.Nadam(learning_rate=lr0)\n",
    "model.compile(loss=\"sparse_categorical_crossentropy\", optimizer=optimizer, metrics=[\"accuracy\"])\n",
    "n_epochs = 25\n",
    "s = 20 * len(X_train) // 32  # 20 에포크 동안 스텝 횟수 (배치 크기 = 32)\n",
    "exp_decay = ExponentialDecay(s)\n",
    "history = model.fit(\n",
    "    X_train_scaled, y_train, epochs=n_epochs, validation_data=(X_valid_scaled, y_valid), callbacks=[exp_decay]\n",
    ")"
   ]
  },
  {
   "cell_type": "code",
   "execution_count": 80,
   "id": "217f50a1-5c53-4fae-9e4f-e9aee4519028",
   "metadata": {
    "scrolled": true,
    "tags": []
   },
   "outputs": [],
   "source": [
    "n_steps = n_epochs * len(X_train) // 32\n",
    "steps = np.arange(n_steps)\n",
    "lrs = lr0 * 0.1 ** (steps / s)"
   ]
  },
  {
   "cell_type": "code",
   "execution_count": 81,
   "id": "74e60567-cc36-4ac0-845e-1df8ec86b700",
   "metadata": {
    "scrolled": true
   },
   "outputs": [
    {
     "data": {
      "image/png": "[encoded data removed]",
      "text/plain": [
       "<Figure size 432x288 with 1 Axes>"
      ]
     },
     "metadata": {
      "needs_background": "light"
     },
     "output_type": "display_data"
    }
   ],
   "source": [
    "plt.plot(steps, lrs, '-', linewidth=2)\n",
    "plt.axis([0, n_steps - 1, 0, lr0 * 1.1])\n",
    "plt.xlabel(\"Batch\")\n",
    "plt.ylabel(\"Learning Rate\")\n",
    "plt.title(\"Exponential Scheduling (per batch)\", fontsize=14)\n",
    "plt.grid(True)\n",
    "plt.show()"
   ]
  },
  {
   "cell_type": "markdown",
   "id": "1aec5ebe-63e0-4abf-b7d9-b016a64a4379",
   "metadata": {},
   "source": [
    "### 기간별 고정 스케줄링"
   ]
  },
  {
   "cell_type": "code",
   "execution_count": 82,
   "id": "601f195c-a0f3-4fed-8823-2d0a8e1311c9",
   "metadata": {
    "scrolled": true
   },
   "outputs": [],
   "source": [
    "def piecewise_constant_fn(epoch):\n",
    "    if epoch < 5:\n",
    "        return 0.01\n",
    "    elif epoch < 15:\n",
    "        return 0.005\n",
    "    else:\n",
    "        return 0.001"
   ]
  },
  {
   "cell_type": "code",
   "execution_count": 83,
   "id": "b10a03c1-f309-4b1d-9f87-8e8694bbe911",
   "metadata": {
    "scrolled": true
   },
   "outputs": [],
   "source": [
    "def piecewise_constant(boundaries, values):\n",
    "    boundaries = np.array([0] + boundaries)\n",
    "    values = np.array(values)\n",
    "\n",
    "    def piecewise_constant_fn(epoch):\n",
    "        return values[np.argmax(boundaries > epoch) - 1]\n",
    "\n",
    "    return piecewise_constant_fn\n",
    "\n",
    "\n",
    "piecewise_constant_fn = piecewise_constant([5, 15], [0.01, 0.005, 0.001])"
   ]
  },
  {
   "cell_type": "code",
   "execution_count": 84,
   "id": "20bb3a14-d760-403f-b6f4-9fb6280de089",
   "metadata": {
    "scrolled": true
   },
   "outputs": [
    {
     "name": "stdout",
     "output_type": "stream",
     "text": [
      "Epoch 1/25\n",
      "1719/1719 [==============================] - 11s 6ms/step - loss: 0.8150 - accuracy: 0.7666 - val_loss: 0.6827 - val_accuracy: 0.7830 - lr: 0.0100\n",
      "Epoch 2/25\n",
      "1719/1719 [==============================] - 11s 6ms/step - loss: 0.8609 - accuracy: 0.7597 - val_loss: 1.2797 - val_accuracy: 0.7634 - lr: 0.0100\n",
      "Epoch 3/25\n",
      "1719/1719 [==============================] - 10s 6ms/step - loss: 0.9939 - accuracy: 0.6850 - val_loss: 1.0437 - val_accuracy: 0.5912 - lr: 0.0100\n",
      "Epoch 4/25\n",
      "1719/1719 [==============================] - 11s 6ms/step - loss: 0.9186 - accuracy: 0.7024 - val_loss: 0.9011 - val_accuracy: 0.6734 - lr: 0.0100\n",
      "Epoch 5/25\n",
      "1719/1719 [==============================] - 11s 6ms/step - loss: 0.9480 - accuracy: 0.6792 - val_loss: 0.9802 - val_accuracy: 0.6432 - lr: 0.0100\n",
      "Epoch 6/25\n",
      "1719/1719 [==============================] - 11s 6ms/step - loss: 0.6428 - accuracy: 0.7966 - val_loss: 0.6562 - val_accuracy: 0.8320 - lr: 0.0050\n",
      "Epoch 7/25\n",
      "1719/1719 [==============================] - 11s 6ms/step - loss: 0.5471 - accuracy: 0.8371 - val_loss: 0.5951 - val_accuracy: 0.8446 - lr: 0.0050\n",
      "Epoch 8/25\n",
      "1719/1719 [==============================] - 10s 6ms/step - loss: 0.5108 - accuracy: 0.8493 - val_loss: 0.5696 - val_accuracy: 0.8486 - lr: 0.0050\n",
      "Epoch 9/25\n",
      "1719/1719 [==============================] - 10s 6ms/step - loss: 0.5174 - accuracy: 0.8517 - val_loss: 0.6208 - val_accuracy: 0.8318 - lr: 0.0050\n",
      "Epoch 10/25\n",
      "1719/1719 [==============================] - 9s 5ms/step - loss: 0.4766 - accuracy: 0.8575 - val_loss: 0.6263 - val_accuracy: 0.8442 - lr: 0.0050\n",
      "Epoch 11/25\n",
      "1719/1719 [==============================] - 9s 5ms/step - loss: 0.4846 - accuracy: 0.8598 - val_loss: 0.6184 - val_accuracy: 0.8400 - lr: 0.0050\n",
      "Epoch 12/25\n",
      "1719/1719 [==============================] - 10s 6ms/step - loss: 0.4656 - accuracy: 0.8651 - val_loss: 0.6305 - val_accuracy: 0.8434 - lr: 0.0050\n",
      "Epoch 13/25\n",
      "1719/1719 [==============================] - 10s 6ms/step - loss: 0.4770 - accuracy: 0.8653 - val_loss: 0.7147 - val_accuracy: 0.8392 - lr: 0.0050\n",
      "Epoch 14/25\n",
      "1719/1719 [==============================] - 10s 6ms/step - loss: 0.4457 - accuracy: 0.8685 - val_loss: 0.5588 - val_accuracy: 0.8644 - lr: 0.0050\n",
      "Epoch 15/25\n",
      "1719/1719 [==============================] - 11s 6ms/step - loss: 0.4390 - accuracy: 0.8749 - val_loss: 0.7264 - val_accuracy: 0.8616 - lr: 0.0050\n",
      "Epoch 16/25\n",
      "1719/1719 [==============================] - 10s 6ms/step - loss: 0.3158 - accuracy: 0.9025 - val_loss: 0.4980 - val_accuracy: 0.8778 - lr: 0.0010\n",
      "Epoch 17/25\n",
      "1719/1719 [==============================] - 11s 6ms/step - loss: 0.2846 - accuracy: 0.9093 - val_loss: 0.4962 - val_accuracy: 0.8754 - lr: 0.0010\n",
      "Epoch 18/25\n",
      "1719/1719 [==============================] - 11s 6ms/step - loss: 0.2698 - accuracy: 0.9138 - val_loss: 0.5028 - val_accuracy: 0.8776 - lr: 0.0010\n",
      "Epoch 19/25\n",
      "1719/1719 [==============================] - 10s 6ms/step - loss: 0.2591 - accuracy: 0.9175 - val_loss: 0.5239 - val_accuracy: 0.8826 - lr: 0.0010\n",
      "Epoch 20/25\n",
      "1719/1719 [==============================] - 10s 6ms/step - loss: 0.2490 - accuracy: 0.9195 - val_loss: 0.5135 - val_accuracy: 0.8838 - lr: 0.0010\n",
      "Epoch 21/25\n",
      "1719/1719 [==============================] - 9s 5ms/step - loss: 0.2396 - accuracy: 0.9227 - val_loss: 0.5455 - val_accuracy: 0.8698 - lr: 0.0010\n",
      "Epoch 22/25\n",
      "1719/1719 [==============================] - 9s 5ms/step - loss: 0.2333 - accuracy: 0.9257 - val_loss: 0.5364 - val_accuracy: 0.8800 - lr: 0.0010\n",
      "Epoch 23/25\n",
      "1719/1719 [==============================] - 9s 5ms/step - loss: 0.2239 - accuracy: 0.9286 - val_loss: 0.5563 - val_accuracy: 0.8800 - lr: 0.0010\n",
      "Epoch 24/25\n",
      "1719/1719 [==============================] - 9s 5ms/step - loss: 0.2222 - accuracy: 0.9309 - val_loss: 0.5453 - val_accuracy: 0.8834 - lr: 0.0010\n",
      "Epoch 25/25\n",
      "1719/1719 [==============================] - 9s 5ms/step - loss: 0.2151 - accuracy: 0.9321 - val_loss: 0.5544 - val_accuracy: 0.8830 - lr: 0.0010\n"
     ]
    }
   ],
   "source": [
    "lr_scheduler = keras.callbacks.LearningRateScheduler(piecewise_constant_fn)\n",
    "model = keras.models.Sequential(\n",
    "    [\n",
    "        keras.layers.Flatten(input_shape=[28, 28]),\n",
    "        keras.layers.Dense(300, activation=\"selu\", kernel_initializer=\"lecun_normal\"),\n",
    "        keras.layers.Dense(100, activation=\"selu\", kernel_initializer=\"lecun_normal\"),\n",
    "        keras.layers.Dense(10, activation=\"softmax\")\n",
    "    ]\n",
    ")\n",
    "model.compile(loss=\"sparse_categorical_crossentropy\", optimizer=\"nadam\", metrics=[\"accuracy\"])\n",
    "n_epochs = 25\n",
    "history = model.fit(\n",
    "    X_train_scaled, y_train, epochs=n_epochs, validation_data=(X_valid_scaled, y_valid), callbacks=[lr_scheduler]\n",
    ")"
   ]
  },
  {
   "cell_type": "code",
   "execution_count": 85,
   "id": "950448ad-faf1-42d9-a7d4-eca0279a72ab",
   "metadata": {
    "scrolled": true,
    "tags": []
   },
   "outputs": [
    {
     "data": {
      "image/png": "[encoded data removed]",
      "text/plain": [
       "<Figure size 432x288 with 1 Axes>"
      ]
     },
     "metadata": {
      "needs_background": "light"
     },
     "output_type": "display_data"
    }
   ],
   "source": [
    "plt.plot(history.epoch, [piecewise_constant_fn(epoch) for epoch in history.epoch], \"o-\")\n",
    "plt.axis([0, n_epochs - 1, 0, 0.011])\n",
    "plt.xlabel(\"Epoch\")\n",
    "plt.ylabel(\"Learning Rate\")\n",
    "plt.title(\"Piecewise Constant Scheduling\", fontsize=14)\n",
    "plt.grid(True)\n",
    "plt.show()"
   ]
  },
  {
   "cell_type": "code",
   "execution_count": 86,
   "id": "6f5f21b3-3db2-4fb3-8dba-6b5554cc4b88",
   "metadata": {
    "scrolled": true
   },
   "outputs": [
    {
     "name": "stdout",
     "output_type": "stream",
     "text": [
      "Epoch 1/25\n",
      "1719/1719 [==============================] - 5s 3ms/step - loss: 0.5926 - accuracy: 0.8071 - val_loss: 0.5480 - val_accuracy: 0.8314 - lr: 0.0200\n",
      "Epoch 2/25\n",
      "1719/1719 [==============================] - 5s 3ms/step - loss: 0.5063 - accuracy: 0.8365 - val_loss: 0.5032 - val_accuracy: 0.8406 - lr: 0.0200\n",
      "Epoch 3/25\n",
      "1719/1719 [==============================] - 5s 3ms/step - loss: 0.4829 - accuracy: 0.8483 - val_loss: 0.5777 - val_accuracy: 0.8420 - lr: 0.0200\n",
      "Epoch 4/25\n",
      "1719/1719 [==============================] - 5s 3ms/step - loss: 0.4947 - accuracy: 0.8486 - val_loss: 0.5080 - val_accuracy: 0.8442 - lr: 0.0200\n",
      "Epoch 5/25\n",
      "1719/1719 [==============================] - 5s 3ms/step - loss: 0.4918 - accuracy: 0.8539 - val_loss: 0.5540 - val_accuracy: 0.8260 - lr: 0.0200\n",
      "Epoch 6/25\n",
      "1719/1719 [==============================] - 6s 3ms/step - loss: 0.4943 - accuracy: 0.8572 - val_loss: 0.6887 - val_accuracy: 0.8384 - lr: 0.0200\n",
      "Epoch 7/25\n",
      "1719/1719 [==============================] - 6s 3ms/step - loss: 0.4870 - accuracy: 0.8571 - val_loss: 0.6392 - val_accuracy: 0.8394 - lr: 0.0200\n",
      "Epoch 8/25\n",
      "1719/1719 [==============================] - 6s 3ms/step - loss: 0.2956 - accuracy: 0.8965 - val_loss: 0.3927 - val_accuracy: 0.8760 - lr: 0.0100\n",
      "Epoch 9/25\n",
      "1719/1719 [==============================] - 6s 3ms/step - loss: 0.2489 - accuracy: 0.9083 - val_loss: 0.3904 - val_accuracy: 0.8882 - lr: 0.0100\n",
      "Epoch 10/25\n",
      "1719/1719 [==============================] - 6s 3ms/step - loss: 0.2232 - accuracy: 0.9169 - val_loss: 0.4324 - val_accuracy: 0.8740 - lr: 0.0100\n",
      "Epoch 11/25\n",
      "1719/1719 [==============================] - 6s 4ms/step - loss: 0.2085 - accuracy: 0.9220 - val_loss: 0.4558 - val_accuracy: 0.8684 - lr: 0.0100\n",
      "Epoch 12/25\n",
      "1719/1719 [==============================] - 5s 3ms/step - loss: 0.1987 - accuracy: 0.9254 - val_loss: 0.4433 - val_accuracy: 0.8864 - lr: 0.0100\n",
      "Epoch 13/25\n",
      "1719/1719 [==============================] - 5s 3ms/step - loss: 0.1881 - accuracy: 0.9284 - val_loss: 0.4222 - val_accuracy: 0.8836 - lr: 0.0100\n",
      "Epoch 14/25\n",
      "1719/1719 [==============================] - 5s 3ms/step - loss: 0.1736 - accuracy: 0.9338 - val_loss: 0.4491 - val_accuracy: 0.8918 - lr: 0.0100\n",
      "Epoch 15/25\n",
      "1719/1719 [==============================] - 5s 3ms/step - loss: 0.1200 - accuracy: 0.9525 - val_loss: 0.4444 - val_accuracy: 0.8928 - lr: 0.0050\n",
      "Epoch 16/25\n",
      "1719/1719 [==============================] - 5s 3ms/step - loss: 0.1054 - accuracy: 0.9589 - val_loss: 0.4519 - val_accuracy: 0.8920 - lr: 0.0050\n",
      "Epoch 17/25\n",
      "1719/1719 [==============================] - 5s 3ms/step - loss: 0.0976 - accuracy: 0.9611 - val_loss: 0.4679 - val_accuracy: 0.8954 - lr: 0.0050\n",
      "Epoch 18/25\n",
      "1719/1719 [==============================] - 5s 3ms/step - loss: 0.0902 - accuracy: 0.9650 - val_loss: 0.4803 - val_accuracy: 0.8964 - lr: 0.0050\n",
      "Epoch 19/25\n",
      "1719/1719 [==============================] - 5s 3ms/step - loss: 0.0830 - accuracy: 0.9678 - val_loss: 0.5070 - val_accuracy: 0.8904 - lr: 0.0050\n",
      "Epoch 20/25\n",
      "1719/1719 [==============================] - 5s 3ms/step - loss: 0.0643 - accuracy: 0.9749 - val_loss: 0.5056 - val_accuracy: 0.8948 - lr: 0.0025\n",
      "Epoch 21/25\n",
      "1719/1719 [==============================] - 6s 3ms/step - loss: 0.0580 - accuracy: 0.9787 - val_loss: 0.5270 - val_accuracy: 0.8926 - lr: 0.0025\n",
      "Epoch 22/25\n",
      "1719/1719 [==============================] - 6s 3ms/step - loss: 0.0543 - accuracy: 0.9802 - val_loss: 0.5265 - val_accuracy: 0.8966 - lr: 0.0025\n",
      "Epoch 23/25\n",
      "1719/1719 [==============================] - 5s 3ms/step - loss: 0.0512 - accuracy: 0.9813 - val_loss: 0.5396 - val_accuracy: 0.8946 - lr: 0.0025\n",
      "Epoch 24/25\n",
      "1719/1719 [==============================] - 5s 3ms/step - loss: 0.0478 - accuracy: 0.9831 - val_loss: 0.5584 - val_accuracy: 0.8936 - lr: 0.0025\n",
      "Epoch 25/25\n",
      "1719/1719 [==============================] - 5s 3ms/step - loss: 0.0406 - accuracy: 0.9866 - val_loss: 0.5673 - val_accuracy: 0.8946 - lr: 0.0012\n"
     ]
    }
   ],
   "source": [
    "lr_scheduler = keras.callbacks.ReduceLROnPlateau(factor=0.5, patience=5)\n",
    "model = keras.models.Sequential(\n",
    "    [\n",
    "        keras.layers.Flatten(input_shape=[28, 28]),\n",
    "        keras.layers.Dense(300, activation=\"selu\", kernel_initializer=\"lecun_normal\"),\n",
    "        keras.layers.Dense(100, activation=\"selu\", kernel_initializer=\"lecun_normal\"),\n",
    "        keras.layers.Dense(10, activation=\"softmax\")\n",
    "    ]\n",
    ")\n",
    "optimizer = keras.optimizers.SGD(learning_rate=0.02, momentum=0.9)\n",
    "model.compile(loss=\"sparse_categorical_crossentropy\", optimizer=optimizer, metrics=[\"accuracy\"])\n",
    "n_epochs = 25\n",
    "history = model.fit(\n",
    "    X_train_scaled, y_train, epochs=n_epochs, validation_data=(X_valid_scaled, y_valid), callbacks=[lr_scheduler]\n",
    ")"
   ]
  },
  {
   "cell_type": "code",
   "execution_count": 87,
   "id": "092c4d92-f8ea-48aa-858d-8112a1dba9db",
   "metadata": {
    "scrolled": true,
    "tags": []
   },
   "outputs": [
    {
     "data": {
      "image/png": "[encoded data removed]",
      "text/plain": [
       "<Figure size 432x288 with 2 Axes>"
      ]
     },
     "metadata": {
      "needs_background": "light"
     },
     "output_type": "display_data"
    }
   ],
   "source": [
    "plt.plot(history.epoch, history.history[\"lr\"], \"bo-\")\n",
    "plt.xlabel(\"Epoch\")\n",
    "plt.ylabel(\"Learning Rate\", color='b')\n",
    "plt.tick_params('y', colors='b')\n",
    "plt.gca().set_xlim(0, n_epochs - 1)\n",
    "plt.grid(True)\n",
    "ax2 = plt.gca().twinx()\n",
    "ax2.plot(history.epoch, history.history[\"val_loss\"], \"r^-\")\n",
    "ax2.set_ylabel(\"Validation Loss\", color='r')\n",
    "ax2.tick_params('y', colors='r')\n",
    "plt.title(\"Reduce LR on Plateau\", fontsize=14)\n",
    "plt.show()"
   ]
  },
  {
   "cell_type": "markdown",
   "id": "7632be89-d5ab-46fd-ac94-75323f26cbcc",
   "metadata": {},
   "source": [
    "### tf.keras 스케줄러"
   ]
  },
  {
   "cell_type": "code",
   "execution_count": 88,
   "id": "760e1961-1412-46e7-9a44-3f3934123d16",
   "metadata": {
    "scrolled": true
   },
   "outputs": [
    {
     "name": "stdout",
     "output_type": "stream",
     "text": [
      "Epoch 1/25\n",
      "1719/1719 [==============================] - 5s 3ms/step - loss: 0.4895 - accuracy: 0.8285 - val_loss: 0.4149 - val_accuracy: 0.8516\n",
      "Epoch 2/25\n",
      "1719/1719 [==============================] - 5s 3ms/step - loss: 0.3810 - accuracy: 0.8645 - val_loss: 0.3860 - val_accuracy: 0.8662\n",
      "Epoch 3/25\n",
      "1719/1719 [==============================] - 5s 3ms/step - loss: 0.3470 - accuracy: 0.8757 - val_loss: 0.3659 - val_accuracy: 0.8678\n",
      "Epoch 4/25\n",
      "1719/1719 [==============================] - 5s 3ms/step - loss: 0.3246 - accuracy: 0.8841 - val_loss: 0.3552 - val_accuracy: 0.8784\n",
      "Epoch 5/25\n",
      "1719/1719 [==============================] - 5s 3ms/step - loss: 0.3078 - accuracy: 0.8906 - val_loss: 0.3473 - val_accuracy: 0.8738\n",
      "Epoch 6/25\n",
      "1719/1719 [==============================] - 5s 3ms/step - loss: 0.2944 - accuracy: 0.8951 - val_loss: 0.3406 - val_accuracy: 0.8794\n",
      "Epoch 7/25\n",
      "1719/1719 [==============================] - 5s 3ms/step - loss: 0.2832 - accuracy: 0.8990 - val_loss: 0.3334 - val_accuracy: 0.8806\n",
      "Epoch 8/25\n",
      "1719/1719 [==============================] - 6s 3ms/step - loss: 0.2741 - accuracy: 0.9029 - val_loss: 0.3320 - val_accuracy: 0.8812\n",
      "Epoch 9/25\n",
      "1719/1719 [==============================] - 5s 3ms/step - loss: 0.2662 - accuracy: 0.9056 - val_loss: 0.3289 - val_accuracy: 0.8792\n",
      "Epoch 10/25\n",
      "1719/1719 [==============================] - 5s 3ms/step - loss: 0.2585 - accuracy: 0.9084 - val_loss: 0.3313 - val_accuracy: 0.8854\n",
      "Epoch 11/25\n",
      "1719/1719 [==============================] - 5s 3ms/step - loss: 0.2528 - accuracy: 0.9107 - val_loss: 0.3267 - val_accuracy: 0.8860\n",
      "Epoch 12/25\n",
      "1719/1719 [==============================] - 6s 3ms/step - loss: 0.2477 - accuracy: 0.9120 - val_loss: 0.3281 - val_accuracy: 0.8844\n",
      "Epoch 13/25\n",
      "1719/1719 [==============================] - 5s 3ms/step - loss: 0.2431 - accuracy: 0.9149 - val_loss: 0.3229 - val_accuracy: 0.8856\n",
      "Epoch 14/25\n",
      "1719/1719 [==============================] - 5s 3ms/step - loss: 0.2388 - accuracy: 0.9159 - val_loss: 0.3233 - val_accuracy: 0.8852\n",
      "Epoch 15/25\n",
      "1719/1719 [==============================] - 5s 3ms/step - loss: 0.2354 - accuracy: 0.9177 - val_loss: 0.3224 - val_accuracy: 0.8880\n",
      "Epoch 16/25\n",
      "1719/1719 [==============================] - 5s 3ms/step - loss: 0.2321 - accuracy: 0.9188 - val_loss: 0.3258 - val_accuracy: 0.8852\n",
      "Epoch 17/25\n",
      "1719/1719 [==============================] - 5s 3ms/step - loss: 0.2293 - accuracy: 0.9193 - val_loss: 0.3199 - val_accuracy: 0.8874\n",
      "Epoch 18/25\n",
      "1719/1719 [==============================] - 5s 3ms/step - loss: 0.2267 - accuracy: 0.9215 - val_loss: 0.3212 - val_accuracy: 0.8872\n",
      "Epoch 19/25\n",
      "1719/1719 [==============================] - 5s 3ms/step - loss: 0.2247 - accuracy: 0.9216 - val_loss: 0.3199 - val_accuracy: 0.8896\n",
      "Epoch 20/25\n",
      "1719/1719 [==============================] - 5s 3ms/step - loss: 0.2227 - accuracy: 0.9228 - val_loss: 0.3179 - val_accuracy: 0.8910\n",
      "Epoch 21/25\n",
      "1719/1719 [==============================] - 5s 3ms/step - loss: 0.2207 - accuracy: 0.9235 - val_loss: 0.3194 - val_accuracy: 0.8894\n",
      "Epoch 22/25\n",
      "1719/1719 [==============================] - 5s 3ms/step - loss: 0.2190 - accuracy: 0.9237 - val_loss: 0.3204 - val_accuracy: 0.8846\n",
      "Epoch 23/25\n",
      "1719/1719 [==============================] - 5s 3ms/step - loss: 0.2176 - accuracy: 0.9249 - val_loss: 0.3204 - val_accuracy: 0.8882\n",
      "Epoch 24/25\n",
      "1719/1719 [==============================] - 5s 3ms/step - loss: 0.2165 - accuracy: 0.9250 - val_loss: 0.3184 - val_accuracy: 0.8910\n",
      "Epoch 25/25\n",
      "1719/1719 [==============================] - 5s 3ms/step - loss: 0.2154 - accuracy: 0.9252 - val_loss: 0.3193 - val_accuracy: 0.8908\n"
     ]
    }
   ],
   "source": [
    "model = keras.models.Sequential(\n",
    "    [\n",
    "        keras.layers.Flatten(input_shape=[28, 28]),\n",
    "        keras.layers.Dense(300, activation=\"selu\", kernel_initializer=\"lecun_normal\"),\n",
    "        keras.layers.Dense(100, activation=\"selu\", kernel_initializer=\"lecun_normal\"),\n",
    "        keras.layers.Dense(10, activation=\"softmax\")\n",
    "    ]\n",
    ")\n",
    "s = 20 * len(X_train) // 32  # 20 Epoch의 단계 수 (배치 크기 = 32)\n",
    "learning_rate = keras.optimizers.schedules.ExponentialDecay(0.01, s, 0.1)\n",
    "optimizer = keras.optimizers.SGD(learning_rate)\n",
    "model.compile(loss=\"sparse_categorical_crossentropy\", optimizer=optimizer, metrics=[\"accuracy\"])\n",
    "n_epochs = 25\n",
    "history = model.fit(X_train_scaled, y_train, epochs=n_epochs, validation_data=(X_valid_scaled, y_valid))"
   ]
  },
  {
   "cell_type": "markdown",
   "id": "fd7329a7-8f90-4502-9109-151cf2adcac8",
   "metadata": {
    "tags": []
   },
   "source": [
    "구간별 고정 스케줄링은 다음을 사용한다:"
   ]
  },
  {
   "cell_type": "code",
   "execution_count": 89,
   "id": "675c5776-d431-4d85-8baf-1d436505a569",
   "metadata": {
    "scrolled": true
   },
   "outputs": [],
   "source": [
    "learning_rate = keras.optimizers.schedules.PiecewiseConstantDecay(\n",
    "    boundaries=[5. * n_steps_per_epoch, 15. * n_steps_per_epoch], values=[0.01, 0.005, 0.001]\n",
    ")"
   ]
  },
  {
   "cell_type": "markdown",
   "id": "b6cc676a-39cb-4032-babd-6b9f16e88de4",
   "metadata": {},
   "source": [
    "### 1사이클 스케줄링"
   ]
  },
  {
   "cell_type": "code",
   "execution_count": 90,
   "id": "1531d532-d452-41c8-8d3a-c4b1496b0ef6",
   "metadata": {
    "scrolled": true
   },
   "outputs": [],
   "source": [
    "K = keras.backend\n",
    "\n",
    "\n",
    "class ExponentialLearningRate(keras.callbacks.Callback):\n",
    "    def __init__(self, factor):\n",
    "        self.factor = factor\n",
    "        self.rates = []\n",
    "        self.losses = []\n",
    "\n",
    "    def on_batch_end(self, batch, logs):\n",
    "        self.rates.append(K.get_value(self.model.optimizer.lr))\n",
    "        self.losses.append(logs[\"loss\"])\n",
    "        K.set_value(self.model.optimizer.lr, self.model.optimizer.lr * self.factor)\n",
    "\n",
    "\n",
    "def find_learning_rate(model, X, y, epochs=1, batch_size=32, min_rate=10 ** -5, max_rate=10):\n",
    "    init_weights = model.get_weights()\n",
    "    iterations = math.ceil(len(X) / batch_size) * epochs\n",
    "    factor = np.exp(np.log(max_rate / min_rate) / iterations)\n",
    "    init_lr = K.get_value(model.optimizer.lr)\n",
    "    K.set_value(model.optimizer.lr, min_rate)\n",
    "    exp_lr = ExponentialLearningRate(factor)\n",
    "    history = model.fit(X, y, epochs=epochs, batch_size=batch_size, callbacks=[exp_lr])\n",
    "    K.set_value(model.optimizer.lr, init_lr)\n",
    "    model.set_weights(init_weights)\n",
    "    return exp_lr.rates, exp_lr.losses\n",
    "\n",
    "\n",
    "def plot_lr_vs_loss(rates, losses):\n",
    "    plt.plot(rates, losses)\n",
    "    plt.gca().set_xscale(\"log\")\n",
    "    plt.hlines(min(losses), min(rates), max(rates))\n",
    "    plt.axis([min(rates), max(rates), min(losses), (losses[0] + min(losses)) / 2])\n",
    "    plt.xlabel(\"Learning rate\")\n",
    "    plt.ylabel(\"Loss\")"
   ]
  },
  {
   "cell_type": "markdown",
   "id": "9f9e6998-50b7-4cb3-bede-4f543f22847e",
   "metadata": {},
   "source": [
    "**경고**: `on_batch_end()` 메서드에서 `logs[\"loss\"]`로 (에포크의) 평균 손실을 모은다. 이런 이유로 아래 그래프가 부드럽다. 이는 그래프에서 배치 손실이 폭주하기 시작하는 지점과 그렇지 않은 지점 사이에 지연이 있다는 뜻이다. 따라서 변동이 심한 그래프에서는 조금 더 작은 학습률을 선택해야 한다. 또한 `ExponentialLearningRate` 콜백을 조금 바꾸어 (현재 평균 손실과 이전 평균 손실을 기반으로) 배치 손실을 계산할 수 있다:\n",
    "\n",
    "```python\n",
    "class ExponentialLearningRate(keras.callbacks.Callback):\n",
    "    def __init__(self, factor):\n",
    "        self.prev_loss = None\n",
    "        self.factor = factor\n",
    "        self.rates = []\n",
    "        self.losses = []\n",
    "\n",
    "    def on_epoch_begin(self, epoch, logs=None):\n",
    "        self.prev_loss = 0\n",
    "\n",
    "    def on_batch_end(self, batch, logs=None):\n",
    "        batch_loss = logs[\"loss\"] * (batch + 1) - self.prev_loss * batch\n",
    "        self.prev_loss = logs[\"loss\"]\n",
    "        self.rates.append(K.get_value(self.model.optimizer.lr))\n",
    "        self.losses.append(batch_loss)\n",
    "        K.set_value(self.model.optimizer.lr, self.model.optimizer.lr * self.factor)\n",
    "```"
   ]
  },
  {
   "cell_type": "code",
   "execution_count": 91,
   "id": "58b3bb23-8400-4bbd-abe2-098acbdb5062",
   "metadata": {
    "scrolled": true
   },
   "outputs": [],
   "source": [
    "model = keras.models.Sequential(\n",
    "    [\n",
    "        keras.layers.Flatten(input_shape=[28, 28]),\n",
    "        keras.layers.Dense(300, activation=\"selu\", kernel_initializer=\"lecun_normal\"),\n",
    "        keras.layers.Dense(100, activation=\"selu\", kernel_initializer=\"lecun_normal\"),\n",
    "        keras.layers.Dense(10, activation=\"softmax\")\n",
    "    ]\n",
    ")\n",
    "model.compile(\n",
    "    loss=\"sparse_categorical_crossentropy\", optimizer=keras.optimizers.SGD(learning_rate=1e-3), metrics=[\"accuracy\"]\n",
    ")"
   ]
  },
  {
   "cell_type": "code",
   "execution_count": 92,
   "id": "9d3eac79-9fee-4268-8e24-171e46138a6c",
   "metadata": {
    "scrolled": true
   },
   "outputs": [
    {
     "name": "stdout",
     "output_type": "stream",
     "text": [
      "430/430 [==============================] - 2s 4ms/step - loss: nan - accuracy: 0.3567\n"
     ]
    },
    {
     "data": {
      "image/png": "[encoded data removed]",
      "text/plain": [
       "<Figure size 432x288 with 1 Axes>"
      ]
     },
     "metadata": {
      "needs_background": "light"
     },
     "output_type": "display_data"
    }
   ],
   "source": [
    "batch_size = 128\n",
    "rates, losses = find_learning_rate(model, X_train_scaled, y_train, epochs=1, batch_size=batch_size)\n",
    "plot_lr_vs_loss(rates, losses)"
   ]
  },
  {
   "cell_type": "code",
   "execution_count": 93,
   "id": "b57d93b5-f927-4097-adeb-7d064d83249d",
   "metadata": {
    "scrolled": true
   },
   "outputs": [],
   "source": [
    "class OneCycleScheduler(keras.callbacks.Callback):\n",
    "    def __init__(self, iterations, max_rate, start_rate=None, last_iterations=None, last_rate=None):\n",
    "        self.iterations = iterations\n",
    "        self.max_rate = max_rate\n",
    "        self.start_rate = start_rate or max_rate / 10\n",
    "        self.last_iterations = last_iterations or iterations // 10 + 1\n",
    "        self.half_iteration = (iterations - self.last_iterations) // 2\n",
    "        self.last_rate = last_rate or self.start_rate / 1000\n",
    "        self.iteration = 0\n",
    "\n",
    "    def _interpolate(self, iter1, iter2, rate1, rate2):\n",
    "        return (rate2 - rate1) * (self.iteration - iter1) / (iter2 - iter1) + rate1\n",
    "\n",
    "    def on_batch_begin(self, batch, logs):\n",
    "        if self.iteration < self.half_iteration:\n",
    "            rate = self._interpolate(0, self.half_iteration, self.start_rate, self.max_rate)\n",
    "        elif self.iteration < 2 * self.half_iteration:\n",
    "            rate = self._interpolate(self.half_iteration, 2 * self.half_iteration, self.max_rate, self.start_rate)\n",
    "        else:\n",
    "            rate = self._interpolate(2 * self.half_iteration, self.iterations, self.start_rate, self.last_rate)\n",
    "        self.iteration += 1\n",
    "        K.set_value(self.model.optimizer.lr, rate)"
   ]
  },
  {
   "cell_type": "code",
   "execution_count": 94,
   "id": "41c9d9a6-98dd-4c3f-a561-7ad6432ca7fa",
   "metadata": {
    "scrolled": true
   },
   "outputs": [
    {
     "name": "stdout",
     "output_type": "stream",
     "text": [
      "Epoch 1/25\n",
      "430/430 [==============================] - 2s 4ms/step - loss: 0.6574 - accuracy: 0.7733 - val_loss: 0.4866 - val_accuracy: 0.8276\n",
      "Epoch 2/25\n",
      "430/430 [==============================] - 1s 3ms/step - loss: 0.4557 - accuracy: 0.8397 - val_loss: 0.4373 - val_accuracy: 0.8556\n",
      "Epoch 3/25\n",
      "430/430 [==============================] - 2s 4ms/step - loss: 0.4102 - accuracy: 0.8554 - val_loss: 0.4049 - val_accuracy: 0.8640\n",
      "Epoch 4/25\n",
      "430/430 [==============================] - 2s 4ms/step - loss: 0.3820 - accuracy: 0.8656 - val_loss: 0.3908 - val_accuracy: 0.8670\n",
      "Epoch 5/25\n",
      "430/430 [==============================] - 2s 4ms/step - loss: 0.3595 - accuracy: 0.8741 - val_loss: 0.3755 - val_accuracy: 0.8720\n",
      "Epoch 6/25\n",
      "430/430 [==============================] - 1s 3ms/step - loss: 0.3411 - accuracy: 0.8790 - val_loss: 0.3767 - val_accuracy: 0.8664\n",
      "Epoch 7/25\n",
      "430/430 [==============================] - 1s 3ms/step - loss: 0.3258 - accuracy: 0.8835 - val_loss: 0.3656 - val_accuracy: 0.8734\n",
      "Epoch 8/25\n",
      "430/430 [==============================] - 2s 4ms/step - loss: 0.3124 - accuracy: 0.8870 - val_loss: 0.3704 - val_accuracy: 0.8674\n",
      "Epoch 9/25\n",
      "430/430 [==============================] - 2s 4ms/step - loss: 0.3000 - accuracy: 0.8920 - val_loss: 0.3586 - val_accuracy: 0.8772\n",
      "Epoch 10/25\n",
      "430/430 [==============================] - 1s 3ms/step - loss: 0.2891 - accuracy: 0.8948 - val_loss: 0.3717 - val_accuracy: 0.8730\n",
      "Epoch 11/25\n",
      "430/430 [==============================] - 2s 4ms/step - loss: 0.2804 - accuracy: 0.8978 - val_loss: 0.3413 - val_accuracy: 0.8828\n",
      "Epoch 12/25\n",
      "430/430 [==============================] - 1s 3ms/step - loss: 0.2678 - accuracy: 0.9033 - val_loss: 0.3293 - val_accuracy: 0.8850\n",
      "Epoch 13/25\n",
      "430/430 [==============================] - 1s 3ms/step - loss: 0.2494 - accuracy: 0.9091 - val_loss: 0.3305 - val_accuracy: 0.8866\n",
      "Epoch 14/25\n",
      "430/430 [==============================] - 1s 3ms/step - loss: 0.2348 - accuracy: 0.9159 - val_loss: 0.3267 - val_accuracy: 0.8862\n",
      "Epoch 15/25\n",
      "430/430 [==============================] - 1s 3ms/step - loss: 0.2236 - accuracy: 0.9191 - val_loss: 0.3327 - val_accuracy: 0.8858\n",
      "Epoch 16/25\n",
      "430/430 [==============================] - 1s 3ms/step - loss: 0.2125 - accuracy: 0.9242 - val_loss: 0.3288 - val_accuracy: 0.8826\n",
      "Epoch 17/25\n",
      "430/430 [==============================] - 1s 3ms/step - loss: 0.2039 - accuracy: 0.9282 - val_loss: 0.3466 - val_accuracy: 0.8806\n",
      "Epoch 18/25\n",
      "430/430 [==============================] - 1s 3ms/step - loss: 0.1948 - accuracy: 0.9311 - val_loss: 0.3174 - val_accuracy: 0.8924\n",
      "Epoch 19/25\n",
      "430/430 [==============================] - 2s 4ms/step - loss: 0.1868 - accuracy: 0.9351 - val_loss: 0.3265 - val_accuracy: 0.8916\n",
      "Epoch 20/25\n",
      "430/430 [==============================] - 2s 4ms/step - loss: 0.1801 - accuracy: 0.9374 - val_loss: 0.3230 - val_accuracy: 0.8904\n",
      "Epoch 21/25\n",
      "430/430 [==============================] - 2s 4ms/step - loss: 0.1739 - accuracy: 0.9407 - val_loss: 0.3198 - val_accuracy: 0.8918\n",
      "Epoch 22/25\n",
      "430/430 [==============================] - 1s 3ms/step - loss: 0.1683 - accuracy: 0.9431 - val_loss: 0.3196 - val_accuracy: 0.8940\n",
      "Epoch 23/25\n",
      "430/430 [==============================] - 1s 3ms/step - loss: 0.1640 - accuracy: 0.9450 - val_loss: 0.3166 - val_accuracy: 0.8938\n",
      "Epoch 24/25\n",
      "430/430 [==============================] - 2s 4ms/step - loss: 0.1611 - accuracy: 0.9469 - val_loss: 0.3165 - val_accuracy: 0.8942\n",
      "Epoch 25/25\n",
      "430/430 [==============================] - 1s 3ms/step - loss: 0.1593 - accuracy: 0.9476 - val_loss: 0.3155 - val_accuracy: 0.8936\n"
     ]
    }
   ],
   "source": [
    "n_epochs = 25\n",
    "onecycle = OneCycleScheduler(math.ceil(len(X_train) / batch_size) * n_epochs, max_rate=0.05)\n",
    "history = model.fit(\n",
    "    X_train_scaled,\n",
    "    y_train,\n",
    "    epochs=n_epochs,\n",
    "    batch_size=batch_size,\n",
    "    validation_data=(X_valid_scaled, y_valid),\n",
    "    callbacks=[onecycle]\n",
    ")"
   ]
  },
  {
   "cell_type": "code",
   "execution_count": 95,
   "id": "c2f325f7-dcc2-4691-b0e4-7d5054e1092b",
   "metadata": {
    "scrolled": true,
    "tags": []
   },
   "outputs": [],
   "source": [
    "layer = keras.layers.Dense(\n",
    "    100, activation=\"elu\", kernel_initializer=\"he_normal\", kernel_regularizer=keras.regularizers.l2()\n",
    ")\n",
    "# 또는 인수 0.1의 ℓ1 정규화에 대해 l1(0.1)\n",
    "# 또는 l1_l2(0.1, 0.01) ℓ1 및 ℓ2 정규화에 대해 각각 0.1 및 0.01 인수"
   ]
  },
  {
   "cell_type": "code",
   "execution_count": 96,
   "id": "530ff7f2-a91c-4f85-a270-804eb000dbf2",
   "metadata": {
    "scrolled": true,
    "tags": []
   },
   "outputs": [
    {
     "name": "stdout",
     "output_type": "stream",
     "text": [
      "Epoch 1/2\n",
      "1719/1719 [==============================] - 11s 6ms/step - loss: 1.6022 - accuracy: 0.8118 - val_loss: 0.7056 - val_accuracy: 0.8446\n",
      "Epoch 2/2\n",
      "1719/1719 [==============================] - 10s 6ms/step - loss: 0.7208 - accuracy: 0.8255 - val_loss: 0.6958 - val_accuracy: 0.8344\n"
     ]
    }
   ],
   "source": [
    "model = keras.models.Sequential(\n",
    "    [\n",
    "        keras.layers.Flatten(input_shape=[28, 28]),\n",
    "        keras.layers.Dense(\n",
    "            300, activation=\"elu\", kernel_initializer=\"he_normal\", kernel_regularizer=keras.regularizers.l2()\n",
    "        ),\n",
    "        keras.layers.Dense(\n",
    "            100, activation=\"elu\", kernel_initializer=\"he_normal\", kernel_regularizer=keras.regularizers.l2()\n",
    "        ),\n",
    "        keras.layers.Dense(10, activation=\"softmax\", kernel_regularizer=keras.regularizers.l2())\n",
    "    ]\n",
    ")\n",
    "model.compile(loss=\"sparse_categorical_crossentropy\", optimizer=\"nadam\", metrics=[\"accuracy\"])\n",
    "n_epochs = 2\n",
    "history = model.fit(X_train_scaled, y_train, epochs=n_epochs, validation_data=(X_valid_scaled, y_valid))"
   ]
  },
  {
   "cell_type": "code",
   "execution_count": 97,
   "id": "60c22644-43d2-48ac-bd65-3859dca3a099",
   "metadata": {
    "scrolled": true
   },
   "outputs": [
    {
     "name": "stdout",
     "output_type": "stream",
     "text": [
      "Epoch 1/2\n",
      "1719/1719 [==============================] - 11s 6ms/step - loss: 1.6745 - accuracy: 0.8137 - val_loss: 0.7357 - val_accuracy: 0.8238\n",
      "Epoch 2/2\n",
      "1719/1719 [==============================] - 11s 7ms/step - loss: 0.7229 - accuracy: 0.8258 - val_loss: 0.7116 - val_accuracy: 0.8222\n"
     ]
    }
   ],
   "source": [
    "from functools import partial\n",
    "\n",
    "RegularizedDense = partial(\n",
    "    keras.layers.Dense, activation=\"elu\", kernel_initializer=\"he_normal\", kernel_regularizer=keras.regularizers.l2()\n",
    ")\n",
    "model = keras.models.Sequential(\n",
    "    [\n",
    "        keras.layers.Flatten(input_shape=[28, 28]),\n",
    "        RegularizedDense(300),\n",
    "        RegularizedDense(100),\n",
    "        RegularizedDense(10, activation=\"softmax\")\n",
    "    ]\n",
    ")\n",
    "model.compile(loss=\"sparse_categorical_crossentropy\", optimizer=\"nadam\", metrics=[\"accuracy\"])\n",
    "n_epochs = 2\n",
    "history = model.fit(X_train_scaled, y_train, epochs=n_epochs, validation_data=(X_valid_scaled, y_valid))"
   ]
  },
  {
   "cell_type": "markdown",
   "id": "1122ff2d-d267-4f93-9741-84c5cae43117",
   "metadata": {},
   "source": [
    "## 드롭아웃"
   ]
  },
  {
   "cell_type": "code",
   "execution_count": 98,
   "id": "852c08a7-d039-426c-8d28-0abd2f0ea869",
   "metadata": {
    "scrolled": true
   },
   "outputs": [
    {
     "name": "stdout",
     "output_type": "stream",
     "text": [
      "Epoch 1/2\n",
      "1719/1719 [==============================] - 12s 7ms/step - loss: 0.5620 - accuracy: 0.8037 - val_loss: 0.3707 - val_accuracy: 0.8642\n",
      "Epoch 2/2\n",
      "1719/1719 [==============================] - 12s 7ms/step - loss: 0.4187 - accuracy: 0.8465 - val_loss: 0.3471 - val_accuracy: 0.8700\n"
     ]
    }
   ],
   "source": [
    "model = keras.models.Sequential(\n",
    "    [\n",
    "        keras.layers.Flatten(input_shape=[28, 28]),\n",
    "        keras.layers.Dropout(rate=0.2),\n",
    "        keras.layers.Dense(300, activation=\"elu\", kernel_initializer=\"he_normal\"),\n",
    "        keras.layers.Dropout(rate=0.2),\n",
    "        keras.layers.Dense(100, activation=\"elu\", kernel_initializer=\"he_normal\"),\n",
    "        keras.layers.Dropout(rate=0.2),\n",
    "        keras.layers.Dense(10, activation=\"softmax\")\n",
    "    ]\n",
    ")\n",
    "model.compile(loss=\"sparse_categorical_crossentropy\", optimizer=\"nadam\", metrics=[\"accuracy\"])\n",
    "n_epochs = 2\n",
    "history = model.fit(X_train_scaled, y_train, epochs=n_epochs, validation_data=(X_valid_scaled, y_valid))"
   ]
  },
  {
   "cell_type": "markdown",
   "id": "a2265ba2-4b30-4195-8210-aa8da4dddf99",
   "metadata": {},
   "source": [
    "## 알파 드롭아웃"
   ]
  },
  {
   "cell_type": "code",
   "execution_count": 99,
   "id": "206a3d2c-4396-4f7c-9b70-a0d0b24f7b0a",
   "metadata": {
    "scrolled": true,
    "tags": []
   },
   "outputs": [
    {
     "name": "stdout",
     "output_type": "stream",
     "text": [
      "Epoch 1/20\n",
      "1719/1719 [==============================] - 8s 4ms/step - loss: 0.6668 - accuracy: 0.7563 - val_loss: 0.6167 - val_accuracy: 0.8402\n",
      "Epoch 2/20\n",
      "1719/1719 [==============================] - 7s 4ms/step - loss: 0.5587 - accuracy: 0.7936 - val_loss: 0.5672 - val_accuracy: 0.8432\n",
      "Epoch 3/20\n",
      "1719/1719 [==============================] - 7s 4ms/step - loss: 0.5230 - accuracy: 0.8056 - val_loss: 0.5410 - val_accuracy: 0.8544\n",
      "Epoch 4/20\n",
      "1719/1719 [==============================] - 8s 5ms/step - loss: 0.5047 - accuracy: 0.8140 - val_loss: 0.5320 - val_accuracy: 0.8522\n",
      "Epoch 5/20\n",
      "1719/1719 [==============================] - 7s 4ms/step - loss: 0.4910 - accuracy: 0.8170 - val_loss: 0.4847 - val_accuracy: 0.8594\n",
      "Epoch 6/20\n",
      "1719/1719 [==============================] - 6s 4ms/step - loss: 0.4841 - accuracy: 0.8213 - val_loss: 0.4744 - val_accuracy: 0.8570\n",
      "Epoch 7/20\n",
      "1719/1719 [==============================] - 7s 4ms/step - loss: 0.4722 - accuracy: 0.8257 - val_loss: 0.4658 - val_accuracy: 0.8602\n",
      "Epoch 8/20\n",
      "1719/1719 [==============================] - 7s 4ms/step - loss: 0.4646 - accuracy: 0.8262 - val_loss: 0.5031 - val_accuracy: 0.8602\n",
      "Epoch 9/20\n",
      "1719/1719 [==============================] - 7s 4ms/step - loss: 0.4593 - accuracy: 0.8301 - val_loss: 0.4653 - val_accuracy: 0.8670\n",
      "Epoch 10/20\n",
      "1719/1719 [==============================] - 8s 4ms/step - loss: 0.4531 - accuracy: 0.8326 - val_loss: 0.4066 - val_accuracy: 0.8734\n",
      "Epoch 11/20\n",
      "1719/1719 [==============================] - 8s 5ms/step - loss: 0.4511 - accuracy: 0.8315 - val_loss: 0.4822 - val_accuracy: 0.8658\n",
      "Epoch 12/20\n",
      "1719/1719 [==============================] - 7s 4ms/step - loss: 0.4446 - accuracy: 0.8352 - val_loss: 0.4185 - val_accuracy: 0.8718\n",
      "Epoch 13/20\n",
      "1719/1719 [==============================] - 8s 5ms/step - loss: 0.4399 - accuracy: 0.8376 - val_loss: 0.4401 - val_accuracy: 0.8712\n",
      "Epoch 14/20\n",
      "1719/1719 [==============================] - 7s 4ms/step - loss: 0.4400 - accuracy: 0.8363 - val_loss: 0.4461 - val_accuracy: 0.8742\n",
      "Epoch 15/20\n",
      "1719/1719 [==============================] - 7s 4ms/step - loss: 0.4306 - accuracy: 0.8392 - val_loss: 0.4315 - val_accuracy: 0.8748\n",
      "Epoch 16/20\n",
      "1719/1719 [==============================] - 7s 4ms/step - loss: 0.4294 - accuracy: 0.8398 - val_loss: 0.4250 - val_accuracy: 0.8790\n",
      "Epoch 17/20\n",
      "1719/1719 [==============================] - 7s 4ms/step - loss: 0.4261 - accuracy: 0.8433 - val_loss: 0.4213 - val_accuracy: 0.8794\n",
      "Epoch 18/20\n",
      "1719/1719 [==============================] - 7s 4ms/step - loss: 0.4234 - accuracy: 0.8407 - val_loss: 0.4843 - val_accuracy: 0.8706\n",
      "Epoch 19/20\n",
      "1719/1719 [==============================] - 8s 5ms/step - loss: 0.4170 - accuracy: 0.8451 - val_loss: 0.4214 - val_accuracy: 0.8788\n",
      "Epoch 20/20\n",
      "1719/1719 [==============================] - 8s 4ms/step - loss: 0.4193 - accuracy: 0.8439 - val_loss: 0.4536 - val_accuracy: 0.8784\n"
     ]
    }
   ],
   "source": [
    "model = keras.models.Sequential(\n",
    "    [\n",
    "        keras.layers.Flatten(input_shape=[28, 28]),\n",
    "        keras.layers.AlphaDropout(rate=0.2),\n",
    "        keras.layers.Dense(300, activation=\"selu\", kernel_initializer=\"lecun_normal\"),\n",
    "        keras.layers.AlphaDropout(rate=0.2),\n",
    "        keras.layers.Dense(100, activation=\"selu\", kernel_initializer=\"lecun_normal\"),\n",
    "        keras.layers.AlphaDropout(rate=0.2),\n",
    "        keras.layers.Dense(10, activation=\"softmax\")\n",
    "    ]\n",
    ")\n",
    "optimizer = keras.optimizers.SGD(momentum=0.9, nesterov=True)\n",
    "model.compile(loss=\"sparse_categorical_crossentropy\", optimizer=optimizer, metrics=[\"accuracy\"])\n",
    "n_epochs = 20\n",
    "history = model.fit(X_train_scaled, y_train, epochs=n_epochs, validation_data=(X_valid_scaled, y_valid))"
   ]
  },
  {
   "cell_type": "code",
   "execution_count": 100,
   "id": "3b3f626b-9ae7-4d3b-bb95-089ea822cfc0",
   "metadata": {
    "scrolled": true
   },
   "outputs": [
    {
     "name": "stdout",
     "output_type": "stream",
     "text": [
      "313/313 [==============================] - 1s 2ms/step - loss: 0.4967 - accuracy: 0.8633\n"
     ]
    },
    {
     "data": {
      "text/plain": [
       "[0.49666905403137207, 0.8633000254631042]"
      ]
     },
     "execution_count": 100,
     "metadata": {},
     "output_type": "execute_result"
    }
   ],
   "source": [
    "model.evaluate(X_test_scaled, y_test)"
   ]
  },
  {
   "cell_type": "code",
   "execution_count": 101,
   "id": "0f3920e9-87f8-4cc6-b914-0aaa5cc741d5",
   "metadata": {
    "scrolled": true
   },
   "outputs": [
    {
     "name": "stdout",
     "output_type": "stream",
     "text": [
      "1719/1719 [==============================] - 5s 3ms/step - loss: 0.3656 - accuracy: 0.8843\n"
     ]
    },
    {
     "data": {
      "text/plain": [
       "[0.3655565083026886, 0.8842909336090088]"
      ]
     },
     "execution_count": 101,
     "metadata": {},
     "output_type": "execute_result"
    }
   ],
   "source": [
    "model.evaluate(X_train_scaled, y_train)"
   ]
  },
  {
   "cell_type": "code",
   "execution_count": 102,
   "id": "47c78866-0249-40ba-8ac2-35a7aae0fe35",
   "metadata": {
    "scrolled": true
   },
   "outputs": [
    {
     "name": "stdout",
     "output_type": "stream",
     "text": [
      "1719/1719 [==============================] - 7s 4ms/step - loss: 0.4118 - accuracy: 0.8459\n"
     ]
    }
   ],
   "source": [
    "history = model.fit(X_train_scaled, y_train)"
   ]
  },
  {
   "cell_type": "markdown",
   "id": "2d2daa73-f633-407f-a9c9-4ee8e5e87d60",
   "metadata": {},
   "source": [
    "## MC 드롭아웃"
   ]
  },
  {
   "cell_type": "code",
   "execution_count": 103,
   "id": "9128e138-c013-44da-b82c-c9748e9cf850",
   "metadata": {
    "scrolled": true
   },
   "outputs": [],
   "source": [
    "y_probas = np.stack([model(X_test_scaled, training=True) for sample in range(100)])\n",
    "y_proba = y_probas.mean(axis=0)"
   ]
  },
  {
   "cell_type": "code",
   "execution_count": 104,
   "id": "71f1bfd0-e1aa-4aac-b936-0de0418e62da",
   "metadata": {
    "scrolled": true
   },
   "outputs": [
    {
     "name": "stdout",
     "output_type": "stream",
     "text": [
      "1/1 [==============================] - 0s 92ms/step\n"
     ]
    },
    {
     "data": {
      "text/plain": [
       "array([[0.  , 0.  , 0.  , 0.  , 0.  , 0.  , 0.  , 0.02, 0.  , 0.98]],\n",
       "      dtype=float32)"
      ]
     },
     "execution_count": 104,
     "metadata": {},
     "output_type": "execute_result"
    }
   ],
   "source": [
    "np.round(model.predict(X_test_scaled[:1]), 2)"
   ]
  },
  {
   "cell_type": "code",
   "execution_count": 105,
   "id": "927b9f2f-c609-4d40-b0c3-ebf4a3082421",
   "metadata": {
    "scrolled": true,
    "tags": []
   },
   "outputs": [
    {
     "data": {
      "text/plain": [
       "array([[[0.  , 0.  , 0.  , 0.  , 0.  , 0.  , 0.  , 0.04, 0.  , 0.96]],\n",
       "\n",
       "       [[0.  , 0.  , 0.  , 0.  , 0.  , 0.12, 0.  , 0.21, 0.  , 0.68]],\n",
       "\n",
       "       [[0.  , 0.  , 0.  , 0.  , 0.  , 0.11, 0.  , 0.54, 0.  , 0.33]],\n",
       "\n",
       "       [[0.  , 0.  , 0.  , 0.  , 0.  , 0.05, 0.  , 0.43, 0.  , 0.52]],\n",
       "\n",
       "       [[0.  , 0.  , 0.  , 0.  , 0.  , 0.  , 0.  , 0.  , 0.  , 1.  ]],\n",
       "\n",
       "       [[0.  , 0.  , 0.  , 0.  , 0.  , 0.03, 0.  , 0.16, 0.  , 0.81]],\n",
       "\n",
       "       [[0.  , 0.  , 0.  , 0.  , 0.  , 0.  , 0.  , 0.21, 0.  , 0.79]],\n",
       "\n",
       "       [[0.  , 0.  , 0.  , 0.  , 0.  , 0.93, 0.  , 0.05, 0.  , 0.02]],\n",
       "\n",
       "       [[0.  , 0.  , 0.  , 0.  , 0.  , 0.01, 0.  , 0.15, 0.  , 0.84]],\n",
       "\n",
       "       [[0.  , 0.  , 0.  , 0.  , 0.  , 0.18, 0.  , 0.1 , 0.  , 0.72]],\n",
       "\n",
       "       [[0.  , 0.  , 0.  , 0.  , 0.  , 0.  , 0.  , 0.26, 0.  , 0.73]],\n",
       "\n",
       "       [[0.  , 0.  , 0.  , 0.  , 0.  , 0.  , 0.  , 0.18, 0.  , 0.82]],\n",
       "\n",
       "       [[0.  , 0.  , 0.  , 0.  , 0.  , 0.09, 0.  , 0.07, 0.  , 0.84]],\n",
       "\n",
       "       [[0.  , 0.  , 0.  , 0.  , 0.  , 0.14, 0.  , 0.08, 0.  , 0.78]],\n",
       "\n",
       "       [[0.  , 0.  , 0.  , 0.  , 0.  , 0.05, 0.  , 0.4 , 0.  , 0.55]],\n",
       "\n",
       "       [[0.  , 0.  , 0.  , 0.  , 0.  , 0.  , 0.  , 0.37, 0.  , 0.63]],\n",
       "\n",
       "       [[0.  , 0.  , 0.  , 0.  , 0.  , 0.02, 0.  , 0.18, 0.  , 0.81]],\n",
       "\n",
       "       [[0.  , 0.  , 0.  , 0.  , 0.  , 0.04, 0.  , 0.13, 0.  , 0.83]],\n",
       "\n",
       "       [[0.  , 0.  , 0.  , 0.  , 0.  , 0.03, 0.  , 0.26, 0.  , 0.71]],\n",
       "\n",
       "       [[0.  , 0.  , 0.  , 0.  , 0.  , 0.13, 0.  , 0.13, 0.  , 0.74]],\n",
       "\n",
       "       [[0.  , 0.  , 0.  , 0.  , 0.  , 0.  , 0.  , 0.18, 0.  , 0.82]],\n",
       "\n",
       "       [[0.  , 0.  , 0.  , 0.  , 0.  , 0.  , 0.  , 0.01, 0.  , 0.99]],\n",
       "\n",
       "       [[0.  , 0.  , 0.  , 0.  , 0.  , 0.13, 0.  , 0.05, 0.  , 0.81]],\n",
       "\n",
       "       [[0.  , 0.  , 0.  , 0.  , 0.  , 0.28, 0.  , 0.22, 0.  , 0.5 ]],\n",
       "\n",
       "       [[0.  , 0.  , 0.  , 0.  , 0.  , 0.27, 0.  , 0.44, 0.  , 0.29]],\n",
       "\n",
       "       [[0.  , 0.  , 0.  , 0.  , 0.  , 0.04, 0.  , 0.07, 0.  , 0.89]],\n",
       "\n",
       "       [[0.  , 0.  , 0.  , 0.  , 0.  , 0.02, 0.  , 0.24, 0.  , 0.74]],\n",
       "\n",
       "       [[0.  , 0.  , 0.  , 0.  , 0.  , 0.  , 0.  , 0.08, 0.  , 0.92]],\n",
       "\n",
       "       [[0.  , 0.  , 0.  , 0.  , 0.  , 0.04, 0.  , 0.64, 0.09, 0.22]],\n",
       "\n",
       "       [[0.  , 0.  , 0.  , 0.  , 0.  , 0.3 , 0.  , 0.16, 0.  , 0.54]],\n",
       "\n",
       "       [[0.  , 0.  , 0.  , 0.  , 0.  , 0.04, 0.  , 0.45, 0.  , 0.51]],\n",
       "\n",
       "       [[0.  , 0.  , 0.  , 0.  , 0.  , 0.09, 0.  , 0.62, 0.  , 0.29]],\n",
       "\n",
       "       [[0.  , 0.  , 0.  , 0.  , 0.  , 0.05, 0.  , 0.38, 0.  , 0.58]],\n",
       "\n",
       "       [[0.  , 0.  , 0.  , 0.  , 0.  , 0.1 , 0.  , 0.16, 0.  , 0.73]],\n",
       "\n",
       "       [[0.  , 0.  , 0.  , 0.  , 0.  , 0.  , 0.  , 0.41, 0.  , 0.58]],\n",
       "\n",
       "       [[0.  , 0.  , 0.  , 0.  , 0.  , 0.01, 0.  , 0.12, 0.  , 0.87]],\n",
       "\n",
       "       [[0.  , 0.  , 0.  , 0.  , 0.  , 0.01, 0.  , 0.32, 0.  , 0.68]],\n",
       "\n",
       "       [[0.  , 0.  , 0.  , 0.  , 0.  , 0.01, 0.  , 0.37, 0.  , 0.62]],\n",
       "\n",
       "       [[0.  , 0.  , 0.  , 0.  , 0.  , 0.27, 0.  , 0.27, 0.  , 0.46]],\n",
       "\n",
       "       [[0.  , 0.  , 0.  , 0.  , 0.  , 0.39, 0.  , 0.37, 0.  , 0.24]],\n",
       "\n",
       "       [[0.  , 0.  , 0.  , 0.  , 0.  , 0.21, 0.  , 0.49, 0.  , 0.3 ]],\n",
       "\n",
       "       [[0.  , 0.  , 0.  , 0.  , 0.  , 0.08, 0.  , 0.13, 0.  , 0.79]],\n",
       "\n",
       "       [[0.  , 0.  , 0.  , 0.  , 0.  , 0.7 , 0.  , 0.21, 0.01, 0.07]],\n",
       "\n",
       "       [[0.  , 0.  , 0.  , 0.  , 0.  , 0.  , 0.  , 0.01, 0.  , 0.99]],\n",
       "\n",
       "       [[0.  , 0.  , 0.  , 0.  , 0.  , 0.05, 0.  , 0.07, 0.  , 0.88]],\n",
       "\n",
       "       [[0.  , 0.  , 0.  , 0.  , 0.  , 0.02, 0.  , 0.22, 0.  , 0.76]],\n",
       "\n",
       "       [[0.  , 0.  , 0.  , 0.  , 0.  , 0.03, 0.  , 0.1 , 0.  , 0.86]],\n",
       "\n",
       "       [[0.  , 0.  , 0.  , 0.  , 0.  , 0.03, 0.  , 0.89, 0.  , 0.08]],\n",
       "\n",
       "       [[0.  , 0.  , 0.  , 0.  , 0.  , 0.02, 0.  , 0.39, 0.  , 0.6 ]],\n",
       "\n",
       "       [[0.  , 0.  , 0.  , 0.  , 0.  , 0.08, 0.  , 0.22, 0.  , 0.7 ]],\n",
       "\n",
       "       [[0.  , 0.  , 0.  , 0.  , 0.  , 0.01, 0.  , 0.21, 0.  , 0.78]],\n",
       "\n",
       "       [[0.  , 0.  , 0.  , 0.  , 0.  , 0.02, 0.  , 0.35, 0.  , 0.62]],\n",
       "\n",
       "       [[0.  , 0.  , 0.  , 0.  , 0.  , 0.04, 0.  , 0.11, 0.  , 0.84]],\n",
       "\n",
       "       [[0.  , 0.  , 0.  , 0.  , 0.  , 0.01, 0.  , 0.03, 0.  , 0.96]],\n",
       "\n",
       "       [[0.  , 0.  , 0.  , 0.  , 0.  , 0.  , 0.  , 0.04, 0.  , 0.96]],\n",
       "\n",
       "       [[0.  , 0.  , 0.  , 0.  , 0.  , 0.  , 0.  , 0.01, 0.  , 0.99]],\n",
       "\n",
       "       [[0.  , 0.  , 0.  , 0.  , 0.  , 0.05, 0.  , 0.09, 0.  , 0.86]],\n",
       "\n",
       "       [[0.  , 0.  , 0.  , 0.  , 0.  , 0.03, 0.  , 0.21, 0.  , 0.76]],\n",
       "\n",
       "       [[0.  , 0.  , 0.  , 0.  , 0.  , 0.04, 0.  , 0.74, 0.13, 0.1 ]],\n",
       "\n",
       "       [[0.  , 0.  , 0.  , 0.  , 0.  , 0.02, 0.  , 0.04, 0.  , 0.94]],\n",
       "\n",
       "       [[0.  , 0.  , 0.  , 0.  , 0.  , 0.04, 0.  , 0.51, 0.  , 0.45]],\n",
       "\n",
       "       [[0.  , 0.  , 0.  , 0.  , 0.  , 0.15, 0.  , 0.12, 0.  , 0.74]],\n",
       "\n",
       "       [[0.  , 0.  , 0.  , 0.  , 0.  , 0.02, 0.  , 0.29, 0.  , 0.69]],\n",
       "\n",
       "       [[0.  , 0.  , 0.  , 0.  , 0.  , 0.46, 0.  , 0.18, 0.  , 0.36]],\n",
       "\n",
       "       [[0.  , 0.  , 0.  , 0.  , 0.  , 0.01, 0.  , 0.11, 0.  , 0.88]],\n",
       "\n",
       "       [[0.  , 0.  , 0.  , 0.  , 0.  , 0.03, 0.  , 0.51, 0.  , 0.46]],\n",
       "\n",
       "       [[0.  , 0.  , 0.  , 0.  , 0.  , 0.  , 0.  , 0.01, 0.  , 0.99]],\n",
       "\n",
       "       [[0.  , 0.  , 0.  , 0.  , 0.  , 0.31, 0.  , 0.25, 0.  , 0.43]],\n",
       "\n",
       "       [[0.  , 0.  , 0.  , 0.  , 0.  , 0.  , 0.  , 0.04, 0.  , 0.96]],\n",
       "\n",
       "       [[0.  , 0.  , 0.  , 0.  , 0.  , 0.6 , 0.  , 0.01, 0.  , 0.39]],\n",
       "\n",
       "       [[0.  , 0.  , 0.  , 0.  , 0.  , 0.08, 0.  , 0.01, 0.  , 0.91]],\n",
       "\n",
       "       [[0.  , 0.  , 0.  , 0.  , 0.  , 0.02, 0.  , 0.72, 0.  , 0.26]],\n",
       "\n",
       "       [[0.  , 0.  , 0.  , 0.  , 0.  , 0.  , 0.  , 0.08, 0.  , 0.92]],\n",
       "\n",
       "       [[0.  , 0.  , 0.  , 0.  , 0.  , 0.02, 0.  , 0.16, 0.  , 0.82]],\n",
       "\n",
       "       [[0.  , 0.  , 0.  , 0.  , 0.  , 0.12, 0.  , 0.08, 0.  , 0.8 ]],\n",
       "\n",
       "       [[0.  , 0.  , 0.  , 0.  , 0.  , 0.  , 0.  , 0.46, 0.  , 0.54]],\n",
       "\n",
       "       [[0.  , 0.  , 0.  , 0.  , 0.  , 0.12, 0.  , 0.02, 0.  , 0.86]],\n",
       "\n",
       "       [[0.  , 0.  , 0.  , 0.  , 0.  , 0.02, 0.  , 0.03, 0.  , 0.95]],\n",
       "\n",
       "       [[0.  , 0.  , 0.  , 0.  , 0.  , 0.05, 0.  , 0.  , 0.  , 0.94]],\n",
       "\n",
       "       [[0.  , 0.  , 0.  , 0.  , 0.  , 0.04, 0.  , 0.02, 0.  , 0.94]],\n",
       "\n",
       "       [[0.  , 0.  , 0.  , 0.  , 0.  , 0.02, 0.  , 0.64, 0.  , 0.34]],\n",
       "\n",
       "       [[0.  , 0.  , 0.  , 0.  , 0.  , 0.  , 0.  , 0.01, 0.  , 0.99]],\n",
       "\n",
       "       [[0.  , 0.  , 0.  , 0.  , 0.  , 0.03, 0.  , 0.03, 0.  , 0.94]],\n",
       "\n",
       "       [[0.  , 0.  , 0.  , 0.  , 0.  , 0.13, 0.  , 0.44, 0.  , 0.43]],\n",
       "\n",
       "       [[0.  , 0.  , 0.  , 0.  , 0.  , 0.01, 0.  , 0.07, 0.  , 0.92]],\n",
       "\n",
       "       [[0.  , 0.  , 0.  , 0.  , 0.  , 0.43, 0.  , 0.4 , 0.  , 0.17]],\n",
       "\n",
       "       [[0.  , 0.  , 0.  , 0.  , 0.  , 0.  , 0.  , 0.07, 0.  , 0.93]],\n",
       "\n",
       "       [[0.  , 0.  , 0.  , 0.  , 0.  , 0.92, 0.  , 0.03, 0.  , 0.06]],\n",
       "\n",
       "       [[0.  , 0.  , 0.  , 0.  , 0.  , 0.  , 0.  , 0.07, 0.  , 0.92]],\n",
       "\n",
       "       [[0.  , 0.  , 0.  , 0.  , 0.  , 0.  , 0.  , 0.06, 0.  , 0.94]],\n",
       "\n",
       "       [[0.  , 0.  , 0.  , 0.  , 0.  , 0.01, 0.  , 0.2 , 0.  , 0.79]],\n",
       "\n",
       "       [[0.  , 0.  , 0.  , 0.  , 0.  , 0.  , 0.  , 0.06, 0.  , 0.94]],\n",
       "\n",
       "       [[0.  , 0.  , 0.  , 0.  , 0.  , 0.05, 0.  , 0.51, 0.  , 0.43]],\n",
       "\n",
       "       [[0.  , 0.  , 0.  , 0.  , 0.  , 0.02, 0.  , 0.11, 0.  , 0.87]],\n",
       "\n",
       "       [[0.  , 0.  , 0.  , 0.  , 0.  , 0.02, 0.  , 0.17, 0.  , 0.81]],\n",
       "\n",
       "       [[0.  , 0.  , 0.  , 0.  , 0.  , 0.07, 0.  , 0.13, 0.  , 0.79]],\n",
       "\n",
       "       [[0.  , 0.  , 0.  , 0.  , 0.  , 0.03, 0.  , 0.31, 0.  , 0.65]],\n",
       "\n",
       "       [[0.  , 0.  , 0.  , 0.  , 0.  , 0.02, 0.  , 0.28, 0.  , 0.7 ]],\n",
       "\n",
       "       [[0.  , 0.  , 0.  , 0.  , 0.  , 0.17, 0.  , 0.46, 0.  , 0.37]],\n",
       "\n",
       "       [[0.  , 0.  , 0.  , 0.  , 0.  , 0.06, 0.  , 0.17, 0.  , 0.77]]],\n",
       "      dtype=float32)"
      ]
     },
     "execution_count": 105,
     "metadata": {},
     "output_type": "execute_result"
    }
   ],
   "source": [
    "np.round(y_probas[:, :1], 2)"
   ]
  },
  {
   "cell_type": "code",
   "execution_count": 106,
   "id": "f0c5e767-e1ba-4437-858f-ae7a38257b68",
   "metadata": {
    "scrolled": true
   },
   "outputs": [
    {
     "data": {
      "text/plain": [
       "array([[0.  , 0.  , 0.  , 0.  , 0.  , 0.1 , 0.  , 0.22, 0.  , 0.68]],\n",
       "      dtype=float32)"
      ]
     },
     "execution_count": 106,
     "metadata": {},
     "output_type": "execute_result"
    }
   ],
   "source": [
    "np.round(y_proba[:1], 2)"
   ]
  },
  {
   "cell_type": "code",
   "execution_count": 107,
   "id": "85a85135-1523-4d56-af61-b501782a12ac",
   "metadata": {
    "scrolled": true
   },
   "outputs": [
    {
     "data": {
      "text/plain": [
       "array([[0.  , 0.  , 0.  , 0.  , 0.  , 0.17, 0.  , 0.19, 0.02, 0.26]],\n",
       "      dtype=float32)"
      ]
     },
     "execution_count": 107,
     "metadata": {},
     "output_type": "execute_result"
    }
   ],
   "source": [
    "y_std = y_probas.std(axis=0)\n",
    "np.round(y_std[:1], 2)"
   ]
  },
  {
   "cell_type": "code",
   "execution_count": 108,
   "id": "9d84754a-8ef5-4752-a60d-eb411b52e6e9",
   "metadata": {
    "scrolled": true
   },
   "outputs": [],
   "source": [
    "y_pred = np.argmax(y_proba, axis=1)"
   ]
  },
  {
   "cell_type": "code",
   "execution_count": 109,
   "id": "7fb28d24-9288-4202-aa28-868960c9cb87",
   "metadata": {
    "scrolled": true
   },
   "outputs": [
    {
     "data": {
      "text/plain": [
       "0.8697"
      ]
     },
     "execution_count": 109,
     "metadata": {},
     "output_type": "execute_result"
    }
   ],
   "source": [
    "accuracy = np.sum(y_pred == y_test) / len(y_test)\n",
    "accuracy"
   ]
  },
  {
   "cell_type": "code",
   "execution_count": 110,
   "id": "24c9cf77-b5c3-42a4-9a80-1c1a4fbd632c",
   "metadata": {
    "scrolled": true
   },
   "outputs": [],
   "source": [
    "class MCDropout(keras.layers.Dropout):\n",
    "    def call(self, inputs):\n",
    "        return super().call(inputs, training=True)\n",
    "\n",
    "\n",
    "class MCAlphaDropout(keras.layers.AlphaDropout):\n",
    "    def call(self, inputs):\n",
    "        return super().call(inputs, training=True)"
   ]
  },
  {
   "cell_type": "code",
   "execution_count": 111,
   "id": "be765d86-5043-4f65-898e-87d2244789ab",
   "metadata": {
    "scrolled": true
   },
   "outputs": [
    {
     "data": {
      "text/plain": [
       "True"
      ]
     },
     "execution_count": 111,
     "metadata": {},
     "output_type": "execute_result"
    }
   ],
   "source": [
    "isinstance(model.layers[1], keras.layers.AlphaDropout)"
   ]
  },
  {
   "cell_type": "code",
   "execution_count": 112,
   "id": "6b65ce69-a0c6-4bef-9a4c-14118b1e96d0",
   "metadata": {
    "scrolled": true
   },
   "outputs": [],
   "source": [
    "mc_model = keras.models.Sequential(\n",
    "    [MCAlphaDropout(layer.rate) if isinstance(layer, keras.layers.AlphaDropout) else layer for layer in model.layers]\n",
    ")"
   ]
  },
  {
   "cell_type": "code",
   "execution_count": 113,
   "id": "2116e90c-73e2-4b92-9498-c245d54edf45",
   "metadata": {
    "scrolled": true
   },
   "outputs": [
    {
     "name": "stdout",
     "output_type": "stream",
     "text": [
      "Model: \"sequential_21\"\n",
      "_________________________________________________________________\n",
      " Layer (type)                Output Shape              Param #   \n",
      "=================================================================\n",
      " flatten_18 (Flatten)        (None, 784)               0         \n",
      "                                                                 \n",
      " mc_alpha_dropout (MCAlphaDr  (None, 784)              0         \n",
      " opout)                                                          \n",
      "                                                                 \n",
      " dense_263 (Dense)           (None, 300)               235500    \n",
      "                                                                 \n",
      " mc_alpha_dropout_1 (MCAlpha  (None, 300)              0         \n",
      " Dropout)                                                        \n",
      "                                                                 \n",
      " dense_264 (Dense)           (None, 100)               30100     \n",
      "                                                                 \n",
      " mc_alpha_dropout_2 (MCAlpha  (None, 100)              0         \n",
      " Dropout)                                                        \n",
      "                                                                 \n",
      " dense_265 (Dense)           (None, 10)                1010      \n",
      "                                                                 \n",
      "=================================================================\n",
      "Total params: 266,610\n",
      "Trainable params: 266,610\n",
      "Non-trainable params: 0\n",
      "_________________________________________________________________\n"
     ]
    }
   ],
   "source": [
    "mc_model.summary()"
   ]
  },
  {
   "cell_type": "code",
   "execution_count": 114,
   "id": "b9d6b585-f97f-4786-ae04-611bd9b8c28d",
   "metadata": {
    "scrolled": true
   },
   "outputs": [],
   "source": [
    "optimizer = keras.optimizers.SGD(momentum=0.9, nesterov=True)\n",
    "mc_model.compile(loss=\"sparse_categorical_crossentropy\", optimizer=optimizer, metrics=[\"accuracy\"])"
   ]
  },
  {
   "cell_type": "code",
   "execution_count": 115,
   "id": "49e5b0b8-4b3a-4642-a4f1-acd6f30ae3b3",
   "metadata": {
    "scrolled": true
   },
   "outputs": [],
   "source": [
    "mc_model.set_weights(model.get_weights())"
   ]
  },
  {
   "cell_type": "markdown",
   "id": "9a114891-10ba-4d01-9cc9-1a694e74f1e9",
   "metadata": {},
   "source": [
    "이제 MC 드롭아웃을 모델에 사용할 수 있다:"
   ]
  },
  {
   "cell_type": "code",
   "execution_count": 116,
   "id": "b59dac6f-9582-44b5-9eb7-4a30a20ca285",
   "metadata": {
    "scrolled": true,
    "tags": []
   },
   "outputs": [
    {
     "name": "stdout",
     "output_type": "stream",
     "text": [
      "1/1 [==============================] - 0s 136ms/step\n",
      "1/1 [==============================] - 0s 21ms/step\n",
      "1/1 [==============================] - 0s 22ms/step\n",
      "1/1 [==============================] - 0s 22ms/step\n",
      "1/1 [==============================] - 0s 24ms/step\n",
      "1/1 [==============================] - 0s 21ms/step\n",
      "1/1 [==============================] - 0s 22ms/step\n",
      "1/1 [==============================] - 0s 21ms/step\n",
      "1/1 [==============================] - 0s 21ms/step\n",
      "1/1 [==============================] - 0s 23ms/step\n",
      "1/1 [==============================] - 0s 22ms/step\n",
      "1/1 [==============================] - 0s 21ms/step\n",
      "1/1 [==============================] - 0s 21ms/step\n",
      "1/1 [==============================] - 0s 28ms/step\n",
      "1/1 [==============================] - 0s 23ms/step\n",
      "1/1 [==============================] - 0s 21ms/step\n",
      "1/1 [==============================] - 0s 23ms/step\n",
      "1/1 [==============================] - 0s 22ms/step\n",
      "1/1 [==============================] - 0s 20ms/step\n",
      "1/1 [==============================] - 0s 20ms/step\n",
      "1/1 [==============================] - 0s 23ms/step\n",
      "1/1 [==============================] - 0s 25ms/step\n",
      "1/1 [==============================] - 0s 29ms/step\n",
      "1/1 [==============================] - 0s 25ms/step\n",
      "1/1 [==============================] - 0s 21ms/step\n",
      "1/1 [==============================] - 0s 20ms/step\n",
      "1/1 [==============================] - 0s 20ms/step\n",
      "1/1 [==============================] - 0s 20ms/step\n",
      "1/1 [==============================] - 0s 20ms/step\n",
      "1/1 [==============================] - 0s 21ms/step\n",
      "1/1 [==============================] - 0s 20ms/step\n",
      "1/1 [==============================] - 0s 21ms/step\n",
      "1/1 [==============================] - 0s 21ms/step\n",
      "1/1 [==============================] - 0s 23ms/step\n",
      "1/1 [==============================] - 0s 23ms/step\n",
      "1/1 [==============================] - 0s 23ms/step\n",
      "1/1 [==============================] - 0s 25ms/step\n",
      "1/1 [==============================] - 0s 23ms/step\n",
      "1/1 [==============================] - 0s 20ms/step\n",
      "1/1 [==============================] - 0s 22ms/step\n",
      "1/1 [==============================] - 0s 22ms/step\n",
      "1/1 [==============================] - 0s 21ms/step\n",
      "1/1 [==============================] - 0s 21ms/step\n",
      "1/1 [==============================] - 0s 27ms/step\n",
      "1/1 [==============================] - 0s 21ms/step\n",
      "1/1 [==============================] - 0s 23ms/step\n",
      "1/1 [==============================] - 0s 22ms/step\n",
      "1/1 [==============================] - 0s 24ms/step\n",
      "1/1 [==============================] - 0s 25ms/step\n",
      "1/1 [==============================] - 0s 24ms/step\n",
      "1/1 [==============================] - 0s 23ms/step\n",
      "1/1 [==============================] - 0s 20ms/step\n",
      "1/1 [==============================] - 0s 20ms/step\n",
      "1/1 [==============================] - 0s 19ms/step\n",
      "1/1 [==============================] - 0s 22ms/step\n",
      "1/1 [==============================] - 0s 20ms/step\n",
      "1/1 [==============================] - 0s 19ms/step\n",
      "1/1 [==============================] - 0s 20ms/step\n",
      "1/1 [==============================] - 0s 20ms/step\n",
      "1/1 [==============================] - 0s 20ms/step\n",
      "1/1 [==============================] - 0s 20ms/step\n",
      "1/1 [==============================] - 0s 20ms/step\n",
      "1/1 [==============================] - 0s 21ms/step\n",
      "1/1 [==============================] - 0s 21ms/step\n",
      "1/1 [==============================] - 0s 22ms/step\n",
      "1/1 [==============================] - 0s 19ms/step\n",
      "1/1 [==============================] - 0s 20ms/step\n",
      "1/1 [==============================] - 0s 20ms/step\n",
      "1/1 [==============================] - 0s 20ms/step\n",
      "1/1 [==============================] - 0s 21ms/step\n",
      "1/1 [==============================] - 0s 19ms/step\n",
      "1/1 [==============================] - 0s 22ms/step\n",
      "1/1 [==============================] - 0s 21ms/step\n",
      "1/1 [==============================] - 0s 20ms/step\n",
      "1/1 [==============================] - 0s 20ms/step\n",
      "1/1 [==============================] - 0s 20ms/step\n",
      "1/1 [==============================] - 0s 21ms/step\n",
      "1/1 [==============================] - 0s 21ms/step\n",
      "1/1 [==============================] - 0s 20ms/step\n",
      "1/1 [==============================] - 0s 20ms/step\n",
      "1/1 [==============================] - 0s 20ms/step\n",
      "1/1 [==============================] - 0s 20ms/step\n",
      "1/1 [==============================] - 0s 20ms/step\n",
      "1/1 [==============================] - 0s 21ms/step\n",
      "1/1 [==============================] - 0s 21ms/step\n",
      "1/1 [==============================] - 0s 20ms/step\n",
      "1/1 [==============================] - 0s 19ms/step\n",
      "1/1 [==============================] - 0s 20ms/step\n",
      "1/1 [==============================] - 0s 22ms/step\n",
      "1/1 [==============================] - 0s 20ms/step\n",
      "1/1 [==============================] - 0s 20ms/step\n",
      "1/1 [==============================] - 0s 22ms/step\n",
      "1/1 [==============================] - 0s 21ms/step\n",
      "1/1 [==============================] - 0s 21ms/step\n",
      "1/1 [==============================] - 0s 25ms/step\n",
      "1/1 [==============================] - 0s 22ms/step\n",
      "1/1 [==============================] - 0s 23ms/step\n",
      "1/1 [==============================] - 0s 23ms/step\n",
      "1/1 [==============================] - 0s 22ms/step\n",
      "1/1 [==============================] - 0s 22ms/step\n"
     ]
    },
    {
     "data": {
      "text/plain": [
       "array([[0.  , 0.  , 0.  , 0.  , 0.  , 0.12, 0.  , 0.21, 0.  , 0.67]],\n",
       "      dtype=float32)"
      ]
     },
     "execution_count": 116,
     "metadata": {},
     "output_type": "execute_result"
    }
   ],
   "source": [
    "np.round(np.mean([mc_model.predict(X_test_scaled[:1]) for sample in range(100)], axis=0), 2)"
   ]
  },
  {
   "cell_type": "markdown",
   "id": "c91d09fe-b273-4e2b-855e-6fdc93927443",
   "metadata": {},
   "source": [
    "## 맥스 노름"
   ]
  },
  {
   "cell_type": "code",
   "execution_count": 117,
   "id": "99d1f00c-ee45-46c9-a5c6-2c18c7738dc4",
   "metadata": {
    "scrolled": true
   },
   "outputs": [],
   "source": [
    "layer = keras.layers.Dense(\n",
    "    100, activation=\"selu\", kernel_initializer=\"lecun_normal\", kernel_constraint=keras.constraints.max_norm(1.)\n",
    ")"
   ]
  },
  {
   "cell_type": "code",
   "execution_count": 118,
   "id": "024fc808-2fbd-40a3-aad4-90123c351098",
   "metadata": {
    "scrolled": true
   },
   "outputs": [
    {
     "name": "stdout",
     "output_type": "stream",
     "text": [
      "Epoch 1/2\n",
      "1719/1719 [==============================] - 14s 8ms/step - loss: 0.4778 - accuracy: 0.8329 - val_loss: 0.4565 - val_accuracy: 0.8340\n",
      "Epoch 2/2\n",
      "1719/1719 [==============================] - 12s 7ms/step - loss: 0.3580 - accuracy: 0.8690 - val_loss: 0.3492 - val_accuracy: 0.8768\n"
     ]
    }
   ],
   "source": [
    "MaxNormDense = partial(\n",
    "    keras.layers.Dense,\n",
    "    activation=\"selu\",\n",
    "    kernel_initializer=\"lecun_normal\",\n",
    "    kernel_constraint=keras.constraints.max_norm(1.)\n",
    ")\n",
    "model = keras.models.Sequential(\n",
    "    [\n",
    "        keras.layers.Flatten(input_shape=[28, 28]),\n",
    "        MaxNormDense(300),\n",
    "        MaxNormDense(100),\n",
    "        keras.layers.Dense(10, activation=\"softmax\")\n",
    "    ]\n",
    ")\n",
    "model.compile(loss=\"sparse_categorical_crossentropy\", optimizer=\"nadam\", metrics=[\"accuracy\"])\n",
    "n_epochs = 2\n",
    "history = model.fit(X_train_scaled, y_train, epochs=n_epochs, validation_data=(X_valid_scaled, y_valid))"
   ]
  },
  {
   "cell_type": "markdown",
   "id": "86c56b93-936f-43cf-9d63-afb2ec18e9b1",
   "metadata": {},
   "source": [
    "# 연습"
   ]
  },
  {
   "cell_type": "markdown",
   "id": "79b7f005-b1a3-4753-a7d3-46956e18a877",
   "metadata": {},
   "source": [
    "## 1. CIFAR10에서 딥러닝"
   ]
  },
  {
   "cell_type": "markdown",
   "id": "533d1677-dbeb-4944-94f8-307c4931b4ef",
   "metadata": {
    "tags": []
   },
   "source": [
    "### a.\n",
    "*100개의 뉴런을 가진 은닉층 20개로 심층 신경망을 만들어 본다(너무 많은 것 같지만 이 연습의 핵심이다). He 초기화와 ELU 활성화 함수를 사용한다.*"
   ]
  },
  {
   "cell_type": "code",
   "execution_count": 119,
   "id": "55ce9b92-5ef2-4ae2-b016-1022fda08f0f",
   "metadata": {
    "scrolled": true
   },
   "outputs": [],
   "source": [
    "keras.backend.clear_session()\n",
    "model = keras.models.Sequential()\n",
    "model.add(keras.layers.Flatten(input_shape=[32, 32, 3]))\n",
    "for _ in range(20):\n",
    "    model.add(keras.layers.Dense(100, activation=\"elu\", kernel_initializer=\"he_normal\"))"
   ]
  },
  {
   "cell_type": "markdown",
   "id": "ab4b3c38-d8bf-4b10-91ea-ceddf43e9e76",
   "metadata": {},
   "source": [
    "### b.\n",
    "*Nadam 옵티마이저와 조기 종료를 사용하여 CIFAR10 데이터셋에 이 네트워크를 훈련한다. `keras.datasets.cifar10.load_ data()`를 사용하여 데이터를 적재할 수 있다. 이 데이터셋은 10개의 클래스와 32×32 크기의 컬러 이미지 60,000개로 구성된다(50,000개는 훈련, 10,000개는 테스트). 따라서 10개의 뉴런과 소프트맥스 활성화 함수를 사용하는 출력층이 필요하다. 모델 구조와 하이퍼파라미터를 바꿀 때마다 적절한 학습률을 찾아야 한다는 것을 기억한다.*"
   ]
  },
  {
   "cell_type": "markdown",
   "id": "acf142ea-30cf-4ef1-a395-fd236ac5aafe",
   "metadata": {},
   "source": [
    "모델에 출력층을 추가한다:"
   ]
  },
  {
   "cell_type": "code",
   "execution_count": 120,
   "id": "1edc1c51-9c9d-4a5a-88e9-21a0997034eb",
   "metadata": {
    "scrolled": true
   },
   "outputs": [],
   "source": [
    "model.add(keras.layers.Dense(10, activation=\"softmax\"))"
   ]
  },
  {
   "cell_type": "markdown",
   "id": "dcec9570-1418-4ab5-b5ce-90ee4488adf6",
   "metadata": {},
   "source": [
    "학습률 5e-5인 Nadam 옵티마이저를 사용해 본다. 학습률 1e-5, 3e-5, 1e-4, 3e-4, 1e-3, 3e-3, 1e-2를 테스트하고 10번의 에포크 동안 (아래 텐서보드 콜백으로) 학습 곡선을 비교해 보았다. 학습률 3e-5와 1e-4가 꽤 좋았기 때문에 5e-5를 시도해 보았고 조금 더 나은 결과를 냈다."
   ]
  },
  {
   "cell_type": "code",
   "execution_count": 121,
   "id": "af73acad-9e92-4466-af8e-3e8d191e32ba",
   "metadata": {
    "scrolled": true
   },
   "outputs": [],
   "source": [
    "optimizer = keras.optimizers.Nadam(learning_rate=5e-5)\n",
    "model.compile(loss=\"sparse_categorical_crossentropy\", optimizer=optimizer, metrics=[\"accuracy\"])"
   ]
  },
  {
   "cell_type": "markdown",
   "id": "4fbf5066-b901-4e88-bfa2-4e3d32a7a0fe",
   "metadata": {},
   "source": [
    "CIFAR10 데이터셋을 로드한다. 조기 종료를 사용하기 때문에 검증 세트가 필요하다. 원본 훈련 세트에서 처음 5,000개를 검증 세트로 사용하겠다:"
   ]
  },
  {
   "cell_type": "code",
   "execution_count": 122,
   "id": "51f1dd2c-02c5-4579-be58-51f83802f1bd",
   "metadata": {
    "scrolled": true,
    "tags": []
   },
   "outputs": [],
   "source": [
    "(X_train_full, y_train_full), (X_test, y_test) = keras.datasets.cifar10.load_data()\n",
    "X_train = X_train_full[5000:]\n",
    "y_train = y_train_full[5000:]\n",
    "X_valid = X_train_full[:5000]\n",
    "y_valid = y_train_full[:5000]"
   ]
  },
  {
   "cell_type": "markdown",
   "id": "6feae243-9d8e-4b76-86a1-990ed7b91704",
   "metadata": {},
   "source": [
    "이제 콜백을 만들고 모델을 훈련한다:"
   ]
  },
  {
   "cell_type": "code",
   "execution_count": 123,
   "id": "887ac10b-397d-408b-8f74-4117580ac210",
   "metadata": {
    "scrolled": true,
    "tags": []
   },
   "outputs": [],
   "source": [
    "early_stopping_cb = keras.callbacks.EarlyStopping(patience=20)\n",
    "model_checkpoint_cb = keras.callbacks.ModelCheckpoint(\"my_cifar10_model.h5\", save_best_only=True)\n",
    "run_index = 1  # 모델을 훈련할 때마다 증가시킴\n",
    "run_logdir = os.path.join(os.curdir, \"my_cifar10_logs\", f\"run_{run_index:03d}\")\n",
    "tensorboard_cb = keras.callbacks.TensorBoard(run_logdir)\n",
    "callbacks = [early_stopping_cb, model_checkpoint_cb, tensorboard_cb]"
   ]
  },
  {
   "cell_type": "markdown",
   "id": "8952ede4-9d92-4661-bbc8-355542f501ff",
   "metadata": {},
   "source": [
    "아래 셀에 있는 `tensorboard` 명령을 실행하면 다음과 같은 텐서보드 화면을 볼 수 있다."
   ]
  },
  {
   "cell_type": "markdown",
   "id": "be67e718-8506-4cfb-92f0-8244cb63a423",
   "metadata": {},
   "source": [
    "![tensorboard.png](data:image/png;base64,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)"
   ]
  },
  {
   "cell_type": "markdown",
   "id": "a2b054fa-ff44-4091-bc37-3a6a157cbe91",
   "metadata": {},
   "source": [
    "```bash\n",
    "tensorboard --logdir=./my_cifar10_logs --port=6006\n",
    "```"
   ]
  },
  {
   "cell_type": "code",
   "execution_count": 124,
   "id": "18e30ad9-7a71-4bd5-84f4-6ca8ad2d70a3",
   "metadata": {
    "scrolled": true,
    "tags": []
   },
   "outputs": [
    {
     "name": "stdout",
     "output_type": "stream",
     "text": [
      "Epoch 1/100\n",
      "1407/1407 [==============================] - 39s 26ms/step - loss: 6.4607 - accuracy: 0.1546 - val_loss: 2.2671 - val_accuracy: 0.1954\n",
      "Epoch 2/100\n",
      "1407/1407 [==============================] - 37s 26ms/step - loss: 2.1224 - accuracy: 0.2249 - val_loss: 2.0175 - val_accuracy: 0.2704\n",
      "Epoch 3/100\n",
      "1407/1407 [==============================] - 35s 25ms/step - loss: 1.9681 - accuracy: 0.2803 - val_loss: 1.9092 - val_accuracy: 0.2970\n",
      "Epoch 4/100\n",
      "1407/1407 [==============================] - 36s 25ms/step - loss: 1.8836 - accuracy: 0.3120 - val_loss: 1.8252 - val_accuracy: 0.3250\n",
      "Epoch 5/100\n",
      "1407/1407 [==============================] - 36s 25ms/step - loss: 1.8210 - accuracy: 0.3372 - val_loss: 1.7871 - val_accuracy: 0.3496\n",
      "Epoch 6/100\n",
      "1407/1407 [==============================] - 34s 24ms/step - loss: 1.7676 - accuracy: 0.3546 - val_loss: 1.7383 - val_accuracy: 0.3710\n",
      "Epoch 7/100\n",
      "1407/1407 [==============================] - 37s 26ms/step - loss: 1.7248 - accuracy: 0.3750 - val_loss: 1.6832 - val_accuracy: 0.3868\n",
      "Epoch 8/100\n",
      "1407/1407 [==============================] - 38s 27ms/step - loss: 1.6810 - accuracy: 0.3912 - val_loss: 1.7210 - val_accuracy: 0.3706\n",
      "Epoch 9/100\n",
      "1407/1407 [==============================] - 36s 26ms/step - loss: 1.6524 - accuracy: 0.4022 - val_loss: 1.6947 - val_accuracy: 0.3824\n",
      "Epoch 10/100\n",
      "1407/1407 [==============================] - 35s 25ms/step - loss: 1.6253 - accuracy: 0.4143 - val_loss: 1.6730 - val_accuracy: 0.3994\n",
      "Epoch 11/100\n",
      "1407/1407 [==============================] - 36s 25ms/step - loss: 1.5971 - accuracy: 0.4227 - val_loss: 1.6909 - val_accuracy: 0.3856\n",
      "Epoch 12/100\n",
      "1407/1407 [==============================] - 35s 25ms/step - loss: 1.5766 - accuracy: 0.4340 - val_loss: 1.6468 - val_accuracy: 0.4054\n",
      "Epoch 13/100\n",
      "1407/1407 [==============================] - 36s 25ms/step - loss: 1.5560 - accuracy: 0.4391 - val_loss: 1.6399 - val_accuracy: 0.4126\n",
      "Epoch 14/100\n",
      "1407/1407 [==============================] - 34s 24ms/step - loss: 1.5372 - accuracy: 0.4432 - val_loss: 1.6137 - val_accuracy: 0.4230\n",
      "Epoch 15/100\n",
      "1407/1407 [==============================] - 35s 25ms/step - loss: 1.5217 - accuracy: 0.4537 - val_loss: 1.5947 - val_accuracy: 0.4232\n",
      "Epoch 16/100\n",
      "1407/1407 [==============================] - 37s 26ms/step - loss: 1.5063 - accuracy: 0.4578 - val_loss: 1.5630 - val_accuracy: 0.4298\n",
      "Epoch 17/100\n",
      "1407/1407 [==============================] - 35s 25ms/step - loss: 1.4894 - accuracy: 0.4649 - val_loss: 1.5677 - val_accuracy: 0.4304\n",
      "Epoch 18/100\n",
      "1407/1407 [==============================] - 35s 25ms/step - loss: 1.4756 - accuracy: 0.4704 - val_loss: 1.5654 - val_accuracy: 0.4372\n",
      "Epoch 19/100\n",
      "1407/1407 [==============================] - 36s 25ms/step - loss: 1.4659 - accuracy: 0.4715 - val_loss: 1.5451 - val_accuracy: 0.4430\n",
      "Epoch 20/100\n",
      "1407/1407 [==============================] - 35s 25ms/step - loss: 1.4496 - accuracy: 0.4778 - val_loss: 1.5312 - val_accuracy: 0.4456\n",
      "Epoch 21/100\n",
      "1407/1407 [==============================] - 36s 26ms/step - loss: 1.4361 - accuracy: 0.4821 - val_loss: 1.5447 - val_accuracy: 0.4438\n",
      "Epoch 22/100\n",
      "1407/1407 [==============================] - 34s 24ms/step - loss: 1.4224 - accuracy: 0.4893 - val_loss: 1.5630 - val_accuracy: 0.4408\n",
      "Epoch 23/100\n",
      "1407/1407 [==============================] - 36s 26ms/step - loss: 1.4145 - accuracy: 0.4926 - val_loss: 1.5181 - val_accuracy: 0.4536\n",
      "Epoch 24/100\n",
      "1407/1407 [==============================] - 35s 25ms/step - loss: 1.4021 - accuracy: 0.4979 - val_loss: 1.5287 - val_accuracy: 0.4402\n",
      "Epoch 25/100\n",
      "1407/1407 [==============================] - 35s 25ms/step - loss: 1.3886 - accuracy: 0.4995 - val_loss: 1.5128 - val_accuracy: 0.4616\n",
      "Epoch 26/100\n",
      "1407/1407 [==============================] - 37s 27ms/step - loss: 1.3796 - accuracy: 0.5033 - val_loss: 1.5101 - val_accuracy: 0.4586\n",
      "Epoch 27/100\n",
      "1407/1407 [==============================] - 37s 26ms/step - loss: 1.3672 - accuracy: 0.5122 - val_loss: 1.5120 - val_accuracy: 0.4604\n",
      "Epoch 28/100\n",
      "1407/1407 [==============================] - 36s 25ms/step - loss: 1.3565 - accuracy: 0.5125 - val_loss: 1.5155 - val_accuracy: 0.4706\n",
      "Epoch 29/100\n",
      "1407/1407 [==============================] - 37s 27ms/step - loss: 1.3454 - accuracy: 0.5180 - val_loss: 1.5098 - val_accuracy: 0.4754\n",
      "Epoch 30/100\n",
      "1407/1407 [==============================] - 34s 24ms/step - loss: 1.3361 - accuracy: 0.5226 - val_loss: 1.5222 - val_accuracy: 0.4612\n",
      "Epoch 31/100\n",
      "1407/1407 [==============================] - 35s 25ms/step - loss: 1.3275 - accuracy: 0.5230 - val_loss: 1.5038 - val_accuracy: 0.4726\n",
      "Epoch 32/100\n",
      "1407/1407 [==============================] - 37s 26ms/step - loss: 1.3169 - accuracy: 0.5293 - val_loss: 1.5423 - val_accuracy: 0.4632\n",
      "Epoch 33/100\n",
      "1407/1407 [==============================] - 36s 26ms/step - loss: 1.3079 - accuracy: 0.5311 - val_loss: 1.5505 - val_accuracy: 0.4554\n",
      "Epoch 34/100\n",
      "1407/1407 [==============================] - 37s 26ms/step - loss: 1.2959 - accuracy: 0.5394 - val_loss: 1.5147 - val_accuracy: 0.4644\n",
      "Epoch 35/100\n",
      "1407/1407 [==============================] - 38s 27ms/step - loss: 1.2902 - accuracy: 0.5380 - val_loss: 1.4948 - val_accuracy: 0.4800\n",
      "Epoch 36/100\n",
      "1407/1407 [==============================] - 35s 25ms/step - loss: 1.2807 - accuracy: 0.5420 - val_loss: 1.5044 - val_accuracy: 0.4754\n",
      "Epoch 37/100\n",
      "1407/1407 [==============================] - 37s 26ms/step - loss: 1.2723 - accuracy: 0.5424 - val_loss: 1.5140 - val_accuracy: 0.4692\n",
      "Epoch 38/100\n",
      "1407/1407 [==============================] - 39s 27ms/step - loss: 1.2633 - accuracy: 0.5468 - val_loss: 1.5192 - val_accuracy: 0.4648\n",
      "Epoch 39/100\n",
      "1407/1407 [==============================] - 38s 27ms/step - loss: 1.2530 - accuracy: 0.5522 - val_loss: 1.5317 - val_accuracy: 0.4756\n",
      "Epoch 40/100\n",
      "1407/1407 [==============================] - 35s 25ms/step - loss: 1.2473 - accuracy: 0.5534 - val_loss: 1.5071 - val_accuracy: 0.4792\n",
      "Epoch 41/100\n",
      "1407/1407 [==============================] - 34s 24ms/step - loss: 1.2365 - accuracy: 0.5546 - val_loss: 1.5038 - val_accuracy: 0.4764\n",
      "Epoch 42/100\n",
      "1407/1407 [==============================] - 35s 25ms/step - loss: 1.2313 - accuracy: 0.5561 - val_loss: 1.4948 - val_accuracy: 0.4812\n",
      "Epoch 43/100\n",
      "1407/1407 [==============================] - 37s 26ms/step - loss: 1.2227 - accuracy: 0.5615 - val_loss: 1.5432 - val_accuracy: 0.4718\n",
      "Epoch 44/100\n",
      "1407/1407 [==============================] - 36s 25ms/step - loss: 1.2160 - accuracy: 0.5638 - val_loss: 1.5743 - val_accuracy: 0.4690\n",
      "Epoch 45/100\n",
      "1407/1407 [==============================] - 36s 26ms/step - loss: 1.2103 - accuracy: 0.5656 - val_loss: 1.5422 - val_accuracy: 0.4736\n",
      "Epoch 46/100\n",
      "1407/1407 [==============================] - 38s 27ms/step - loss: 1.1978 - accuracy: 0.5686 - val_loss: 1.5322 - val_accuracy: 0.4838\n",
      "Epoch 47/100\n",
      "1407/1407 [==============================] - 34s 24ms/step - loss: 1.1865 - accuracy: 0.5743 - val_loss: 1.5118 - val_accuracy: 0.4844\n",
      "Epoch 48/100\n",
      "1407/1407 [==============================] - 37s 26ms/step - loss: 1.1890 - accuracy: 0.5721 - val_loss: 1.5169 - val_accuracy: 0.4844\n",
      "Epoch 49/100\n",
      "1407/1407 [==============================] - 36s 26ms/step - loss: 1.1774 - accuracy: 0.5762 - val_loss: 1.5419 - val_accuracy: 0.4778\n",
      "Epoch 50/100\n",
      "1407/1407 [==============================] - 35s 25ms/step - loss: 1.1682 - accuracy: 0.5804 - val_loss: 1.5774 - val_accuracy: 0.4714\n",
      "Epoch 51/100\n",
      "1407/1407 [==============================] - 35s 25ms/step - loss: 1.1607 - accuracy: 0.5846 - val_loss: 1.5328 - val_accuracy: 0.4832\n",
      "Epoch 52/100\n",
      "1407/1407 [==============================] - 37s 26ms/step - loss: 1.1540 - accuracy: 0.5848 - val_loss: 1.5450 - val_accuracy: 0.4834\n",
      "Epoch 53/100\n",
      "1407/1407 [==============================] - 37s 26ms/step - loss: 1.1452 - accuracy: 0.5914 - val_loss: 1.5599 - val_accuracy: 0.4820\n",
      "Epoch 54/100\n",
      "1407/1407 [==============================] - 35s 25ms/step - loss: 1.1411 - accuracy: 0.5902 - val_loss: 1.5756 - val_accuracy: 0.4628\n",
      "Epoch 55/100\n",
      "1407/1407 [==============================] - 37s 27ms/step - loss: 1.1353 - accuracy: 0.5942 - val_loss: 1.5273 - val_accuracy: 0.4912\n"
     ]
    },
    {
     "data": {
      "text/plain": [
       "<keras.callbacks.History at 0x14bbd907a00>"
      ]
     },
     "execution_count": 124,
     "metadata": {},
     "output_type": "execute_result"
    }
   ],
   "source": [
    "model.fit(X_train, y_train, epochs=100, validation_data=(X_valid, y_valid), callbacks=callbacks)"
   ]
  },
  {
   "cell_type": "code",
   "execution_count": 125,
   "id": "117316ea-7d56-4d75-bd07-ca99b1735156",
   "metadata": {
    "scrolled": true
   },
   "outputs": [
    {
     "name": "stdout",
     "output_type": "stream",
     "text": [
      "157/157 [==============================] - 1s 4ms/step - loss: 1.4948 - accuracy: 0.4800\n"
     ]
    },
    {
     "data": {
      "text/plain": [
       "[1.4947749376296997, 0.47999998927116394]"
      ]
     },
     "execution_count": 125,
     "metadata": {},
     "output_type": "execute_result"
    }
   ],
   "source": [
    "model = keras.models.load_model(\"my_cifar10_model.h5\")\n",
    "model.evaluate(X_valid, y_valid)"
   ]
  },
  {
   "cell_type": "markdown",
   "id": "89815f1e-195a-4300-a534-8f69b3ee48a5",
   "metadata": {},
   "source": [
    "가장 낮은 검증 손실을 내는 모델은 검증 세트에서 약 48.0% 정확도를 얻었다. 이 검증 점수에 도달하는데 35번의 에포크가 걸렸다. (GPU가 있는) 본 컴퓨터에서 에포크당 약 37초 정도 걸렸다. 배치 정규화를 사용해 성능을 올릴 수 있는지 확인해 본다."
   ]
  },
  {
   "cell_type": "markdown",
   "id": "4d61d31a-72f8-470c-9e37-9659b1f4d359",
   "metadata": {
    "tags": []
   },
   "source": [
    "### c.\n",
    "*배치 정규화를 추가하고 학습 곡선을 비교해 본다. 이전보다 빠르게 수렴할까? 더 좋은 모델이 만들어질까? 훈련 속도에는 어떤 영향을 미칠까?*"
   ]
  },
  {
   "cell_type": "markdown",
   "id": "8eaa1a4c-4192-4750-bda3-59aa0189a9d1",
   "metadata": {},
   "source": [
    "다음 코드는 위의 코드와 배우 비슷하다. 몇 가지 다른 점은 아래와 같다:\n",
    "\n",
    "* 출력층을 제외하고 모든 `Dense` 층 다음에 (활성화 함수 전에) BN 층을 추가했다. 처음 은닉층 전에도 BN 층을 추가했다.\n",
    "* 학습률을 5e-4로 바꾸었다. 1e-5, 3e-5, 5e-5, 1e-4, 3e-4, 5e-4, 1e-3, 3e-3를 시도해 보고 20번 에포크 후에 검증 세트 성능이 가장 좋은 것을 선택했다.\n",
    "* run_logdir를 run_bn_* 으로 이름을 바꾸고 모델 파일 이름을 my_cifar10_bn_model.h5로 변경했다."
   ]
  },
  {
   "cell_type": "code",
   "execution_count": 126,
   "id": "923fa35c-3e68-486e-93c8-95e7c5e67b34",
   "metadata": {
    "scrolled": true
   },
   "outputs": [
    {
     "name": "stdout",
     "output_type": "stream",
     "text": [
      "Epoch 1/100\n",
      "1407/1407 [==============================] - 103s 67ms/step - loss: 1.8380 - accuracy: 0.3427 - val_loss: 1.6729 - val_accuracy: 0.3954\n",
      "Epoch 2/100\n",
      "1407/1407 [==============================] - 88s 62ms/step - loss: 1.6598 - accuracy: 0.4112 - val_loss: 1.5862 - val_accuracy: 0.4328\n",
      "Epoch 3/100\n",
      "1407/1407 [==============================] - 89s 63ms/step - loss: 1.5974 - accuracy: 0.4326 - val_loss: 1.5391 - val_accuracy: 0.4484\n",
      "Epoch 4/100\n",
      "1407/1407 [==============================] - 91s 65ms/step - loss: 1.5449 - accuracy: 0.4510 - val_loss: 1.4847 - val_accuracy: 0.4692\n",
      "Epoch 5/100\n",
      "1407/1407 [==============================] - 92s 65ms/step - loss: 1.5052 - accuracy: 0.4645 - val_loss: 1.4590 - val_accuracy: 0.4778\n",
      "Epoch 6/100\n",
      "1407/1407 [==============================] - 91s 65ms/step - loss: 1.4667 - accuracy: 0.4801 - val_loss: 1.4634 - val_accuracy: 0.4756\n",
      "Epoch 7/100\n",
      "1407/1407 [==============================] - 92s 65ms/step - loss: 1.4345 - accuracy: 0.4910 - val_loss: 1.4316 - val_accuracy: 0.4826\n",
      "Epoch 8/100\n",
      "1407/1407 [==============================] - 89s 64ms/step - loss: 1.4044 - accuracy: 0.5029 - val_loss: 1.3901 - val_accuracy: 0.5052\n",
      "Epoch 9/100\n",
      "1407/1407 [==============================] - 89s 63ms/step - loss: 1.3770 - accuracy: 0.5148 - val_loss: 1.3636 - val_accuracy: 0.5186\n",
      "Epoch 10/100\n",
      "1407/1407 [==============================] - 88s 63ms/step - loss: 1.3531 - accuracy: 0.5197 - val_loss: 1.3683 - val_accuracy: 0.5206\n",
      "Epoch 11/100\n",
      "1407/1407 [==============================] - 93s 66ms/step - loss: 1.3327 - accuracy: 0.5281 - val_loss: 1.3603 - val_accuracy: 0.5222\n",
      "Epoch 12/100\n",
      "1407/1407 [==============================] - 88s 63ms/step - loss: 1.3116 - accuracy: 0.5363 - val_loss: 1.3486 - val_accuracy: 0.5252\n",
      "Epoch 13/100\n",
      "1407/1407 [==============================] - 87s 62ms/step - loss: 1.2920 - accuracy: 0.5433 - val_loss: 1.3586 - val_accuracy: 0.5206\n",
      "Epoch 14/100\n",
      "1407/1407 [==============================] - 88s 62ms/step - loss: 1.2736 - accuracy: 0.5477 - val_loss: 1.3814 - val_accuracy: 0.5142\n",
      "Epoch 15/100\n",
      "1407/1407 [==============================] - 89s 63ms/step - loss: 1.2576 - accuracy: 0.5555 - val_loss: 1.3625 - val_accuracy: 0.5214\n",
      "Epoch 16/100\n",
      "1407/1407 [==============================] - 87s 62ms/step - loss: 1.2416 - accuracy: 0.5625 - val_loss: 1.3421 - val_accuracy: 0.5270\n",
      "Epoch 17/100\n",
      "1407/1407 [==============================] - 88s 63ms/step - loss: 1.2269 - accuracy: 0.5671 - val_loss: 1.3557 - val_accuracy: 0.5332\n",
      "Epoch 18/100\n",
      "1407/1407 [==============================] - 93s 66ms/step - loss: 1.2086 - accuracy: 0.5730 - val_loss: 1.3868 - val_accuracy: 0.5248\n",
      "Epoch 19/100\n",
      "1407/1407 [==============================] - 89s 63ms/step - loss: 1.2038 - accuracy: 0.5755 - val_loss: 1.3380 - val_accuracy: 0.5232\n",
      "Epoch 20/100\n",
      "1407/1407 [==============================] - 92s 65ms/step - loss: 1.1868 - accuracy: 0.5820 - val_loss: 1.3451 - val_accuracy: 0.5324\n",
      "Epoch 21/100\n",
      "1407/1407 [==============================] - 88s 63ms/step - loss: 1.1666 - accuracy: 0.5900 - val_loss: 1.3278 - val_accuracy: 0.5388\n",
      "Epoch 22/100\n",
      "1407/1407 [==============================] - 91s 65ms/step - loss: 1.1590 - accuracy: 0.5924 - val_loss: 1.3666 - val_accuracy: 0.5246\n",
      "Epoch 23/100\n",
      "1407/1407 [==============================] - 90s 64ms/step - loss: 1.1439 - accuracy: 0.5952 - val_loss: 1.3434 - val_accuracy: 0.5346\n",
      "Epoch 24/100\n",
      "1407/1407 [==============================] - 92s 66ms/step - loss: 1.1349 - accuracy: 0.5996 - val_loss: 1.3168 - val_accuracy: 0.5498\n",
      "Epoch 25/100\n",
      "1407/1407 [==============================] - 90s 64ms/step - loss: 1.1257 - accuracy: 0.6032 - val_loss: 1.3779 - val_accuracy: 0.5244\n",
      "Epoch 26/100\n",
      "1407/1407 [==============================] - 92s 65ms/step - loss: 1.1194 - accuracy: 0.6037 - val_loss: 1.3290 - val_accuracy: 0.5408\n",
      "Epoch 27/100\n",
      "1407/1407 [==============================] - 94s 67ms/step - loss: 1.0995 - accuracy: 0.6108 - val_loss: 1.3307 - val_accuracy: 0.5392\n",
      "Epoch 28/100\n",
      "1407/1407 [==============================] - 94s 67ms/step - loss: 1.0859 - accuracy: 0.6155 - val_loss: 1.3473 - val_accuracy: 0.5434\n",
      "Epoch 29/100\n",
      "1407/1407 [==============================] - 90s 64ms/step - loss: 1.0748 - accuracy: 0.6213 - val_loss: 1.3314 - val_accuracy: 0.5418\n",
      "Epoch 30/100\n",
      "1407/1407 [==============================] - 92s 65ms/step - loss: 1.0695 - accuracy: 0.6218 - val_loss: 1.3524 - val_accuracy: 0.5424\n",
      "Epoch 31/100\n",
      "1407/1407 [==============================] - 92s 65ms/step - loss: 1.0571 - accuracy: 0.6292 - val_loss: 1.3663 - val_accuracy: 0.5410\n",
      "Epoch 32/100\n",
      "1407/1407 [==============================] - 93s 66ms/step - loss: 1.0459 - accuracy: 0.6300 - val_loss: 1.3601 - val_accuracy: 0.5382\n",
      "Epoch 33/100\n",
      "1407/1407 [==============================] - 92s 65ms/step - loss: 1.0368 - accuracy: 0.6356 - val_loss: 1.3485 - val_accuracy: 0.5506\n",
      "Epoch 34/100\n",
      "1407/1407 [==============================] - 88s 63ms/step - loss: 1.0274 - accuracy: 0.6356 - val_loss: 1.3442 - val_accuracy: 0.5494\n",
      "Epoch 35/100\n",
      "1407/1407 [==============================] - 89s 63ms/step - loss: 1.0225 - accuracy: 0.6410 - val_loss: 1.3911 - val_accuracy: 0.5388\n",
      "Epoch 36/100\n",
      "1407/1407 [==============================] - 90s 64ms/step - loss: 1.0091 - accuracy: 0.6449 - val_loss: 1.3412 - val_accuracy: 0.5516\n",
      "Epoch 37/100\n",
      "1407/1407 [==============================] - 91s 65ms/step - loss: 0.9980 - accuracy: 0.6467 - val_loss: 1.3755 - val_accuracy: 0.5420\n",
      "Epoch 38/100\n",
      "1407/1407 [==============================] - 88s 62ms/step - loss: 0.9879 - accuracy: 0.6529 - val_loss: 1.3586 - val_accuracy: 0.5490\n",
      "Epoch 39/100\n",
      "1407/1407 [==============================] - 89s 63ms/step - loss: 0.9842 - accuracy: 0.6534 - val_loss: 1.3483 - val_accuracy: 0.5464\n",
      "Epoch 40/100\n",
      "1407/1407 [==============================] - 91s 65ms/step - loss: 0.9733 - accuracy: 0.6604 - val_loss: 1.3928 - val_accuracy: 0.5410\n",
      "Epoch 41/100\n",
      "1407/1407 [==============================] - 88s 62ms/step - loss: 0.9665 - accuracy: 0.6588 - val_loss: 1.3741 - val_accuracy: 0.5410\n",
      "Epoch 42/100\n",
      "1407/1407 [==============================] - 93s 66ms/step - loss: 0.9603 - accuracy: 0.6626 - val_loss: 1.3810 - val_accuracy: 0.5424\n",
      "Epoch 43/100\n",
      "1407/1407 [==============================] - 95s 67ms/step - loss: 0.9537 - accuracy: 0.6639 - val_loss: 1.4044 - val_accuracy: 0.5424\n",
      "Epoch 44/100\n",
      "1407/1407 [==============================] - 96s 69ms/step - loss: 0.9413 - accuracy: 0.6696 - val_loss: 1.3844 - val_accuracy: 0.5458\n",
      "157/157 [==============================] - 2s 9ms/step - loss: 1.3168 - accuracy: 0.5498\n"
     ]
    },
    {
     "data": {
      "text/plain": [
       "[1.3168394565582275, 0.5497999787330627]"
      ]
     },
     "execution_count": 126,
     "metadata": {},
     "output_type": "execute_result"
    }
   ],
   "source": [
    "keras.backend.clear_session()\n",
    "model = keras.models.Sequential()\n",
    "model.add(keras.layers.Flatten(input_shape=[32, 32, 3]))\n",
    "model.add(keras.layers.BatchNormalization())\n",
    "for _ in range(20):\n",
    "    model.add(keras.layers.Dense(100, kernel_initializer=\"he_normal\"))\n",
    "    model.add(keras.layers.BatchNormalization())\n",
    "    model.add(keras.layers.Activation(\"elu\"))\n",
    "model.add(keras.layers.Dense(10, activation=\"softmax\"))\n",
    "optimizer = keras.optimizers.Nadam(learning_rate=5e-4)\n",
    "model.compile(loss=\"sparse_categorical_crossentropy\", optimizer=optimizer, metrics=[\"accuracy\"])\n",
    "early_stopping_cb = keras.callbacks.EarlyStopping(patience=20)\n",
    "model_checkpoint_cb = keras.callbacks.ModelCheckpoint(\"my_cifar10_bn_model.h5\", save_best_only=True)\n",
    "run_index = 1  # 모델을 훈련할 때마다 증가시킴\n",
    "run_logdir = os.path.join(os.curdir, \"my_cifar10_logs\", f\"run_bn_{run_index:03d}\")\n",
    "tensorboard_cb = keras.callbacks.TensorBoard(run_logdir)\n",
    "callbacks = [early_stopping_cb, model_checkpoint_cb, tensorboard_cb]\n",
    "model.fit(X_train, y_train, epochs=100, validation_data=(X_valid, y_valid), callbacks=callbacks)\n",
    "model = keras.models.load_model(\"my_cifar10_bn_model.h5\")\n",
    "model.evaluate(X_valid, y_valid)"
   ]
  },
  {
   "cell_type": "markdown",
   "id": "17d1d5d8-c532-4e1a-8354-1f4c26384d61",
   "metadata": {
    "tags": []
   },
   "source": [
    "* *이전보다 빠르게 수렴할까?* 훨씬 빠르다! 이전 모델은 가장 낮은 검증 손실에 도달하기 위해 35 에포크가 걸렸지만 새 모델은 동일한 손실에 도달하는데 4 에포크가 걸렸고 24 에포크까지 계속 줄어든다. 이전 모델보다 두 배 이상 빠르다. BN 층은 훈련을 안정적으로 수행하고 더 큰 학습률을 사용할 수 있기 때문에 수렴이 빨라졌다.\n",
    "* *BN이 더 좋은 모델을 만들까?* 그렇다! 최종 모델의 성능이 48.0%가 아니라 55.0% 정확도로 더 좋다. 이는 아주 좋은 모델이 아니지만 적어도 이전보다는 낫다(합성곱 신경망이 더 낫겠지만 이는 다른 주제이다.).\n",
    "* *BN이 훈련 속도에 영향을 미칠까?* 모델이 훨씬 빠르게 수렴했지만 각 에포크는 37초가 아니라 96초가 걸렸다. BN 층에서 추가된 계산 때문이다. 하지만 전반적인 훈련 시간(탁상 시계 시간)은 크게 줄었다!"
   ]
  },
  {
   "cell_type": "markdown",
   "id": "2897f118-6ac8-4cda-a084-74e91caa76a5",
   "metadata": {},
   "source": [
    "### d.\n",
    "*배치 정규화를 SELU로 바꾸어 본다. 네트워크가 자기 정규화하기 위해 필요한 변경 사항을 적용한다(즉, 입력 특성 표준화, 르쿤 정규분포 초기화, 완전 연결 층만 순차적으로 쌓은 심층 신경망 등).*"
   ]
  },
  {
   "cell_type": "code",
   "execution_count": 127,
   "id": "3b1dab00-012c-4159-9cb9-b3bb5afd0758",
   "metadata": {
    "scrolled": true
   },
   "outputs": [
    {
     "name": "stdout",
     "output_type": "stream",
     "text": [
      "Epoch 1/100\n",
      "1407/1407 [==============================] - 41s 27ms/step - loss: 1.9389 - accuracy: 0.3058 - val_loss: 1.8463 - val_accuracy: 0.3426\n",
      "Epoch 2/100\n",
      "1407/1407 [==============================] - 40s 28ms/step - loss: 1.7199 - accuracy: 0.3923 - val_loss: 1.7203 - val_accuracy: 0.3618\n",
      "Epoch 3/100\n",
      "1407/1407 [==============================] - 40s 29ms/step - loss: 1.6285 - accuracy: 0.4244 - val_loss: 1.6384 - val_accuracy: 0.4166\n",
      "Epoch 4/100\n",
      "1407/1407 [==============================] - 40s 28ms/step - loss: 1.5582 - accuracy: 0.4533 - val_loss: 1.6566 - val_accuracy: 0.4270\n",
      "Epoch 5/100\n",
      "1407/1407 [==============================] - 40s 28ms/step - loss: 1.5027 - accuracy: 0.4748 - val_loss: 1.5972 - val_accuracy: 0.4496\n",
      "Epoch 6/100\n",
      "1407/1407 [==============================] - 40s 28ms/step - loss: 1.4619 - accuracy: 0.4894 - val_loss: 1.5634 - val_accuracy: 0.4674\n",
      "Epoch 7/100\n",
      "1407/1407 [==============================] - 38s 27ms/step - loss: 1.4170 - accuracy: 0.5060 - val_loss: 1.5377 - val_accuracy: 0.4668\n",
      "Epoch 8/100\n",
      "1407/1407 [==============================] - 40s 28ms/step - loss: 1.3820 - accuracy: 0.5209 - val_loss: 1.4820 - val_accuracy: 0.4798\n",
      "Epoch 9/100\n",
      "1407/1407 [==============================] - 37s 26ms/step - loss: 1.3422 - accuracy: 0.5351 - val_loss: 1.5311 - val_accuracy: 0.4710\n",
      "Epoch 10/100\n",
      "1407/1407 [==============================] - 39s 28ms/step - loss: 1.3129 - accuracy: 0.5460 - val_loss: 1.4551 - val_accuracy: 0.4990\n",
      "Epoch 11/100\n",
      "1407/1407 [==============================] - 38s 27ms/step - loss: 1.2908 - accuracy: 0.5532 - val_loss: 1.4657 - val_accuracy: 0.4944\n",
      "Epoch 12/100\n",
      "1407/1407 [==============================] - 35s 25ms/step - loss: 1.2559 - accuracy: 0.5687 - val_loss: 1.5126 - val_accuracy: 0.4828\n",
      "Epoch 13/100\n",
      "1407/1407 [==============================] - 37s 26ms/step - loss: 1.2294 - accuracy: 0.5766 - val_loss: 1.5040 - val_accuracy: 0.4914\n",
      "Epoch 14/100\n",
      "1407/1407 [==============================] - 39s 28ms/step - loss: 1.2121 - accuracy: 0.5839 - val_loss: 1.4823 - val_accuracy: 0.4896\n",
      "Epoch 15/100\n",
      "1407/1407 [==============================] - 39s 28ms/step - loss: 1.1905 - accuracy: 0.5936 - val_loss: 1.4794 - val_accuracy: 0.5012\n",
      "Epoch 16/100\n",
      "1407/1407 [==============================] - 39s 28ms/step - loss: 1.1628 - accuracy: 0.6026 - val_loss: 1.4969 - val_accuracy: 0.5010\n",
      "Epoch 17/100\n",
      "1407/1407 [==============================] - 39s 27ms/step - loss: 1.1541 - accuracy: 0.6054 - val_loss: 1.4981 - val_accuracy: 0.5052\n",
      "Epoch 18/100\n",
      "1407/1407 [==============================] - 37s 26ms/step - loss: 1.1243 - accuracy: 0.6167 - val_loss: 1.5494 - val_accuracy: 0.4974\n",
      "Epoch 19/100\n",
      "1407/1407 [==============================] - 37s 26ms/step - loss: 1.1091 - accuracy: 0.6239 - val_loss: 1.5247 - val_accuracy: 0.5076\n",
      "Epoch 20/100\n",
      "1407/1407 [==============================] - 38s 27ms/step - loss: 1.0826 - accuracy: 0.6315 - val_loss: 1.4974 - val_accuracy: 0.5056\n",
      "Epoch 21/100\n",
      "1407/1407 [==============================] - 38s 27ms/step - loss: 1.0769 - accuracy: 0.6357 - val_loss: 1.4830 - val_accuracy: 0.5012\n",
      "Epoch 22/100\n",
      "1407/1407 [==============================] - 38s 27ms/step - loss: 1.0564 - accuracy: 0.6410 - val_loss: 1.5534 - val_accuracy: 0.5056\n",
      "Epoch 23/100\n",
      "1407/1407 [==============================] - 39s 27ms/step - loss: 1.0485 - accuracy: 0.6480 - val_loss: 1.5182 - val_accuracy: 0.5052\n",
      "Epoch 24/100\n",
      "1407/1407 [==============================] - 37s 26ms/step - loss: 1.0222 - accuracy: 0.6541 - val_loss: 1.5305 - val_accuracy: 0.5062\n",
      "Epoch 25/100\n",
      "1407/1407 [==============================] - 37s 26ms/step - loss: 1.0063 - accuracy: 0.6602 - val_loss: 1.5776 - val_accuracy: 0.5094\n",
      "Epoch 26/100\n",
      "1407/1407 [==============================] - 36s 25ms/step - loss: 0.9855 - accuracy: 0.6696 - val_loss: 1.5705 - val_accuracy: 0.4918\n",
      "Epoch 27/100\n",
      "1407/1407 [==============================] - 38s 27ms/step - loss: 0.9819 - accuracy: 0.6713 - val_loss: 1.5834 - val_accuracy: 0.5070\n",
      "Epoch 28/100\n",
      "1407/1407 [==============================] - 34s 24ms/step - loss: 0.9600 - accuracy: 0.6793 - val_loss: 1.5810 - val_accuracy: 0.5022\n",
      "Epoch 29/100\n",
      "1407/1407 [==============================] - 36s 26ms/step - loss: 0.9512 - accuracy: 0.6815 - val_loss: 1.5556 - val_accuracy: 0.5144\n",
      "Epoch 30/100\n",
      "1407/1407 [==============================] - 35s 25ms/step - loss: 0.9362 - accuracy: 0.6842 - val_loss: 1.5980 - val_accuracy: 0.5078\n",
      "157/157 [==============================] - 1s 4ms/step - loss: 1.4551 - accuracy: 0.4990\n"
     ]
    },
    {
     "data": {
      "text/plain": [
       "[1.4550639390945435, 0.49900001287460327]"
      ]
     },
     "execution_count": 127,
     "metadata": {},
     "output_type": "execute_result"
    }
   ],
   "source": [
    "keras.backend.clear_session()\n",
    "model = keras.models.Sequential()\n",
    "model.add(keras.layers.Flatten(input_shape=[32, 32, 3]))\n",
    "for _ in range(20):\n",
    "    model.add(keras.layers.Dense(100, kernel_initializer=\"lecun_normal\", activation=\"selu\"))\n",
    "model.add(keras.layers.Dense(10, activation=\"softmax\"))\n",
    "optimizer = keras.optimizers.Nadam(learning_rate=7e-4)\n",
    "model.compile(loss=\"sparse_categorical_crossentropy\", optimizer=optimizer, metrics=[\"accuracy\"])\n",
    "early_stopping_cb = keras.callbacks.EarlyStopping(patience=20)\n",
    "model_checkpoint_cb = keras.callbacks.ModelCheckpoint(\"my_cifar10_selu_model.h5\", save_best_only=True)\n",
    "run_index = 1  # 모델을 훈련할 때마다 증가시킴\n",
    "run_logdir = os.path.join(os.curdir, \"my_cifar10_logs\", f\"run_selu_{run_index:03d}\")\n",
    "tensorboard_cb = keras.callbacks.TensorBoard(run_logdir)\n",
    "callbacks = [early_stopping_cb, model_checkpoint_cb, tensorboard_cb]\n",
    "X_means = X_train.mean(axis=0)\n",
    "X_stds = X_train.std(axis=0)\n",
    "X_train_scaled = (X_train - X_means) / X_stds\n",
    "X_valid_scaled = (X_valid - X_means) / X_stds\n",
    "X_test_scaled = (X_test - X_means) / X_stds\n",
    "model.fit(X_train_scaled, y_train, epochs=100, validation_data=(X_valid_scaled, y_valid), callbacks=callbacks)\n",
    "model = keras.models.load_model(\"my_cifar10_selu_model.h5\")\n",
    "model.evaluate(X_valid_scaled, y_valid)"
   ]
  },
  {
   "cell_type": "code",
   "execution_count": 130,
   "id": "a1ef1581-6b11-4197-92bd-bf707f034761",
   "metadata": {
    "scrolled": true
   },
   "outputs": [
    {
     "name": "stdout",
     "output_type": "stream",
     "text": [
      "157/157 [==============================] - 1s 4ms/step - loss: 1.4551 - accuracy: 0.4990\n"
     ]
    },
    {
     "data": {
      "text/plain": [
       "[1.4550639390945435, 0.49900001287460327]"
      ]
     },
     "execution_count": 130,
     "metadata": {},
     "output_type": "execute_result"
    }
   ],
   "source": [
    "model = keras.models.load_model(\"my_cifar10_selu_model.h5\")\n",
    "model.evaluate(X_valid_scaled, y_valid)"
   ]
  },
  {
   "cell_type": "markdown",
   "id": "4d500ce9-39fd-4493-881c-9317885f4e80",
   "metadata": {
    "tags": []
   },
   "source": [
    "49.9% 정확도를 얻었다. 원래 모델(48.0%)보다 크게 높지 않다. 배치 정규화를 사용한 모델(55.0%)만큼 좋지도 않다. 하지만 BN 모델만큼 빠르게 수렴했다. 각 에포크는 35초만 걸렸다. 따라서 이 모델이 지금까지 가장 빠른 모델이다."
   ]
  },
  {
   "cell_type": "markdown",
   "id": "3f5fc59f-adb7-488a-bd44-ce26db210044",
   "metadata": {},
   "source": [
    "### e.\n",
    "*알파 드롭아웃으로 모델에 규제를 적용해 본다. 그다음 모델을 다시 훈련하지 않고 MC 드롭아웃으로 더 높은 정확도를 얻을 수 있는지 확인해 본다.*"
   ]
  },
  {
   "cell_type": "code",
   "execution_count": 128,
   "id": "c020a440-67bc-4750-9035-23a8fd97af45",
   "metadata": {
    "scrolled": true
   },
   "outputs": [
    {
     "name": "stdout",
     "output_type": "stream",
     "text": [
      "Epoch 1/100\n",
      "1407/1407 [==============================] - 41s 27ms/step - loss: 1.9135 - accuracy: 0.3225 - val_loss: 1.8163 - val_accuracy: 0.3480\n",
      "Epoch 2/100\n",
      "1407/1407 [==============================] - 35s 25ms/step - loss: 1.6569 - accuracy: 0.4151 - val_loss: 1.6364 - val_accuracy: 0.4250\n",
      "Epoch 3/100\n",
      "1407/1407 [==============================] - 40s 28ms/step - loss: 1.5660 - accuracy: 0.4515 - val_loss: 1.6510 - val_accuracy: 0.4292\n",
      "Epoch 4/100\n",
      "1407/1407 [==============================] - 39s 27ms/step - loss: 1.4981 - accuracy: 0.4781 - val_loss: 1.5706 - val_accuracy: 0.4492\n",
      "Epoch 5/100\n",
      "1407/1407 [==============================] - 37s 26ms/step - loss: 1.4436 - accuracy: 0.4924 - val_loss: 1.5441 - val_accuracy: 0.4750\n",
      "Epoch 6/100\n",
      "1407/1407 [==============================] - 34s 24ms/step - loss: 1.3950 - accuracy: 0.5096 - val_loss: 1.6240 - val_accuracy: 0.4734\n",
      "Epoch 7/100\n",
      "1407/1407 [==============================] - 37s 26ms/step - loss: 1.3502 - accuracy: 0.5273 - val_loss: 1.5800 - val_accuracy: 0.4690\n",
      "Epoch 8/100\n",
      "1407/1407 [==============================] - 35s 25ms/step - loss: 1.3091 - accuracy: 0.5443 - val_loss: 1.5598 - val_accuracy: 0.4898\n",
      "Epoch 9/100\n",
      "1407/1407 [==============================] - 39s 28ms/step - loss: 1.2732 - accuracy: 0.5555 - val_loss: 1.5676 - val_accuracy: 0.4952\n",
      "Epoch 10/100\n",
      "1407/1407 [==============================] - 34s 24ms/step - loss: 1.2468 - accuracy: 0.5680 - val_loss: 1.5751 - val_accuracy: 0.4950\n",
      "Epoch 11/100\n",
      "1407/1407 [==============================] - 35s 25ms/step - loss: 1.2117 - accuracy: 0.5799 - val_loss: 1.5449 - val_accuracy: 0.4950\n",
      "Epoch 12/100\n",
      "1407/1407 [==============================] - 35s 25ms/step - loss: 1.1889 - accuracy: 0.5876 - val_loss: 1.5764 - val_accuracy: 0.4974\n",
      "Epoch 13/100\n",
      "1407/1407 [==============================] - 40s 28ms/step - loss: 1.1545 - accuracy: 0.6017 - val_loss: 1.5645 - val_accuracy: 0.4920\n",
      "Epoch 14/100\n",
      "1407/1407 [==============================] - 142s 101ms/step - loss: 1.1309 - accuracy: 0.6092 - val_loss: 1.5837 - val_accuracy: 0.5012\n",
      "Epoch 15/100\n",
      "1407/1407 [==============================] - 235s 167ms/step - loss: 1.1057 - accuracy: 0.6180 - val_loss: 1.6421 - val_accuracy: 0.5098\n",
      "Epoch 16/100\n",
      "1407/1407 [==============================] - 195s 139ms/step - loss: 1.0816 - accuracy: 0.6278 - val_loss: 1.6449 - val_accuracy: 0.5064\n",
      "Epoch 17/100\n",
      "1407/1407 [==============================] - 375s 267ms/step - loss: 1.0605 - accuracy: 0.6379 - val_loss: 1.6041 - val_accuracy: 0.5080\n",
      "Epoch 18/100\n",
      "1407/1407 [==============================] - 157s 111ms/step - loss: 1.0364 - accuracy: 0.6433 - val_loss: 1.6474 - val_accuracy: 0.4996\n",
      "Epoch 19/100\n",
      "1407/1407 [==============================] - 38s 27ms/step - loss: 1.0119 - accuracy: 0.6505 - val_loss: 1.6357 - val_accuracy: 0.5056\n",
      "Epoch 20/100\n",
      "1407/1407 [==============================] - 37s 26ms/step - loss: 0.9970 - accuracy: 0.6577 - val_loss: 1.6848 - val_accuracy: 0.4888\n",
      "Epoch 21/100\n",
      "1407/1407 [==============================] - 38s 27ms/step - loss: 0.9783 - accuracy: 0.6637 - val_loss: 1.7323 - val_accuracy: 0.5042\n",
      "Epoch 22/100\n",
      "1407/1407 [==============================] - 39s 28ms/step - loss: 0.9549 - accuracy: 0.6738 - val_loss: 1.6534 - val_accuracy: 0.5138\n",
      "Epoch 23/100\n",
      "1407/1407 [==============================] - 37s 27ms/step - loss: 0.9397 - accuracy: 0.6796 - val_loss: 1.7250 - val_accuracy: 0.5058\n",
      "Epoch 24/100\n",
      "1407/1407 [==============================] - 37s 26ms/step - loss: 0.9226 - accuracy: 0.6854 - val_loss: 1.7111 - val_accuracy: 0.5082\n",
      "Epoch 25/100\n",
      "1407/1407 [==============================] - 34s 24ms/step - loss: 0.9046 - accuracy: 0.6920 - val_loss: 1.8087 - val_accuracy: 0.4982\n",
      "157/157 [==============================] - 1s 4ms/step - loss: 1.5441 - accuracy: 0.4750\n"
     ]
    },
    {
     "data": {
      "text/plain": [
       "[1.544118881225586, 0.4749999940395355]"
      ]
     },
     "execution_count": 128,
     "metadata": {},
     "output_type": "execute_result"
    }
   ],
   "source": [
    "keras.backend.clear_session()\n",
    "model = keras.models.Sequential()\n",
    "model.add(keras.layers.Flatten(input_shape=[32, 32, 3]))\n",
    "for _ in range(20):\n",
    "    model.add(keras.layers.Dense(100, kernel_initializer=\"lecun_normal\", activation=\"selu\"))\n",
    "model.add(keras.layers.AlphaDropout(rate=0.1))\n",
    "model.add(keras.layers.Dense(10, activation=\"softmax\"))\n",
    "optimizer = keras.optimizers.Nadam(learning_rate=5e-4)\n",
    "model.compile(loss=\"sparse_categorical_crossentropy\", optimizer=optimizer, metrics=[\"accuracy\"])\n",
    "early_stopping_cb = keras.callbacks.EarlyStopping(patience=20)\n",
    "model_checkpoint_cb = keras.callbacks.ModelCheckpoint(\"my_cifar10_alpha_dropout_model.h5\", save_best_only=True)\n",
    "run_index = 1  # 모델을 훈련할 때마다 증가시킴\n",
    "run_logdir = os.path.join(os.curdir, \"my_cifar10_logs\", f\"run_alpha_dropout_{run_index:03d}\")\n",
    "tensorboard_cb = keras.callbacks.TensorBoard(run_logdir)\n",
    "callbacks = [early_stopping_cb, model_checkpoint_cb, tensorboard_cb]\n",
    "X_means = X_train.mean(axis=0)\n",
    "X_stds = X_train.std(axis=0)\n",
    "X_train_scaled = (X_train - X_means) / X_stds\n",
    "X_valid_scaled = (X_valid - X_means) / X_stds\n",
    "X_test_scaled = (X_test - X_means) / X_stds\n",
    "model.fit(X_train_scaled, y_train, epochs=100, validation_data=(X_valid_scaled, y_valid), callbacks=callbacks)\n",
    "model = keras.models.load_model(\"my_cifar10_alpha_dropout_model.h5\")\n",
    "model.evaluate(X_valid_scaled, y_valid)"
   ]
  },
  {
   "cell_type": "markdown",
   "id": "78f9c6f7-efdf-41db-bcc5-4cea1eb77c22",
   "metadata": {},
   "source": [
    "이 모델은 검증 세트에서 47.5% 정확도에 도달한다. 드롭아웃이 없을 때보다(48.0%) 조금 더 나쁘다. 하이퍼파라미터 탐색을 좀 많이 수행해 보면 더 나아질 수 있다(드롭아웃 비율 5%, 10%, 20%, 40%과 학습률 1e-4, 3e-4, 5e-4, 1e-3을 시도했다). 하지만 이 경우에는 크지 않을 것 같다."
   ]
  },
  {
   "cell_type": "markdown",
   "id": "2870351d-e862-4b24-b857-8a7181949be6",
   "metadata": {},
   "source": [
    "이제 MC 드롭아웃을 사용해 본다. 앞서 사용한 `MCAlphaDropout` 클래스를 복사해 사용하겠다:"
   ]
  },
  {
   "cell_type": "code",
   "execution_count": 131,
   "id": "71846b75-c731-427d-a471-55892fc1f637",
   "metadata": {
    "scrolled": true
   },
   "outputs": [],
   "source": [
    "class MCAlphaDropout(keras.layers.AlphaDropout):\n",
    "    def call(self, inputs):\n",
    "        return super().call(inputs, training=True)"
   ]
  },
  {
   "cell_type": "markdown",
   "id": "fa159760-f526-44a0-b717-7dce2b204220",
   "metadata": {},
   "source": [
    "방금 훈련했던 모델과 (같은 가중치를 가진) 동일한 새로운 모델을 만들어 본다. 하지만 `AlphaDropout` 층 대신 `MCAlphaDropout` 드롭아웃 층을 사용한다:"
   ]
  },
  {
   "cell_type": "code",
   "execution_count": 132,
   "id": "8c446936-fa4b-4f75-b38e-b564beee29a5",
   "metadata": {
    "scrolled": true
   },
   "outputs": [],
   "source": [
    "mc_model = keras.models.Sequential(\n",
    "    [MCAlphaDropout(layer.rate) if isinstance(layer, keras.layers.AlphaDropout) else layer for layer in model.layers]\n",
    ")"
   ]
  },
  {
   "cell_type": "markdown",
   "id": "b6b0fd95-16e0-4f1d-a704-ba303134d413",
   "metadata": {},
   "source": [
    "그다음 몇 가지 유틸리티 함수를 추가한다. 첫 번째 함수는 모델을 여러 번 실행한다(기본적으로 10번). 그다음 평균한 예측 클래스 확률을 반환한다. 두 번째 함수는 이 평균 확률을 사용해 각 샘플의 클래스를 예측한다:"
   ]
  },
  {
   "cell_type": "code",
   "execution_count": 133,
   "id": "782e105d-c2bf-4fdf-b274-7c5cb54ca701",
   "metadata": {
    "scrolled": true
   },
   "outputs": [],
   "source": [
    "def mc_dropout_predict_probas(mc_model, X, n_samples=10):\n",
    "    Y_probas = [mc_model.predict(X) for _ in range(n_samples)]\n",
    "    return np.mean(Y_probas, axis=0)\n",
    "\n",
    "\n",
    "def mc_dropout_predict_classes(mc_model, X, n_samples=10):\n",
    "    Y_probas = mc_dropout_predict_probas(mc_model, X, n_samples)\n",
    "    return np.argmax(Y_probas, axis=1)"
   ]
  },
  {
   "cell_type": "markdown",
   "id": "7265ed70-3fa1-448a-af43-80062c5cfd85",
   "metadata": {},
   "source": [
    "이제 검증 세트의 모든 샘플에 대해 예측을 만들고 정확도를 계산해 본다:"
   ]
  },
  {
   "cell_type": "code",
   "execution_count": 134,
   "id": "b0e4d150-cdf1-4653-81de-ac0e5a1088d6",
   "metadata": {
    "scrolled": true
   },
   "outputs": [
    {
     "name": "stdout",
     "output_type": "stream",
     "text": [
      "157/157 [==============================] - 1s 2ms/step\n",
      "157/157 [==============================] - 0s 2ms/step\n",
      "157/157 [==============================] - 0s 2ms/step\n",
      "157/157 [==============================] - 0s 2ms/step\n",
      "157/157 [==============================] - 0s 2ms/step\n",
      "157/157 [==============================] - 0s 2ms/step\n",
      "157/157 [==============================] - 0s 2ms/step\n",
      "157/157 [==============================] - 0s 2ms/step\n",
      "157/157 [==============================] - 0s 2ms/step\n",
      "157/157 [==============================] - 0s 2ms/step\n"
     ]
    },
    {
     "data": {
      "text/plain": [
       "0.499"
      ]
     },
     "execution_count": 134,
     "metadata": {},
     "output_type": "execute_result"
    }
   ],
   "source": [
    "keras.backend.clear_session()\n",
    "y_pred = mc_dropout_predict_classes(mc_model, X_valid_scaled)\n",
    "accuracy = np.mean(y_pred == y_valid[:, 0])\n",
    "accuracy"
   ]
  },
  {
   "cell_type": "markdown",
   "id": "1c6c6655-4fbb-490d-8fe3-93a1c1727fff",
   "metadata": {},
   "source": [
    "이 경우에는 정확도 향상이 조금 있다(정확도는 49.9%이다).\n",
    "\n",
    "따라서 이 연습에서 얻은 최상의 모델은 배치 정규화 모델이다."
   ]
  },
  {
   "cell_type": "markdown",
   "id": "e8343b42-3651-4628-815e-cbbbc3f3ec23",
   "metadata": {},
   "source": [
    "### f.\n",
    "*1 사이클 스케줄링으로 모델을 다시 훈련하고 훈련 속도와 모델 정확도가 향상되는지 확인해 본다.*"
   ]
  },
  {
   "cell_type": "code",
   "execution_count": 142,
   "id": "833609cf-4102-48da-b6a6-5063606eb5e6",
   "metadata": {
    "scrolled": true
   },
   "outputs": [],
   "source": [
    "keras.backend.clear_session()\n",
    "model = keras.models.Sequential()\n",
    "model.add(keras.layers.Flatten(input_shape=[32, 32, 3]))\n",
    "for _ in range(20):\n",
    "    model.add(keras.layers.Dense(100, kernel_initializer=\"lecun_normal\", activation=\"selu\"))\n",
    "model.add(keras.layers.AlphaDropout(rate=0.1))\n",
    "model.add(keras.layers.Dense(10, activation=\"softmax\"))\n",
    "optimizer = keras.optimizers.SGD(learning_rate=1e-3)\n",
    "model.compile(loss=\"sparse_categorical_crossentropy\", optimizer=optimizer, metrics=[\"accuracy\"])"
   ]
  },
  {
   "cell_type": "code",
   "execution_count": 149,
   "id": "c1a261a9-7743-4aee-a051-211857ce37b6",
   "metadata": {
    "scrolled": true
   },
   "outputs": [
    {
     "name": "stdout",
     "output_type": "stream",
     "text": [
      "352/352 [==============================] - 3s 10ms/step - loss: nan - accuracy: 0.1386           \n"
     ]
    },
    {
     "data": {
      "text/plain": [
       "(9.999999747378752e-06,\n",
       " 9.615227699279785,\n",
       " 2.6080405712127686,\n",
       " 3.9178688185555597)"
      ]
     },
     "execution_count": 149,
     "metadata": {},
     "output_type": "execute_result"
    },
    {
     "data": {
      "image/png": "[encoded data removed]",
      "text/plain": [
       "<Figure size 432x288 with 1 Axes>"
      ]
     },
     "metadata": {
      "needs_background": "light"
     },
     "output_type": "display_data"
    }
   ],
   "source": [
    "batch_size = 128\n",
    "rates, losses = find_learning_rate(model, X_train_scaled, y_train, epochs=1, batch_size=batch_size)\n",
    "plot_lr_vs_loss(rates, losses)\n",
    "plt.axis([min(rates), max(rates), min(losses), (losses[0] + min(losses)) / 1.4])"
   ]
  },
  {
   "cell_type": "code",
   "execution_count": 152,
   "id": "d1bd91dc-dbee-48bf-823a-d3ed381e9fc9",
   "metadata": {
    "scrolled": true
   },
   "outputs": [],
   "source": [
    "keras.backend.clear_session()\n",
    "model = keras.models.Sequential()\n",
    "model.add(keras.layers.Flatten(input_shape=[32, 32, 3]))\n",
    "for _ in range(20):\n",
    "    model.add(keras.layers.Dense(100, kernel_initializer=\"lecun_normal\", activation=\"selu\"))\n",
    "model.add(keras.layers.AlphaDropout(rate=0.1))\n",
    "model.add(keras.layers.Dense(10, activation=\"softmax\"))\n",
    "optimizer = keras.optimizers.SGD()\n",
    "model.compile(loss=\"sparse_categorical_crossentropy\", optimizer=optimizer, metrics=[\"accuracy\"])"
   ]
  },
  {
   "cell_type": "code",
   "execution_count": 153,
   "id": "50e8b446-1c28-4ecc-a224-51940f85c907",
   "metadata": {
    "scrolled": true
   },
   "outputs": [
    {
     "name": "stdout",
     "output_type": "stream",
     "text": [
      "Epoch 1/15\n",
      "352/352 [==============================] - 4s 10ms/step - loss: 2.0467 - accuracy: 0.2835 - val_loss: 1.8023 - val_accuracy: 0.3686\n",
      "Epoch 2/15\n",
      "352/352 [==============================] - 3s 9ms/step - loss: 1.7666 - accuracy: 0.3759 - val_loss: 1.6931 - val_accuracy: 0.4060\n",
      "Epoch 3/15\n",
      "352/352 [==============================] - 3s 10ms/step - loss: 1.6264 - accuracy: 0.4228 - val_loss: 1.6124 - val_accuracy: 0.4310\n",
      "Epoch 4/15\n",
      "352/352 [==============================] - 3s 9ms/step - loss: 1.5489 - accuracy: 0.4509 - val_loss: 1.6624 - val_accuracy: 0.4316\n",
      "Epoch 5/15\n",
      "352/352 [==============================] - 3s 9ms/step - loss: 1.4977 - accuracy: 0.4687 - val_loss: 1.6256 - val_accuracy: 0.4408\n",
      "Epoch 6/15\n",
      "352/352 [==============================] - 3s 9ms/step - loss: 1.4583 - accuracy: 0.4830 - val_loss: 1.6112 - val_accuracy: 0.4456\n",
      "Epoch 7/15\n",
      "352/352 [==============================] - 3s 9ms/step - loss: 1.4219 - accuracy: 0.4956 - val_loss: 1.6457 - val_accuracy: 0.4532\n",
      "Epoch 8/15\n",
      "352/352 [==============================] - 3s 10ms/step - loss: 1.3525 - accuracy: 0.5212 - val_loss: 1.5415 - val_accuracy: 0.4760\n",
      "Epoch 9/15\n",
      "352/352 [==============================] - 3s 10ms/step - loss: 1.2725 - accuracy: 0.5494 - val_loss: 1.5435 - val_accuracy: 0.4814\n",
      "Epoch 10/15\n",
      "352/352 [==============================] - 3s 9ms/step - loss: 1.2053 - accuracy: 0.5726 - val_loss: 1.5282 - val_accuracy: 0.4970\n",
      "Epoch 11/15\n",
      "352/352 [==============================] - 3s 9ms/step - loss: 1.1369 - accuracy: 0.5950 - val_loss: 1.5030 - val_accuracy: 0.5170\n",
      "Epoch 12/15\n",
      "352/352 [==============================] - 3s 10ms/step - loss: 1.0671 - accuracy: 0.6194 - val_loss: 1.5149 - val_accuracy: 0.5120\n",
      "Epoch 13/15\n",
      "352/352 [==============================] - 3s 10ms/step - loss: 0.9954 - accuracy: 0.6442 - val_loss: 1.5345 - val_accuracy: 0.5224\n",
      "Epoch 14/15\n",
      "352/352 [==============================] - 3s 9ms/step - loss: 0.9326 - accuracy: 0.6672 - val_loss: 1.5659 - val_accuracy: 0.5220\n",
      "Epoch 15/15\n",
      "352/352 [==============================] - 3s 9ms/step - loss: 0.8923 - accuracy: 0.6818 - val_loss: 1.5909 - val_accuracy: 0.5238\n"
     ]
    }
   ],
   "source": [
    "n_epochs = 15\n",
    "onecycle = OneCycleScheduler(len(X_train_scaled) // batch_size * n_epochs, max_rate=0.05)\n",
    "history = model.fit(\n",
    "    X_train_scaled,\n",
    "    y_train,\n",
    "    epochs=n_epochs,\n",
    "    batch_size=batch_size,\n",
    "    validation_data=(X_valid_scaled, y_valid),\n",
    "    callbacks=[onecycle]\n",
    ")"
   ]
  },
  {
   "cell_type": "markdown",
   "id": "4909b229-0f82-4c9f-91f8-2178f9ba5c8e",
   "metadata": {
    "tags": []
   },
   "source": [
    "1 사이클 방식을 사용해 모델을 15 에포크 동안 훈련했다. (큰 배치 크기 덕분에) 각 에포크는 3초만 걸렸다. 이는 지금까지 훈련한 가장 빠른 모델보다 몇 배 더 빠르다. 또한 모델 성능도 올라갔다(48.0%에서 52.4%). 배치 정규화 모델이 조금 더 성능(55%)이 높지만 훈련 속도가 더 느리다."
   ]
  }
 ],
 "metadata": {
  "kernelspec": {
   "display_name": "Python 3 (ipykernel)",
   "language": "python",
   "name": "python3"
  },
  "language_info": {
   "codemirror_mode": {
    "name": "ipython",
    "version": 3
   },
   "file_extension": ".py",
   "mimetype": "text/x-python",
   "name": "python",
   "nbconvert_exporter": "python",
   "pygments_lexer": "ipython3",
   "version": "3.10.5"
  }
 },
 "nbformat": 4,
 "nbformat_minor": 5
}
